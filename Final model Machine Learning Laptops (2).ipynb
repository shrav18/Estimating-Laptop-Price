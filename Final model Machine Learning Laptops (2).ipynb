{
 "cells": [
  {
   "cell_type": "markdown",
   "id": "499fe8da",
   "metadata": {},
   "source": [
    "# Machine Learning Project - Estimating 2nd hand Laptop Price\n"
   ]
  },
  {
   "cell_type": "markdown",
   "id": "3377621e",
   "metadata": {},
   "source": [
    "## Business Objective\n",
    "\n",
    "A C2B firm is in the process of creating an Online platform where the consumers can sell their used Laptops. This platform should host an automated mechanism that can suggest to a consumer the realistic price of their used laptop when the required details (different features of the laptop) are provided.\n"
   ]
  },
  {
   "cell_type": "markdown",
   "id": "63595926",
   "metadata": {},
   "source": [
    "## Problem Statement   \n",
    "\n",
    "You have been assigned the task to build for this C2B firm a Linear Regression Machine Learning model which will give as a prediction the used laptop’s price. For more details on the intermediate and final outputs expected, refer to the list of deliverables mentioned in the “Model Building” and “Model Validation” sections below.\n"
   ]
  },
  {
   "cell_type": "markdown",
   "id": "a360a466",
   "metadata": {},
   "source": [
    "### Importing the all the Required Libraries"
   ]
  },
  {
   "cell_type": "code",
   "execution_count": 224,
   "id": "64514774",
   "metadata": {},
   "outputs": [],
   "source": [
    "import matplotlib.pyplot as plt\n",
    "import pandas as pd\n",
    "import numpy as np\n",
    "import seaborn as sns\n",
    "%matplotlib inline"
   ]
  },
  {
   "cell_type": "code",
   "execution_count": 225,
   "id": "d5d535dd",
   "metadata": {},
   "outputs": [
    {
     "data": {
      "text/plain": [
       "['Dataset (3).csv']"
      ]
     },
     "execution_count": 225,
     "metadata": {},
     "output_type": "execute_result"
    }
   ],
   "source": [
    "import pandas as pd\n",
    "import os\n",
    "os.chdir(r'F:\\ML project\\Data Sets-20220427')\n",
    "os.listdir()"
   ]
  },
  {
   "cell_type": "code",
   "execution_count": 226,
   "id": "4f1d0eaf",
   "metadata": {},
   "outputs": [
    {
     "data": {
      "text/html": [
       "<div>\n",
       "<style scoped>\n",
       "    .dataframe tbody tr th:only-of-type {\n",
       "        vertical-align: middle;\n",
       "    }\n",
       "\n",
       "    .dataframe tbody tr th {\n",
       "        vertical-align: top;\n",
       "    }\n",
       "\n",
       "    .dataframe thead th {\n",
       "        text-align: right;\n",
       "    }\n",
       "</style>\n",
       "<table border=\"1\" class=\"dataframe\">\n",
       "  <thead>\n",
       "    <tr style=\"text-align: right;\">\n",
       "      <th></th>\n",
       "      <th>laptop_ID</th>\n",
       "      <th>Company</th>\n",
       "      <th>Product</th>\n",
       "      <th>TypeName</th>\n",
       "      <th>Inches</th>\n",
       "      <th>ScreenResolution</th>\n",
       "      <th>Cpu</th>\n",
       "      <th>Ram</th>\n",
       "      <th>Memory</th>\n",
       "      <th>Gpu</th>\n",
       "      <th>OpSys</th>\n",
       "      <th>Weight</th>\n",
       "      <th>Price_euros</th>\n",
       "    </tr>\n",
       "  </thead>\n",
       "  <tbody>\n",
       "    <tr>\n",
       "      <th>0</th>\n",
       "      <td>1</td>\n",
       "      <td>Apple</td>\n",
       "      <td>MacBook Pro</td>\n",
       "      <td>Ultrabook</td>\n",
       "      <td>13.3</td>\n",
       "      <td>IPS Panel Retina Display 2560x1600</td>\n",
       "      <td>Intel Core i5 2.3GHz</td>\n",
       "      <td>8GB</td>\n",
       "      <td>128GB SSD</td>\n",
       "      <td>Intel Iris Plus Graphics 640</td>\n",
       "      <td>macOS</td>\n",
       "      <td>1.37kg</td>\n",
       "      <td>1339.69</td>\n",
       "    </tr>\n",
       "    <tr>\n",
       "      <th>1</th>\n",
       "      <td>2</td>\n",
       "      <td>Apple</td>\n",
       "      <td>Macbook Air</td>\n",
       "      <td>Ultrabook</td>\n",
       "      <td>13.3</td>\n",
       "      <td>1440x900</td>\n",
       "      <td>Intel Core i5 1.8GHz</td>\n",
       "      <td>8GB</td>\n",
       "      <td>128GB Flash Storage</td>\n",
       "      <td>Intel HD Graphics 6000</td>\n",
       "      <td>macOS</td>\n",
       "      <td>1.34kg</td>\n",
       "      <td>898.94</td>\n",
       "    </tr>\n",
       "    <tr>\n",
       "      <th>2</th>\n",
       "      <td>3</td>\n",
       "      <td>HP</td>\n",
       "      <td>250 G6</td>\n",
       "      <td>Notebook</td>\n",
       "      <td>15.6</td>\n",
       "      <td>Full HD 1920x1080</td>\n",
       "      <td>Intel Core i5 7200U 2.5GHz</td>\n",
       "      <td>8GB</td>\n",
       "      <td>256GB SSD</td>\n",
       "      <td>Intel HD Graphics 620</td>\n",
       "      <td>No OS</td>\n",
       "      <td>1.86kg</td>\n",
       "      <td>575.00</td>\n",
       "    </tr>\n",
       "    <tr>\n",
       "      <th>3</th>\n",
       "      <td>4</td>\n",
       "      <td>Apple</td>\n",
       "      <td>MacBook Pro</td>\n",
       "      <td>Ultrabook</td>\n",
       "      <td>15.4</td>\n",
       "      <td>IPS Panel Retina Display 2880x1800</td>\n",
       "      <td>Intel Core i7 2.7GHz</td>\n",
       "      <td>16GB</td>\n",
       "      <td>512GB SSD</td>\n",
       "      <td>AMD Radeon Pro 455</td>\n",
       "      <td>macOS</td>\n",
       "      <td>1.83kg</td>\n",
       "      <td>2537.45</td>\n",
       "    </tr>\n",
       "    <tr>\n",
       "      <th>4</th>\n",
       "      <td>5</td>\n",
       "      <td>Apple</td>\n",
       "      <td>MacBook Pro</td>\n",
       "      <td>Ultrabook</td>\n",
       "      <td>13.3</td>\n",
       "      <td>IPS Panel Retina Display 2560x1600</td>\n",
       "      <td>Intel Core i5 3.1GHz</td>\n",
       "      <td>8GB</td>\n",
       "      <td>256GB SSD</td>\n",
       "      <td>Intel Iris Plus Graphics 650</td>\n",
       "      <td>macOS</td>\n",
       "      <td>1.37kg</td>\n",
       "      <td>1803.60</td>\n",
       "    </tr>\n",
       "  </tbody>\n",
       "</table>\n",
       "</div>"
      ],
      "text/plain": [
       "   laptop_ID Company      Product   TypeName  Inches  \\\n",
       "0          1   Apple  MacBook Pro  Ultrabook    13.3   \n",
       "1          2   Apple  Macbook Air  Ultrabook    13.3   \n",
       "2          3      HP       250 G6   Notebook    15.6   \n",
       "3          4   Apple  MacBook Pro  Ultrabook    15.4   \n",
       "4          5   Apple  MacBook Pro  Ultrabook    13.3   \n",
       "\n",
       "                     ScreenResolution                         Cpu   Ram  \\\n",
       "0  IPS Panel Retina Display 2560x1600        Intel Core i5 2.3GHz   8GB   \n",
       "1                            1440x900        Intel Core i5 1.8GHz   8GB   \n",
       "2                   Full HD 1920x1080  Intel Core i5 7200U 2.5GHz   8GB   \n",
       "3  IPS Panel Retina Display 2880x1800        Intel Core i7 2.7GHz  16GB   \n",
       "4  IPS Panel Retina Display 2560x1600        Intel Core i5 3.1GHz   8GB   \n",
       "\n",
       "                Memory                           Gpu  OpSys  Weight  \\\n",
       "0            128GB SSD  Intel Iris Plus Graphics 640  macOS  1.37kg   \n",
       "1  128GB Flash Storage        Intel HD Graphics 6000  macOS  1.34kg   \n",
       "2            256GB SSD         Intel HD Graphics 620  No OS  1.86kg   \n",
       "3            512GB SSD            AMD Radeon Pro 455  macOS  1.83kg   \n",
       "4            256GB SSD  Intel Iris Plus Graphics 650  macOS  1.37kg   \n",
       "\n",
       "   Price_euros  \n",
       "0      1339.69  \n",
       "1       898.94  \n",
       "2       575.00  \n",
       "3      2537.45  \n",
       "4      1803.60  "
      ]
     },
     "execution_count": 226,
     "metadata": {},
     "output_type": "execute_result"
    }
   ],
   "source": [
    "data=pd.read_csv('Dataset (3).csv')\n",
    "data.head()"
   ]
  },
  {
   "cell_type": "code",
   "execution_count": 227,
   "id": "d4af148d",
   "metadata": {},
   "outputs": [
    {
     "data": {
      "text/plain": [
       "(1303, 13)"
      ]
     },
     "execution_count": 227,
     "metadata": {},
     "output_type": "execute_result"
    }
   ],
   "source": [
    "data.shape"
   ]
  },
  {
   "cell_type": "code",
   "execution_count": 228,
   "id": "dc2a6728",
   "metadata": {},
   "outputs": [],
   "source": [
    "# The dataset has 1303 records and 13 Features where in 12 are Independent Features and 1 is Dependent Feature"
   ]
  },
  {
   "cell_type": "markdown",
   "id": "7754b668",
   "metadata": {},
   "source": [
    "## Checking Missing values and Data type of variables\n"
   ]
  },
  {
   "cell_type": "code",
   "execution_count": 229,
   "id": "0a55e251",
   "metadata": {},
   "outputs": [
    {
     "name": "stdout",
     "output_type": "stream",
     "text": [
      "<class 'pandas.core.frame.DataFrame'>\n",
      "RangeIndex: 1303 entries, 0 to 1302\n",
      "Data columns (total 13 columns):\n",
      " #   Column            Non-Null Count  Dtype  \n",
      "---  ------            --------------  -----  \n",
      " 0   laptop_ID         1303 non-null   int64  \n",
      " 1   Company           1303 non-null   object \n",
      " 2   Product           1303 non-null   object \n",
      " 3   TypeName          1303 non-null   object \n",
      " 4   Inches            1303 non-null   float64\n",
      " 5   ScreenResolution  1303 non-null   object \n",
      " 6   Cpu               1303 non-null   object \n",
      " 7   Ram               1303 non-null   object \n",
      " 8   Memory            1303 non-null   object \n",
      " 9   Gpu               1303 non-null   object \n",
      " 10  OpSys             1303 non-null   object \n",
      " 11  Weight            1303 non-null   object \n",
      " 12  Price_euros       1303 non-null   float64\n",
      "dtypes: float64(2), int64(1), object(10)\n",
      "memory usage: 132.5+ KB\n"
     ]
    }
   ],
   "source": [
    "data.info()"
   ]
  },
  {
   "cell_type": "code",
   "execution_count": 230,
   "id": "240fc2fa",
   "metadata": {},
   "outputs": [
    {
     "name": "stdout",
     "output_type": "stream",
     "text": [
      "<class 'str'>\n",
      "<class 'str'>\n"
     ]
    }
   ],
   "source": [
    "print(type(data.Weight[0]))\n",
    "print(type(data.Ram[0]))"
   ]
  },
  {
   "cell_type": "code",
   "execution_count": 231,
   "id": "90412143",
   "metadata": {},
   "outputs": [],
   "source": [
    "# There're no NULL values \n",
    "# Weight and Ram is read in Object due to KG and GB"
   ]
  },
  {
   "cell_type": "code",
   "execution_count": 232,
   "id": "eff5c630",
   "metadata": {},
   "outputs": [
    {
     "data": {
      "text/html": [
       "<div>\n",
       "<style scoped>\n",
       "    .dataframe tbody tr th:only-of-type {\n",
       "        vertical-align: middle;\n",
       "    }\n",
       "\n",
       "    .dataframe tbody tr th {\n",
       "        vertical-align: top;\n",
       "    }\n",
       "\n",
       "    .dataframe thead th {\n",
       "        text-align: right;\n",
       "    }\n",
       "</style>\n",
       "<table border=\"1\" class=\"dataframe\">\n",
       "  <thead>\n",
       "    <tr style=\"text-align: right;\">\n",
       "      <th></th>\n",
       "      <th>laptop_ID</th>\n",
       "      <th>Inches</th>\n",
       "      <th>Price_euros</th>\n",
       "    </tr>\n",
       "  </thead>\n",
       "  <tbody>\n",
       "    <tr>\n",
       "      <th>count</th>\n",
       "      <td>1303.00</td>\n",
       "      <td>1303.00</td>\n",
       "      <td>1303.00</td>\n",
       "    </tr>\n",
       "    <tr>\n",
       "      <th>mean</th>\n",
       "      <td>660.16</td>\n",
       "      <td>15.02</td>\n",
       "      <td>1123.69</td>\n",
       "    </tr>\n",
       "    <tr>\n",
       "      <th>std</th>\n",
       "      <td>381.17</td>\n",
       "      <td>1.43</td>\n",
       "      <td>699.01</td>\n",
       "    </tr>\n",
       "    <tr>\n",
       "      <th>min</th>\n",
       "      <td>1.00</td>\n",
       "      <td>10.10</td>\n",
       "      <td>174.00</td>\n",
       "    </tr>\n",
       "    <tr>\n",
       "      <th>1%</th>\n",
       "      <td>14.02</td>\n",
       "      <td>11.60</td>\n",
       "      <td>229.00</td>\n",
       "    </tr>\n",
       "    <tr>\n",
       "      <th>5%</th>\n",
       "      <td>67.10</td>\n",
       "      <td>12.50</td>\n",
       "      <td>309.00</td>\n",
       "    </tr>\n",
       "    <tr>\n",
       "      <th>25%</th>\n",
       "      <td>331.50</td>\n",
       "      <td>14.00</td>\n",
       "      <td>599.00</td>\n",
       "    </tr>\n",
       "    <tr>\n",
       "      <th>50%</th>\n",
       "      <td>659.00</td>\n",
       "      <td>15.60</td>\n",
       "      <td>977.00</td>\n",
       "    </tr>\n",
       "    <tr>\n",
       "      <th>75%</th>\n",
       "      <td>990.50</td>\n",
       "      <td>15.60</td>\n",
       "      <td>1487.88</td>\n",
       "    </tr>\n",
       "    <tr>\n",
       "      <th>95%</th>\n",
       "      <td>1254.90</td>\n",
       "      <td>17.30</td>\n",
       "      <td>2448.60</td>\n",
       "    </tr>\n",
       "    <tr>\n",
       "      <th>99%</th>\n",
       "      <td>1306.98</td>\n",
       "      <td>17.30</td>\n",
       "      <td>3148.97</td>\n",
       "    </tr>\n",
       "    <tr>\n",
       "      <th>max</th>\n",
       "      <td>1320.00</td>\n",
       "      <td>18.40</td>\n",
       "      <td>6099.00</td>\n",
       "    </tr>\n",
       "  </tbody>\n",
       "</table>\n",
       "</div>"
      ],
      "text/plain": [
       "       laptop_ID   Inches  Price_euros\n",
       "count    1303.00  1303.00      1303.00\n",
       "mean      660.16    15.02      1123.69\n",
       "std       381.17     1.43       699.01\n",
       "min         1.00    10.10       174.00\n",
       "1%         14.02    11.60       229.00\n",
       "5%         67.10    12.50       309.00\n",
       "25%       331.50    14.00       599.00\n",
       "50%       659.00    15.60       977.00\n",
       "75%       990.50    15.60      1487.88\n",
       "95%      1254.90    17.30      2448.60\n",
       "99%      1306.98    17.30      3148.97\n",
       "max      1320.00    18.40      6099.00"
      ]
     },
     "execution_count": 232,
     "metadata": {},
     "output_type": "execute_result"
    }
   ],
   "source": [
    "data.describe(percentiles=[0.01,0.05,0.25,0.50,0.75,0.95,0.99]).round(2)"
   ]
  },
  {
   "cell_type": "markdown",
   "id": "5266367b",
   "metadata": {},
   "source": [
    "## There're no Outliers found"
   ]
  },
  {
   "cell_type": "markdown",
   "id": "b5f95ec6",
   "metadata": {},
   "source": [
    "## Keyinsights\n",
    "*---Minimum inch size for the laptop is 10.10 and maximum inch size is 18.40\n",
    "\n",
    "*---50% or less than 50% of the laptops have inch size 15.60.\n",
    "\n",
    "*---75% or less than 75% of the laptops have price 1487.88 euros.\n",
    "\n",
    "*---The maximum weight of the laptop is 4.70 kg while minimum weight is 0.69 kg"
   ]
  },
  {
   "cell_type": "code",
   "execution_count": 233,
   "id": "64a977c1",
   "metadata": {},
   "outputs": [
    {
     "data": {
      "text/html": [
       "<div>\n",
       "<style scoped>\n",
       "    .dataframe tbody tr th:only-of-type {\n",
       "        vertical-align: middle;\n",
       "    }\n",
       "\n",
       "    .dataframe tbody tr th {\n",
       "        vertical-align: top;\n",
       "    }\n",
       "\n",
       "    .dataframe thead th {\n",
       "        text-align: right;\n",
       "    }\n",
       "</style>\n",
       "<table border=\"1\" class=\"dataframe\">\n",
       "  <thead>\n",
       "    <tr style=\"text-align: right;\">\n",
       "      <th></th>\n",
       "      <th>Company</th>\n",
       "      <th>Product</th>\n",
       "      <th>TypeName</th>\n",
       "      <th>ScreenResolution</th>\n",
       "      <th>Cpu</th>\n",
       "      <th>Ram</th>\n",
       "      <th>Memory</th>\n",
       "      <th>Gpu</th>\n",
       "      <th>OpSys</th>\n",
       "      <th>Weight</th>\n",
       "    </tr>\n",
       "  </thead>\n",
       "  <tbody>\n",
       "    <tr>\n",
       "      <th>count</th>\n",
       "      <td>1303</td>\n",
       "      <td>1303</td>\n",
       "      <td>1303</td>\n",
       "      <td>1303</td>\n",
       "      <td>1303</td>\n",
       "      <td>1303</td>\n",
       "      <td>1303</td>\n",
       "      <td>1303</td>\n",
       "      <td>1303</td>\n",
       "      <td>1303</td>\n",
       "    </tr>\n",
       "    <tr>\n",
       "      <th>unique</th>\n",
       "      <td>19</td>\n",
       "      <td>618</td>\n",
       "      <td>6</td>\n",
       "      <td>40</td>\n",
       "      <td>118</td>\n",
       "      <td>9</td>\n",
       "      <td>39</td>\n",
       "      <td>110</td>\n",
       "      <td>9</td>\n",
       "      <td>179</td>\n",
       "    </tr>\n",
       "    <tr>\n",
       "      <th>top</th>\n",
       "      <td>Dell</td>\n",
       "      <td>XPS 13</td>\n",
       "      <td>Notebook</td>\n",
       "      <td>Full HD 1920x1080</td>\n",
       "      <td>Intel Core i5 7200U 2.5GHz</td>\n",
       "      <td>8GB</td>\n",
       "      <td>256GB SSD</td>\n",
       "      <td>Intel HD Graphics 620</td>\n",
       "      <td>Windows 10</td>\n",
       "      <td>2.2kg</td>\n",
       "    </tr>\n",
       "    <tr>\n",
       "      <th>freq</th>\n",
       "      <td>297</td>\n",
       "      <td>30</td>\n",
       "      <td>727</td>\n",
       "      <td>507</td>\n",
       "      <td>190</td>\n",
       "      <td>619</td>\n",
       "      <td>412</td>\n",
       "      <td>281</td>\n",
       "      <td>1072</td>\n",
       "      <td>121</td>\n",
       "    </tr>\n",
       "  </tbody>\n",
       "</table>\n",
       "</div>"
      ],
      "text/plain": [
       "       Company Product  TypeName   ScreenResolution  \\\n",
       "count     1303    1303      1303               1303   \n",
       "unique      19     618         6                 40   \n",
       "top       Dell  XPS 13  Notebook  Full HD 1920x1080   \n",
       "freq       297      30       727                507   \n",
       "\n",
       "                               Cpu   Ram     Memory                    Gpu  \\\n",
       "count                         1303  1303       1303                   1303   \n",
       "unique                         118     9         39                    110   \n",
       "top     Intel Core i5 7200U 2.5GHz   8GB  256GB SSD  Intel HD Graphics 620   \n",
       "freq                           190   619        412                    281   \n",
       "\n",
       "             OpSys Weight  \n",
       "count         1303   1303  \n",
       "unique           9    179  \n",
       "top     Windows 10  2.2kg  \n",
       "freq          1072    121  "
      ]
     },
     "execution_count": 233,
     "metadata": {},
     "output_type": "execute_result"
    }
   ],
   "source": [
    "data.describe(include='object')"
   ]
  },
  {
   "cell_type": "code",
   "execution_count": 234,
   "id": "1f61c552",
   "metadata": {},
   "outputs": [],
   "source": [
    "# weight and Ram column needs to be converted into numeric by removing the unit written after value.\n",
    "# So we will perform data cleaning here to get the correct types of columns.\n",
    "# Removing gb and kg from Ram and weight and convert the cols to numeric"
   ]
  },
  {
   "cell_type": "code",
   "execution_count": 235,
   "id": "b7bcdf38",
   "metadata": {},
   "outputs": [],
   "source": [
    "data['Ram'] = data['Ram'].str.replace(\"GB\", \"\")\n",
    "data['Ram'] = data['Ram'].astype('int32')"
   ]
  },
  {
   "cell_type": "code",
   "execution_count": 236,
   "id": "99222bec",
   "metadata": {},
   "outputs": [],
   "source": [
    "data['Weight'] = data['Weight'].str.replace(\"kg\", \"\")\n",
    "data['Weight'] = data['Weight'].astype('float32')"
   ]
  },
  {
   "cell_type": "code",
   "execution_count": 237,
   "id": "40db5006",
   "metadata": {},
   "outputs": [
    {
     "data": {
      "text/html": [
       "<div>\n",
       "<style scoped>\n",
       "    .dataframe tbody tr th:only-of-type {\n",
       "        vertical-align: middle;\n",
       "    }\n",
       "\n",
       "    .dataframe tbody tr th {\n",
       "        vertical-align: top;\n",
       "    }\n",
       "\n",
       "    .dataframe thead th {\n",
       "        text-align: right;\n",
       "    }\n",
       "</style>\n",
       "<table border=\"1\" class=\"dataframe\">\n",
       "  <thead>\n",
       "    <tr style=\"text-align: right;\">\n",
       "      <th></th>\n",
       "      <th>laptop_ID</th>\n",
       "      <th>Company</th>\n",
       "      <th>Product</th>\n",
       "      <th>TypeName</th>\n",
       "      <th>Inches</th>\n",
       "      <th>ScreenResolution</th>\n",
       "      <th>Cpu</th>\n",
       "      <th>Ram</th>\n",
       "      <th>Memory</th>\n",
       "      <th>Gpu</th>\n",
       "      <th>OpSys</th>\n",
       "      <th>Weight</th>\n",
       "      <th>Price_euros</th>\n",
       "    </tr>\n",
       "  </thead>\n",
       "  <tbody>\n",
       "    <tr>\n",
       "      <th>0</th>\n",
       "      <td>1</td>\n",
       "      <td>Apple</td>\n",
       "      <td>MacBook Pro</td>\n",
       "      <td>Ultrabook</td>\n",
       "      <td>13.3</td>\n",
       "      <td>IPS Panel Retina Display 2560x1600</td>\n",
       "      <td>Intel Core i5 2.3GHz</td>\n",
       "      <td>8</td>\n",
       "      <td>128GB SSD</td>\n",
       "      <td>Intel Iris Plus Graphics 640</td>\n",
       "      <td>macOS</td>\n",
       "      <td>1.37</td>\n",
       "      <td>1339.69</td>\n",
       "    </tr>\n",
       "    <tr>\n",
       "      <th>1</th>\n",
       "      <td>2</td>\n",
       "      <td>Apple</td>\n",
       "      <td>Macbook Air</td>\n",
       "      <td>Ultrabook</td>\n",
       "      <td>13.3</td>\n",
       "      <td>1440x900</td>\n",
       "      <td>Intel Core i5 1.8GHz</td>\n",
       "      <td>8</td>\n",
       "      <td>128GB Flash Storage</td>\n",
       "      <td>Intel HD Graphics 6000</td>\n",
       "      <td>macOS</td>\n",
       "      <td>1.34</td>\n",
       "      <td>898.94</td>\n",
       "    </tr>\n",
       "    <tr>\n",
       "      <th>2</th>\n",
       "      <td>3</td>\n",
       "      <td>HP</td>\n",
       "      <td>250 G6</td>\n",
       "      <td>Notebook</td>\n",
       "      <td>15.6</td>\n",
       "      <td>Full HD 1920x1080</td>\n",
       "      <td>Intel Core i5 7200U 2.5GHz</td>\n",
       "      <td>8</td>\n",
       "      <td>256GB SSD</td>\n",
       "      <td>Intel HD Graphics 620</td>\n",
       "      <td>No OS</td>\n",
       "      <td>1.86</td>\n",
       "      <td>575.00</td>\n",
       "    </tr>\n",
       "  </tbody>\n",
       "</table>\n",
       "</div>"
      ],
      "text/plain": [
       "   laptop_ID Company      Product   TypeName  Inches  \\\n",
       "0          1   Apple  MacBook Pro  Ultrabook    13.3   \n",
       "1          2   Apple  Macbook Air  Ultrabook    13.3   \n",
       "2          3      HP       250 G6   Notebook    15.6   \n",
       "\n",
       "                     ScreenResolution                         Cpu  Ram  \\\n",
       "0  IPS Panel Retina Display 2560x1600        Intel Core i5 2.3GHz    8   \n",
       "1                            1440x900        Intel Core i5 1.8GHz    8   \n",
       "2                   Full HD 1920x1080  Intel Core i5 7200U 2.5GHz    8   \n",
       "\n",
       "                Memory                           Gpu  OpSys  Weight  \\\n",
       "0            128GB SSD  Intel Iris Plus Graphics 640  macOS    1.37   \n",
       "1  128GB Flash Storage        Intel HD Graphics 6000  macOS    1.34   \n",
       "2            256GB SSD         Intel HD Graphics 620  No OS    1.86   \n",
       "\n",
       "   Price_euros  \n",
       "0      1339.69  \n",
       "1       898.94  \n",
       "2       575.00  "
      ]
     },
     "execution_count": 237,
     "metadata": {},
     "output_type": "execute_result"
    }
   ],
   "source": [
    "data.head(3)"
   ]
  },
  {
   "cell_type": "code",
   "execution_count": 238,
   "id": "b46acca7",
   "metadata": {},
   "outputs": [
    {
     "name": "stdout",
     "output_type": "stream",
     "text": [
      "<class 'pandas.core.frame.DataFrame'>\n",
      "RangeIndex: 1303 entries, 0 to 1302\n",
      "Data columns (total 13 columns):\n",
      " #   Column            Non-Null Count  Dtype  \n",
      "---  ------            --------------  -----  \n",
      " 0   laptop_ID         1303 non-null   int64  \n",
      " 1   Company           1303 non-null   object \n",
      " 2   Product           1303 non-null   object \n",
      " 3   TypeName          1303 non-null   object \n",
      " 4   Inches            1303 non-null   float64\n",
      " 5   ScreenResolution  1303 non-null   object \n",
      " 6   Cpu               1303 non-null   object \n",
      " 7   Ram               1303 non-null   int32  \n",
      " 8   Memory            1303 non-null   object \n",
      " 9   Gpu               1303 non-null   object \n",
      " 10  OpSys             1303 non-null   object \n",
      " 11  Weight            1303 non-null   float32\n",
      " 12  Price_euros       1303 non-null   float64\n",
      "dtypes: float32(1), float64(2), int32(1), int64(1), object(8)\n",
      "memory usage: 122.3+ KB\n"
     ]
    }
   ],
   "source": [
    "data.info()"
   ]
  },
  {
   "cell_type": "markdown",
   "id": "dae18550",
   "metadata": {},
   "source": [
    "# Checking duplicated rows"
   ]
  },
  {
   "cell_type": "code",
   "execution_count": 239,
   "id": "2f15b9fe",
   "metadata": {},
   "outputs": [
    {
     "data": {
      "text/plain": [
       "0"
      ]
     },
     "execution_count": 239,
     "metadata": {},
     "output_type": "execute_result"
    }
   ],
   "source": [
    "data.duplicated().sum()"
   ]
  },
  {
   "cell_type": "code",
   "execution_count": 240,
   "id": "69732d38",
   "metadata": {},
   "outputs": [],
   "source": [
    "# There're no duplicate Values"
   ]
  },
  {
   "cell_type": "markdown",
   "id": "df1c8f62",
   "metadata": {},
   "source": [
    "## Removing Laptop Id and Product features as it is not so much in the analysis and modelling"
   ]
  },
  {
   "cell_type": "code",
   "execution_count": 241,
   "id": "e701ecc3",
   "metadata": {},
   "outputs": [],
   "source": [
    "data.drop('laptop_ID',axis=1,inplace=True)\n",
    "data.drop('Product',axis=1,inplace=True)"
   ]
  },
  {
   "cell_type": "code",
   "execution_count": 242,
   "id": "dc6d2e0a",
   "metadata": {},
   "outputs": [
    {
     "data": {
      "text/html": [
       "<div>\n",
       "<style scoped>\n",
       "    .dataframe tbody tr th:only-of-type {\n",
       "        vertical-align: middle;\n",
       "    }\n",
       "\n",
       "    .dataframe tbody tr th {\n",
       "        vertical-align: top;\n",
       "    }\n",
       "\n",
       "    .dataframe thead th {\n",
       "        text-align: right;\n",
       "    }\n",
       "</style>\n",
       "<table border=\"1\" class=\"dataframe\">\n",
       "  <thead>\n",
       "    <tr style=\"text-align: right;\">\n",
       "      <th></th>\n",
       "      <th>Company</th>\n",
       "      <th>TypeName</th>\n",
       "      <th>Inches</th>\n",
       "      <th>ScreenResolution</th>\n",
       "      <th>Cpu</th>\n",
       "      <th>Ram</th>\n",
       "      <th>Memory</th>\n",
       "      <th>Gpu</th>\n",
       "      <th>OpSys</th>\n",
       "      <th>Weight</th>\n",
       "      <th>Price_euros</th>\n",
       "    </tr>\n",
       "  </thead>\n",
       "  <tbody>\n",
       "    <tr>\n",
       "      <th>0</th>\n",
       "      <td>Apple</td>\n",
       "      <td>Ultrabook</td>\n",
       "      <td>13.3</td>\n",
       "      <td>IPS Panel Retina Display 2560x1600</td>\n",
       "      <td>Intel Core i5 2.3GHz</td>\n",
       "      <td>8</td>\n",
       "      <td>128GB SSD</td>\n",
       "      <td>Intel Iris Plus Graphics 640</td>\n",
       "      <td>macOS</td>\n",
       "      <td>1.37</td>\n",
       "      <td>1339.69</td>\n",
       "    </tr>\n",
       "  </tbody>\n",
       "</table>\n",
       "</div>"
      ],
      "text/plain": [
       "  Company   TypeName  Inches                    ScreenResolution  \\\n",
       "0   Apple  Ultrabook    13.3  IPS Panel Retina Display 2560x1600   \n",
       "\n",
       "                    Cpu  Ram     Memory                           Gpu  OpSys  \\\n",
       "0  Intel Core i5 2.3GHz    8  128GB SSD  Intel Iris Plus Graphics 640  macOS   \n",
       "\n",
       "   Weight  Price_euros  \n",
       "0    1.37      1339.69  "
      ]
     },
     "execution_count": 242,
     "metadata": {},
     "output_type": "execute_result"
    }
   ],
   "source": [
    "data.head(1)"
   ]
  },
  {
   "cell_type": "markdown",
   "id": "80c16afa",
   "metadata": {},
   "source": [
    "# 1) Distribution of target column"
   ]
  },
  {
   "cell_type": "code",
   "execution_count": 243,
   "id": "8990fd17",
   "metadata": {},
   "outputs": [],
   "source": [
    "import warnings\n",
    "warnings.filterwarnings('ignore')"
   ]
  },
  {
   "cell_type": "code",
   "execution_count": 244,
   "id": "72700458",
   "metadata": {},
   "outputs": [
    {
     "data": {
      "image/png": "[encoded data removed]",
      "text/plain": [
       "<Figure size 720x288 with 1 Axes>"
      ]
     },
     "metadata": {
      "needs_background": "light"
     },
     "output_type": "display_data"
    }
   ],
   "source": [
    "plt.figure(figsize=(10,4))\n",
    "sns.distplot(data['Price_euros'])\n",
    "plt.show();"
   ]
  },
  {
   "cell_type": "code",
   "execution_count": 245,
   "id": "b372630e",
   "metadata": {},
   "outputs": [],
   "source": [
    "# Observation\n",
    "## The distribution of the target variable is skewed and it is obvious that commodities with low prices are sold and\n",
    "## purchased more than the branded ones."
   ]
  },
  {
   "cell_type": "markdown",
   "id": "b7ba57a4",
   "metadata": {},
   "source": [
    "# 2) Company column\n"
   ]
  },
  {
   "cell_type": "code",
   "execution_count": 246,
   "id": "1667543a",
   "metadata": {},
   "outputs": [
    {
     "data": {
      "image/png": "[encoded data removed]",
      "text/plain": [
       "<Figure size 720x360 with 1 Axes>"
      ]
     },
     "metadata": {
      "needs_background": "light"
     },
     "output_type": "display_data"
    }
   ],
   "source": [
    "plt.figure(figsize=(10,5))\n",
    "data.Company.value_counts().plot(kind='bar');"
   ]
  },
  {
   "cell_type": "code",
   "execution_count": 247,
   "id": "d885bd72",
   "metadata": {},
   "outputs": [],
   "source": [
    "# Lenovo, Dell and Hp products more in the data"
   ]
  },
  {
   "cell_type": "markdown",
   "id": "c369ba89",
   "metadata": {},
   "source": [
    "## what is avg price of each brand?"
   ]
  },
  {
   "cell_type": "code",
   "execution_count": 248,
   "id": "bc9dfc55",
   "metadata": {},
   "outputs": [
    {
     "data": {
      "image/png": "[encoded data removed]",
      "text/plain": [
       "<Figure size 1080x504 with 1 Axes>"
      ]
     },
     "metadata": {
      "needs_background": "light"
     },
     "output_type": "display_data"
    }
   ],
   "source": [
    "plt.figure(figsize=(15,7))\n",
    "sns.barplot(x=data['Company'], y=data['Price_euros'],ci=None)\n",
    "\n",
    "plt.xticks(rotation=\"vertical\")\n",
    "\n",
    "plt.show()"
   ]
  },
  {
   "cell_type": "code",
   "execution_count": 249,
   "id": "395c37b4",
   "metadata": {},
   "outputs": [],
   "source": [
    "# Observation\n",
    "# Razer, Apple, LG, Microsoft, Google, MSI laptops are expensive, and others are in the budget range."
   ]
  },
  {
   "cell_type": "markdown",
   "id": "70503578",
   "metadata": {},
   "source": [
    "# 3) Type of laptop\n"
   ]
  },
  {
   "cell_type": "code",
   "execution_count": 250,
   "id": "ae6541e3",
   "metadata": {},
   "outputs": [],
   "source": [
    "# Which type of laptop people are looking for like a gaming laptop, workstation, or notebook.\n",
    "# As major people prefer notebook because it is under budget range and the same can be concluded from our data."
   ]
  },
  {
   "cell_type": "code",
   "execution_count": 251,
   "id": "bb2b5f21",
   "metadata": {},
   "outputs": [],
   "source": [
    "import plotly.express as ex\n",
    "import plotly.graph_objs as go\n",
    "import plotly.figure_factory as ff\n",
    "from plotly.subplots import make_subplots"
   ]
  },
  {
   "cell_type": "code",
   "execution_count": 252,
   "id": "ed44f7ec",
   "metadata": {},
   "outputs": [],
   "source": [
    "Type_name= pd.DataFrame(data['TypeName'].value_counts())\n",
    "labelsedu = data['TypeName'].unique()"
   ]
  },
  {
   "cell_type": "code",
   "execution_count": 253,
   "id": "dc6ebcb1",
   "metadata": {},
   "outputs": [],
   "source": [
    "fig = make_subplots(rows=1,cols=2,specs=[[{'type':'domain'}, {'type':'domain'}]])"
   ]
  },
  {
   "cell_type": "code",
   "execution_count": 254,
   "id": "694cd287",
   "metadata": {},
   "outputs": [
    {
     "data": {
      "application/vnd.plotly.v1+json": {
       "config": {
        "plotlyServerURL": "https://plot.ly"
       },
       "data": [
        {
         "domain": {
          "x": [
           0,
           0.45
          ],
          "y": [
           0,
           1
          ]
         },
         "labels": [
          "Ultrabook",
          "Notebook",
          "Netbook",
          "Gaming",
          "2 in 1 Convertible",
          "Workstation"
         ],
         "type": "pie",
         "values": [
          727,
          205,
          196,
          121,
          29,
          25
         ]
        }
       ],
       "layout": {
        "height": 500,
        "template": {
         "data": {
          "bar": [
           {
            "error_x": {
             "color": "#2a3f5f"
            },
            "error_y": {
             "color": "#2a3f5f"
            },
            "marker": {
             "line": {
              "color": "#E5ECF6",
              "width": 0.5
             },
             "pattern": {
              "fillmode": "overlay",
              "size": 10,
              "solidity": 0.2
             }
            },
            "type": "bar"
           }
          ],
          "barpolar": [
           {
            "marker": {
             "line": {
              "color": "#E5ECF6",
              "width": 0.5
             },
             "pattern": {
              "fillmode": "overlay",
              "size": 10,
              "solidity": 0.2
             }
            },
            "type": "barpolar"
           }
          ],
          "carpet": [
           {
            "aaxis": {
             "endlinecolor": "#2a3f5f",
             "gridcolor": "white",
             "linecolor": "white",
             "minorgridcolor": "white",
             "startlinecolor": "#2a3f5f"
            },
            "baxis": {
             "endlinecolor": "#2a3f5f",
             "gridcolor": "white",
             "linecolor": "white",
             "minorgridcolor": "white",
             "startlinecolor": "#2a3f5f"
            },
            "type": "carpet"
           }
          ],
          "choropleth": [
           {
            "colorbar": {
             "outlinewidth": 0,
             "ticks": ""
            },
            "type": "choropleth"
           }
          ],
          "contour": [
           {
            "colorbar": {
             "outlinewidth": 0,
             "ticks": ""
            },
            "colorscale": [
             [
              0,
              "#0d0887"
             ],
             [
              0.1111111111111111,
              "#46039f"
             ],
             [
              0.2222222222222222,
              "#7201a8"
             ],
             [
              0.3333333333333333,
              "#9c179e"
             ],
             [
              0.4444444444444444,
              "#bd3786"
             ],
             [
              0.5555555555555556,
              "#d8576b"
             ],
             [
              0.6666666666666666,
              "#ed7953"
             ],
             [
              0.7777777777777778,
              "#fb9f3a"
             ],
             [
              0.8888888888888888,
              "#fdca26"
             ],
             [
              1,
              "#f0f921"
             ]
            ],
            "type": "contour"
           }
          ],
          "contourcarpet": [
           {
            "colorbar": {
             "outlinewidth": 0,
             "ticks": ""
            },
            "type": "contourcarpet"
           }
          ],
          "heatmap": [
           {
            "colorbar": {
             "outlinewidth": 0,
             "ticks": ""
            },
            "colorscale": [
             [
              0,
              "#0d0887"
             ],
             [
              0.1111111111111111,
              "#46039f"
             ],
             [
              0.2222222222222222,
              "#7201a8"
             ],
             [
              0.3333333333333333,
              "#9c179e"
             ],
             [
              0.4444444444444444,
              "#bd3786"
             ],
             [
              0.5555555555555556,
              "#d8576b"
             ],
             [
              0.6666666666666666,
              "#ed7953"
             ],
             [
              0.7777777777777778,
              "#fb9f3a"
             ],
             [
              0.8888888888888888,
              "#fdca26"
             ],
             [
              1,
              "#f0f921"
             ]
            ],
            "type": "heatmap"
           }
          ],
          "heatmapgl": [
           {
            "colorbar": {
             "outlinewidth": 0,
             "ticks": ""
            },
            "colorscale": [
             [
              0,
              "#0d0887"
             ],
             [
              0.1111111111111111,
              "#46039f"
             ],
             [
              0.2222222222222222,
              "#7201a8"
             ],
             [
              0.3333333333333333,
              "#9c179e"
             ],
             [
              0.4444444444444444,
              "#bd3786"
             ],
             [
              0.5555555555555556,
              "#d8576b"
             ],
             [
              0.6666666666666666,
              "#ed7953"
             ],
             [
              0.7777777777777778,
              "#fb9f3a"
             ],
             [
              0.8888888888888888,
              "#fdca26"
             ],
             [
              1,
              "#f0f921"
             ]
            ],
            "type": "heatmapgl"
           }
          ],
          "histogram": [
           {
            "marker": {
             "pattern": {
              "fillmode": "overlay",
              "size": 10,
              "solidity": 0.2
             }
            },
            "type": "histogram"
           }
          ],
          "histogram2d": [
           {
            "colorbar": {
             "outlinewidth": 0,
             "ticks": ""
            },
            "colorscale": [
             [
              0,
              "#0d0887"
             ],
             [
              0.1111111111111111,
              "#46039f"
             ],
             [
              0.2222222222222222,
              "#7201a8"
             ],
             [
              0.3333333333333333,
              "#9c179e"
             ],
             [
              0.4444444444444444,
              "#bd3786"
             ],
             [
              0.5555555555555556,
              "#d8576b"
             ],
             [
              0.6666666666666666,
              "#ed7953"
             ],
             [
              0.7777777777777778,
              "#fb9f3a"
             ],
             [
              0.8888888888888888,
              "#fdca26"
             ],
             [
              1,
              "#f0f921"
             ]
            ],
            "type": "histogram2d"
           }
          ],
          "histogram2dcontour": [
           {
            "colorbar": {
             "outlinewidth": 0,
             "ticks": ""
            },
            "colorscale": [
             [
              0,
              "#0d0887"
             ],
             [
              0.1111111111111111,
              "#46039f"
             ],
             [
              0.2222222222222222,
              "#7201a8"
             ],
             [
              0.3333333333333333,
              "#9c179e"
             ],
             [
              0.4444444444444444,
              "#bd3786"
             ],
             [
              0.5555555555555556,
              "#d8576b"
             ],
             [
              0.6666666666666666,
              "#ed7953"
             ],
             [
              0.7777777777777778,
              "#fb9f3a"
             ],
             [
              0.8888888888888888,
              "#fdca26"
             ],
             [
              1,
              "#f0f921"
             ]
            ],
            "type": "histogram2dcontour"
           }
          ],
          "mesh3d": [
           {
            "colorbar": {
             "outlinewidth": 0,
             "ticks": ""
            },
            "type": "mesh3d"
           }
          ],
          "parcoords": [
           {
            "line": {
             "colorbar": {
              "outlinewidth": 0,
              "ticks": ""
             }
            },
            "type": "parcoords"
           }
          ],
          "pie": [
           {
            "automargin": true,
            "type": "pie"
           }
          ],
          "scatter": [
           {
            "fillpattern": {
             "fillmode": "overlay",
             "size": 10,
             "solidity": 0.2
            },
            "type": "scatter"
           }
          ],
          "scatter3d": [
           {
            "line": {
             "colorbar": {
              "outlinewidth": 0,
              "ticks": ""
             }
            },
            "marker": {
             "colorbar": {
              "outlinewidth": 0,
              "ticks": ""
             }
            },
            "type": "scatter3d"
           }
          ],
          "scattercarpet": [
           {
            "marker": {
             "colorbar": {
              "outlinewidth": 0,
              "ticks": ""
             }
            },
            "type": "scattercarpet"
           }
          ],
          "scattergeo": [
           {
            "marker": {
             "colorbar": {
              "outlinewidth": 0,
              "ticks": ""
             }
            },
            "type": "scattergeo"
           }
          ],
          "scattergl": [
           {
            "marker": {
             "colorbar": {
              "outlinewidth": 0,
              "ticks": ""
             }
            },
            "type": "scattergl"
           }
          ],
          "scattermapbox": [
           {
            "marker": {
             "colorbar": {
              "outlinewidth": 0,
              "ticks": ""
             }
            },
            "type": "scattermapbox"
           }
          ],
          "scatterpolar": [
           {
            "marker": {
             "colorbar": {
              "outlinewidth": 0,
              "ticks": ""
             }
            },
            "type": "scatterpolar"
           }
          ],
          "scatterpolargl": [
           {
            "marker": {
             "colorbar": {
              "outlinewidth": 0,
              "ticks": ""
             }
            },
            "type": "scatterpolargl"
           }
          ],
          "scatterternary": [
           {
            "marker": {
             "colorbar": {
              "outlinewidth": 0,
              "ticks": ""
             }
            },
            "type": "scatterternary"
           }
          ],
          "surface": [
           {
            "colorbar": {
             "outlinewidth": 0,
             "ticks": ""
            },
            "colorscale": [
             [
              0,
              "#0d0887"
             ],
             [
              0.1111111111111111,
              "#46039f"
             ],
             [
              0.2222222222222222,
              "#7201a8"
             ],
             [
              0.3333333333333333,
              "#9c179e"
             ],
             [
              0.4444444444444444,
              "#bd3786"
             ],
             [
              0.5555555555555556,
              "#d8576b"
             ],
             [
              0.6666666666666666,
              "#ed7953"
             ],
             [
              0.7777777777777778,
              "#fb9f3a"
             ],
             [
              0.8888888888888888,
              "#fdca26"
             ],
             [
              1,
              "#f0f921"
             ]
            ],
            "type": "surface"
           }
          ],
          "table": [
           {
            "cells": {
             "fill": {
              "color": "#EBF0F8"
             },
             "line": {
              "color": "white"
             }
            },
            "header": {
             "fill": {
              "color": "#C8D4E3"
             },
             "line": {
              "color": "white"
             }
            },
            "type": "table"
           }
          ]
         },
         "layout": {
          "annotationdefaults": {
           "arrowcolor": "#2a3f5f",
           "arrowhead": 0,
           "arrowwidth": 1
          },
          "autotypenumbers": "strict",
          "coloraxis": {
           "colorbar": {
            "outlinewidth": 0,
            "ticks": ""
           }
          },
          "colorscale": {
           "diverging": [
            [
             0,
             "#8e0152"
            ],
            [
             0.1,
             "#c51b7d"
            ],
            [
             0.2,
             "#de77ae"
            ],
            [
             0.3,
             "#f1b6da"
            ],
            [
             0.4,
             "#fde0ef"
            ],
            [
             0.5,
             "#f7f7f7"
            ],
            [
             0.6,
             "#e6f5d0"
            ],
            [
             0.7,
             "#b8e186"
            ],
            [
             0.8,
             "#7fbc41"
            ],
            [
             0.9,
             "#4d9221"
            ],
            [
             1,
             "#276419"
            ]
           ],
           "sequential": [
            [
             0,
             "#0d0887"
            ],
            [
             0.1111111111111111,
             "#46039f"
            ],
            [
             0.2222222222222222,
             "#7201a8"
            ],
            [
             0.3333333333333333,
             "#9c179e"
            ],
            [
             0.4444444444444444,
             "#bd3786"
            ],
            [
             0.5555555555555556,
             "#d8576b"
            ],
            [
             0.6666666666666666,
             "#ed7953"
            ],
            [
             0.7777777777777778,
             "#fb9f3a"
            ],
            [
             0.8888888888888888,
             "#fdca26"
            ],
            [
             1,
             "#f0f921"
            ]
           ],
           "sequentialminus": [
            [
             0,
             "#0d0887"
            ],
            [
             0.1111111111111111,
             "#46039f"
            ],
            [
             0.2222222222222222,
             "#7201a8"
            ],
            [
             0.3333333333333333,
             "#9c179e"
            ],
            [
             0.4444444444444444,
             "#bd3786"
            ],
            [
             0.5555555555555556,
             "#d8576b"
            ],
            [
             0.6666666666666666,
             "#ed7953"
            ],
            [
             0.7777777777777778,
             "#fb9f3a"
            ],
            [
             0.8888888888888888,
             "#fdca26"
            ],
            [
             1,
             "#f0f921"
            ]
           ]
          },
          "colorway": [
           "#636efa",
           "#EF553B",
           "#00cc96",
           "#ab63fa",
           "#FFA15A",
           "#19d3f3",
           "#FF6692",
           "#B6E880",
           "#FF97FF",
           "#FECB52"
          ],
          "font": {
           "color": "#2a3f5f"
          },
          "geo": {
           "bgcolor": "white",
           "lakecolor": "white",
           "landcolor": "#E5ECF6",
           "showlakes": true,
           "showland": true,
           "subunitcolor": "white"
          },
          "hoverlabel": {
           "align": "left"
          },
          "hovermode": "closest",
          "mapbox": {
           "style": "light"
          },
          "paper_bgcolor": "white",
          "plot_bgcolor": "#E5ECF6",
          "polar": {
           "angularaxis": {
            "gridcolor": "white",
            "linecolor": "white",
            "ticks": ""
           },
           "bgcolor": "#E5ECF6",
           "radialaxis": {
            "gridcolor": "white",
            "linecolor": "white",
            "ticks": ""
           }
          },
          "scene": {
           "xaxis": {
            "backgroundcolor": "#E5ECF6",
            "gridcolor": "white",
            "gridwidth": 2,
            "linecolor": "white",
            "showbackground": true,
            "ticks": "",
            "zerolinecolor": "white"
           },
           "yaxis": {
            "backgroundcolor": "#E5ECF6",
            "gridcolor": "white",
            "gridwidth": 2,
            "linecolor": "white",
            "showbackground": true,
            "ticks": "",
            "zerolinecolor": "white"
           },
           "zaxis": {
            "backgroundcolor": "#E5ECF6",
            "gridcolor": "white",
            "gridwidth": 2,
            "linecolor": "white",
            "showbackground": true,
            "ticks": "",
            "zerolinecolor": "white"
           }
          },
          "shapedefaults": {
           "line": {
            "color": "#2a3f5f"
           }
          },
          "ternary": {
           "aaxis": {
            "gridcolor": "white",
            "linecolor": "white",
            "ticks": ""
           },
           "baxis": {
            "gridcolor": "white",
            "linecolor": "white",
            "ticks": ""
           },
           "bgcolor": "#E5ECF6",
           "caxis": {
            "gridcolor": "white",
            "linecolor": "white",
            "ticks": ""
           }
          },
          "title": {
           "x": 0.05
          },
          "xaxis": {
           "automargin": true,
           "gridcolor": "white",
           "linecolor": "white",
           "ticks": "",
           "title": {
            "standoff": 15
           },
           "zerolinecolor": "white",
           "zerolinewidth": 2
          },
          "yaxis": {
           "automargin": true,
           "gridcolor": "white",
           "linecolor": "white",
           "ticks": "",
           "title": {
            "standoff": 15
           },
           "zerolinecolor": "white",
           "zerolinewidth": 2
          }
         }
        },
        "title": {
         "text": "Distribution of Type of Laptops"
        },
        "width": 800
       }
      },
      "text/html": [
       "<div>                            <div id=\"b92e3576-44ae-4c92-9430-a2161014b1a1\" class=\"plotly-graph-div\" style=\"height:500px; width:800px;\"></div>            <script type=\"text/javascript\">                require([\"plotly\"], function(Plotly) {                    window.PLOTLYENV=window.PLOTLYENV || {};                                    if (document.getElementById(\"b92e3576-44ae-4c92-9430-a2161014b1a1\")) {                    Plotly.newPlot(                        \"b92e3576-44ae-4c92-9430-a2161014b1a1\",                        [{\"labels\":[\"Ultrabook\",\"Notebook\",\"Netbook\",\"Gaming\",\"2 in 1 Convertible\",\"Workstation\"],\"values\":[727,205,196,121,29,25],\"type\":\"pie\",\"domain\":{\"x\":[0.0,0.45],\"y\":[0.0,1.0]}}],                        {\"template\":{\"data\":{\"histogram2dcontour\":[{\"type\":\"histogram2dcontour\",\"colorbar\":{\"outlinewidth\":0,\"ticks\":\"\"},\"colorscale\":[[0.0,\"#0d0887\"],[0.1111111111111111,\"#46039f\"],[0.2222222222222222,\"#7201a8\"],[0.3333333333333333,\"#9c179e\"],[0.4444444444444444,\"#bd3786\"],[0.5555555555555556,\"#d8576b\"],[0.6666666666666666,\"#ed7953\"],[0.7777777777777778,\"#fb9f3a\"],[0.8888888888888888,\"#fdca26\"],[1.0,\"#f0f921\"]]}],\"choropleth\":[{\"type\":\"choropleth\",\"colorbar\":{\"outlinewidth\":0,\"ticks\":\"\"}}],\"histogram2d\":[{\"type\":\"histogram2d\",\"colorbar\":{\"outlinewidth\":0,\"ticks\":\"\"},\"colorscale\":[[0.0,\"#0d0887\"],[0.1111111111111111,\"#46039f\"],[0.2222222222222222,\"#7201a8\"],[0.3333333333333333,\"#9c179e\"],[0.4444444444444444,\"#bd3786\"],[0.5555555555555556,\"#d8576b\"],[0.6666666666666666,\"#ed7953\"],[0.7777777777777778,\"#fb9f3a\"],[0.8888888888888888,\"#fdca26\"],[1.0,\"#f0f921\"]]}],\"heatmap\":[{\"type\":\"heatmap\",\"colorbar\":{\"outlinewidth\":0,\"ticks\":\"\"},\"colorscale\":[[0.0,\"#0d0887\"],[0.1111111111111111,\"#46039f\"],[0.2222222222222222,\"#7201a8\"],[0.3333333333333333,\"#9c179e\"],[0.4444444444444444,\"#bd3786\"],[0.5555555555555556,\"#d8576b\"],[0.6666666666666666,\"#ed7953\"],[0.7777777777777778,\"#fb9f3a\"],[0.8888888888888888,\"#fdca26\"],[1.0,\"#f0f921\"]]}],\"heatmapgl\":[{\"type\":\"heatmapgl\",\"colorbar\":{\"outlinewidth\":0,\"ticks\":\"\"},\"colorscale\":[[0.0,\"#0d0887\"],[0.1111111111111111,\"#46039f\"],[0.2222222222222222,\"#7201a8\"],[0.3333333333333333,\"#9c179e\"],[0.4444444444444444,\"#bd3786\"],[0.5555555555555556,\"#d8576b\"],[0.6666666666666666,\"#ed7953\"],[0.7777777777777778,\"#fb9f3a\"],[0.8888888888888888,\"#fdca26\"],[1.0,\"#f0f921\"]]}],\"contourcarpet\":[{\"type\":\"contourcarpet\",\"colorbar\":{\"outlinewidth\":0,\"ticks\":\"\"}}],\"contour\":[{\"type\":\"contour\",\"colorbar\":{\"outlinewidth\":0,\"ticks\":\"\"},\"colorscale\":[[0.0,\"#0d0887\"],[0.1111111111111111,\"#46039f\"],[0.2222222222222222,\"#7201a8\"],[0.3333333333333333,\"#9c179e\"],[0.4444444444444444,\"#bd3786\"],[0.5555555555555556,\"#d8576b\"],[0.6666666666666666,\"#ed7953\"],[0.7777777777777778,\"#fb9f3a\"],[0.8888888888888888,\"#fdca26\"],[1.0,\"#f0f921\"]]}],\"surface\":[{\"type\":\"surface\",\"colorbar\":{\"outlinewidth\":0,\"ticks\":\"\"},\"colorscale\":[[0.0,\"#0d0887\"],[0.1111111111111111,\"#46039f\"],[0.2222222222222222,\"#7201a8\"],[0.3333333333333333,\"#9c179e\"],[0.4444444444444444,\"#bd3786\"],[0.5555555555555556,\"#d8576b\"],[0.6666666666666666,\"#ed7953\"],[0.7777777777777778,\"#fb9f3a\"],[0.8888888888888888,\"#fdca26\"],[1.0,\"#f0f921\"]]}],\"mesh3d\":[{\"type\":\"mesh3d\",\"colorbar\":{\"outlinewidth\":0,\"ticks\":\"\"}}],\"scatter\":[{\"fillpattern\":{\"fillmode\":\"overlay\",\"size\":10,\"solidity\":0.2},\"type\":\"scatter\"}],\"parcoords\":[{\"type\":\"parcoords\",\"line\":{\"colorbar\":{\"outlinewidth\":0,\"ticks\":\"\"}}}],\"scatterpolargl\":[{\"type\":\"scatterpolargl\",\"marker\":{\"colorbar\":{\"outlinewidth\":0,\"ticks\":\"\"}}}],\"bar\":[{\"error_x\":{\"color\":\"#2a3f5f\"},\"error_y\":{\"color\":\"#2a3f5f\"},\"marker\":{\"line\":{\"color\":\"#E5ECF6\",\"width\":0.5},\"pattern\":{\"fillmode\":\"overlay\",\"size\":10,\"solidity\":0.2}},\"type\":\"bar\"}],\"scattergeo\":[{\"type\":\"scattergeo\",\"marker\":{\"colorbar\":{\"outlinewidth\":0,\"ticks\":\"\"}}}],\"scatterpolar\":[{\"type\":\"scatterpolar\",\"marker\":{\"colorbar\":{\"outlinewidth\":0,\"ticks\":\"\"}}}],\"histogram\":[{\"marker\":{\"pattern\":{\"fillmode\":\"overlay\",\"size\":10,\"solidity\":0.2}},\"type\":\"histogram\"}],\"scattergl\":[{\"type\":\"scattergl\",\"marker\":{\"colorbar\":{\"outlinewidth\":0,\"ticks\":\"\"}}}],\"scatter3d\":[{\"type\":\"scatter3d\",\"line\":{\"colorbar\":{\"outlinewidth\":0,\"ticks\":\"\"}},\"marker\":{\"colorbar\":{\"outlinewidth\":0,\"ticks\":\"\"}}}],\"scattermapbox\":[{\"type\":\"scattermapbox\",\"marker\":{\"colorbar\":{\"outlinewidth\":0,\"ticks\":\"\"}}}],\"scatterternary\":[{\"type\":\"scatterternary\",\"marker\":{\"colorbar\":{\"outlinewidth\":0,\"ticks\":\"\"}}}],\"scattercarpet\":[{\"type\":\"scattercarpet\",\"marker\":{\"colorbar\":{\"outlinewidth\":0,\"ticks\":\"\"}}}],\"carpet\":[{\"aaxis\":{\"endlinecolor\":\"#2a3f5f\",\"gridcolor\":\"white\",\"linecolor\":\"white\",\"minorgridcolor\":\"white\",\"startlinecolor\":\"#2a3f5f\"},\"baxis\":{\"endlinecolor\":\"#2a3f5f\",\"gridcolor\":\"white\",\"linecolor\":\"white\",\"minorgridcolor\":\"white\",\"startlinecolor\":\"#2a3f5f\"},\"type\":\"carpet\"}],\"table\":[{\"cells\":{\"fill\":{\"color\":\"#EBF0F8\"},\"line\":{\"color\":\"white\"}},\"header\":{\"fill\":{\"color\":\"#C8D4E3\"},\"line\":{\"color\":\"white\"}},\"type\":\"table\"}],\"barpolar\":[{\"marker\":{\"line\":{\"color\":\"#E5ECF6\",\"width\":0.5},\"pattern\":{\"fillmode\":\"overlay\",\"size\":10,\"solidity\":0.2}},\"type\":\"barpolar\"}],\"pie\":[{\"automargin\":true,\"type\":\"pie\"}]},\"layout\":{\"autotypenumbers\":\"strict\",\"colorway\":[\"#636efa\",\"#EF553B\",\"#00cc96\",\"#ab63fa\",\"#FFA15A\",\"#19d3f3\",\"#FF6692\",\"#B6E880\",\"#FF97FF\",\"#FECB52\"],\"font\":{\"color\":\"#2a3f5f\"},\"hovermode\":\"closest\",\"hoverlabel\":{\"align\":\"left\"},\"paper_bgcolor\":\"white\",\"plot_bgcolor\":\"#E5ECF6\",\"polar\":{\"bgcolor\":\"#E5ECF6\",\"angularaxis\":{\"gridcolor\":\"white\",\"linecolor\":\"white\",\"ticks\":\"\"},\"radialaxis\":{\"gridcolor\":\"white\",\"linecolor\":\"white\",\"ticks\":\"\"}},\"ternary\":{\"bgcolor\":\"#E5ECF6\",\"aaxis\":{\"gridcolor\":\"white\",\"linecolor\":\"white\",\"ticks\":\"\"},\"baxis\":{\"gridcolor\":\"white\",\"linecolor\":\"white\",\"ticks\":\"\"},\"caxis\":{\"gridcolor\":\"white\",\"linecolor\":\"white\",\"ticks\":\"\"}},\"coloraxis\":{\"colorbar\":{\"outlinewidth\":0,\"ticks\":\"\"}},\"colorscale\":{\"sequential\":[[0.0,\"#0d0887\"],[0.1111111111111111,\"#46039f\"],[0.2222222222222222,\"#7201a8\"],[0.3333333333333333,\"#9c179e\"],[0.4444444444444444,\"#bd3786\"],[0.5555555555555556,\"#d8576b\"],[0.6666666666666666,\"#ed7953\"],[0.7777777777777778,\"#fb9f3a\"],[0.8888888888888888,\"#fdca26\"],[1.0,\"#f0f921\"]],\"sequentialminus\":[[0.0,\"#0d0887\"],[0.1111111111111111,\"#46039f\"],[0.2222222222222222,\"#7201a8\"],[0.3333333333333333,\"#9c179e\"],[0.4444444444444444,\"#bd3786\"],[0.5555555555555556,\"#d8576b\"],[0.6666666666666666,\"#ed7953\"],[0.7777777777777778,\"#fb9f3a\"],[0.8888888888888888,\"#fdca26\"],[1.0,\"#f0f921\"]],\"diverging\":[[0,\"#8e0152\"],[0.1,\"#c51b7d\"],[0.2,\"#de77ae\"],[0.3,\"#f1b6da\"],[0.4,\"#fde0ef\"],[0.5,\"#f7f7f7\"],[0.6,\"#e6f5d0\"],[0.7,\"#b8e186\"],[0.8,\"#7fbc41\"],[0.9,\"#4d9221\"],[1,\"#276419\"]]},\"xaxis\":{\"gridcolor\":\"white\",\"linecolor\":\"white\",\"ticks\":\"\",\"title\":{\"standoff\":15},\"zerolinecolor\":\"white\",\"automargin\":true,\"zerolinewidth\":2},\"yaxis\":{\"gridcolor\":\"white\",\"linecolor\":\"white\",\"ticks\":\"\",\"title\":{\"standoff\":15},\"zerolinecolor\":\"white\",\"automargin\":true,\"zerolinewidth\":2},\"scene\":{\"xaxis\":{\"backgroundcolor\":\"#E5ECF6\",\"gridcolor\":\"white\",\"linecolor\":\"white\",\"showbackground\":true,\"ticks\":\"\",\"zerolinecolor\":\"white\",\"gridwidth\":2},\"yaxis\":{\"backgroundcolor\":\"#E5ECF6\",\"gridcolor\":\"white\",\"linecolor\":\"white\",\"showbackground\":true,\"ticks\":\"\",\"zerolinecolor\":\"white\",\"gridwidth\":2},\"zaxis\":{\"backgroundcolor\":\"#E5ECF6\",\"gridcolor\":\"white\",\"linecolor\":\"white\",\"showbackground\":true,\"ticks\":\"\",\"zerolinecolor\":\"white\",\"gridwidth\":2}},\"shapedefaults\":{\"line\":{\"color\":\"#2a3f5f\"}},\"annotationdefaults\":{\"arrowcolor\":\"#2a3f5f\",\"arrowhead\":0,\"arrowwidth\":1},\"geo\":{\"bgcolor\":\"white\",\"landcolor\":\"#E5ECF6\",\"subunitcolor\":\"white\",\"showland\":true,\"showlakes\":true,\"lakecolor\":\"white\"},\"title\":{\"x\":0.05},\"mapbox\":{\"style\":\"light\"}}},\"title\":{\"text\":\"Distribution of Type of Laptops\"},\"height\":500,\"width\":800},                        {\"responsive\": true}                    ).then(function(){\n",
       "                            \n",
       "var gd = document.getElementById('b92e3576-44ae-4c92-9430-a2161014b1a1');\n",
       "var x = new MutationObserver(function (mutations, observer) {{\n",
       "        var display = window.getComputedStyle(gd).display;\n",
       "        if (!display || display === 'none') {{\n",
       "            console.log([gd, 'removed!']);\n",
       "            Plotly.purge(gd);\n",
       "            observer.disconnect();\n",
       "        }}\n",
       "}});\n",
       "\n",
       "// Listen for the removal of the full notebook cells\n",
       "var notebookContainer = gd.closest('#notebook-container');\n",
       "if (notebookContainer) {{\n",
       "    x.observe(notebookContainer, {childList: true});\n",
       "}}\n",
       "\n",
       "// Listen for the clearing of the current output cell\n",
       "var outputEl = gd.closest('.output');\n",
       "if (outputEl) {{\n",
       "    x.observe(outputEl, {childList: true});\n",
       "}}\n",
       "\n",
       "                        })                };                });            </script>        </div>"
      ]
     },
     "metadata": {},
     "output_type": "display_data"
    }
   ],
   "source": [
    "tr3 =go.Pie(labels=labelsedu,values=Type_name.iloc[:,0])\n",
    "fig.add_trace(tr3,row=1,col=1)\n",
    "fig.update_layout(height=500, width=800, title_text='Distribution of Type of Laptops')\n",
    "fig.show()"
   ]
  },
  {
   "cell_type": "code",
   "execution_count": 255,
   "id": "fdb4b6fd",
   "metadata": {},
   "outputs": [
    {
     "data": {
      "text/plain": [
       "Notebook              0.557943\n",
       "Gaming                0.157329\n",
       "Ultrabook             0.150422\n",
       "2 in 1 Convertible    0.092863\n",
       "Workstation           0.022256\n",
       "Netbook               0.019186\n",
       "Name: TypeName, dtype: float64"
      ]
     },
     "execution_count": 255,
     "metadata": {},
     "output_type": "execute_result"
    }
   ],
   "source": [
    "p=data['TypeName'].value_counts(normalize=True)\n",
    "p"
   ]
  },
  {
   "cell_type": "code",
   "execution_count": 256,
   "id": "c8a4aa98",
   "metadata": {},
   "outputs": [
    {
     "data": {
      "image/png": "[encoded data removed]",
      "text/plain": [
       "<Figure size 720x504 with 1 Axes>"
      ]
     },
     "metadata": {},
     "output_type": "display_data"
    }
   ],
   "source": [
    "plt.figure(figsize=(10,7))\n",
    "plt.pie(p,labels=['Notebook','Gaming','Ultrabook','2 in 1 Convertible','Workstation','Netbook'],autopct='%1.2f%%');"
   ]
  },
  {
   "cell_type": "code",
   "execution_count": 257,
   "id": "379438f9",
   "metadata": {},
   "outputs": [],
   "source": [
    "# Observation\n",
    "# As major people prefer notebook because it is under budget range and the same can be concluded from our data."
   ]
  },
  {
   "cell_type": "markdown",
   "id": "ea7c3697",
   "metadata": {},
   "source": [
    "# Plotting TypeName against Price"
   ]
  },
  {
   "cell_type": "code",
   "execution_count": 258,
   "id": "b18b0c78",
   "metadata": {},
   "outputs": [
    {
     "data": {
      "image/png": "[encoded data removed]",
      "text/plain": [
       "<Figure size 864x360 with 1 Axes>"
      ]
     },
     "metadata": {
      "needs_background": "light"
     },
     "output_type": "display_data"
    }
   ],
   "source": [
    "plt.figure(figsize=(12,5))\n",
    "sns.barplot(x='TypeName',y='Price_euros',data=data,ci=None,palette=\"husl\");"
   ]
  },
  {
   "cell_type": "code",
   "execution_count": 259,
   "id": "adbd3f6a",
   "metadata": {},
   "outputs": [],
   "source": [
    "# Observation\n",
    "# Workstation has the higher Price compared to other types"
   ]
  },
  {
   "cell_type": "markdown",
   "id": "44f2662b",
   "metadata": {},
   "source": [
    "# 4) Does the price vary with laptop size in inches?"
   ]
  },
  {
   "cell_type": "code",
   "execution_count": 260,
   "id": "631f2bf2",
   "metadata": {},
   "outputs": [],
   "source": [
    "sns.set_theme()"
   ]
  },
  {
   "cell_type": "code",
   "execution_count": 261,
   "id": "fa0c8cad",
   "metadata": {},
   "outputs": [
    {
     "data": {
      "image/png": "[encoded data removed]",
      "text/plain": [
       "<Figure size 720x360 with 1 Axes>"
      ]
     },
     "metadata": {},
     "output_type": "display_data"
    }
   ],
   "source": [
    "plt.figure(figsize=(10,5))\n",
    "sns.countplot(data=data,x='Inches');"
   ]
  },
  {
   "cell_type": "code",
   "execution_count": 262,
   "id": "6bda6515",
   "metadata": {},
   "outputs": [],
   "source": [
    "# Observation\n",
    "# 15.6 inches was bought the highest followed by 14,13 and17"
   ]
  },
  {
   "cell_type": "markdown",
   "id": "3bc9edab",
   "metadata": {},
   "source": [
    "# Plotting against Price"
   ]
  },
  {
   "cell_type": "code",
   "execution_count": 263,
   "id": "8cfabca0",
   "metadata": {},
   "outputs": [
    {
     "data": {
      "image/png": "[encoded data removed]",
      "text/plain": [
       "<Figure size 720x360 with 1 Axes>"
      ]
     },
     "metadata": {},
     "output_type": "display_data"
    }
   ],
   "source": [
    "plt.figure(figsize=(10,5))\n",
    "sns.barplot(data=data,x='Inches',y='Price_euros',ci=None);"
   ]
  },
  {
   "cell_type": "code",
   "execution_count": 264,
   "id": "228a252e",
   "metadata": {},
   "outputs": [],
   "source": [
    "# 18.4 inches screen has the highest price\n",
    "# 15.4 standsout second this might due to the specifications that are specifically given to that particular model might be good"
   ]
  },
  {
   "cell_type": "markdown",
   "id": "d407dd18",
   "metadata": {},
   "source": [
    "# Feature Engineering"
   ]
  },
  {
   "cell_type": "markdown",
   "id": "f7ad0187",
   "metadata": {},
   "source": [
    "# 5) ScreenResolution Column"
   ]
  },
  {
   "cell_type": "code",
   "execution_count": 265,
   "id": "9c086951",
   "metadata": {},
   "outputs": [
    {
     "data": {
      "text/html": [
       "<div>\n",
       "<style scoped>\n",
       "    .dataframe tbody tr th:only-of-type {\n",
       "        vertical-align: middle;\n",
       "    }\n",
       "\n",
       "    .dataframe tbody tr th {\n",
       "        vertical-align: top;\n",
       "    }\n",
       "\n",
       "    .dataframe thead th {\n",
       "        text-align: right;\n",
       "    }\n",
       "</style>\n",
       "<table border=\"1\" class=\"dataframe\">\n",
       "  <thead>\n",
       "    <tr style=\"text-align: right;\">\n",
       "      <th></th>\n",
       "      <th>Company</th>\n",
       "      <th>TypeName</th>\n",
       "      <th>Inches</th>\n",
       "      <th>ScreenResolution</th>\n",
       "      <th>Cpu</th>\n",
       "      <th>Ram</th>\n",
       "      <th>Memory</th>\n",
       "      <th>Gpu</th>\n",
       "      <th>OpSys</th>\n",
       "      <th>Weight</th>\n",
       "      <th>Price_euros</th>\n",
       "    </tr>\n",
       "  </thead>\n",
       "  <tbody>\n",
       "    <tr>\n",
       "      <th>0</th>\n",
       "      <td>Apple</td>\n",
       "      <td>Ultrabook</td>\n",
       "      <td>13.3</td>\n",
       "      <td>IPS Panel Retina Display 2560x1600</td>\n",
       "      <td>Intel Core i5 2.3GHz</td>\n",
       "      <td>8</td>\n",
       "      <td>128GB SSD</td>\n",
       "      <td>Intel Iris Plus Graphics 640</td>\n",
       "      <td>macOS</td>\n",
       "      <td>1.37</td>\n",
       "      <td>1339.69</td>\n",
       "    </tr>\n",
       "    <tr>\n",
       "      <th>1</th>\n",
       "      <td>Apple</td>\n",
       "      <td>Ultrabook</td>\n",
       "      <td>13.3</td>\n",
       "      <td>1440x900</td>\n",
       "      <td>Intel Core i5 1.8GHz</td>\n",
       "      <td>8</td>\n",
       "      <td>128GB Flash Storage</td>\n",
       "      <td>Intel HD Graphics 6000</td>\n",
       "      <td>macOS</td>\n",
       "      <td>1.34</td>\n",
       "      <td>898.94</td>\n",
       "    </tr>\n",
       "    <tr>\n",
       "      <th>2</th>\n",
       "      <td>HP</td>\n",
       "      <td>Notebook</td>\n",
       "      <td>15.6</td>\n",
       "      <td>Full HD 1920x1080</td>\n",
       "      <td>Intel Core i5 7200U 2.5GHz</td>\n",
       "      <td>8</td>\n",
       "      <td>256GB SSD</td>\n",
       "      <td>Intel HD Graphics 620</td>\n",
       "      <td>No OS</td>\n",
       "      <td>1.86</td>\n",
       "      <td>575.00</td>\n",
       "    </tr>\n",
       "  </tbody>\n",
       "</table>\n",
       "</div>"
      ],
      "text/plain": [
       "  Company   TypeName  Inches                    ScreenResolution  \\\n",
       "0   Apple  Ultrabook    13.3  IPS Panel Retina Display 2560x1600   \n",
       "1   Apple  Ultrabook    13.3                            1440x900   \n",
       "2      HP   Notebook    15.6                   Full HD 1920x1080   \n",
       "\n",
       "                          Cpu  Ram               Memory  \\\n",
       "0        Intel Core i5 2.3GHz    8            128GB SSD   \n",
       "1        Intel Core i5 1.8GHz    8  128GB Flash Storage   \n",
       "2  Intel Core i5 7200U 2.5GHz    8            256GB SSD   \n",
       "\n",
       "                            Gpu  OpSys  Weight  Price_euros  \n",
       "0  Intel Iris Plus Graphics 640  macOS    1.37      1339.69  \n",
       "1        Intel HD Graphics 6000  macOS    1.34       898.94  \n",
       "2         Intel HD Graphics 620  No OS    1.86       575.00  "
      ]
     },
     "execution_count": 265,
     "metadata": {},
     "output_type": "execute_result"
    }
   ],
   "source": [
    "data.head(3)"
   ]
  },
  {
   "cell_type": "code",
   "execution_count": 266,
   "id": "7222d97d",
   "metadata": {},
   "outputs": [
    {
     "data": {
      "text/plain": [
       "40"
      ]
     },
     "execution_count": 266,
     "metadata": {},
     "output_type": "execute_result"
    }
   ],
   "source": [
    "data.ScreenResolution.nunique()"
   ]
  },
  {
   "cell_type": "code",
   "execution_count": 267,
   "id": "d5cda83e",
   "metadata": {},
   "outputs": [
    {
     "data": {
      "text/plain": [
       "array(['IPS Panel Retina Display 2560x1600', '1440x900',\n",
       "       'Full HD 1920x1080', 'IPS Panel Retina Display 2880x1800',\n",
       "       '1366x768', 'IPS Panel Full HD 1920x1080',\n",
       "       'IPS Panel Retina Display 2304x1440',\n",
       "       'IPS Panel Full HD / Touchscreen 1920x1080',\n",
       "       'Full HD / Touchscreen 1920x1080',\n",
       "       'Touchscreen / Quad HD+ 3200x1800',\n",
       "       'IPS Panel Touchscreen 1920x1200', 'Touchscreen 2256x1504',\n",
       "       'Quad HD+ / Touchscreen 3200x1800', 'IPS Panel 1366x768',\n",
       "       'IPS Panel 4K Ultra HD / Touchscreen 3840x2160',\n",
       "       'IPS Panel Full HD 2160x1440',\n",
       "       '4K Ultra HD / Touchscreen 3840x2160', 'Touchscreen 2560x1440',\n",
       "       '1600x900', 'IPS Panel 4K Ultra HD 3840x2160',\n",
       "       '4K Ultra HD 3840x2160', 'Touchscreen 1366x768',\n",
       "       'IPS Panel Full HD 1366x768', 'IPS Panel 2560x1440',\n",
       "       'IPS Panel Full HD 2560x1440',\n",
       "       'IPS Panel Retina Display 2736x1824', 'Touchscreen 2400x1600',\n",
       "       '2560x1440', 'IPS Panel Quad HD+ 2560x1440',\n",
       "       'IPS Panel Quad HD+ 3200x1800',\n",
       "       'IPS Panel Quad HD+ / Touchscreen 3200x1800',\n",
       "       'IPS Panel Touchscreen 1366x768', '1920x1080',\n",
       "       'IPS Panel Full HD 1920x1200',\n",
       "       'IPS Panel Touchscreen / 4K Ultra HD 3840x2160',\n",
       "       'IPS Panel Touchscreen 2560x1440',\n",
       "       'Touchscreen / Full HD 1920x1080', 'Quad HD+ 3200x1800',\n",
       "       'Touchscreen / 4K Ultra HD 3840x2160',\n",
       "       'IPS Panel Touchscreen 2400x1600'], dtype=object)"
      ]
     },
     "execution_count": 267,
     "metadata": {},
     "output_type": "execute_result"
    }
   ],
   "source": [
    "data.ScreenResolution.unique()"
   ]
  },
  {
   "cell_type": "markdown",
   "id": "6eef5ee5",
   "metadata": {},
   "source": [
    "# Extracting laptops with Touchscreen feature"
   ]
  },
  {
   "cell_type": "code",
   "execution_count": 268,
   "id": "ac8a994b",
   "metadata": {},
   "outputs": [],
   "source": [
    "# Here the unique values are more, Inorder to make use of this data Feature Engineering has to be performed Where we divide \n",
    "# this feature into 2 or 3 new features by taking some criteria \n",
    "# The criteria can be \n",
    "# The each record consists of whether the laptop is touch screen or not \n",
    "# [ we can make use of this, If it is a touchScreen we'll indicate with 1 else 0]"
   ]
  },
  {
   "cell_type": "code",
   "execution_count": 269,
   "id": "9ccc4ac8",
   "metadata": {},
   "outputs": [],
   "source": [
    "# Making use of lambda function 'x' is iterator which runs through the feature and if it finds 'Touchscreen' it assigns 1 else 0"
   ]
  },
  {
   "cell_type": "code",
   "execution_count": 270,
   "id": "9d057fe6",
   "metadata": {},
   "outputs": [],
   "source": [
    "data['Touchscreen'] = data.ScreenResolution.apply(lambda x:1 if 'Touchscreen' in x else 0)"
   ]
  },
  {
   "cell_type": "code",
   "execution_count": 271,
   "id": "3e859593",
   "metadata": {},
   "outputs": [
    {
     "data": {
      "text/plain": [
       "0    0.852648\n",
       "1    0.147352\n",
       "Name: Touchscreen, dtype: float64"
      ]
     },
     "execution_count": 271,
     "metadata": {},
     "output_type": "execute_result"
    }
   ],
   "source": [
    "data.Touchscreen.value_counts(normalize=True)"
   ]
  },
  {
   "cell_type": "code",
   "execution_count": 272,
   "id": "c24f243e",
   "metadata": {},
   "outputs": [],
   "source": [
    "# About 85% of the laptops are not with Touchscreen "
   ]
  },
  {
   "cell_type": "markdown",
   "id": "f6ad2b2a",
   "metadata": {},
   "source": [
    "# Visualizing"
   ]
  },
  {
   "cell_type": "code",
   "execution_count": 273,
   "id": "96a7324c",
   "metadata": {},
   "outputs": [
    {
     "data": {
      "image/png": "[encoded data removed]",
      "text/plain": [
       "<Figure size 432x288 with 1 Axes>"
      ]
     },
     "metadata": {},
     "output_type": "display_data"
    }
   ],
   "source": [
    "sns.countplot(data['Touchscreen']);"
   ]
  },
  {
   "cell_type": "markdown",
   "id": "b83dbae0",
   "metadata": {},
   "source": [
    "# Plaotting against Price"
   ]
  },
  {
   "cell_type": "code",
   "execution_count": 274,
   "id": "eb893014",
   "metadata": {},
   "outputs": [
    {
     "data": {
      "image/png": "[encoded data removed]",
      "text/plain": [
       "<Figure size 432x288 with 1 Axes>"
      ]
     },
     "metadata": {},
     "output_type": "display_data"
    }
   ],
   "source": [
    "sns.barplot(x=data['Touchscreen'],y=data['Price_euros'],ci=None,palette=\"husl\");"
   ]
  },
  {
   "cell_type": "code",
   "execution_count": 275,
   "id": "de293ea7",
   "metadata": {},
   "outputs": [],
   "source": [
    "# Observations\n",
    "# laptops with touchscreens are expensive which is true in real life."
   ]
  },
  {
   "cell_type": "markdown",
   "id": "cb21f688",
   "metadata": {},
   "source": [
    "# Extracting IPS Channel presence information"
   ]
  },
  {
   "cell_type": "code",
   "execution_count": 276,
   "id": "d1d8e27a",
   "metadata": {},
   "outputs": [],
   "source": [
    "# We can also find that most of Records contain IPS(in-plane switching, a type of LED (a form of LCD) display panel technology)\n",
    "# We can check the laptops having IPS and can make it into a new Feature\n",
    "# If the laptop has IPS it is 1 else 0"
   ]
  },
  {
   "cell_type": "code",
   "execution_count": 277,
   "id": "ea7e2d3c",
   "metadata": {},
   "outputs": [],
   "source": [
    "data['IPS']=data['ScreenResolution'].apply(lambda x:1 if 'IPS' in x else 0)"
   ]
  },
  {
   "cell_type": "code",
   "execution_count": 278,
   "id": "13ede638",
   "metadata": {},
   "outputs": [
    {
     "data": {
      "text/plain": [
       "0    938\n",
       "1    365\n",
       "Name: IPS, dtype: int64"
      ]
     },
     "execution_count": 278,
     "metadata": {},
     "output_type": "execute_result"
    }
   ],
   "source": [
    "data.IPS.value_counts()"
   ]
  },
  {
   "cell_type": "code",
   "execution_count": 279,
   "id": "f1b862d4",
   "metadata": {},
   "outputs": [
    {
     "data": {
      "text/plain": [
       "0    0.719877\n",
       "1    0.280123\n",
       "Name: IPS, dtype: float64"
      ]
     },
     "execution_count": 279,
     "metadata": {},
     "output_type": "execute_result"
    }
   ],
   "source": [
    "data.IPS.value_counts(normalize=True)"
   ]
  },
  {
   "cell_type": "code",
   "execution_count": 280,
   "id": "7626ccaf",
   "metadata": {},
   "outputs": [
    {
     "data": {
      "image/png": "[encoded data removed]",
      "text/plain": [
       "<Figure size 432x288 with 1 Axes>"
      ]
     },
     "metadata": {},
     "output_type": "display_data"
    }
   ],
   "source": [
    "sns.barplot(x=data['IPS'],y=data['Price_euros'],ci=None,palette=\"husl\");"
   ]
  },
  {
   "cell_type": "markdown",
   "id": "6fe7039f",
   "metadata": {},
   "source": [
    "# Visualizing"
   ]
  },
  {
   "cell_type": "code",
   "execution_count": 281,
   "id": "c48f0128",
   "metadata": {},
   "outputs": [
    {
     "data": {
      "image/png": "[encoded data removed]",
      "text/plain": [
       "<Figure size 432x288 with 1 Axes>"
      ]
     },
     "metadata": {},
     "output_type": "display_data"
    }
   ],
   "source": [
    "sns.countplot(data['IPS']);"
   ]
  },
  {
   "cell_type": "code",
   "execution_count": 282,
   "id": "e5f04171",
   "metadata": {},
   "outputs": [],
   "source": [
    "# Observation\n",
    "# The laptops with IPS channel are present less in our data "
   ]
  },
  {
   "cell_type": "markdown",
   "id": "53f48d45",
   "metadata": {},
   "source": [
    "# Plotting against Price"
   ]
  },
  {
   "cell_type": "code",
   "execution_count": 283,
   "id": "4b6871a3",
   "metadata": {},
   "outputs": [
    {
     "data": {
      "image/png": "[encoded data removed]",
      "text/plain": [
       "<Figure size 432x288 with 1 Axes>"
      ]
     },
     "metadata": {},
     "output_type": "display_data"
    }
   ],
   "source": [
    "sns.barplot(x=data['IPS'],y=data['Price_euros'],ci=None,palette=\"flare\");"
   ]
  },
  {
   "cell_type": "code",
   "execution_count": 284,
   "id": "799b630e",
   "metadata": {},
   "outputs": [],
   "source": [
    "# Observation\n",
    "# The relationship against the price of IPS channel laptops are high."
   ]
  },
  {
   "cell_type": "markdown",
   "id": "36bc62f8",
   "metadata": {},
   "source": [
    "# Extracting X-axis and Y-axis screen resolution dimensions"
   ]
  },
  {
   "cell_type": "code",
   "execution_count": 285,
   "id": "1e175cf9",
   "metadata": {},
   "outputs": [],
   "source": [
    "# There's a Dimesions of X and Y are mentioned in each of the records this can be taken as a criteria"
   ]
  },
  {
   "cell_type": "code",
   "execution_count": 286,
   "id": "1033d353",
   "metadata": {},
   "outputs": [
    {
     "data": {
      "text/html": [
       "<div>\n",
       "<style scoped>\n",
       "    .dataframe tbody tr th:only-of-type {\n",
       "        vertical-align: middle;\n",
       "    }\n",
       "\n",
       "    .dataframe tbody tr th {\n",
       "        vertical-align: top;\n",
       "    }\n",
       "\n",
       "    .dataframe thead th {\n",
       "        text-align: right;\n",
       "    }\n",
       "</style>\n",
       "<table border=\"1\" class=\"dataframe\">\n",
       "  <thead>\n",
       "    <tr style=\"text-align: right;\">\n",
       "      <th></th>\n",
       "      <th>Company</th>\n",
       "      <th>TypeName</th>\n",
       "      <th>Inches</th>\n",
       "      <th>ScreenResolution</th>\n",
       "      <th>Cpu</th>\n",
       "      <th>Ram</th>\n",
       "      <th>Memory</th>\n",
       "      <th>Gpu</th>\n",
       "      <th>OpSys</th>\n",
       "      <th>Weight</th>\n",
       "      <th>Price_euros</th>\n",
       "      <th>Touchscreen</th>\n",
       "      <th>IPS</th>\n",
       "    </tr>\n",
       "  </thead>\n",
       "  <tbody>\n",
       "    <tr>\n",
       "      <th>0</th>\n",
       "      <td>Apple</td>\n",
       "      <td>Ultrabook</td>\n",
       "      <td>13.3</td>\n",
       "      <td>IPS Panel Retina Display 2560x1600</td>\n",
       "      <td>Intel Core i5 2.3GHz</td>\n",
       "      <td>8</td>\n",
       "      <td>128GB SSD</td>\n",
       "      <td>Intel Iris Plus Graphics 640</td>\n",
       "      <td>macOS</td>\n",
       "      <td>1.37</td>\n",
       "      <td>1339.69</td>\n",
       "      <td>0</td>\n",
       "      <td>1</td>\n",
       "    </tr>\n",
       "    <tr>\n",
       "      <th>1</th>\n",
       "      <td>Apple</td>\n",
       "      <td>Ultrabook</td>\n",
       "      <td>13.3</td>\n",
       "      <td>1440x900</td>\n",
       "      <td>Intel Core i5 1.8GHz</td>\n",
       "      <td>8</td>\n",
       "      <td>128GB Flash Storage</td>\n",
       "      <td>Intel HD Graphics 6000</td>\n",
       "      <td>macOS</td>\n",
       "      <td>1.34</td>\n",
       "      <td>898.94</td>\n",
       "      <td>0</td>\n",
       "      <td>0</td>\n",
       "    </tr>\n",
       "    <tr>\n",
       "      <th>2</th>\n",
       "      <td>HP</td>\n",
       "      <td>Notebook</td>\n",
       "      <td>15.6</td>\n",
       "      <td>Full HD 1920x1080</td>\n",
       "      <td>Intel Core i5 7200U 2.5GHz</td>\n",
       "      <td>8</td>\n",
       "      <td>256GB SSD</td>\n",
       "      <td>Intel HD Graphics 620</td>\n",
       "      <td>No OS</td>\n",
       "      <td>1.86</td>\n",
       "      <td>575.00</td>\n",
       "      <td>0</td>\n",
       "      <td>0</td>\n",
       "    </tr>\n",
       "  </tbody>\n",
       "</table>\n",
       "</div>"
      ],
      "text/plain": [
       "  Company   TypeName  Inches                    ScreenResolution  \\\n",
       "0   Apple  Ultrabook    13.3  IPS Panel Retina Display 2560x1600   \n",
       "1   Apple  Ultrabook    13.3                            1440x900   \n",
       "2      HP   Notebook    15.6                   Full HD 1920x1080   \n",
       "\n",
       "                          Cpu  Ram               Memory  \\\n",
       "0        Intel Core i5 2.3GHz    8            128GB SSD   \n",
       "1        Intel Core i5 1.8GHz    8  128GB Flash Storage   \n",
       "2  Intel Core i5 7200U 2.5GHz    8            256GB SSD   \n",
       "\n",
       "                            Gpu  OpSys  Weight  Price_euros  Touchscreen  IPS  \n",
       "0  Intel Iris Plus Graphics 640  macOS    1.37      1339.69            0    1  \n",
       "1        Intel HD Graphics 6000  macOS    1.34       898.94            0    0  \n",
       "2         Intel HD Graphics 620  No OS    1.86       575.00            0    0  "
      ]
     },
     "execution_count": 286,
     "metadata": {},
     "output_type": "execute_result"
    }
   ],
   "source": [
    "data.head(3)"
   ]
  },
  {
   "cell_type": "code",
   "execution_count": 287,
   "id": "98af9a7a",
   "metadata": {},
   "outputs": [],
   "source": [
    "# The co-ordinates of X and Y are placed at the end of the String inorder to specifically access this we need to get to the last\n",
    "# position of the string and then split that with respective ('x') so that the [0] index will be X and the [1] index will be Y"
   ]
  },
  {
   "cell_type": "code",
   "execution_count": 288,
   "id": "e3cc6ddc",
   "metadata": {},
   "outputs": [
    {
     "data": {
      "text/plain": [
       "array(['IPS Panel Retina Display 2560x1600', '1440x900',\n",
       "       'Full HD 1920x1080', 'IPS Panel Retina Display 2880x1800',\n",
       "       '1366x768', 'IPS Panel Full HD 1920x1080',\n",
       "       'IPS Panel Retina Display 2304x1440',\n",
       "       'IPS Panel Full HD / Touchscreen 1920x1080',\n",
       "       'Full HD / Touchscreen 1920x1080',\n",
       "       'Touchscreen / Quad HD+ 3200x1800',\n",
       "       'IPS Panel Touchscreen 1920x1200', 'Touchscreen 2256x1504',\n",
       "       'Quad HD+ / Touchscreen 3200x1800', 'IPS Panel 1366x768',\n",
       "       'IPS Panel 4K Ultra HD / Touchscreen 3840x2160',\n",
       "       'IPS Panel Full HD 2160x1440',\n",
       "       '4K Ultra HD / Touchscreen 3840x2160', 'Touchscreen 2560x1440',\n",
       "       '1600x900', 'IPS Panel 4K Ultra HD 3840x2160',\n",
       "       '4K Ultra HD 3840x2160', 'Touchscreen 1366x768',\n",
       "       'IPS Panel Full HD 1366x768', 'IPS Panel 2560x1440',\n",
       "       'IPS Panel Full HD 2560x1440',\n",
       "       'IPS Panel Retina Display 2736x1824', 'Touchscreen 2400x1600',\n",
       "       '2560x1440', 'IPS Panel Quad HD+ 2560x1440',\n",
       "       'IPS Panel Quad HD+ 3200x1800',\n",
       "       'IPS Panel Quad HD+ / Touchscreen 3200x1800',\n",
       "       'IPS Panel Touchscreen 1366x768', '1920x1080',\n",
       "       'IPS Panel Full HD 1920x1200',\n",
       "       'IPS Panel Touchscreen / 4K Ultra HD 3840x2160',\n",
       "       'IPS Panel Touchscreen 2560x1440',\n",
       "       'Touchscreen / Full HD 1920x1080', 'Quad HD+ 3200x1800',\n",
       "       'Touchscreen / 4K Ultra HD 3840x2160',\n",
       "       'IPS Panel Touchscreen 2400x1600'], dtype=object)"
      ]
     },
     "execution_count": 288,
     "metadata": {},
     "output_type": "execute_result"
    }
   ],
   "source": [
    "data['ScreenResolution'].unique()"
   ]
  },
  {
   "cell_type": "code",
   "execution_count": 289,
   "id": "5555b1c6",
   "metadata": {},
   "outputs": [
    {
     "data": {
      "text/plain": [
       "'1600'"
      ]
     },
     "execution_count": 289,
     "metadata": {},
     "output_type": "execute_result"
    }
   ],
   "source": [
    "s='IPS Panel Retina Display 2560x1600'\n",
    "sp=s.split()[-1]\n",
    "sp.split(\"x\")[1]"
   ]
  },
  {
   "cell_type": "code",
   "execution_count": 290,
   "id": "2e5c164b",
   "metadata": {},
   "outputs": [
    {
     "data": {
      "text/plain": [
       "'2560'"
      ]
     },
     "execution_count": 290,
     "metadata": {},
     "output_type": "execute_result"
    }
   ],
   "source": [
    "s='IPS Panel Retina Display 2560x1600'\n",
    "sp=s.split()[-1]\n",
    "sp.split(\"x\")[0]"
   ]
  },
  {
   "cell_type": "code",
   "execution_count": 291,
   "id": "700757b2",
   "metadata": {},
   "outputs": [],
   "source": [
    "# Running it in a function to make the task easy"
   ]
  },
  {
   "cell_type": "code",
   "execution_count": 292,
   "id": "a664f643",
   "metadata": {},
   "outputs": [],
   "source": [
    "def Xresolution(s):\n",
    "  return s.split()[-1].split(\"x\")[0]"
   ]
  },
  {
   "cell_type": "code",
   "execution_count": 293,
   "id": "69f5d913",
   "metadata": {},
   "outputs": [],
   "source": [
    "data['X_resol']=data['ScreenResolution'].apply(lambda x: Xresolution(x))"
   ]
  },
  {
   "cell_type": "code",
   "execution_count": 294,
   "id": "2d6a3ad7",
   "metadata": {},
   "outputs": [],
   "source": [
    "# Similarly for Y "
   ]
  },
  {
   "cell_type": "code",
   "execution_count": 295,
   "id": "9fad40ab",
   "metadata": {},
   "outputs": [],
   "source": [
    "def Yresolution(s):\n",
    "    return s.split()[-1].split(\"x\")[1]"
   ]
  },
  {
   "cell_type": "code",
   "execution_count": 296,
   "id": "28211dcf",
   "metadata": {},
   "outputs": [],
   "source": [
    "data['Y_resol']=data['ScreenResolution'].apply(lambda y: Yresolution(y))"
   ]
  },
  {
   "cell_type": "code",
   "execution_count": 297,
   "id": "7b409b74",
   "metadata": {},
   "outputs": [
    {
     "data": {
      "text/html": [
       "<div>\n",
       "<style scoped>\n",
       "    .dataframe tbody tr th:only-of-type {\n",
       "        vertical-align: middle;\n",
       "    }\n",
       "\n",
       "    .dataframe tbody tr th {\n",
       "        vertical-align: top;\n",
       "    }\n",
       "\n",
       "    .dataframe thead th {\n",
       "        text-align: right;\n",
       "    }\n",
       "</style>\n",
       "<table border=\"1\" class=\"dataframe\">\n",
       "  <thead>\n",
       "    <tr style=\"text-align: right;\">\n",
       "      <th></th>\n",
       "      <th>Company</th>\n",
       "      <th>TypeName</th>\n",
       "      <th>Inches</th>\n",
       "      <th>ScreenResolution</th>\n",
       "      <th>Cpu</th>\n",
       "      <th>Ram</th>\n",
       "      <th>Memory</th>\n",
       "      <th>Gpu</th>\n",
       "      <th>OpSys</th>\n",
       "      <th>Weight</th>\n",
       "      <th>Price_euros</th>\n",
       "      <th>Touchscreen</th>\n",
       "      <th>IPS</th>\n",
       "      <th>X_resol</th>\n",
       "      <th>Y_resol</th>\n",
       "    </tr>\n",
       "  </thead>\n",
       "  <tbody>\n",
       "    <tr>\n",
       "      <th>0</th>\n",
       "      <td>Apple</td>\n",
       "      <td>Ultrabook</td>\n",
       "      <td>13.3</td>\n",
       "      <td>IPS Panel Retina Display 2560x1600</td>\n",
       "      <td>Intel Core i5 2.3GHz</td>\n",
       "      <td>8</td>\n",
       "      <td>128GB SSD</td>\n",
       "      <td>Intel Iris Plus Graphics 640</td>\n",
       "      <td>macOS</td>\n",
       "      <td>1.37</td>\n",
       "      <td>1339.69</td>\n",
       "      <td>0</td>\n",
       "      <td>1</td>\n",
       "      <td>2560</td>\n",
       "      <td>1600</td>\n",
       "    </tr>\n",
       "    <tr>\n",
       "      <th>1</th>\n",
       "      <td>Apple</td>\n",
       "      <td>Ultrabook</td>\n",
       "      <td>13.3</td>\n",
       "      <td>1440x900</td>\n",
       "      <td>Intel Core i5 1.8GHz</td>\n",
       "      <td>8</td>\n",
       "      <td>128GB Flash Storage</td>\n",
       "      <td>Intel HD Graphics 6000</td>\n",
       "      <td>macOS</td>\n",
       "      <td>1.34</td>\n",
       "      <td>898.94</td>\n",
       "      <td>0</td>\n",
       "      <td>0</td>\n",
       "      <td>1440</td>\n",
       "      <td>900</td>\n",
       "    </tr>\n",
       "    <tr>\n",
       "      <th>2</th>\n",
       "      <td>HP</td>\n",
       "      <td>Notebook</td>\n",
       "      <td>15.6</td>\n",
       "      <td>Full HD 1920x1080</td>\n",
       "      <td>Intel Core i5 7200U 2.5GHz</td>\n",
       "      <td>8</td>\n",
       "      <td>256GB SSD</td>\n",
       "      <td>Intel HD Graphics 620</td>\n",
       "      <td>No OS</td>\n",
       "      <td>1.86</td>\n",
       "      <td>575.00</td>\n",
       "      <td>0</td>\n",
       "      <td>0</td>\n",
       "      <td>1920</td>\n",
       "      <td>1080</td>\n",
       "    </tr>\n",
       "  </tbody>\n",
       "</table>\n",
       "</div>"
      ],
      "text/plain": [
       "  Company   TypeName  Inches                    ScreenResolution  \\\n",
       "0   Apple  Ultrabook    13.3  IPS Panel Retina Display 2560x1600   \n",
       "1   Apple  Ultrabook    13.3                            1440x900   \n",
       "2      HP   Notebook    15.6                   Full HD 1920x1080   \n",
       "\n",
       "                          Cpu  Ram               Memory  \\\n",
       "0        Intel Core i5 2.3GHz    8            128GB SSD   \n",
       "1        Intel Core i5 1.8GHz    8  128GB Flash Storage   \n",
       "2  Intel Core i5 7200U 2.5GHz    8            256GB SSD   \n",
       "\n",
       "                            Gpu  OpSys  Weight  Price_euros  Touchscreen  IPS  \\\n",
       "0  Intel Iris Plus Graphics 640  macOS    1.37      1339.69            0    1   \n",
       "1        Intel HD Graphics 6000  macOS    1.34       898.94            0    0   \n",
       "2         Intel HD Graphics 620  No OS    1.86       575.00            0    0   \n",
       "\n",
       "  X_resol Y_resol  \n",
       "0    2560    1600  \n",
       "1    1440     900  \n",
       "2    1920    1080  "
      ]
     },
     "execution_count": 297,
     "metadata": {},
     "output_type": "execute_result"
    }
   ],
   "source": [
    "data.head(3)"
   ]
  },
  {
   "cell_type": "code",
   "execution_count": 298,
   "id": "9fc0ced2",
   "metadata": {},
   "outputs": [],
   "source": [
    "# Here X_resol and Y_resol are in String format \n",
    "# Converting them into Integer format"
   ]
  },
  {
   "cell_type": "code",
   "execution_count": 299,
   "id": "c366b488",
   "metadata": {},
   "outputs": [],
   "source": [
    "data['X_resol']=data.X_resol.astype('int')"
   ]
  },
  {
   "cell_type": "code",
   "execution_count": 300,
   "id": "dd1e634b",
   "metadata": {},
   "outputs": [],
   "source": [
    "data['Y_resol']=data.Y_resol.astype('int')"
   ]
  },
  {
   "cell_type": "code",
   "execution_count": 301,
   "id": "e4badecc",
   "metadata": {},
   "outputs": [
    {
     "name": "stdout",
     "output_type": "stream",
     "text": [
      "<class 'pandas.core.frame.DataFrame'>\n",
      "RangeIndex: 1303 entries, 0 to 1302\n",
      "Data columns (total 15 columns):\n",
      " #   Column            Non-Null Count  Dtype  \n",
      "---  ------            --------------  -----  \n",
      " 0   Company           1303 non-null   object \n",
      " 1   TypeName          1303 non-null   object \n",
      " 2   Inches            1303 non-null   float64\n",
      " 3   ScreenResolution  1303 non-null   object \n",
      " 4   Cpu               1303 non-null   object \n",
      " 5   Ram               1303 non-null   int32  \n",
      " 6   Memory            1303 non-null   object \n",
      " 7   Gpu               1303 non-null   object \n",
      " 8   OpSys             1303 non-null   object \n",
      " 9   Weight            1303 non-null   float32\n",
      " 10  Price_euros       1303 non-null   float64\n",
      " 11  Touchscreen       1303 non-null   int64  \n",
      " 12  IPS               1303 non-null   int64  \n",
      " 13  X_resol           1303 non-null   int32  \n",
      " 14  Y_resol           1303 non-null   int32  \n",
      "dtypes: float32(1), float64(2), int32(3), int64(2), object(7)\n",
      "memory usage: 132.5+ KB\n"
     ]
    }
   ],
   "source": [
    "data.info()"
   ]
  },
  {
   "cell_type": "markdown",
   "id": "8a9feb0f",
   "metadata": {},
   "source": [
    "# 6) For CPU column"
   ]
  },
  {
   "cell_type": "code",
   "execution_count": 302,
   "id": "201f6a77",
   "metadata": {},
   "outputs": [
    {
     "data": {
      "text/plain": [
       "118"
      ]
     },
     "execution_count": 302,
     "metadata": {},
     "output_type": "execute_result"
    }
   ],
   "source": [
    "data.Cpu.nunique()"
   ]
  },
  {
   "cell_type": "code",
   "execution_count": 303,
   "id": "581b0cf5",
   "metadata": {},
   "outputs": [],
   "source": [
    "# It has 118 Unique values"
   ]
  },
  {
   "cell_type": "code",
   "execution_count": 304,
   "id": "19e18e38",
   "metadata": {},
   "outputs": [
    {
     "data": {
      "text/plain": [
       "array(['Intel Core i5 2.3GHz', 'Intel Core i5 1.8GHz',\n",
       "       'Intel Core i5 7200U 2.5GHz', 'Intel Core i7 2.7GHz',\n",
       "       'Intel Core i5 3.1GHz', 'AMD A9-Series 9420 3GHz',\n",
       "       'Intel Core i7 2.2GHz', 'Intel Core i7 8550U 1.8GHz',\n",
       "       'Intel Core i5 8250U 1.6GHz', 'Intel Core i3 6006U 2GHz',\n",
       "       'Intel Core i7 2.8GHz', 'Intel Core M m3 1.2GHz',\n",
       "       'Intel Core i7 7500U 2.7GHz', 'Intel Core i7 2.9GHz',\n",
       "       'Intel Core i3 7100U 2.4GHz', 'Intel Atom x5-Z8350 1.44GHz',\n",
       "       'Intel Core i5 7300HQ 2.5GHz', 'AMD E-Series E2-9000e 1.5GHz',\n",
       "       'Intel Core i5 1.6GHz', 'Intel Core i7 8650U 1.9GHz',\n",
       "       'Intel Atom x5-Z8300 1.44GHz', 'AMD E-Series E2-6110 1.5GHz',\n",
       "       'AMD A6-Series 9220 2.5GHz',\n",
       "       'Intel Celeron Dual Core N3350 1.1GHz',\n",
       "       'Intel Core i3 7130U 2.7GHz', 'Intel Core i7 7700HQ 2.8GHz',\n",
       "       'Intel Core i5 2.0GHz', 'AMD Ryzen 1700 3GHz',\n",
       "       'Intel Pentium Quad Core N4200 1.1GHz',\n",
       "       'Intel Atom x5-Z8550 1.44GHz',\n",
       "       'Intel Celeron Dual Core N3060 1.6GHz', 'Intel Core i5 1.3GHz',\n",
       "       'AMD FX 9830P 3GHz', 'Intel Core i7 7560U 2.4GHz',\n",
       "       'AMD E-Series 6110 1.5GHz', 'Intel Core i5 6200U 2.3GHz',\n",
       "       'Intel Core M 6Y75 1.2GHz', 'Intel Core i5 7500U 2.7GHz',\n",
       "       'Intel Core i3 6006U 2.2GHz', 'AMD A6-Series 9220 2.9GHz',\n",
       "       'Intel Core i7 6920HQ 2.9GHz', 'Intel Core i5 7Y54 1.2GHz',\n",
       "       'Intel Core i7 7820HK 2.9GHz', 'Intel Xeon E3-1505M V6 3GHz',\n",
       "       'Intel Core i7 6500U 2.5GHz', 'AMD E-Series 9000e 1.5GHz',\n",
       "       'AMD A10-Series A10-9620P 2.5GHz', 'AMD A6-Series A6-9220 2.5GHz',\n",
       "       'Intel Core i5 2.9GHz', 'Intel Core i7 6600U 2.6GHz',\n",
       "       'Intel Core i3 6006U 2.0GHz',\n",
       "       'Intel Celeron Dual Core 3205U 1.5GHz',\n",
       "       'Intel Core i7 7820HQ 2.9GHz', 'AMD A10-Series 9600P 2.4GHz',\n",
       "       'Intel Core i7 7600U 2.8GHz', 'AMD A8-Series 7410 2.2GHz',\n",
       "       'Intel Celeron Dual Core 3855U 1.6GHz',\n",
       "       'Intel Pentium Quad Core N3710 1.6GHz',\n",
       "       'AMD A12-Series 9720P 2.7GHz', 'Intel Core i5 7300U 2.6GHz',\n",
       "       'AMD A12-Series 9720P 3.6GHz',\n",
       "       'Intel Celeron Quad Core N3450 1.1GHz',\n",
       "       'Intel Celeron Dual Core N3060 1.60GHz',\n",
       "       'Intel Core i5 6440HQ 2.6GHz', 'Intel Core i7 6820HQ 2.7GHz',\n",
       "       'AMD Ryzen 1600 3.2GHz', 'Intel Core i7 7Y75 1.3GHz',\n",
       "       'Intel Core i5 7440HQ 2.8GHz', 'Intel Core i7 7660U 2.5GHz',\n",
       "       'Intel Core i7 7700HQ 2.7GHz', 'Intel Core M m3-7Y30 2.2GHz',\n",
       "       'Intel Core i5 7Y57 1.2GHz', 'Intel Core i7 6700HQ 2.6GHz',\n",
       "       'Intel Core i3 6100U 2.3GHz', 'AMD A10-Series 9620P 2.5GHz',\n",
       "       'AMD E-Series 7110 1.8GHz', 'Intel Celeron Dual Core N3350 2.0GHz',\n",
       "       'AMD A9-Series A9-9420 3GHz', 'Intel Core i7 6820HK 2.7GHz',\n",
       "       'Intel Core M 7Y30 1.0GHz', 'Intel Xeon E3-1535M v6 3.1GHz',\n",
       "       'Intel Celeron Quad Core N3160 1.6GHz',\n",
       "       'Intel Core i5 6300U 2.4GHz', 'Intel Core i3 6100U 2.1GHz',\n",
       "       'AMD E-Series E2-9000 2.2GHz',\n",
       "       'Intel Celeron Dual Core N3050 1.6GHz',\n",
       "       'Intel Core M M3-6Y30 0.9GHz', 'AMD A9-Series 9420 2.9GHz',\n",
       "       'Intel Core i5 6300HQ 2.3GHz', 'AMD A6-Series 7310 2GHz',\n",
       "       'Intel Atom Z8350 1.92GHz', 'Intel Xeon E3-1535M v5 2.9GHz',\n",
       "       'Intel Core i5 6260U 1.8GHz',\n",
       "       'Intel Pentium Dual Core N4200 1.1GHz',\n",
       "       'Intel Celeron Quad Core N3710 1.6GHz', 'Intel Core M 1.2GHz',\n",
       "       'AMD A12-Series 9700P 2.5GHz', 'Intel Core i7 7500U 2.5GHz',\n",
       "       'Intel Pentium Dual Core 4405U 2.1GHz',\n",
       "       'AMD A4-Series 7210 2.2GHz', 'Intel Core i7 6560U 2.2GHz',\n",
       "       'Intel Core M m7-6Y75 1.2GHz', 'AMD FX 8800P 2.1GHz',\n",
       "       'Intel Core M M7-6Y75 1.2GHz', 'Intel Core i5 7200U 2.50GHz',\n",
       "       'Intel Core i5 7200U 2.70GHz', 'Intel Atom X5-Z8350 1.44GHz',\n",
       "       'Intel Core i5 7200U 2.7GHz', 'Intel Core M 1.1GHz',\n",
       "       'Intel Pentium Dual Core 4405Y 1.5GHz',\n",
       "       'Intel Pentium Quad Core N3700 1.6GHz', 'Intel Core M 6Y54 1.1GHz',\n",
       "       'Intel Core i7 6500U 2.50GHz',\n",
       "       'Intel Celeron Dual Core N3350 2GHz',\n",
       "       'Samsung Cortex A72&A53 2.0GHz', 'AMD E-Series 9000 2.2GHz',\n",
       "       'Intel Core M 6Y30 0.9GHz', 'AMD A9-Series 9410 2.9GHz'],\n",
       "      dtype=object)"
      ]
     },
     "execution_count": 304,
     "metadata": {},
     "output_type": "execute_result"
    }
   ],
   "source": [
    "data.Cpu.unique()"
   ]
  },
  {
   "cell_type": "code",
   "execution_count": 305,
   "id": "40d1aefe",
   "metadata": {},
   "outputs": [],
   "source": [
    "# This is the information about the Processor used in the laptop and its speed\n",
    "# So this is the main takeaway from Cpu column"
   ]
  },
  {
   "cell_type": "code",
   "execution_count": 306,
   "id": "8048dfab",
   "metadata": {},
   "outputs": [],
   "source": [
    "# The starting 3 words indicates the Processor used, If we can separate this and categorize into some number of classes so that\n",
    "# the classification of laptops can be "
   ]
  },
  {
   "cell_type": "code",
   "execution_count": 307,
   "id": "4d4ad067",
   "metadata": {},
   "outputs": [
    {
     "data": {
      "text/plain": [
       "'AMDA9-Series9420'"
      ]
     },
     "execution_count": 307,
     "metadata": {},
     "output_type": "execute_result"
    }
   ],
   "source": [
    "s=''.join(data.Cpu[5].split()[0:3])\n",
    "s"
   ]
  },
  {
   "cell_type": "code",
   "execution_count": 308,
   "id": "adb6a8ee",
   "metadata": {},
   "outputs": [
    {
     "data": {
      "text/plain": [
       "'AMDA9-Series9420'"
      ]
     },
     "execution_count": 308,
     "metadata": {},
     "output_type": "execute_result"
    }
   ],
   "source": [
    "s.split()[0]"
   ]
  },
  {
   "cell_type": "code",
   "execution_count": 309,
   "id": "9bd5c26f",
   "metadata": {},
   "outputs": [],
   "source": [
    "# We are runing it in a function to make the task easy"
   ]
  },
  {
   "cell_type": "code",
   "execution_count": 310,
   "id": "a98bcc92",
   "metadata": {},
   "outputs": [],
   "source": [
    "# If the processor is ['Intel Core i7', 'Intel Core i5', 'Intel Core i3'] we are returing as the same these are 3 Classes\n",
    "# Incase if it is not in these 3 it will return as 'Other Intel Processor' basing upon the condition if the first word is 'Intel'\n",
    "# This is one Class\n",
    "# Incase if the condition fails for the above two it will return 'AMD Processor'\n",
    "# Therefore the Total number of Classes for CPU is 5"
   ]
  },
  {
   "cell_type": "code",
   "execution_count": 311,
   "id": "4d743e86",
   "metadata": {},
   "outputs": [],
   "source": [
    "def get_processor(x):\n",
    "  processor_name = \" \".join(x.split()[0:3])\n",
    "\n",
    "  if processor_name == 'Intel Core i3' or processor_name == 'Intel Core i5' or processor_name == 'Intel Core i7':\n",
    "    return processor_name\n",
    "  elif processor_name.split()[0] == 'Intel':\n",
    "    return 'Other Intel Processor'\n",
    "  else:\n",
    "    return 'AMD Processor'"
   ]
  },
  {
   "cell_type": "code",
   "execution_count": 312,
   "id": "1ee2d010",
   "metadata": {},
   "outputs": [],
   "source": [
    "# Here x is the iterative which runs through Cpu column"
   ]
  },
  {
   "cell_type": "code",
   "execution_count": 313,
   "id": "40ecacb7",
   "metadata": {},
   "outputs": [],
   "source": [
    "data['Cpu_Processor'] = data.Cpu.apply(lambda x: get_processor(x))"
   ]
  },
  {
   "cell_type": "code",
   "execution_count": 314,
   "id": "4ea94742",
   "metadata": {},
   "outputs": [
    {
     "data": {
      "text/html": [
       "<div>\n",
       "<style scoped>\n",
       "    .dataframe tbody tr th:only-of-type {\n",
       "        vertical-align: middle;\n",
       "    }\n",
       "\n",
       "    .dataframe tbody tr th {\n",
       "        vertical-align: top;\n",
       "    }\n",
       "\n",
       "    .dataframe thead th {\n",
       "        text-align: right;\n",
       "    }\n",
       "</style>\n",
       "<table border=\"1\" class=\"dataframe\">\n",
       "  <thead>\n",
       "    <tr style=\"text-align: right;\">\n",
       "      <th></th>\n",
       "      <th>Company</th>\n",
       "      <th>TypeName</th>\n",
       "      <th>Inches</th>\n",
       "      <th>ScreenResolution</th>\n",
       "      <th>Cpu</th>\n",
       "      <th>Ram</th>\n",
       "      <th>Memory</th>\n",
       "      <th>Gpu</th>\n",
       "      <th>OpSys</th>\n",
       "      <th>Weight</th>\n",
       "      <th>Price_euros</th>\n",
       "      <th>Touchscreen</th>\n",
       "      <th>IPS</th>\n",
       "      <th>X_resol</th>\n",
       "      <th>Y_resol</th>\n",
       "      <th>Cpu_Processor</th>\n",
       "    </tr>\n",
       "  </thead>\n",
       "  <tbody>\n",
       "    <tr>\n",
       "      <th>0</th>\n",
       "      <td>Apple</td>\n",
       "      <td>Ultrabook</td>\n",
       "      <td>13.3</td>\n",
       "      <td>IPS Panel Retina Display 2560x1600</td>\n",
       "      <td>Intel Core i5 2.3GHz</td>\n",
       "      <td>8</td>\n",
       "      <td>128GB SSD</td>\n",
       "      <td>Intel Iris Plus Graphics 640</td>\n",
       "      <td>macOS</td>\n",
       "      <td>1.37</td>\n",
       "      <td>1339.69</td>\n",
       "      <td>0</td>\n",
       "      <td>1</td>\n",
       "      <td>2560</td>\n",
       "      <td>1600</td>\n",
       "      <td>Intel Core i5</td>\n",
       "    </tr>\n",
       "    <tr>\n",
       "      <th>1</th>\n",
       "      <td>Apple</td>\n",
       "      <td>Ultrabook</td>\n",
       "      <td>13.3</td>\n",
       "      <td>1440x900</td>\n",
       "      <td>Intel Core i5 1.8GHz</td>\n",
       "      <td>8</td>\n",
       "      <td>128GB Flash Storage</td>\n",
       "      <td>Intel HD Graphics 6000</td>\n",
       "      <td>macOS</td>\n",
       "      <td>1.34</td>\n",
       "      <td>898.94</td>\n",
       "      <td>0</td>\n",
       "      <td>0</td>\n",
       "      <td>1440</td>\n",
       "      <td>900</td>\n",
       "      <td>Intel Core i5</td>\n",
       "    </tr>\n",
       "    <tr>\n",
       "      <th>2</th>\n",
       "      <td>HP</td>\n",
       "      <td>Notebook</td>\n",
       "      <td>15.6</td>\n",
       "      <td>Full HD 1920x1080</td>\n",
       "      <td>Intel Core i5 7200U 2.5GHz</td>\n",
       "      <td>8</td>\n",
       "      <td>256GB SSD</td>\n",
       "      <td>Intel HD Graphics 620</td>\n",
       "      <td>No OS</td>\n",
       "      <td>1.86</td>\n",
       "      <td>575.00</td>\n",
       "      <td>0</td>\n",
       "      <td>0</td>\n",
       "      <td>1920</td>\n",
       "      <td>1080</td>\n",
       "      <td>Intel Core i5</td>\n",
       "    </tr>\n",
       "  </tbody>\n",
       "</table>\n",
       "</div>"
      ],
      "text/plain": [
       "  Company   TypeName  Inches                    ScreenResolution  \\\n",
       "0   Apple  Ultrabook    13.3  IPS Panel Retina Display 2560x1600   \n",
       "1   Apple  Ultrabook    13.3                            1440x900   \n",
       "2      HP   Notebook    15.6                   Full HD 1920x1080   \n",
       "\n",
       "                          Cpu  Ram               Memory  \\\n",
       "0        Intel Core i5 2.3GHz    8            128GB SSD   \n",
       "1        Intel Core i5 1.8GHz    8  128GB Flash Storage   \n",
       "2  Intel Core i5 7200U 2.5GHz    8            256GB SSD   \n",
       "\n",
       "                            Gpu  OpSys  Weight  Price_euros  Touchscreen  IPS  \\\n",
       "0  Intel Iris Plus Graphics 640  macOS    1.37      1339.69            0    1   \n",
       "1        Intel HD Graphics 6000  macOS    1.34       898.94            0    0   \n",
       "2         Intel HD Graphics 620  No OS    1.86       575.00            0    0   \n",
       "\n",
       "   X_resol  Y_resol  Cpu_Processor  \n",
       "0     2560     1600  Intel Core i5  \n",
       "1     1440      900  Intel Core i5  \n",
       "2     1920     1080  Intel Core i5  "
      ]
     },
     "execution_count": 314,
     "metadata": {},
     "output_type": "execute_result"
    }
   ],
   "source": [
    "data.head(3)"
   ]
  },
  {
   "cell_type": "code",
   "execution_count": 315,
   "id": "bd8c43a6",
   "metadata": {},
   "outputs": [
    {
     "data": {
      "image/png": "[encoded data removed]",
      "text/plain": [
       "<Figure size 576x504 with 1 Axes>"
      ]
     },
     "metadata": {},
     "output_type": "display_data"
    }
   ],
   "source": [
    "plt.figure(figsize=(8,7))\n",
    "sns.countplot(data=data,x='Cpu_Processor',palette='Set2');"
   ]
  },
  {
   "cell_type": "code",
   "execution_count": 316,
   "id": "b340b992",
   "metadata": {},
   "outputs": [],
   "source": [
    "# Observation\n",
    "# Intel Core i7 has the higher count followed by Intel Core i5\n",
    "# Most of the processors used is of Intel in which Core i-7 and i-5 has significantly higer user rate"
   ]
  },
  {
   "cell_type": "markdown",
   "id": "c7dec290",
   "metadata": {},
   "source": [
    "# Plotting Cpu_Processor against Price"
   ]
  },
  {
   "cell_type": "code",
   "execution_count": 317,
   "id": "6c44c1de",
   "metadata": {},
   "outputs": [
    {
     "data": {
      "image/png": "[encoded data removed]",
      "text/plain": [
       "<Figure size 576x504 with 1 Axes>"
      ]
     },
     "metadata": {},
     "output_type": "display_data"
    }
   ],
   "source": [
    "plt.figure(figsize=(8,7))\n",
    "sns.barplot(data=data,x='Price_euros',y='Cpu_Processor',palette='husl',ci=None,orient='h');"
   ]
  },
  {
   "cell_type": "code",
   "execution_count": 318,
   "id": "770310b0",
   "metadata": {},
   "outputs": [],
   "source": [
    "# Observation\n",
    "# Intel Core i7 has the highest cost followed by Intel Core i5 and AMD Processor, Intel Core i3 and other Intel processors\n",
    "# are on same range and we can say that the price of the Processor depends upon the type of Processor itself"
   ]
  },
  {
   "cell_type": "code",
   "execution_count": 319,
   "id": "5b424008",
   "metadata": {},
   "outputs": [],
   "source": [
    "# Intel Core i7 has the highest cost followed by Intel Core i5 \n",
    "# AMD, Intel Core i3 and other Intel processors are on same price range"
   ]
  },
  {
   "cell_type": "markdown",
   "id": "758258a4",
   "metadata": {},
   "source": [
    "# 7) Price variation with respective RAM"
   ]
  },
  {
   "cell_type": "code",
   "execution_count": 320,
   "id": "4e2dce5f",
   "metadata": {},
   "outputs": [
    {
     "data": {
      "image/png": "[encoded data removed]",
      "text/plain": [
       "<Figure size 576x504 with 1 Axes>"
      ]
     },
     "metadata": {},
     "output_type": "display_data"
    }
   ],
   "source": [
    "plt.figure(figsize=(8,7))\n",
    "sns.barplot(data=data,x='Ram',y='Price_euros',palette='flare',ci=None);"
   ]
  },
  {
   "cell_type": "code",
   "execution_count": 321,
   "id": "776be524",
   "metadata": {},
   "outputs": [],
   "source": [
    "# Observation\n",
    "# Clearly Ram has linear relationship with Price \n",
    "# As the Ram size is increasing the Price is also increasing\n",
    "# This could mean that there's a strong corelation between these two variables"
   ]
  },
  {
   "cell_type": "markdown",
   "id": "7fbe1f1e",
   "metadata": {},
   "source": [
    "# 8) GPU Column"
   ]
  },
  {
   "cell_type": "code",
   "execution_count": 322,
   "id": "e78c6398",
   "metadata": {},
   "outputs": [
    {
     "data": {
      "text/plain": [
       "110"
      ]
     },
     "execution_count": 322,
     "metadata": {},
     "output_type": "execute_result"
    }
   ],
   "source": [
    "data.Gpu.nunique()"
   ]
  },
  {
   "cell_type": "code",
   "execution_count": 323,
   "id": "93ae4ecc",
   "metadata": {},
   "outputs": [
    {
     "data": {
      "text/plain": [
       "array(['Intel Iris Plus Graphics 640', 'Intel HD Graphics 6000',\n",
       "       'Intel HD Graphics 620', 'AMD Radeon Pro 455',\n",
       "       'Intel Iris Plus Graphics 650', 'AMD Radeon R5',\n",
       "       'Intel Iris Pro Graphics', 'Nvidia GeForce MX150',\n",
       "       'Intel UHD Graphics 620', 'Intel HD Graphics 520',\n",
       "       'AMD Radeon Pro 555', 'AMD Radeon R5 M430',\n",
       "       'Intel HD Graphics 615', 'AMD Radeon Pro 560',\n",
       "       'Nvidia GeForce 940MX', 'Intel HD Graphics 400',\n",
       "       'Nvidia GeForce GTX 1050', 'AMD Radeon R2', 'AMD Radeon 530',\n",
       "       'Nvidia GeForce 930MX', 'Intel HD Graphics',\n",
       "       'Intel HD Graphics 500', 'Nvidia GeForce 930MX ',\n",
       "       'Nvidia GeForce GTX 1060', 'Nvidia GeForce 150MX',\n",
       "       'Intel Iris Graphics 540', 'AMD Radeon RX 580',\n",
       "       'Nvidia GeForce 920MX', 'AMD Radeon R4 Graphics', 'AMD Radeon 520',\n",
       "       'Nvidia GeForce GTX 1070', 'Nvidia GeForce GTX 1050 Ti',\n",
       "       'Nvidia GeForce MX130', 'AMD R4 Graphics',\n",
       "       'Nvidia GeForce GTX 940MX', 'AMD Radeon RX 560',\n",
       "       'Nvidia GeForce 920M', 'AMD Radeon R7 M445', 'AMD Radeon RX 550',\n",
       "       'Nvidia GeForce GTX 1050M', 'Intel HD Graphics 515',\n",
       "       'AMD Radeon R5 M420', 'Intel HD Graphics 505',\n",
       "       'Nvidia GTX 980 SLI', 'AMD R17M-M1-70', 'Nvidia GeForce GTX 1080',\n",
       "       'Nvidia Quadro M1200', 'Nvidia GeForce 920MX ',\n",
       "       'Nvidia GeForce GTX 950M', 'AMD FirePro W4190M ',\n",
       "       'Nvidia GeForce GTX 980M', 'Intel Iris Graphics 550',\n",
       "       'Nvidia GeForce 930M', 'Intel HD Graphics 630',\n",
       "       'AMD Radeon R5 430', 'Nvidia GeForce GTX 940M',\n",
       "       'Intel HD Graphics 510', 'Intel HD Graphics 405',\n",
       "       'AMD Radeon RX 540', 'Nvidia GeForce GT 940MX',\n",
       "       'AMD FirePro W5130M', 'Nvidia Quadro M2200M', 'AMD Radeon R4',\n",
       "       'Nvidia Quadro M620', 'AMD Radeon R7 M460',\n",
       "       'Intel HD Graphics 530', 'Nvidia GeForce GTX 965M',\n",
       "       'Nvidia GeForce GTX1080', 'Nvidia GeForce GTX1050 Ti',\n",
       "       'Nvidia GeForce GTX 960M', 'AMD Radeon R2 Graphics',\n",
       "       'Nvidia Quadro M620M', 'Nvidia GeForce GTX 970M',\n",
       "       'Nvidia GeForce GTX 960<U+039C>', 'Intel Graphics 620',\n",
       "       'Nvidia GeForce GTX 960', 'AMD Radeon R5 520',\n",
       "       'AMD Radeon R7 M440', 'AMD Radeon R7', 'Nvidia Quadro M520M',\n",
       "       'Nvidia Quadro M2200', 'Nvidia Quadro M2000M',\n",
       "       'Intel HD Graphics 540', 'Nvidia Quadro M1000M', 'AMD Radeon 540',\n",
       "       'Nvidia GeForce GTX 1070M', 'Nvidia GeForce GTX1060',\n",
       "       'Intel HD Graphics 5300', 'AMD Radeon R5 M420X',\n",
       "       'AMD Radeon R7 Graphics', 'Nvidia GeForce 920',\n",
       "       'Nvidia GeForce 940M', 'Nvidia GeForce GTX 930MX',\n",
       "       'AMD Radeon R7 M465', 'AMD Radeon R3', 'Nvidia GeForce GTX 1050Ti',\n",
       "       'AMD Radeon R7 M365X', 'AMD Radeon R9 M385',\n",
       "       'Intel HD Graphics 620 ', 'Nvidia Quadro 3000M',\n",
       "       'Nvidia GeForce GTX 980 ', 'AMD Radeon R5 M330',\n",
       "       'AMD FirePro W4190M', 'AMD FirePro W6150M', 'AMD Radeon R5 M315',\n",
       "       'Nvidia Quadro M500M', 'AMD Radeon R7 M360',\n",
       "       'Nvidia Quadro M3000M', 'Nvidia GeForce 960M', 'ARM Mali T860 MP4'],\n",
       "      dtype=object)"
      ]
     },
     "execution_count": 323,
     "metadata": {},
     "output_type": "execute_result"
    }
   ],
   "source": [
    "data.Gpu.unique()"
   ]
  },
  {
   "cell_type": "code",
   "execution_count": 324,
   "id": "d3434f79",
   "metadata": {},
   "outputs": [
    {
     "data": {
      "text/plain": [
       "Intel HD Graphics 620      281\n",
       "Intel HD Graphics 520      185\n",
       "Intel UHD Graphics 620      68\n",
       "Nvidia GeForce GTX 1050     66\n",
       "Nvidia GeForce GTX 1060     48\n",
       "                          ... \n",
       "Intel Iris Pro Graphics      1\n",
       "Nvidia GeForce 960M          1\n",
       "AMD Radeon Pro 455           1\n",
       "Intel Iris Graphics 550      1\n",
       "AMD Radeon R7 M465           1\n",
       "Name: Gpu, Length: 110, dtype: int64"
      ]
     },
     "execution_count": 324,
     "metadata": {},
     "output_type": "execute_result"
    }
   ],
   "source": [
    "data.Gpu.value_counts()"
   ]
  },
  {
   "cell_type": "code",
   "execution_count": 325,
   "id": "1c22dd36",
   "metadata": {},
   "outputs": [],
   "source": [
    "# This feature has the data containing the brand or company name on it, It doesn't have the specifications like ram capacities\n",
    "# So we can simply takeout the Brand name from this feature"
   ]
  },
  {
   "cell_type": "code",
   "execution_count": 326,
   "id": "0184382f",
   "metadata": {},
   "outputs": [
    {
     "data": {
      "text/plain": [
       "'Intel'"
      ]
     },
     "execution_count": 326,
     "metadata": {},
     "output_type": "execute_result"
    }
   ],
   "source": [
    "data.Gpu[0].split()[0]"
   ]
  },
  {
   "cell_type": "code",
   "execution_count": 327,
   "id": "2319d581",
   "metadata": {},
   "outputs": [],
   "source": [
    "Gpu_brand = data.Gpu.apply(lambda x:x.split()[0])"
   ]
  },
  {
   "cell_type": "code",
   "execution_count": 328,
   "id": "36cba088",
   "metadata": {},
   "outputs": [
    {
     "data": {
      "text/plain": [
       "0       Intel\n",
       "1       Intel\n",
       "2       Intel\n",
       "3         AMD\n",
       "4       Intel\n",
       "        ...  \n",
       "1298    Intel\n",
       "1299    Intel\n",
       "1300    Intel\n",
       "1301      AMD\n",
       "1302    Intel\n",
       "Name: Gpu, Length: 1303, dtype: object"
      ]
     },
     "execution_count": 328,
     "metadata": {},
     "output_type": "execute_result"
    }
   ],
   "source": [
    "Gpu_brand"
   ]
  },
  {
   "cell_type": "code",
   "execution_count": 329,
   "id": "2f8d3d5f",
   "metadata": {},
   "outputs": [
    {
     "data": {
      "text/plain": [
       "Intel     722\n",
       "Nvidia    400\n",
       "AMD       180\n",
       "ARM         1\n",
       "Name: Gpu, dtype: int64"
      ]
     },
     "execution_count": 329,
     "metadata": {},
     "output_type": "execute_result"
    }
   ],
   "source": [
    "per=Gpu_brand.value_counts()\n",
    "per"
   ]
  },
  {
   "cell_type": "code",
   "execution_count": 330,
   "id": "1d493e8b",
   "metadata": {},
   "outputs": [
    {
     "data": {
      "text/plain": [
       "Intel     0.554106\n",
       "Nvidia    0.306984\n",
       "AMD       0.138143\n",
       "ARM       0.000767\n",
       "Name: Gpu, dtype: float64"
      ]
     },
     "execution_count": 330,
     "metadata": {},
     "output_type": "execute_result"
    }
   ],
   "source": [
    "perc=Gpu_brand.value_counts(normalize=True)\n",
    "perc"
   ]
  },
  {
   "cell_type": "code",
   "execution_count": 331,
   "id": "dfbf8f49",
   "metadata": {},
   "outputs": [
    {
     "data": {
      "image/png": "[encoded data removed]",
      "text/plain": [
       "<Figure size 504x360 with 1 Axes>"
      ]
     },
     "metadata": {},
     "output_type": "display_data"
    }
   ],
   "source": [
    "plt.figure(figsize=(7,5))\n",
    "plt.pie(perc,labels=['Intel','Nvidia','AMD','ARM'],autopct='%1.2f%%');"
   ]
  },
  {
   "cell_type": "code",
   "execution_count": 332,
   "id": "672f85bb",
   "metadata": {},
   "outputs": [],
   "source": [
    "# ARM occupies only 1% so we can drop it"
   ]
  },
  {
   "cell_type": "code",
   "execution_count": 333,
   "id": "e1eec418",
   "metadata": {},
   "outputs": [],
   "source": [
    "data['Gpu_brand'] = data['Gpu'].apply(lambda x:x.split()[0])\n",
    "data = data[data['Gpu_brand'] != 'ARM']"
   ]
  },
  {
   "cell_type": "code",
   "execution_count": 334,
   "id": "d62bf0c0",
   "metadata": {},
   "outputs": [
    {
     "data": {
      "text/html": [
       "<div>\n",
       "<style scoped>\n",
       "    .dataframe tbody tr th:only-of-type {\n",
       "        vertical-align: middle;\n",
       "    }\n",
       "\n",
       "    .dataframe tbody tr th {\n",
       "        vertical-align: top;\n",
       "    }\n",
       "\n",
       "    .dataframe thead th {\n",
       "        text-align: right;\n",
       "    }\n",
       "</style>\n",
       "<table border=\"1\" class=\"dataframe\">\n",
       "  <thead>\n",
       "    <tr style=\"text-align: right;\">\n",
       "      <th></th>\n",
       "      <th>Company</th>\n",
       "      <th>TypeName</th>\n",
       "      <th>Inches</th>\n",
       "      <th>ScreenResolution</th>\n",
       "      <th>Cpu</th>\n",
       "      <th>Ram</th>\n",
       "      <th>Memory</th>\n",
       "      <th>Gpu</th>\n",
       "      <th>OpSys</th>\n",
       "      <th>Weight</th>\n",
       "      <th>Price_euros</th>\n",
       "      <th>Touchscreen</th>\n",
       "      <th>IPS</th>\n",
       "      <th>X_resol</th>\n",
       "      <th>Y_resol</th>\n",
       "      <th>Cpu_Processor</th>\n",
       "      <th>Gpu_brand</th>\n",
       "    </tr>\n",
       "  </thead>\n",
       "  <tbody>\n",
       "    <tr>\n",
       "      <th>0</th>\n",
       "      <td>Apple</td>\n",
       "      <td>Ultrabook</td>\n",
       "      <td>13.3</td>\n",
       "      <td>IPS Panel Retina Display 2560x1600</td>\n",
       "      <td>Intel Core i5 2.3GHz</td>\n",
       "      <td>8</td>\n",
       "      <td>128GB SSD</td>\n",
       "      <td>Intel Iris Plus Graphics 640</td>\n",
       "      <td>macOS</td>\n",
       "      <td>1.37</td>\n",
       "      <td>1339.69</td>\n",
       "      <td>0</td>\n",
       "      <td>1</td>\n",
       "      <td>2560</td>\n",
       "      <td>1600</td>\n",
       "      <td>Intel Core i5</td>\n",
       "      <td>Intel</td>\n",
       "    </tr>\n",
       "    <tr>\n",
       "      <th>1</th>\n",
       "      <td>Apple</td>\n",
       "      <td>Ultrabook</td>\n",
       "      <td>13.3</td>\n",
       "      <td>1440x900</td>\n",
       "      <td>Intel Core i5 1.8GHz</td>\n",
       "      <td>8</td>\n",
       "      <td>128GB Flash Storage</td>\n",
       "      <td>Intel HD Graphics 6000</td>\n",
       "      <td>macOS</td>\n",
       "      <td>1.34</td>\n",
       "      <td>898.94</td>\n",
       "      <td>0</td>\n",
       "      <td>0</td>\n",
       "      <td>1440</td>\n",
       "      <td>900</td>\n",
       "      <td>Intel Core i5</td>\n",
       "      <td>Intel</td>\n",
       "    </tr>\n",
       "    <tr>\n",
       "      <th>2</th>\n",
       "      <td>HP</td>\n",
       "      <td>Notebook</td>\n",
       "      <td>15.6</td>\n",
       "      <td>Full HD 1920x1080</td>\n",
       "      <td>Intel Core i5 7200U 2.5GHz</td>\n",
       "      <td>8</td>\n",
       "      <td>256GB SSD</td>\n",
       "      <td>Intel HD Graphics 620</td>\n",
       "      <td>No OS</td>\n",
       "      <td>1.86</td>\n",
       "      <td>575.00</td>\n",
       "      <td>0</td>\n",
       "      <td>0</td>\n",
       "      <td>1920</td>\n",
       "      <td>1080</td>\n",
       "      <td>Intel Core i5</td>\n",
       "      <td>Intel</td>\n",
       "    </tr>\n",
       "  </tbody>\n",
       "</table>\n",
       "</div>"
      ],
      "text/plain": [
       "  Company   TypeName  Inches                    ScreenResolution  \\\n",
       "0   Apple  Ultrabook    13.3  IPS Panel Retina Display 2560x1600   \n",
       "1   Apple  Ultrabook    13.3                            1440x900   \n",
       "2      HP   Notebook    15.6                   Full HD 1920x1080   \n",
       "\n",
       "                          Cpu  Ram               Memory  \\\n",
       "0        Intel Core i5 2.3GHz    8            128GB SSD   \n",
       "1        Intel Core i5 1.8GHz    8  128GB Flash Storage   \n",
       "2  Intel Core i5 7200U 2.5GHz    8            256GB SSD   \n",
       "\n",
       "                            Gpu  OpSys  Weight  Price_euros  Touchscreen  IPS  \\\n",
       "0  Intel Iris Plus Graphics 640  macOS    1.37      1339.69            0    1   \n",
       "1        Intel HD Graphics 6000  macOS    1.34       898.94            0    0   \n",
       "2         Intel HD Graphics 620  No OS    1.86       575.00            0    0   \n",
       "\n",
       "   X_resol  Y_resol  Cpu_Processor Gpu_brand  \n",
       "0     2560     1600  Intel Core i5     Intel  \n",
       "1     1440      900  Intel Core i5     Intel  \n",
       "2     1920     1080  Intel Core i5     Intel  "
      ]
     },
     "execution_count": 334,
     "metadata": {},
     "output_type": "execute_result"
    }
   ],
   "source": [
    "data.head(3)"
   ]
  },
  {
   "cell_type": "markdown",
   "id": "405e891a",
   "metadata": {},
   "source": [
    "# 9) Operating System Column\n"
   ]
  },
  {
   "cell_type": "code",
   "execution_count": 335,
   "id": "730196eb",
   "metadata": {},
   "outputs": [
    {
     "data": {
      "text/plain": [
       "Windows 10      1072\n",
       "No OS             66\n",
       "Linux             62\n",
       "Windows 7         45\n",
       "Chrome OS         26\n",
       "macOS             13\n",
       "Windows 10 S       8\n",
       "Mac OS X           8\n",
       "Android            2\n",
       "Name: OpSys, dtype: int64"
      ]
     },
     "execution_count": 335,
     "metadata": {},
     "output_type": "execute_result"
    }
   ],
   "source": [
    "data.OpSys.value_counts()"
   ]
  },
  {
   "cell_type": "code",
   "execution_count": 336,
   "id": "e2a50fc9",
   "metadata": {},
   "outputs": [
    {
     "data": {
      "image/png": "[encoded data removed]",
      "text/plain": [
       "<Figure size 432x288 with 1 Axes>"
      ]
     },
     "metadata": {},
     "output_type": "display_data"
    }
   ],
   "source": [
    "data.OpSys.value_counts().plot(kind='bar');"
   ]
  },
  {
   "cell_type": "code",
   "execution_count": 337,
   "id": "f3e6f301",
   "metadata": {},
   "outputs": [],
   "source": [
    "# We have 3 types in Windows\n",
    "# Two types in Mac\n",
    "# Rest of them contains Linux, No OS, Chrome OS, Android"
   ]
  },
  {
   "cell_type": "code",
   "execution_count": 338,
   "id": "6d0123e2",
   "metadata": {},
   "outputs": [],
   "source": [
    "# Clubbing all the Window variants into one variable and all the Mac into onE Variable and Other OS variable\n",
    "# This will make the Analysis easier"
   ]
  },
  {
   "cell_type": "code",
   "execution_count": 339,
   "id": "fddcc529",
   "metadata": {},
   "outputs": [],
   "source": [
    "def Sys_OS(i):\n",
    "    if i == 'Windows 10' or i == 'Windows 7' or i == 'Windows 10 S':\n",
    "        return 'Windows'\n",
    "    elif i == 'macOS' or i == 'Mac OS X':\n",
    "        return 'Mac'\n",
    "    else:\n",
    "        return 'Others/No OS/Linux'"
   ]
  },
  {
   "cell_type": "code",
   "execution_count": 340,
   "id": "742d3f5c",
   "metadata": {},
   "outputs": [],
   "source": [
    "data['Op_sys'] = data['OpSys'].apply(Sys_OS)"
   ]
  },
  {
   "cell_type": "code",
   "execution_count": 341,
   "id": "9f604f20",
   "metadata": {},
   "outputs": [
    {
     "data": {
      "text/html": [
       "<div>\n",
       "<style scoped>\n",
       "    .dataframe tbody tr th:only-of-type {\n",
       "        vertical-align: middle;\n",
       "    }\n",
       "\n",
       "    .dataframe tbody tr th {\n",
       "        vertical-align: top;\n",
       "    }\n",
       "\n",
       "    .dataframe thead th {\n",
       "        text-align: right;\n",
       "    }\n",
       "</style>\n",
       "<table border=\"1\" class=\"dataframe\">\n",
       "  <thead>\n",
       "    <tr style=\"text-align: right;\">\n",
       "      <th></th>\n",
       "      <th>Company</th>\n",
       "      <th>TypeName</th>\n",
       "      <th>Inches</th>\n",
       "      <th>ScreenResolution</th>\n",
       "      <th>Cpu</th>\n",
       "      <th>Ram</th>\n",
       "      <th>Memory</th>\n",
       "      <th>Gpu</th>\n",
       "      <th>OpSys</th>\n",
       "      <th>Weight</th>\n",
       "      <th>Price_euros</th>\n",
       "      <th>Touchscreen</th>\n",
       "      <th>IPS</th>\n",
       "      <th>X_resol</th>\n",
       "      <th>Y_resol</th>\n",
       "      <th>Cpu_Processor</th>\n",
       "      <th>Gpu_brand</th>\n",
       "      <th>Op_sys</th>\n",
       "    </tr>\n",
       "  </thead>\n",
       "  <tbody>\n",
       "    <tr>\n",
       "      <th>0</th>\n",
       "      <td>Apple</td>\n",
       "      <td>Ultrabook</td>\n",
       "      <td>13.3</td>\n",
       "      <td>IPS Panel Retina Display 2560x1600</td>\n",
       "      <td>Intel Core i5 2.3GHz</td>\n",
       "      <td>8</td>\n",
       "      <td>128GB SSD</td>\n",
       "      <td>Intel Iris Plus Graphics 640</td>\n",
       "      <td>macOS</td>\n",
       "      <td>1.37</td>\n",
       "      <td>1339.69</td>\n",
       "      <td>0</td>\n",
       "      <td>1</td>\n",
       "      <td>2560</td>\n",
       "      <td>1600</td>\n",
       "      <td>Intel Core i5</td>\n",
       "      <td>Intel</td>\n",
       "      <td>Mac</td>\n",
       "    </tr>\n",
       "    <tr>\n",
       "      <th>1</th>\n",
       "      <td>Apple</td>\n",
       "      <td>Ultrabook</td>\n",
       "      <td>13.3</td>\n",
       "      <td>1440x900</td>\n",
       "      <td>Intel Core i5 1.8GHz</td>\n",
       "      <td>8</td>\n",
       "      <td>128GB Flash Storage</td>\n",
       "      <td>Intel HD Graphics 6000</td>\n",
       "      <td>macOS</td>\n",
       "      <td>1.34</td>\n",
       "      <td>898.94</td>\n",
       "      <td>0</td>\n",
       "      <td>0</td>\n",
       "      <td>1440</td>\n",
       "      <td>900</td>\n",
       "      <td>Intel Core i5</td>\n",
       "      <td>Intel</td>\n",
       "      <td>Mac</td>\n",
       "    </tr>\n",
       "    <tr>\n",
       "      <th>2</th>\n",
       "      <td>HP</td>\n",
       "      <td>Notebook</td>\n",
       "      <td>15.6</td>\n",
       "      <td>Full HD 1920x1080</td>\n",
       "      <td>Intel Core i5 7200U 2.5GHz</td>\n",
       "      <td>8</td>\n",
       "      <td>256GB SSD</td>\n",
       "      <td>Intel HD Graphics 620</td>\n",
       "      <td>No OS</td>\n",
       "      <td>1.86</td>\n",
       "      <td>575.00</td>\n",
       "      <td>0</td>\n",
       "      <td>0</td>\n",
       "      <td>1920</td>\n",
       "      <td>1080</td>\n",
       "      <td>Intel Core i5</td>\n",
       "      <td>Intel</td>\n",
       "      <td>Others/No OS/Linux</td>\n",
       "    </tr>\n",
       "  </tbody>\n",
       "</table>\n",
       "</div>"
      ],
      "text/plain": [
       "  Company   TypeName  Inches                    ScreenResolution  \\\n",
       "0   Apple  Ultrabook    13.3  IPS Panel Retina Display 2560x1600   \n",
       "1   Apple  Ultrabook    13.3                            1440x900   \n",
       "2      HP   Notebook    15.6                   Full HD 1920x1080   \n",
       "\n",
       "                          Cpu  Ram               Memory  \\\n",
       "0        Intel Core i5 2.3GHz    8            128GB SSD   \n",
       "1        Intel Core i5 1.8GHz    8  128GB Flash Storage   \n",
       "2  Intel Core i5 7200U 2.5GHz    8            256GB SSD   \n",
       "\n",
       "                            Gpu  OpSys  Weight  Price_euros  Touchscreen  IPS  \\\n",
       "0  Intel Iris Plus Graphics 640  macOS    1.37      1339.69            0    1   \n",
       "1        Intel HD Graphics 6000  macOS    1.34       898.94            0    0   \n",
       "2         Intel HD Graphics 620  No OS    1.86       575.00            0    0   \n",
       "\n",
       "   X_resol  Y_resol  Cpu_Processor Gpu_brand              Op_sys  \n",
       "0     2560     1600  Intel Core i5     Intel                 Mac  \n",
       "1     1440      900  Intel Core i5     Intel                 Mac  \n",
       "2     1920     1080  Intel Core i5     Intel  Others/No OS/Linux  "
      ]
     },
     "execution_count": 341,
     "metadata": {},
     "output_type": "execute_result"
    }
   ],
   "source": [
    "data.head(3)"
   ]
  },
  {
   "cell_type": "markdown",
   "id": "c5521845",
   "metadata": {},
   "source": [
    "# Visualization"
   ]
  },
  {
   "cell_type": "code",
   "execution_count": 342,
   "id": "7a541ec7",
   "metadata": {},
   "outputs": [
    {
     "data": {
      "text/plain": [
       "Windows               1125\n",
       "Others/No OS/Linux     156\n",
       "Mac                     21\n",
       "Name: Op_sys, dtype: int64"
      ]
     },
     "execution_count": 342,
     "metadata": {},
     "output_type": "execute_result"
    }
   ],
   "source": [
    "data.Op_sys.value_counts()"
   ]
  },
  {
   "cell_type": "code",
   "execution_count": 343,
   "id": "94f683cf",
   "metadata": {},
   "outputs": [
    {
     "data": {
      "image/png": "[encoded data removed]",
      "text/plain": [
       "<Figure size 432x288 with 1 Axes>"
      ]
     },
     "metadata": {},
     "output_type": "display_data"
    }
   ],
   "source": [
    "sns.countplot(data=data,x='Op_sys');"
   ]
  },
  {
   "cell_type": "code",
   "execution_count": 344,
   "id": "c136ef63",
   "metadata": {},
   "outputs": [],
   "source": [
    "# Observation \n",
    "# Windows Users high above 1000\n",
    "# Followed by Others and least is Mac( may be due to its high Price)"
   ]
  },
  {
   "cell_type": "markdown",
   "id": "9b68caeb",
   "metadata": {},
   "source": [
    "# Plotting Op_sys against Price"
   ]
  },
  {
   "cell_type": "code",
   "execution_count": 345,
   "id": "ab2080dc",
   "metadata": {},
   "outputs": [
    {
     "data": {
      "image/png": "[encoded data removed]",
      "text/plain": [
       "<Figure size 432x288 with 1 Axes>"
      ]
     },
     "metadata": {},
     "output_type": "display_data"
    }
   ],
   "source": [
    "sns.barplot(data=data,x='Op_sys',y='Price_euros',ci=None,palette='husl');"
   ]
  },
  {
   "cell_type": "code",
   "execution_count": 346,
   "id": "8c8c5c00",
   "metadata": {},
   "outputs": [],
   "source": [
    "# Mac Price is high followed by Windows \n",
    "# [ According to this we can conclude that Price and Mac OS is corelated]\n",
    "# Other OS are less costly"
   ]
  },
  {
   "cell_type": "markdown",
   "id": "85619562",
   "metadata": {},
   "source": [
    "# 10) Memory Column"
   ]
  },
  {
   "cell_type": "code",
   "execution_count": 347,
   "id": "f19f74ed",
   "metadata": {},
   "outputs": [
    {
     "data": {
      "text/plain": [
       "256GB SSD                        412\n",
       "1TB HDD                          223\n",
       "500GB HDD                        132\n",
       "512GB SSD                        118\n",
       "128GB SSD +  1TB HDD              94\n",
       "128GB SSD                         76\n",
       "256GB SSD +  1TB HDD              73\n",
       "32GB Flash Storage                37\n",
       "2TB HDD                           16\n",
       "64GB Flash Storage                15\n",
       "512GB SSD +  1TB HDD              14\n",
       "1TB SSD                           14\n",
       "256GB SSD +  2TB HDD              10\n",
       "1.0TB Hybrid                       9\n",
       "256GB Flash Storage                8\n",
       "16GB Flash Storage                 7\n",
       "32GB SSD                           6\n",
       "180GB SSD                          5\n",
       "128GB Flash Storage                4\n",
       "512GB SSD +  2TB HDD               3\n",
       "16GB SSD                           3\n",
       "512GB Flash Storage                2\n",
       "128GB SSD +  2TB HDD               2\n",
       "256GB SSD +  500GB HDD             2\n",
       "1TB SSD +  1TB HDD                 2\n",
       "256GB SSD +  256GB SSD             2\n",
       "1TB HDD +  1TB HDD                 1\n",
       "508GB Hybrid                       1\n",
       "32GB HDD                           1\n",
       "128GB HDD                          1\n",
       "64GB Flash Storage +  1TB HDD      1\n",
       "240GB SSD                          1\n",
       "1.0TB HDD                          1\n",
       "256GB SSD +  1.0TB Hybrid          1\n",
       "512GB SSD +  512GB SSD             1\n",
       "8GB SSD                            1\n",
       "64GB SSD                           1\n",
       "512GB SSD +  1.0TB Hybrid          1\n",
       "512GB SSD +  256GB SSD             1\n",
       "Name: Memory, dtype: int64"
      ]
     },
     "execution_count": 347,
     "metadata": {},
     "output_type": "execute_result"
    }
   ],
   "source": [
    "data.Memory.value_counts()"
   ]
  },
  {
   "cell_type": "code",
   "execution_count": 348,
   "id": "3518bf8c",
   "metadata": {},
   "outputs": [
    {
     "data": {
      "text/plain": [
       "array(['128GB SSD', '128GB Flash Storage', '256GB SSD', '512GB SSD',\n",
       "       '500GB HDD', '256GB Flash Storage', '1TB HDD',\n",
       "       '32GB Flash Storage', '128GB SSD +  1TB HDD',\n",
       "       '256GB SSD +  256GB SSD', '64GB Flash Storage',\n",
       "       '256GB SSD +  1TB HDD', '256GB SSD +  2TB HDD', '32GB SSD',\n",
       "       '2TB HDD', '64GB SSD', '1.0TB Hybrid', '512GB SSD +  1TB HDD',\n",
       "       '1TB SSD', '256GB SSD +  500GB HDD', '128GB SSD +  2TB HDD',\n",
       "       '512GB SSD +  512GB SSD', '16GB SSD', '16GB Flash Storage',\n",
       "       '512GB SSD +  256GB SSD', '512GB SSD +  2TB HDD',\n",
       "       '64GB Flash Storage +  1TB HDD', '180GB SSD', '1TB HDD +  1TB HDD',\n",
       "       '32GB HDD', '1TB SSD +  1TB HDD', '512GB Flash Storage',\n",
       "       '128GB HDD', '240GB SSD', '8GB SSD', '508GB Hybrid', '1.0TB HDD',\n",
       "       '512GB SSD +  1.0TB Hybrid', '256GB SSD +  1.0TB Hybrid'],\n",
       "      dtype=object)"
      ]
     },
     "execution_count": 348,
     "metadata": {},
     "output_type": "execute_result"
    }
   ],
   "source": [
    "data['Memory'].unique()"
   ]
  },
  {
   "cell_type": "code",
   "execution_count": 349,
   "id": "c4b6b9b1",
   "metadata": {},
   "outputs": [],
   "source": [
    "# Here the Memory is of four types\n",
    "# We can fetch only those types and makes it in a new features\n",
    "# Creating four columns which are HDD, SSD, Hybrid and Flash_storage"
   ]
  },
  {
   "cell_type": "code",
   "execution_count": 350,
   "id": "19f69f93",
   "metadata": {},
   "outputs": [
    {
     "data": {
      "text/plain": [
       "0                 [128GB SSD]\n",
       "1       [128GB Flash Storage]\n",
       "2                 [256GB SSD]\n",
       "3                 [512GB SSD]\n",
       "4                 [256GB SSD]\n",
       "                ...          \n",
       "1298              [128GB SSD]\n",
       "1299              [512GB SSD]\n",
       "1300     [64GB Flash Storage]\n",
       "1301                [1TB HDD]\n",
       "1302              [500GB HDD]\n",
       "Name: Memory, Length: 1302, dtype: object"
      ]
     },
     "execution_count": 350,
     "metadata": {},
     "output_type": "execute_result"
    }
   ],
   "source": [
    "Memory1=data['Memory'].str.split('+')\n",
    "Memory1"
   ]
  },
  {
   "cell_type": "code",
   "execution_count": 351,
   "id": "f861409b",
   "metadata": {},
   "outputs": [],
   "source": [
    "# Here we created a New feature by divinding the records which are separated by '+'"
   ]
  },
  {
   "cell_type": "code",
   "execution_count": 352,
   "id": "4b483687",
   "metadata": {},
   "outputs": [
    {
     "data": {
      "text/plain": [
       "0                 [128GB SSD]\n",
       "1       [128GB Flash Storage]\n",
       "2                 [256GB SSD]\n",
       "3                 [512GB SSD]\n",
       "4                 [256GB SSD]\n",
       "                ...          \n",
       "1298              [128GB SSD]\n",
       "1299              [512GB SSD]\n",
       "1300     [64GB Flash Storage]\n",
       "1301                [1TB HDD]\n",
       "1302              [500GB HDD]\n",
       "Name: Memory1, Length: 1302, dtype: object"
      ]
     },
     "execution_count": 352,
     "metadata": {},
     "output_type": "execute_result"
    }
   ],
   "source": [
    "data['Memory1']=data['Memory'].str.split('+')\n",
    "data['Memory1']"
   ]
  },
  {
   "cell_type": "code",
   "execution_count": 353,
   "id": "96344b89",
   "metadata": {},
   "outputs": [],
   "source": [
    "# Here the data which we divided contains both GB and TB\n",
    "# So we are converting TB into GB"
   ]
  },
  {
   "cell_type": "code",
   "execution_count": 354,
   "id": "40c946b4",
   "metadata": {},
   "outputs": [
    {
     "data": {
      "text/plain": [
       "256     500\n",
       "0       459\n",
       "128     172\n",
       "512     138\n",
       "1000     16\n",
       "32        6\n",
       "180       5\n",
       "16        3\n",
       "8         1\n",
       "64        1\n",
       "240       1\n",
       "Name: SSD, dtype: int64"
      ]
     },
     "execution_count": 354,
     "metadata": {},
     "output_type": "execute_result"
    }
   ],
   "source": [
    "def SSD(text):\n",
    "    res=0\n",
    "    for i in text:\n",
    "        if 'SSD' in i:\n",
    "            res=i.strip() # This for removing starting and ending parts of the line\n",
    "            if 'TB' in res:\n",
    "                res=res[:-6]\n",
    "                return int((res))*1000\n",
    "            else:\n",
    "                res=res[:-6]\n",
    "                return int(float(res))\n",
    "    return res\n",
    "data['SSD']=data['Memory1'].apply(SSD)\n",
    "data['SSD'].value_counts()"
   ]
  },
  {
   "cell_type": "code",
   "execution_count": 355,
   "id": "3d0d1eed",
   "metadata": {},
   "outputs": [
    {
     "data": {
      "text/html": [
       "<div>\n",
       "<style scoped>\n",
       "    .dataframe tbody tr th:only-of-type {\n",
       "        vertical-align: middle;\n",
       "    }\n",
       "\n",
       "    .dataframe tbody tr th {\n",
       "        vertical-align: top;\n",
       "    }\n",
       "\n",
       "    .dataframe thead th {\n",
       "        text-align: right;\n",
       "    }\n",
       "</style>\n",
       "<table border=\"1\" class=\"dataframe\">\n",
       "  <thead>\n",
       "    <tr style=\"text-align: right;\">\n",
       "      <th></th>\n",
       "      <th>Company</th>\n",
       "      <th>TypeName</th>\n",
       "      <th>Inches</th>\n",
       "      <th>ScreenResolution</th>\n",
       "      <th>Cpu</th>\n",
       "      <th>Ram</th>\n",
       "      <th>Memory</th>\n",
       "      <th>Gpu</th>\n",
       "      <th>OpSys</th>\n",
       "      <th>Weight</th>\n",
       "      <th>Price_euros</th>\n",
       "      <th>Touchscreen</th>\n",
       "      <th>IPS</th>\n",
       "      <th>X_resol</th>\n",
       "      <th>Y_resol</th>\n",
       "      <th>Cpu_Processor</th>\n",
       "      <th>Gpu_brand</th>\n",
       "      <th>Op_sys</th>\n",
       "      <th>Memory1</th>\n",
       "      <th>SSD</th>\n",
       "    </tr>\n",
       "  </thead>\n",
       "  <tbody>\n",
       "    <tr>\n",
       "      <th>753</th>\n",
       "      <td>Lenovo</td>\n",
       "      <td>Ultrabook</td>\n",
       "      <td>14.0</td>\n",
       "      <td>Full HD 1920x1080</td>\n",
       "      <td>Intel Core i5 6200U 2.3GHz</td>\n",
       "      <td>4</td>\n",
       "      <td>180GB SSD</td>\n",
       "      <td>Intel HD Graphics 520</td>\n",
       "      <td>Windows 10</td>\n",
       "      <td>1.70</td>\n",
       "      <td>1096.0</td>\n",
       "      <td>0</td>\n",
       "      <td>0</td>\n",
       "      <td>1920</td>\n",
       "      <td>1080</td>\n",
       "      <td>Intel Core i5</td>\n",
       "      <td>Intel</td>\n",
       "      <td>Windows</td>\n",
       "      <td>[180GB SSD]</td>\n",
       "      <td>180</td>\n",
       "    </tr>\n",
       "    <tr>\n",
       "      <th>188</th>\n",
       "      <td>Acer</td>\n",
       "      <td>Ultrabook</td>\n",
       "      <td>13.3</td>\n",
       "      <td>IPS Panel Full HD 1920x1080</td>\n",
       "      <td>Intel Core i5 7Y54 1.2GHz</td>\n",
       "      <td>8</td>\n",
       "      <td>256GB SSD</td>\n",
       "      <td>Intel HD Graphics 615</td>\n",
       "      <td>Windows 10</td>\n",
       "      <td>1.12</td>\n",
       "      <td>989.0</td>\n",
       "      <td>0</td>\n",
       "      <td>1</td>\n",
       "      <td>1920</td>\n",
       "      <td>1080</td>\n",
       "      <td>Intel Core i5</td>\n",
       "      <td>Intel</td>\n",
       "      <td>Windows</td>\n",
       "      <td>[256GB SSD]</td>\n",
       "      <td>256</td>\n",
       "    </tr>\n",
       "  </tbody>\n",
       "</table>\n",
       "</div>"
      ],
      "text/plain": [
       "    Company   TypeName  Inches             ScreenResolution  \\\n",
       "753  Lenovo  Ultrabook    14.0            Full HD 1920x1080   \n",
       "188    Acer  Ultrabook    13.3  IPS Panel Full HD 1920x1080   \n",
       "\n",
       "                            Cpu  Ram     Memory                    Gpu  \\\n",
       "753  Intel Core i5 6200U 2.3GHz    4  180GB SSD  Intel HD Graphics 520   \n",
       "188   Intel Core i5 7Y54 1.2GHz    8  256GB SSD  Intel HD Graphics 615   \n",
       "\n",
       "          OpSys  Weight  Price_euros  Touchscreen  IPS  X_resol  Y_resol  \\\n",
       "753  Windows 10    1.70       1096.0            0    0     1920     1080   \n",
       "188  Windows 10    1.12        989.0            0    1     1920     1080   \n",
       "\n",
       "     Cpu_Processor Gpu_brand   Op_sys      Memory1  SSD  \n",
       "753  Intel Core i5     Intel  Windows  [180GB SSD]  180  \n",
       "188  Intel Core i5     Intel  Windows  [256GB SSD]  256  "
      ]
     },
     "execution_count": 355,
     "metadata": {},
     "output_type": "execute_result"
    }
   ],
   "source": [
    "data.sample(2)"
   ]
  },
  {
   "cell_type": "code",
   "execution_count": 356,
   "id": "ce2a134c",
   "metadata": {},
   "outputs": [],
   "source": [
    "# Similarly for HDD"
   ]
  },
  {
   "cell_type": "code",
   "execution_count": 357,
   "id": "19a2422f",
   "metadata": {},
   "outputs": [
    {
     "data": {
      "text/plain": [
       "0       726\n",
       "1000    409\n",
       "500     134\n",
       "2000     31\n",
       "32        1\n",
       "128       1\n",
       "Name: HDD, dtype: int64"
      ]
     },
     "execution_count": 357,
     "metadata": {},
     "output_type": "execute_result"
    }
   ],
   "source": [
    "def HDD(text):\n",
    "    l=len(text)\n",
    "    res=0\n",
    "    for i in text:\n",
    "        if 'HDD' in i:\n",
    "            res=i.strip()\n",
    "            if 'TB' in res:\n",
    "                res=res[:-6]\n",
    "                return int(float(res))*1000\n",
    "            else:\n",
    "                res=res[:-6]\n",
    "                return int(float(res))\n",
    "    return res\n",
    "data['HDD']=data['Memory1'].apply(HDD)\n",
    "data['HDD'].value_counts()"
   ]
  },
  {
   "cell_type": "code",
   "execution_count": 358,
   "id": "6a39c7c1",
   "metadata": {},
   "outputs": [],
   "source": [
    "# For Flash"
   ]
  },
  {
   "cell_type": "code",
   "execution_count": 359,
   "id": "c197cbc1",
   "metadata": {},
   "outputs": [
    {
     "data": {
      "text/plain": [
       "0      1228\n",
       "32       37\n",
       "64       16\n",
       "256       8\n",
       "16        7\n",
       "128       4\n",
       "512       2\n",
       "Name: Flash Storage, dtype: int64"
      ]
     },
     "execution_count": 359,
     "metadata": {},
     "output_type": "execute_result"
    }
   ],
   "source": [
    "def Flash(text):\n",
    "    l=len(text)\n",
    "    res=0\n",
    "    for i in text:\n",
    "        if 'Flash Storage' in i:\n",
    "            res=i.strip()\n",
    "            if 'TB' in res:\n",
    "                res=res[:-16]\n",
    "                return int(float(res))*1000\n",
    "            else:\n",
    "                res=res[:-16]\n",
    "                return int(float(res))\n",
    "    return res\n",
    "data['Flash Storage']=data['Memory1'].apply(Flash)\n",
    "data['Flash Storage'].value_counts()"
   ]
  },
  {
   "cell_type": "code",
   "execution_count": 360,
   "id": "5723cc66",
   "metadata": {},
   "outputs": [],
   "source": [
    "# For Hybrid"
   ]
  },
  {
   "cell_type": "code",
   "execution_count": 361,
   "id": "049d5266",
   "metadata": {},
   "outputs": [
    {
     "data": {
      "text/plain": [
       "0       1290\n",
       "1000      11\n",
       "508        1\n",
       "Name: Hybrid, dtype: int64"
      ]
     },
     "execution_count": 361,
     "metadata": {},
     "output_type": "execute_result"
    }
   ],
   "source": [
    "def Hybrid(text):\n",
    "    l=len(text)\n",
    "    res=0\n",
    "    for i in text:\n",
    "        if 'Hybrid' in i:\n",
    "            res=i.strip()\n",
    "            if 'TB' in res:\n",
    "                res=res[:-9]\n",
    "                return int(float(res))*1000\n",
    "            else:\n",
    "                res=res[:-9]\n",
    "                return int(float(res))\n",
    "    return res\n",
    "data['Hybrid']=data['Memory1'].apply(Hybrid)\n",
    "data['Hybrid'].value_counts()"
   ]
  },
  {
   "cell_type": "code",
   "execution_count": 362,
   "id": "f736c05f",
   "metadata": {},
   "outputs": [
    {
     "data": {
      "text/html": [
       "<div>\n",
       "<style scoped>\n",
       "    .dataframe tbody tr th:only-of-type {\n",
       "        vertical-align: middle;\n",
       "    }\n",
       "\n",
       "    .dataframe tbody tr th {\n",
       "        vertical-align: top;\n",
       "    }\n",
       "\n",
       "    .dataframe thead th {\n",
       "        text-align: right;\n",
       "    }\n",
       "</style>\n",
       "<table border=\"1\" class=\"dataframe\">\n",
       "  <thead>\n",
       "    <tr style=\"text-align: right;\">\n",
       "      <th></th>\n",
       "      <th>Company</th>\n",
       "      <th>TypeName</th>\n",
       "      <th>Inches</th>\n",
       "      <th>ScreenResolution</th>\n",
       "      <th>Cpu</th>\n",
       "      <th>Ram</th>\n",
       "      <th>Memory</th>\n",
       "      <th>Gpu</th>\n",
       "      <th>OpSys</th>\n",
       "      <th>Weight</th>\n",
       "      <th>Price_euros</th>\n",
       "      <th>Touchscreen</th>\n",
       "      <th>IPS</th>\n",
       "      <th>X_resol</th>\n",
       "      <th>Y_resol</th>\n",
       "      <th>Cpu_Processor</th>\n",
       "      <th>Gpu_brand</th>\n",
       "      <th>Op_sys</th>\n",
       "      <th>Memory1</th>\n",
       "      <th>SSD</th>\n",
       "      <th>HDD</th>\n",
       "      <th>Flash Storage</th>\n",
       "      <th>Hybrid</th>\n",
       "    </tr>\n",
       "  </thead>\n",
       "  <tbody>\n",
       "    <tr>\n",
       "      <th>151</th>\n",
       "      <td>Dell</td>\n",
       "      <td>Gaming</td>\n",
       "      <td>15.6</td>\n",
       "      <td>Full HD 1920x1080</td>\n",
       "      <td>Intel Core i7 7700HQ 2.8GHz</td>\n",
       "      <td>8</td>\n",
       "      <td>1.0TB Hybrid</td>\n",
       "      <td>Nvidia GeForce GTX 1050</td>\n",
       "      <td>Windows 10</td>\n",
       "      <td>2.62</td>\n",
       "      <td>899.00</td>\n",
       "      <td>0</td>\n",
       "      <td>0</td>\n",
       "      <td>1920</td>\n",
       "      <td>1080</td>\n",
       "      <td>Intel Core i7</td>\n",
       "      <td>Nvidia</td>\n",
       "      <td>Windows</td>\n",
       "      <td>[1.0TB Hybrid]</td>\n",
       "      <td>0</td>\n",
       "      <td>0</td>\n",
       "      <td>0</td>\n",
       "      <td>1000</td>\n",
       "    </tr>\n",
       "    <tr>\n",
       "      <th>1010</th>\n",
       "      <td>Dell</td>\n",
       "      <td>Gaming</td>\n",
       "      <td>15.6</td>\n",
       "      <td>Full HD 1920x1080</td>\n",
       "      <td>Intel Core i5 7300HQ 2.5GHz</td>\n",
       "      <td>8</td>\n",
       "      <td>1.0TB Hybrid</td>\n",
       "      <td>Nvidia GeForce GTX 1050</td>\n",
       "      <td>Windows 10</td>\n",
       "      <td>2.65</td>\n",
       "      <td>949.00</td>\n",
       "      <td>0</td>\n",
       "      <td>0</td>\n",
       "      <td>1920</td>\n",
       "      <td>1080</td>\n",
       "      <td>Intel Core i5</td>\n",
       "      <td>Nvidia</td>\n",
       "      <td>Windows</td>\n",
       "      <td>[1.0TB Hybrid]</td>\n",
       "      <td>0</td>\n",
       "      <td>0</td>\n",
       "      <td>0</td>\n",
       "      <td>1000</td>\n",
       "    </tr>\n",
       "    <tr>\n",
       "      <th>1135</th>\n",
       "      <td>Lenovo</td>\n",
       "      <td>Notebook</td>\n",
       "      <td>15.6</td>\n",
       "      <td>Full HD 1920x1080</td>\n",
       "      <td>Intel Core i7 6500U 2.5GHz</td>\n",
       "      <td>16</td>\n",
       "      <td>1.0TB Hybrid</td>\n",
       "      <td>AMD Radeon R7 M360</td>\n",
       "      <td>Windows 10</td>\n",
       "      <td>2.50</td>\n",
       "      <td>1099.00</td>\n",
       "      <td>0</td>\n",
       "      <td>0</td>\n",
       "      <td>1920</td>\n",
       "      <td>1080</td>\n",
       "      <td>Intel Core i7</td>\n",
       "      <td>AMD</td>\n",
       "      <td>Windows</td>\n",
       "      <td>[1.0TB Hybrid]</td>\n",
       "      <td>0</td>\n",
       "      <td>0</td>\n",
       "      <td>0</td>\n",
       "      <td>1000</td>\n",
       "    </tr>\n",
       "    <tr>\n",
       "      <th>1158</th>\n",
       "      <td>Lenovo</td>\n",
       "      <td>Notebook</td>\n",
       "      <td>15.6</td>\n",
       "      <td>Full HD 1920x1080</td>\n",
       "      <td>Intel Core i5 6200U 2.3GHz</td>\n",
       "      <td>8</td>\n",
       "      <td>1.0TB Hybrid</td>\n",
       "      <td>AMD Radeon R5 M330</td>\n",
       "      <td>Windows 10</td>\n",
       "      <td>2.50</td>\n",
       "      <td>788.49</td>\n",
       "      <td>0</td>\n",
       "      <td>0</td>\n",
       "      <td>1920</td>\n",
       "      <td>1080</td>\n",
       "      <td>Intel Core i5</td>\n",
       "      <td>AMD</td>\n",
       "      <td>Windows</td>\n",
       "      <td>[1.0TB Hybrid]</td>\n",
       "      <td>0</td>\n",
       "      <td>0</td>\n",
       "      <td>0</td>\n",
       "      <td>1000</td>\n",
       "    </tr>\n",
       "    <tr>\n",
       "      <th>1176</th>\n",
       "      <td>Lenovo</td>\n",
       "      <td>Notebook</td>\n",
       "      <td>15.6</td>\n",
       "      <td>Full HD 1920x1080</td>\n",
       "      <td>Intel Core i7 6500U 2.5GHz</td>\n",
       "      <td>4</td>\n",
       "      <td>1.0TB Hybrid</td>\n",
       "      <td>Intel HD Graphics 520</td>\n",
       "      <td>Windows 7</td>\n",
       "      <td>2.32</td>\n",
       "      <td>825.00</td>\n",
       "      <td>0</td>\n",
       "      <td>0</td>\n",
       "      <td>1920</td>\n",
       "      <td>1080</td>\n",
       "      <td>Intel Core i7</td>\n",
       "      <td>Intel</td>\n",
       "      <td>Windows</td>\n",
       "      <td>[1.0TB Hybrid]</td>\n",
       "      <td>0</td>\n",
       "      <td>0</td>\n",
       "      <td>0</td>\n",
       "      <td>1000</td>\n",
       "    </tr>\n",
       "    <tr>\n",
       "      <th>1258</th>\n",
       "      <td>Lenovo</td>\n",
       "      <td>Notebook</td>\n",
       "      <td>15.6</td>\n",
       "      <td>Full HD 1920x1080</td>\n",
       "      <td>Intel Core i7 6500U 2.5GHz</td>\n",
       "      <td>8</td>\n",
       "      <td>1.0TB Hybrid</td>\n",
       "      <td>AMD Radeon R5 M330</td>\n",
       "      <td>Windows 7</td>\n",
       "      <td>2.32</td>\n",
       "      <td>895.00</td>\n",
       "      <td>0</td>\n",
       "      <td>0</td>\n",
       "      <td>1920</td>\n",
       "      <td>1080</td>\n",
       "      <td>Intel Core i7</td>\n",
       "      <td>AMD</td>\n",
       "      <td>Windows</td>\n",
       "      <td>[1.0TB Hybrid]</td>\n",
       "      <td>0</td>\n",
       "      <td>0</td>\n",
       "      <td>0</td>\n",
       "      <td>1000</td>\n",
       "    </tr>\n",
       "    <tr>\n",
       "      <th>1266</th>\n",
       "      <td>HP</td>\n",
       "      <td>Notebook</td>\n",
       "      <td>15.6</td>\n",
       "      <td>Full HD 1920x1080</td>\n",
       "      <td>AMD A9-Series 9410 2.9GHz</td>\n",
       "      <td>6</td>\n",
       "      <td>1.0TB Hybrid</td>\n",
       "      <td>AMD Radeon R7 M440</td>\n",
       "      <td>Windows 10</td>\n",
       "      <td>2.04</td>\n",
       "      <td>549.99</td>\n",
       "      <td>0</td>\n",
       "      <td>0</td>\n",
       "      <td>1920</td>\n",
       "      <td>1080</td>\n",
       "      <td>AMD Processor</td>\n",
       "      <td>AMD</td>\n",
       "      <td>Windows</td>\n",
       "      <td>[1.0TB Hybrid]</td>\n",
       "      <td>0</td>\n",
       "      <td>0</td>\n",
       "      <td>0</td>\n",
       "      <td>1000</td>\n",
       "    </tr>\n",
       "    <tr>\n",
       "      <th>1280</th>\n",
       "      <td>HP</td>\n",
       "      <td>Notebook</td>\n",
       "      <td>15.6</td>\n",
       "      <td>Full HD 1920x1080</td>\n",
       "      <td>AMD A9-Series 9410 2.9GHz</td>\n",
       "      <td>6</td>\n",
       "      <td>1.0TB Hybrid</td>\n",
       "      <td>AMD Radeon R7 M440</td>\n",
       "      <td>Windows 10</td>\n",
       "      <td>2.04</td>\n",
       "      <td>549.99</td>\n",
       "      <td>0</td>\n",
       "      <td>0</td>\n",
       "      <td>1920</td>\n",
       "      <td>1080</td>\n",
       "      <td>AMD Processor</td>\n",
       "      <td>AMD</td>\n",
       "      <td>Windows</td>\n",
       "      <td>[1.0TB Hybrid]</td>\n",
       "      <td>0</td>\n",
       "      <td>0</td>\n",
       "      <td>0</td>\n",
       "      <td>1000</td>\n",
       "    </tr>\n",
       "    <tr>\n",
       "      <th>1294</th>\n",
       "      <td>HP</td>\n",
       "      <td>Notebook</td>\n",
       "      <td>15.6</td>\n",
       "      <td>Full HD 1920x1080</td>\n",
       "      <td>AMD A9-Series 9410 2.9GHz</td>\n",
       "      <td>6</td>\n",
       "      <td>1.0TB Hybrid</td>\n",
       "      <td>AMD Radeon R7 M440</td>\n",
       "      <td>Windows 10</td>\n",
       "      <td>2.04</td>\n",
       "      <td>549.99</td>\n",
       "      <td>0</td>\n",
       "      <td>0</td>\n",
       "      <td>1920</td>\n",
       "      <td>1080</td>\n",
       "      <td>AMD Processor</td>\n",
       "      <td>AMD</td>\n",
       "      <td>Windows</td>\n",
       "      <td>[1.0TB Hybrid]</td>\n",
       "      <td>0</td>\n",
       "      <td>0</td>\n",
       "      <td>0</td>\n",
       "      <td>1000</td>\n",
       "    </tr>\n",
       "  </tbody>\n",
       "</table>\n",
       "</div>"
      ],
      "text/plain": [
       "     Company  TypeName  Inches   ScreenResolution  \\\n",
       "151     Dell    Gaming    15.6  Full HD 1920x1080   \n",
       "1010    Dell    Gaming    15.6  Full HD 1920x1080   \n",
       "1135  Lenovo  Notebook    15.6  Full HD 1920x1080   \n",
       "1158  Lenovo  Notebook    15.6  Full HD 1920x1080   \n",
       "1176  Lenovo  Notebook    15.6  Full HD 1920x1080   \n",
       "1258  Lenovo  Notebook    15.6  Full HD 1920x1080   \n",
       "1266      HP  Notebook    15.6  Full HD 1920x1080   \n",
       "1280      HP  Notebook    15.6  Full HD 1920x1080   \n",
       "1294      HP  Notebook    15.6  Full HD 1920x1080   \n",
       "\n",
       "                              Cpu  Ram        Memory                      Gpu  \\\n",
       "151   Intel Core i7 7700HQ 2.8GHz    8  1.0TB Hybrid  Nvidia GeForce GTX 1050   \n",
       "1010  Intel Core i5 7300HQ 2.5GHz    8  1.0TB Hybrid  Nvidia GeForce GTX 1050   \n",
       "1135   Intel Core i7 6500U 2.5GHz   16  1.0TB Hybrid       AMD Radeon R7 M360   \n",
       "1158   Intel Core i5 6200U 2.3GHz    8  1.0TB Hybrid       AMD Radeon R5 M330   \n",
       "1176   Intel Core i7 6500U 2.5GHz    4  1.0TB Hybrid    Intel HD Graphics 520   \n",
       "1258   Intel Core i7 6500U 2.5GHz    8  1.0TB Hybrid       AMD Radeon R5 M330   \n",
       "1266    AMD A9-Series 9410 2.9GHz    6  1.0TB Hybrid       AMD Radeon R7 M440   \n",
       "1280    AMD A9-Series 9410 2.9GHz    6  1.0TB Hybrid       AMD Radeon R7 M440   \n",
       "1294    AMD A9-Series 9410 2.9GHz    6  1.0TB Hybrid       AMD Radeon R7 M440   \n",
       "\n",
       "           OpSys  Weight  Price_euros  Touchscreen  IPS  X_resol  Y_resol  \\\n",
       "151   Windows 10    2.62       899.00            0    0     1920     1080   \n",
       "1010  Windows 10    2.65       949.00            0    0     1920     1080   \n",
       "1135  Windows 10    2.50      1099.00            0    0     1920     1080   \n",
       "1158  Windows 10    2.50       788.49            0    0     1920     1080   \n",
       "1176   Windows 7    2.32       825.00            0    0     1920     1080   \n",
       "1258   Windows 7    2.32       895.00            0    0     1920     1080   \n",
       "1266  Windows 10    2.04       549.99            0    0     1920     1080   \n",
       "1280  Windows 10    2.04       549.99            0    0     1920     1080   \n",
       "1294  Windows 10    2.04       549.99            0    0     1920     1080   \n",
       "\n",
       "      Cpu_Processor Gpu_brand   Op_sys         Memory1  SSD  HDD  \\\n",
       "151   Intel Core i7    Nvidia  Windows  [1.0TB Hybrid]    0    0   \n",
       "1010  Intel Core i5    Nvidia  Windows  [1.0TB Hybrid]    0    0   \n",
       "1135  Intel Core i7       AMD  Windows  [1.0TB Hybrid]    0    0   \n",
       "1158  Intel Core i5       AMD  Windows  [1.0TB Hybrid]    0    0   \n",
       "1176  Intel Core i7     Intel  Windows  [1.0TB Hybrid]    0    0   \n",
       "1258  Intel Core i7       AMD  Windows  [1.0TB Hybrid]    0    0   \n",
       "1266  AMD Processor       AMD  Windows  [1.0TB Hybrid]    0    0   \n",
       "1280  AMD Processor       AMD  Windows  [1.0TB Hybrid]    0    0   \n",
       "1294  AMD Processor       AMD  Windows  [1.0TB Hybrid]    0    0   \n",
       "\n",
       "      Flash Storage  Hybrid  \n",
       "151               0    1000  \n",
       "1010              0    1000  \n",
       "1135              0    1000  \n",
       "1158              0    1000  \n",
       "1176              0    1000  \n",
       "1258              0    1000  \n",
       "1266              0    1000  \n",
       "1280              0    1000  \n",
       "1294              0    1000  "
      ]
     },
     "execution_count": 362,
     "metadata": {},
     "output_type": "execute_result"
    }
   ],
   "source": [
    "data[data['Memory'] =='1.0TB Hybrid']"
   ]
  },
  {
   "cell_type": "code",
   "execution_count": 363,
   "id": "a5405d98",
   "metadata": {},
   "outputs": [],
   "source": [
    "# 9 rows are containing the values with .0TB"
   ]
  },
  {
   "cell_type": "code",
   "execution_count": 364,
   "id": "014607af",
   "metadata": {},
   "outputs": [],
   "source": [
    "# Checking the collinearity with Dependent variable \n",
    "# If any shows less and we gonna drop it off"
   ]
  },
  {
   "cell_type": "code",
   "execution_count": 365,
   "id": "2fa07a4a",
   "metadata": {},
   "outputs": [
    {
     "data": {
      "text/plain": [
       "Inches           0.067329\n",
       "Ram              0.742905\n",
       "Weight           0.209867\n",
       "Price_euros      1.000000\n",
       "Touchscreen      0.192917\n",
       "IPS              0.253320\n",
       "X_resol          0.557369\n",
       "Y_resol          0.554591\n",
       "SSD              0.676066\n",
       "HDD             -0.096122\n",
       "Flash Storage   -0.040067\n",
       "Hybrid           0.007942\n",
       "Name: Price_euros, dtype: float64"
      ]
     },
     "execution_count": 365,
     "metadata": {},
     "output_type": "execute_result"
    }
   ],
   "source": [
    "data.corr()['Price_euros']"
   ]
  },
  {
   "cell_type": "markdown",
   "id": "0b86e23d",
   "metadata": {},
   "source": [
    "### There is strong correlation between the variables Ram and price ,SSD and price,PPI and price\n",
    "### There is weak correlation for the variables HDD,flash storage,Hybrid."
   ]
  },
  {
   "cell_type": "code",
   "execution_count": 366,
   "id": "8cd92a16",
   "metadata": {},
   "outputs": [],
   "source": [
    "# Dropping them off and Unecessary Features as well"
   ]
  },
  {
   "cell_type": "code",
   "execution_count": 367,
   "id": "b00ecd1c",
   "metadata": {},
   "outputs": [],
   "source": [
    "data.drop(['Flash Storage','Hybrid'],axis=1,inplace=True)"
   ]
  },
  {
   "cell_type": "code",
   "execution_count": 368,
   "id": "3986f62d",
   "metadata": {},
   "outputs": [],
   "source": [
    "data.drop(['Memory1','Memory'],axis=1,inplace=True)"
   ]
  },
  {
   "cell_type": "code",
   "execution_count": 369,
   "id": "c2a7c585",
   "metadata": {},
   "outputs": [],
   "source": [
    "data.drop(['HDD'],axis=1,inplace=True)"
   ]
  },
  {
   "cell_type": "code",
   "execution_count": 370,
   "id": "ff97e7cf",
   "metadata": {},
   "outputs": [
    {
     "data": {
      "text/html": [
       "<div>\n",
       "<style scoped>\n",
       "    .dataframe tbody tr th:only-of-type {\n",
       "        vertical-align: middle;\n",
       "    }\n",
       "\n",
       "    .dataframe tbody tr th {\n",
       "        vertical-align: top;\n",
       "    }\n",
       "\n",
       "    .dataframe thead th {\n",
       "        text-align: right;\n",
       "    }\n",
       "</style>\n",
       "<table border=\"1\" class=\"dataframe\">\n",
       "  <thead>\n",
       "    <tr style=\"text-align: right;\">\n",
       "      <th></th>\n",
       "      <th>Company</th>\n",
       "      <th>TypeName</th>\n",
       "      <th>Inches</th>\n",
       "      <th>ScreenResolution</th>\n",
       "      <th>Cpu</th>\n",
       "      <th>Ram</th>\n",
       "      <th>Gpu</th>\n",
       "      <th>OpSys</th>\n",
       "      <th>Weight</th>\n",
       "      <th>Price_euros</th>\n",
       "      <th>Touchscreen</th>\n",
       "      <th>IPS</th>\n",
       "      <th>X_resol</th>\n",
       "      <th>Y_resol</th>\n",
       "      <th>Cpu_Processor</th>\n",
       "      <th>Gpu_brand</th>\n",
       "      <th>Op_sys</th>\n",
       "      <th>SSD</th>\n",
       "    </tr>\n",
       "  </thead>\n",
       "  <tbody>\n",
       "    <tr>\n",
       "      <th>0</th>\n",
       "      <td>Apple</td>\n",
       "      <td>Ultrabook</td>\n",
       "      <td>13.3</td>\n",
       "      <td>IPS Panel Retina Display 2560x1600</td>\n",
       "      <td>Intel Core i5 2.3GHz</td>\n",
       "      <td>8</td>\n",
       "      <td>Intel Iris Plus Graphics 640</td>\n",
       "      <td>macOS</td>\n",
       "      <td>1.37</td>\n",
       "      <td>1339.69</td>\n",
       "      <td>0</td>\n",
       "      <td>1</td>\n",
       "      <td>2560</td>\n",
       "      <td>1600</td>\n",
       "      <td>Intel Core i5</td>\n",
       "      <td>Intel</td>\n",
       "      <td>Mac</td>\n",
       "      <td>128</td>\n",
       "    </tr>\n",
       "    <tr>\n",
       "      <th>1</th>\n",
       "      <td>Apple</td>\n",
       "      <td>Ultrabook</td>\n",
       "      <td>13.3</td>\n",
       "      <td>1440x900</td>\n",
       "      <td>Intel Core i5 1.8GHz</td>\n",
       "      <td>8</td>\n",
       "      <td>Intel HD Graphics 6000</td>\n",
       "      <td>macOS</td>\n",
       "      <td>1.34</td>\n",
       "      <td>898.94</td>\n",
       "      <td>0</td>\n",
       "      <td>0</td>\n",
       "      <td>1440</td>\n",
       "      <td>900</td>\n",
       "      <td>Intel Core i5</td>\n",
       "      <td>Intel</td>\n",
       "      <td>Mac</td>\n",
       "      <td>0</td>\n",
       "    </tr>\n",
       "    <tr>\n",
       "      <th>2</th>\n",
       "      <td>HP</td>\n",
       "      <td>Notebook</td>\n",
       "      <td>15.6</td>\n",
       "      <td>Full HD 1920x1080</td>\n",
       "      <td>Intel Core i5 7200U 2.5GHz</td>\n",
       "      <td>8</td>\n",
       "      <td>Intel HD Graphics 620</td>\n",
       "      <td>No OS</td>\n",
       "      <td>1.86</td>\n",
       "      <td>575.00</td>\n",
       "      <td>0</td>\n",
       "      <td>0</td>\n",
       "      <td>1920</td>\n",
       "      <td>1080</td>\n",
       "      <td>Intel Core i5</td>\n",
       "      <td>Intel</td>\n",
       "      <td>Others/No OS/Linux</td>\n",
       "      <td>256</td>\n",
       "    </tr>\n",
       "  </tbody>\n",
       "</table>\n",
       "</div>"
      ],
      "text/plain": [
       "  Company   TypeName  Inches                    ScreenResolution  \\\n",
       "0   Apple  Ultrabook    13.3  IPS Panel Retina Display 2560x1600   \n",
       "1   Apple  Ultrabook    13.3                            1440x900   \n",
       "2      HP   Notebook    15.6                   Full HD 1920x1080   \n",
       "\n",
       "                          Cpu  Ram                           Gpu  OpSys  \\\n",
       "0        Intel Core i5 2.3GHz    8  Intel Iris Plus Graphics 640  macOS   \n",
       "1        Intel Core i5 1.8GHz    8        Intel HD Graphics 6000  macOS   \n",
       "2  Intel Core i5 7200U 2.5GHz    8         Intel HD Graphics 620  No OS   \n",
       "\n",
       "   Weight  Price_euros  Touchscreen  IPS  X_resol  Y_resol  Cpu_Processor  \\\n",
       "0    1.37      1339.69            0    1     2560     1600  Intel Core i5   \n",
       "1    1.34       898.94            0    0     1440      900  Intel Core i5   \n",
       "2    1.86       575.00            0    0     1920     1080  Intel Core i5   \n",
       "\n",
       "  Gpu_brand              Op_sys  SSD  \n",
       "0     Intel                 Mac  128  \n",
       "1     Intel                 Mac    0  \n",
       "2     Intel  Others/No OS/Linux  256  "
      ]
     },
     "execution_count": 370,
     "metadata": {},
     "output_type": "execute_result"
    }
   ],
   "source": [
    "data.head(3)"
   ]
  },
  {
   "cell_type": "markdown",
   "id": "0714aa4e",
   "metadata": {},
   "source": [
    "# 11) Does the price vary with laptop size in Weight?"
   ]
  },
  {
   "cell_type": "code",
   "execution_count": 371,
   "id": "f414df7e",
   "metadata": {},
   "outputs": [
    {
     "data": {
      "image/png": "[encoded data removed]",
      "text/plain": [
       "<Figure size 576x504 with 1 Axes>"
      ]
     },
     "metadata": {},
     "output_type": "display_data"
    }
   ],
   "source": [
    "plt.figure(figsize=(8,7))\n",
    "sns.scatterplot(x=data.Weight,y=data.Price_euros);"
   ]
  },
  {
   "cell_type": "code",
   "execution_count": 372,
   "id": "79db17d0",
   "metadata": {},
   "outputs": [
    {
     "data": {
      "image/png": "[encoded data removed]",
      "text/plain": [
       "<Figure size 576x504 with 1 Axes>"
      ]
     },
     "metadata": {},
     "output_type": "display_data"
    }
   ],
   "source": [
    "plt.figure(figsize=(8,7))\n",
    "sns.distplot(data.Weight);"
   ]
  },
  {
   "cell_type": "code",
   "execution_count": 373,
   "id": "28210eb4",
   "metadata": {},
   "outputs": [],
   "source": [
    "# Observation\n",
    "# Most of the weights are concentrated between 1,2 and 2,3"
   ]
  },
  {
   "cell_type": "markdown",
   "id": "d9415c0f",
   "metadata": {},
   "source": [
    "# Replacing inches, X and Y resolution to PPI"
   ]
  },
  {
   "cell_type": "markdown",
   "id": "ae9d1414",
   "metadata": {},
   "source": [
    "X and Y-axis resolution have a very strong resolution so we can take advantage of it and convert these three columns to a single column that is known as Pixel per inches(PPI).\n",
    "In the end, our goal is to improve the performance by having fewer features."
   ]
  },
  {
   "cell_type": "code",
   "execution_count": 374,
   "id": "1c779e1c",
   "metadata": {},
   "outputs": [],
   "source": [
    "data['PPI']=((data['X_resol']**2) + (data['Y_resol']**2))**0.5/data['Inches']"
   ]
  },
  {
   "cell_type": "code",
   "execution_count": 375,
   "id": "622f73ac",
   "metadata": {},
   "outputs": [],
   "source": [
    "data['PPI']=data['PPI'].astype('float64')"
   ]
  },
  {
   "cell_type": "code",
   "execution_count": 376,
   "id": "329631c7",
   "metadata": {},
   "outputs": [
    {
     "data": {
      "text/plain": [
       "0       226.983005\n",
       "1       127.677940\n",
       "2       141.211998\n",
       "3       220.534624\n",
       "4       226.983005\n",
       "           ...    \n",
       "1298    157.350512\n",
       "1299    276.053530\n",
       "1300    111.935204\n",
       "1301    100.454670\n",
       "1302    100.454670\n",
       "Name: PPI, Length: 1302, dtype: float64"
      ]
     },
     "execution_count": 376,
     "metadata": {},
     "output_type": "execute_result"
    }
   ],
   "source": [
    "data['PPI']"
   ]
  },
  {
   "cell_type": "code",
   "execution_count": 377,
   "id": "e57a17ff",
   "metadata": {},
   "outputs": [],
   "source": [
    "data.drop(['Cpu','Gpu','OpSys'],axis=1,inplace=True)"
   ]
  },
  {
   "cell_type": "code",
   "execution_count": 378,
   "id": "2d7fddcf",
   "metadata": {},
   "outputs": [],
   "source": [
    "data.drop(['X_resol','Y_resol'],axis=1,inplace=True)"
   ]
  },
  {
   "cell_type": "code",
   "execution_count": 379,
   "id": "ef100680",
   "metadata": {},
   "outputs": [],
   "source": [
    "data.drop(['Inches'],axis=1,inplace=True)"
   ]
  },
  {
   "cell_type": "code",
   "execution_count": 380,
   "id": "99b61b1e",
   "metadata": {},
   "outputs": [
    {
     "data": {
      "text/html": [
       "<div>\n",
       "<style scoped>\n",
       "    .dataframe tbody tr th:only-of-type {\n",
       "        vertical-align: middle;\n",
       "    }\n",
       "\n",
       "    .dataframe tbody tr th {\n",
       "        vertical-align: top;\n",
       "    }\n",
       "\n",
       "    .dataframe thead th {\n",
       "        text-align: right;\n",
       "    }\n",
       "</style>\n",
       "<table border=\"1\" class=\"dataframe\">\n",
       "  <thead>\n",
       "    <tr style=\"text-align: right;\">\n",
       "      <th></th>\n",
       "      <th>Company</th>\n",
       "      <th>TypeName</th>\n",
       "      <th>ScreenResolution</th>\n",
       "      <th>Ram</th>\n",
       "      <th>Weight</th>\n",
       "      <th>Price_euros</th>\n",
       "      <th>Touchscreen</th>\n",
       "      <th>IPS</th>\n",
       "      <th>Cpu_Processor</th>\n",
       "      <th>Gpu_brand</th>\n",
       "      <th>Op_sys</th>\n",
       "      <th>SSD</th>\n",
       "      <th>PPI</th>\n",
       "    </tr>\n",
       "  </thead>\n",
       "  <tbody>\n",
       "    <tr>\n",
       "      <th>0</th>\n",
       "      <td>Apple</td>\n",
       "      <td>Ultrabook</td>\n",
       "      <td>IPS Panel Retina Display 2560x1600</td>\n",
       "      <td>8</td>\n",
       "      <td>1.37</td>\n",
       "      <td>1339.69</td>\n",
       "      <td>0</td>\n",
       "      <td>1</td>\n",
       "      <td>Intel Core i5</td>\n",
       "      <td>Intel</td>\n",
       "      <td>Mac</td>\n",
       "      <td>128</td>\n",
       "      <td>226.983005</td>\n",
       "    </tr>\n",
       "    <tr>\n",
       "      <th>1</th>\n",
       "      <td>Apple</td>\n",
       "      <td>Ultrabook</td>\n",
       "      <td>1440x900</td>\n",
       "      <td>8</td>\n",
       "      <td>1.34</td>\n",
       "      <td>898.94</td>\n",
       "      <td>0</td>\n",
       "      <td>0</td>\n",
       "      <td>Intel Core i5</td>\n",
       "      <td>Intel</td>\n",
       "      <td>Mac</td>\n",
       "      <td>0</td>\n",
       "      <td>127.677940</td>\n",
       "    </tr>\n",
       "    <tr>\n",
       "      <th>2</th>\n",
       "      <td>HP</td>\n",
       "      <td>Notebook</td>\n",
       "      <td>Full HD 1920x1080</td>\n",
       "      <td>8</td>\n",
       "      <td>1.86</td>\n",
       "      <td>575.00</td>\n",
       "      <td>0</td>\n",
       "      <td>0</td>\n",
       "      <td>Intel Core i5</td>\n",
       "      <td>Intel</td>\n",
       "      <td>Others/No OS/Linux</td>\n",
       "      <td>256</td>\n",
       "      <td>141.211998</td>\n",
       "    </tr>\n",
       "  </tbody>\n",
       "</table>\n",
       "</div>"
      ],
      "text/plain": [
       "  Company   TypeName                    ScreenResolution  Ram  Weight  \\\n",
       "0   Apple  Ultrabook  IPS Panel Retina Display 2560x1600    8    1.37   \n",
       "1   Apple  Ultrabook                            1440x900    8    1.34   \n",
       "2      HP   Notebook                   Full HD 1920x1080    8    1.86   \n",
       "\n",
       "   Price_euros  Touchscreen  IPS  Cpu_Processor Gpu_brand              Op_sys  \\\n",
       "0      1339.69            0    1  Intel Core i5     Intel                 Mac   \n",
       "1       898.94            0    0  Intel Core i5     Intel                 Mac   \n",
       "2       575.00            0    0  Intel Core i5     Intel  Others/No OS/Linux   \n",
       "\n",
       "   SSD         PPI  \n",
       "0  128  226.983005  \n",
       "1    0  127.677940  \n",
       "2  256  141.211998  "
      ]
     },
     "execution_count": 380,
     "metadata": {},
     "output_type": "execute_result"
    }
   ],
   "source": [
    "data.head(3)"
   ]
  },
  {
   "cell_type": "markdown",
   "id": "bac63c86",
   "metadata": {},
   "source": [
    "# Corelation Matrix between Variables"
   ]
  },
  {
   "cell_type": "code",
   "execution_count": 381,
   "id": "9479db64",
   "metadata": {},
   "outputs": [
    {
     "data": {
      "image/png": "[encoded data removed]",
      "text/plain": [
       "<Figure size 792x360 with 2 Axes>"
      ]
     },
     "metadata": {},
     "output_type": "display_data"
    }
   ],
   "source": [
    "corr=data.corr()\n",
    "plt.figure(figsize=(11,5))\n",
    "sns.heatmap(corr,xticklabels=corr.columns,yticklabels=corr.columns,annot=True,cmap=sns.diverging_palette(250, 15, s=75, l=40,n=9, center=\"dark\"));\n",
    "plt.show()"
   ]
  },
  {
   "cell_type": "code",
   "execution_count": 382,
   "id": "45c6835c",
   "metadata": {},
   "outputs": [],
   "source": [
    "# Observation\n",
    "# Ram and SSD has higher collinearity with Price\n",
    "# HDD and Touchscreen has weak collinearity, So these can be droppped from modelling"
   ]
  },
  {
   "cell_type": "markdown",
   "id": "eea41a59",
   "metadata": {},
   "source": [
    "# Distribution of Dependent variable"
   ]
  },
  {
   "cell_type": "code",
   "execution_count": 383,
   "id": "62f3a70a",
   "metadata": {},
   "outputs": [
    {
     "data": {
      "image/png": "[encoded data removed]",
      "text/plain": [
       "<Figure size 432x288 with 1 Axes>"
      ]
     },
     "metadata": {},
     "output_type": "display_data"
    }
   ],
   "source": [
    "sns.histplot(data.Price_euros,kde=True, stat=\"density\", linewidth=0);"
   ]
  },
  {
   "cell_type": "markdown",
   "id": "44055e42",
   "metadata": {},
   "source": [
    "It is Right-Skewed\n",
    "Log-Normal Transformation\n",
    "The distribution of the target variable above which was right-skewed. By transforming it to normal distribution performance of the algorithm will increase.This can be done by taking the log of values that transform to the normal distribution So while separating dependent and independent variables we will take a log of price, and in displaying the result perform exponent of it."
   ]
  },
  {
   "cell_type": "code",
   "execution_count": 384,
   "id": "5e00e19e",
   "metadata": {},
   "outputs": [
    {
     "data": {
      "image/png": "[encoded data removed]",
      "text/plain": [
       "<Figure size 432x288 with 1 Axes>"
      ]
     },
     "metadata": {},
     "output_type": "display_data"
    }
   ],
   "source": [
    "sns.distplot(np.log(data['Price_euros']))\n",
    "plt.show()"
   ]
  },
  {
   "cell_type": "code",
   "execution_count": 385,
   "id": "3fd603e4",
   "metadata": {},
   "outputs": [],
   "source": [
    "data_modified=data"
   ]
  },
  {
   "cell_type": "code",
   "execution_count": 386,
   "id": "c61561f3",
   "metadata": {},
   "outputs": [
    {
     "data": {
      "text/plain": [
       "Intel     722\n",
       "Nvidia    400\n",
       "AMD       180\n",
       "Name: Gpu_brand, dtype: int64"
      ]
     },
     "execution_count": 386,
     "metadata": {},
     "output_type": "execute_result"
    }
   ],
   "source": [
    "data_modified.Gpu_brand.value_counts()"
   ]
  },
  {
   "cell_type": "code",
   "execution_count": 387,
   "id": "a85b17ff",
   "metadata": {},
   "outputs": [],
   "source": [
    "data_modified.drop('ScreenResolution',axis=1,inplace=True)"
   ]
  },
  {
   "cell_type": "code",
   "execution_count": 388,
   "id": "bda3ac6f",
   "metadata": {
    "scrolled": false
   },
   "outputs": [
    {
     "data": {
      "text/html": [
       "<div>\n",
       "<style scoped>\n",
       "    .dataframe tbody tr th:only-of-type {\n",
       "        vertical-align: middle;\n",
       "    }\n",
       "\n",
       "    .dataframe tbody tr th {\n",
       "        vertical-align: top;\n",
       "    }\n",
       "\n",
       "    .dataframe thead th {\n",
       "        text-align: right;\n",
       "    }\n",
       "</style>\n",
       "<table border=\"1\" class=\"dataframe\">\n",
       "  <thead>\n",
       "    <tr style=\"text-align: right;\">\n",
       "      <th></th>\n",
       "      <th>Company</th>\n",
       "      <th>TypeName</th>\n",
       "      <th>Ram</th>\n",
       "      <th>Weight</th>\n",
       "      <th>Price_euros</th>\n",
       "      <th>Touchscreen</th>\n",
       "      <th>IPS</th>\n",
       "      <th>Cpu_Processor</th>\n",
       "      <th>Gpu_brand</th>\n",
       "      <th>Op_sys</th>\n",
       "      <th>SSD</th>\n",
       "      <th>PPI</th>\n",
       "    </tr>\n",
       "  </thead>\n",
       "  <tbody>\n",
       "    <tr>\n",
       "      <th>0</th>\n",
       "      <td>Apple</td>\n",
       "      <td>Ultrabook</td>\n",
       "      <td>8</td>\n",
       "      <td>1.37</td>\n",
       "      <td>1339.69</td>\n",
       "      <td>0</td>\n",
       "      <td>1</td>\n",
       "      <td>Intel Core i5</td>\n",
       "      <td>Intel</td>\n",
       "      <td>Mac</td>\n",
       "      <td>128</td>\n",
       "      <td>226.983005</td>\n",
       "    </tr>\n",
       "    <tr>\n",
       "      <th>1</th>\n",
       "      <td>Apple</td>\n",
       "      <td>Ultrabook</td>\n",
       "      <td>8</td>\n",
       "      <td>1.34</td>\n",
       "      <td>898.94</td>\n",
       "      <td>0</td>\n",
       "      <td>0</td>\n",
       "      <td>Intel Core i5</td>\n",
       "      <td>Intel</td>\n",
       "      <td>Mac</td>\n",
       "      <td>0</td>\n",
       "      <td>127.677940</td>\n",
       "    </tr>\n",
       "    <tr>\n",
       "      <th>2</th>\n",
       "      <td>HP</td>\n",
       "      <td>Notebook</td>\n",
       "      <td>8</td>\n",
       "      <td>1.86</td>\n",
       "      <td>575.00</td>\n",
       "      <td>0</td>\n",
       "      <td>0</td>\n",
       "      <td>Intel Core i5</td>\n",
       "      <td>Intel</td>\n",
       "      <td>Others/No OS/Linux</td>\n",
       "      <td>256</td>\n",
       "      <td>141.211998</td>\n",
       "    </tr>\n",
       "  </tbody>\n",
       "</table>\n",
       "</div>"
      ],
      "text/plain": [
       "  Company   TypeName  Ram  Weight  Price_euros  Touchscreen  IPS  \\\n",
       "0   Apple  Ultrabook    8    1.37      1339.69            0    1   \n",
       "1   Apple  Ultrabook    8    1.34       898.94            0    0   \n",
       "2      HP   Notebook    8    1.86       575.00            0    0   \n",
       "\n",
       "   Cpu_Processor Gpu_brand              Op_sys  SSD         PPI  \n",
       "0  Intel Core i5     Intel                 Mac  128  226.983005  \n",
       "1  Intel Core i5     Intel                 Mac    0  127.677940  \n",
       "2  Intel Core i5     Intel  Others/No OS/Linux  256  141.211998  "
      ]
     },
     "execution_count": 388,
     "metadata": {},
     "output_type": "execute_result"
    }
   ],
   "source": [
    "data_modified.head(3)"
   ]
  },
  {
   "cell_type": "code",
   "execution_count": 389,
   "id": "f1137566",
   "metadata": {},
   "outputs": [
    {
     "data": {
      "text/plain": [
       "Ram            0.742905\n",
       "Weight         0.209867\n",
       "Price_euros    1.000000\n",
       "Touchscreen    0.192917\n",
       "IPS            0.253320\n",
       "SSD            0.676066\n",
       "PPI            0.475368\n",
       "Name: Price_euros, dtype: float64"
      ]
     },
     "execution_count": 389,
     "metadata": {},
     "output_type": "execute_result"
    }
   ],
   "source": [
    "data_modified.corr().Price_euros"
   ]
  },
  {
   "cell_type": "markdown",
   "id": "832939ab",
   "metadata": {},
   "source": [
    "# Encoding Categorical variable with pandas get_dummies method"
   ]
  },
  {
   "cell_type": "code",
   "execution_count": 390,
   "id": "6e028dac",
   "metadata": {},
   "outputs": [
    {
     "data": {
      "text/plain": [
       "['Company', 'TypeName', 'Cpu_Processor', 'Gpu_brand', 'Op_sys']"
      ]
     },
     "execution_count": 390,
     "metadata": {},
     "output_type": "execute_result"
    }
   ],
   "source": [
    "obj_cols = list(data_modified.select_dtypes(include='object').columns)\n",
    "obj_cols"
   ]
  },
  {
   "cell_type": "code",
   "execution_count": 391,
   "id": "704d4f62",
   "metadata": {},
   "outputs": [],
   "source": [
    "#-------Displaying all columns in a DataFrame-----\n",
    "pd.options.display.max_columns = None"
   ]
  },
  {
   "cell_type": "code",
   "execution_count": 392,
   "id": "48842be9",
   "metadata": {},
   "outputs": [
    {
     "data": {
      "text/html": [
       "<div>\n",
       "<style scoped>\n",
       "    .dataframe tbody tr th:only-of-type {\n",
       "        vertical-align: middle;\n",
       "    }\n",
       "\n",
       "    .dataframe tbody tr th {\n",
       "        vertical-align: top;\n",
       "    }\n",
       "\n",
       "    .dataframe thead th {\n",
       "        text-align: right;\n",
       "    }\n",
       "</style>\n",
       "<table border=\"1\" class=\"dataframe\">\n",
       "  <thead>\n",
       "    <tr style=\"text-align: right;\">\n",
       "      <th></th>\n",
       "      <th>Ram</th>\n",
       "      <th>Weight</th>\n",
       "      <th>Price_euros</th>\n",
       "      <th>Touchscreen</th>\n",
       "      <th>IPS</th>\n",
       "      <th>SSD</th>\n",
       "      <th>PPI</th>\n",
       "      <th>Company_Acer</th>\n",
       "      <th>Company_Apple</th>\n",
       "      <th>Company_Asus</th>\n",
       "      <th>Company_Chuwi</th>\n",
       "      <th>Company_Dell</th>\n",
       "      <th>Company_Fujitsu</th>\n",
       "      <th>Company_Google</th>\n",
       "      <th>Company_HP</th>\n",
       "      <th>Company_Huawei</th>\n",
       "      <th>Company_LG</th>\n",
       "      <th>Company_Lenovo</th>\n",
       "      <th>Company_MSI</th>\n",
       "      <th>Company_Mediacom</th>\n",
       "      <th>Company_Microsoft</th>\n",
       "      <th>Company_Razer</th>\n",
       "      <th>Company_Samsung</th>\n",
       "      <th>Company_Toshiba</th>\n",
       "      <th>Company_Vero</th>\n",
       "      <th>Company_Xiaomi</th>\n",
       "      <th>TypeName_2 in 1 Convertible</th>\n",
       "      <th>TypeName_Gaming</th>\n",
       "      <th>TypeName_Netbook</th>\n",
       "      <th>TypeName_Notebook</th>\n",
       "      <th>TypeName_Ultrabook</th>\n",
       "      <th>TypeName_Workstation</th>\n",
       "      <th>Cpu_Processor_AMD Processor</th>\n",
       "      <th>Cpu_Processor_Intel Core i3</th>\n",
       "      <th>Cpu_Processor_Intel Core i5</th>\n",
       "      <th>Cpu_Processor_Intel Core i7</th>\n",
       "      <th>Cpu_Processor_Other Intel Processor</th>\n",
       "      <th>Gpu_brand_AMD</th>\n",
       "      <th>Gpu_brand_Intel</th>\n",
       "      <th>Gpu_brand_Nvidia</th>\n",
       "      <th>Op_sys_Mac</th>\n",
       "      <th>Op_sys_Others/No OS/Linux</th>\n",
       "      <th>Op_sys_Windows</th>\n",
       "    </tr>\n",
       "  </thead>\n",
       "  <tbody>\n",
       "    <tr>\n",
       "      <th>0</th>\n",
       "      <td>8</td>\n",
       "      <td>1.37</td>\n",
       "      <td>1339.69</td>\n",
       "      <td>0</td>\n",
       "      <td>1</td>\n",
       "      <td>128</td>\n",
       "      <td>226.983005</td>\n",
       "      <td>0</td>\n",
       "      <td>1</td>\n",
       "      <td>0</td>\n",
       "      <td>0</td>\n",
       "      <td>0</td>\n",
       "      <td>0</td>\n",
       "      <td>0</td>\n",
       "      <td>0</td>\n",
       "      <td>0</td>\n",
       "      <td>0</td>\n",
       "      <td>0</td>\n",
       "      <td>0</td>\n",
       "      <td>0</td>\n",
       "      <td>0</td>\n",
       "      <td>0</td>\n",
       "      <td>0</td>\n",
       "      <td>0</td>\n",
       "      <td>0</td>\n",
       "      <td>0</td>\n",
       "      <td>0</td>\n",
       "      <td>0</td>\n",
       "      <td>0</td>\n",
       "      <td>0</td>\n",
       "      <td>1</td>\n",
       "      <td>0</td>\n",
       "      <td>0</td>\n",
       "      <td>0</td>\n",
       "      <td>1</td>\n",
       "      <td>0</td>\n",
       "      <td>0</td>\n",
       "      <td>0</td>\n",
       "      <td>1</td>\n",
       "      <td>0</td>\n",
       "      <td>1</td>\n",
       "      <td>0</td>\n",
       "      <td>0</td>\n",
       "    </tr>\n",
       "    <tr>\n",
       "      <th>1</th>\n",
       "      <td>8</td>\n",
       "      <td>1.34</td>\n",
       "      <td>898.94</td>\n",
       "      <td>0</td>\n",
       "      <td>0</td>\n",
       "      <td>0</td>\n",
       "      <td>127.677940</td>\n",
       "      <td>0</td>\n",
       "      <td>1</td>\n",
       "      <td>0</td>\n",
       "      <td>0</td>\n",
       "      <td>0</td>\n",
       "      <td>0</td>\n",
       "      <td>0</td>\n",
       "      <td>0</td>\n",
       "      <td>0</td>\n",
       "      <td>0</td>\n",
       "      <td>0</td>\n",
       "      <td>0</td>\n",
       "      <td>0</td>\n",
       "      <td>0</td>\n",
       "      <td>0</td>\n",
       "      <td>0</td>\n",
       "      <td>0</td>\n",
       "      <td>0</td>\n",
       "      <td>0</td>\n",
       "      <td>0</td>\n",
       "      <td>0</td>\n",
       "      <td>0</td>\n",
       "      <td>0</td>\n",
       "      <td>1</td>\n",
       "      <td>0</td>\n",
       "      <td>0</td>\n",
       "      <td>0</td>\n",
       "      <td>1</td>\n",
       "      <td>0</td>\n",
       "      <td>0</td>\n",
       "      <td>0</td>\n",
       "      <td>1</td>\n",
       "      <td>0</td>\n",
       "      <td>1</td>\n",
       "      <td>0</td>\n",
       "      <td>0</td>\n",
       "    </tr>\n",
       "    <tr>\n",
       "      <th>2</th>\n",
       "      <td>8</td>\n",
       "      <td>1.86</td>\n",
       "      <td>575.00</td>\n",
       "      <td>0</td>\n",
       "      <td>0</td>\n",
       "      <td>256</td>\n",
       "      <td>141.211998</td>\n",
       "      <td>0</td>\n",
       "      <td>0</td>\n",
       "      <td>0</td>\n",
       "      <td>0</td>\n",
       "      <td>0</td>\n",
       "      <td>0</td>\n",
       "      <td>0</td>\n",
       "      <td>1</td>\n",
       "      <td>0</td>\n",
       "      <td>0</td>\n",
       "      <td>0</td>\n",
       "      <td>0</td>\n",
       "      <td>0</td>\n",
       "      <td>0</td>\n",
       "      <td>0</td>\n",
       "      <td>0</td>\n",
       "      <td>0</td>\n",
       "      <td>0</td>\n",
       "      <td>0</td>\n",
       "      <td>0</td>\n",
       "      <td>0</td>\n",
       "      <td>0</td>\n",
       "      <td>1</td>\n",
       "      <td>0</td>\n",
       "      <td>0</td>\n",
       "      <td>0</td>\n",
       "      <td>0</td>\n",
       "      <td>1</td>\n",
       "      <td>0</td>\n",
       "      <td>0</td>\n",
       "      <td>0</td>\n",
       "      <td>1</td>\n",
       "      <td>0</td>\n",
       "      <td>0</td>\n",
       "      <td>1</td>\n",
       "      <td>0</td>\n",
       "    </tr>\n",
       "    <tr>\n",
       "      <th>3</th>\n",
       "      <td>16</td>\n",
       "      <td>1.83</td>\n",
       "      <td>2537.45</td>\n",
       "      <td>0</td>\n",
       "      <td>1</td>\n",
       "      <td>512</td>\n",
       "      <td>220.534624</td>\n",
       "      <td>0</td>\n",
       "      <td>1</td>\n",
       "      <td>0</td>\n",
       "      <td>0</td>\n",
       "      <td>0</td>\n",
       "      <td>0</td>\n",
       "      <td>0</td>\n",
       "      <td>0</td>\n",
       "      <td>0</td>\n",
       "      <td>0</td>\n",
       "      <td>0</td>\n",
       "      <td>0</td>\n",
       "      <td>0</td>\n",
       "      <td>0</td>\n",
       "      <td>0</td>\n",
       "      <td>0</td>\n",
       "      <td>0</td>\n",
       "      <td>0</td>\n",
       "      <td>0</td>\n",
       "      <td>0</td>\n",
       "      <td>0</td>\n",
       "      <td>0</td>\n",
       "      <td>0</td>\n",
       "      <td>1</td>\n",
       "      <td>0</td>\n",
       "      <td>0</td>\n",
       "      <td>0</td>\n",
       "      <td>0</td>\n",
       "      <td>1</td>\n",
       "      <td>0</td>\n",
       "      <td>1</td>\n",
       "      <td>0</td>\n",
       "      <td>0</td>\n",
       "      <td>1</td>\n",
       "      <td>0</td>\n",
       "      <td>0</td>\n",
       "    </tr>\n",
       "    <tr>\n",
       "      <th>4</th>\n",
       "      <td>8</td>\n",
       "      <td>1.37</td>\n",
       "      <td>1803.60</td>\n",
       "      <td>0</td>\n",
       "      <td>1</td>\n",
       "      <td>256</td>\n",
       "      <td>226.983005</td>\n",
       "      <td>0</td>\n",
       "      <td>1</td>\n",
       "      <td>0</td>\n",
       "      <td>0</td>\n",
       "      <td>0</td>\n",
       "      <td>0</td>\n",
       "      <td>0</td>\n",
       "      <td>0</td>\n",
       "      <td>0</td>\n",
       "      <td>0</td>\n",
       "      <td>0</td>\n",
       "      <td>0</td>\n",
       "      <td>0</td>\n",
       "      <td>0</td>\n",
       "      <td>0</td>\n",
       "      <td>0</td>\n",
       "      <td>0</td>\n",
       "      <td>0</td>\n",
       "      <td>0</td>\n",
       "      <td>0</td>\n",
       "      <td>0</td>\n",
       "      <td>0</td>\n",
       "      <td>0</td>\n",
       "      <td>1</td>\n",
       "      <td>0</td>\n",
       "      <td>0</td>\n",
       "      <td>0</td>\n",
       "      <td>1</td>\n",
       "      <td>0</td>\n",
       "      <td>0</td>\n",
       "      <td>0</td>\n",
       "      <td>1</td>\n",
       "      <td>0</td>\n",
       "      <td>1</td>\n",
       "      <td>0</td>\n",
       "      <td>0</td>\n",
       "    </tr>\n",
       "    <tr>\n",
       "      <th>...</th>\n",
       "      <td>...</td>\n",
       "      <td>...</td>\n",
       "      <td>...</td>\n",
       "      <td>...</td>\n",
       "      <td>...</td>\n",
       "      <td>...</td>\n",
       "      <td>...</td>\n",
       "      <td>...</td>\n",
       "      <td>...</td>\n",
       "      <td>...</td>\n",
       "      <td>...</td>\n",
       "      <td>...</td>\n",
       "      <td>...</td>\n",
       "      <td>...</td>\n",
       "      <td>...</td>\n",
       "      <td>...</td>\n",
       "      <td>...</td>\n",
       "      <td>...</td>\n",
       "      <td>...</td>\n",
       "      <td>...</td>\n",
       "      <td>...</td>\n",
       "      <td>...</td>\n",
       "      <td>...</td>\n",
       "      <td>...</td>\n",
       "      <td>...</td>\n",
       "      <td>...</td>\n",
       "      <td>...</td>\n",
       "      <td>...</td>\n",
       "      <td>...</td>\n",
       "      <td>...</td>\n",
       "      <td>...</td>\n",
       "      <td>...</td>\n",
       "      <td>...</td>\n",
       "      <td>...</td>\n",
       "      <td>...</td>\n",
       "      <td>...</td>\n",
       "      <td>...</td>\n",
       "      <td>...</td>\n",
       "      <td>...</td>\n",
       "      <td>...</td>\n",
       "      <td>...</td>\n",
       "      <td>...</td>\n",
       "      <td>...</td>\n",
       "    </tr>\n",
       "    <tr>\n",
       "      <th>1298</th>\n",
       "      <td>4</td>\n",
       "      <td>1.80</td>\n",
       "      <td>638.00</td>\n",
       "      <td>1</td>\n",
       "      <td>1</td>\n",
       "      <td>128</td>\n",
       "      <td>157.350512</td>\n",
       "      <td>0</td>\n",
       "      <td>0</td>\n",
       "      <td>0</td>\n",
       "      <td>0</td>\n",
       "      <td>0</td>\n",
       "      <td>0</td>\n",
       "      <td>0</td>\n",
       "      <td>0</td>\n",
       "      <td>0</td>\n",
       "      <td>0</td>\n",
       "      <td>1</td>\n",
       "      <td>0</td>\n",
       "      <td>0</td>\n",
       "      <td>0</td>\n",
       "      <td>0</td>\n",
       "      <td>0</td>\n",
       "      <td>0</td>\n",
       "      <td>0</td>\n",
       "      <td>0</td>\n",
       "      <td>1</td>\n",
       "      <td>0</td>\n",
       "      <td>0</td>\n",
       "      <td>0</td>\n",
       "      <td>0</td>\n",
       "      <td>0</td>\n",
       "      <td>0</td>\n",
       "      <td>0</td>\n",
       "      <td>0</td>\n",
       "      <td>1</td>\n",
       "      <td>0</td>\n",
       "      <td>0</td>\n",
       "      <td>1</td>\n",
       "      <td>0</td>\n",
       "      <td>0</td>\n",
       "      <td>0</td>\n",
       "      <td>1</td>\n",
       "    </tr>\n",
       "    <tr>\n",
       "      <th>1299</th>\n",
       "      <td>16</td>\n",
       "      <td>1.30</td>\n",
       "      <td>1499.00</td>\n",
       "      <td>1</td>\n",
       "      <td>1</td>\n",
       "      <td>512</td>\n",
       "      <td>276.053530</td>\n",
       "      <td>0</td>\n",
       "      <td>0</td>\n",
       "      <td>0</td>\n",
       "      <td>0</td>\n",
       "      <td>0</td>\n",
       "      <td>0</td>\n",
       "      <td>0</td>\n",
       "      <td>0</td>\n",
       "      <td>0</td>\n",
       "      <td>0</td>\n",
       "      <td>1</td>\n",
       "      <td>0</td>\n",
       "      <td>0</td>\n",
       "      <td>0</td>\n",
       "      <td>0</td>\n",
       "      <td>0</td>\n",
       "      <td>0</td>\n",
       "      <td>0</td>\n",
       "      <td>0</td>\n",
       "      <td>1</td>\n",
       "      <td>0</td>\n",
       "      <td>0</td>\n",
       "      <td>0</td>\n",
       "      <td>0</td>\n",
       "      <td>0</td>\n",
       "      <td>0</td>\n",
       "      <td>0</td>\n",
       "      <td>0</td>\n",
       "      <td>1</td>\n",
       "      <td>0</td>\n",
       "      <td>0</td>\n",
       "      <td>1</td>\n",
       "      <td>0</td>\n",
       "      <td>0</td>\n",
       "      <td>0</td>\n",
       "      <td>1</td>\n",
       "    </tr>\n",
       "    <tr>\n",
       "      <th>1300</th>\n",
       "      <td>2</td>\n",
       "      <td>1.50</td>\n",
       "      <td>229.00</td>\n",
       "      <td>0</td>\n",
       "      <td>0</td>\n",
       "      <td>0</td>\n",
       "      <td>111.935204</td>\n",
       "      <td>0</td>\n",
       "      <td>0</td>\n",
       "      <td>0</td>\n",
       "      <td>0</td>\n",
       "      <td>0</td>\n",
       "      <td>0</td>\n",
       "      <td>0</td>\n",
       "      <td>0</td>\n",
       "      <td>0</td>\n",
       "      <td>0</td>\n",
       "      <td>1</td>\n",
       "      <td>0</td>\n",
       "      <td>0</td>\n",
       "      <td>0</td>\n",
       "      <td>0</td>\n",
       "      <td>0</td>\n",
       "      <td>0</td>\n",
       "      <td>0</td>\n",
       "      <td>0</td>\n",
       "      <td>0</td>\n",
       "      <td>0</td>\n",
       "      <td>0</td>\n",
       "      <td>1</td>\n",
       "      <td>0</td>\n",
       "      <td>0</td>\n",
       "      <td>0</td>\n",
       "      <td>0</td>\n",
       "      <td>0</td>\n",
       "      <td>0</td>\n",
       "      <td>1</td>\n",
       "      <td>0</td>\n",
       "      <td>1</td>\n",
       "      <td>0</td>\n",
       "      <td>0</td>\n",
       "      <td>0</td>\n",
       "      <td>1</td>\n",
       "    </tr>\n",
       "    <tr>\n",
       "      <th>1301</th>\n",
       "      <td>6</td>\n",
       "      <td>2.19</td>\n",
       "      <td>764.00</td>\n",
       "      <td>0</td>\n",
       "      <td>0</td>\n",
       "      <td>0</td>\n",
       "      <td>100.454670</td>\n",
       "      <td>0</td>\n",
       "      <td>0</td>\n",
       "      <td>0</td>\n",
       "      <td>0</td>\n",
       "      <td>0</td>\n",
       "      <td>0</td>\n",
       "      <td>0</td>\n",
       "      <td>1</td>\n",
       "      <td>0</td>\n",
       "      <td>0</td>\n",
       "      <td>0</td>\n",
       "      <td>0</td>\n",
       "      <td>0</td>\n",
       "      <td>0</td>\n",
       "      <td>0</td>\n",
       "      <td>0</td>\n",
       "      <td>0</td>\n",
       "      <td>0</td>\n",
       "      <td>0</td>\n",
       "      <td>0</td>\n",
       "      <td>0</td>\n",
       "      <td>0</td>\n",
       "      <td>1</td>\n",
       "      <td>0</td>\n",
       "      <td>0</td>\n",
       "      <td>0</td>\n",
       "      <td>0</td>\n",
       "      <td>0</td>\n",
       "      <td>1</td>\n",
       "      <td>0</td>\n",
       "      <td>1</td>\n",
       "      <td>0</td>\n",
       "      <td>0</td>\n",
       "      <td>0</td>\n",
       "      <td>0</td>\n",
       "      <td>1</td>\n",
       "    </tr>\n",
       "    <tr>\n",
       "      <th>1302</th>\n",
       "      <td>4</td>\n",
       "      <td>2.20</td>\n",
       "      <td>369.00</td>\n",
       "      <td>0</td>\n",
       "      <td>0</td>\n",
       "      <td>0</td>\n",
       "      <td>100.454670</td>\n",
       "      <td>0</td>\n",
       "      <td>0</td>\n",
       "      <td>1</td>\n",
       "      <td>0</td>\n",
       "      <td>0</td>\n",
       "      <td>0</td>\n",
       "      <td>0</td>\n",
       "      <td>0</td>\n",
       "      <td>0</td>\n",
       "      <td>0</td>\n",
       "      <td>0</td>\n",
       "      <td>0</td>\n",
       "      <td>0</td>\n",
       "      <td>0</td>\n",
       "      <td>0</td>\n",
       "      <td>0</td>\n",
       "      <td>0</td>\n",
       "      <td>0</td>\n",
       "      <td>0</td>\n",
       "      <td>0</td>\n",
       "      <td>0</td>\n",
       "      <td>0</td>\n",
       "      <td>1</td>\n",
       "      <td>0</td>\n",
       "      <td>0</td>\n",
       "      <td>0</td>\n",
       "      <td>0</td>\n",
       "      <td>0</td>\n",
       "      <td>0</td>\n",
       "      <td>1</td>\n",
       "      <td>0</td>\n",
       "      <td>1</td>\n",
       "      <td>0</td>\n",
       "      <td>0</td>\n",
       "      <td>0</td>\n",
       "      <td>1</td>\n",
       "    </tr>\n",
       "  </tbody>\n",
       "</table>\n",
       "<p>1302 rows × 43 columns</p>\n",
       "</div>"
      ],
      "text/plain": [
       "      Ram  Weight  Price_euros  Touchscreen  IPS  SSD         PPI  \\\n",
       "0       8    1.37      1339.69            0    1  128  226.983005   \n",
       "1       8    1.34       898.94            0    0    0  127.677940   \n",
       "2       8    1.86       575.00            0    0  256  141.211998   \n",
       "3      16    1.83      2537.45            0    1  512  220.534624   \n",
       "4       8    1.37      1803.60            0    1  256  226.983005   \n",
       "...   ...     ...          ...          ...  ...  ...         ...   \n",
       "1298    4    1.80       638.00            1    1  128  157.350512   \n",
       "1299   16    1.30      1499.00            1    1  512  276.053530   \n",
       "1300    2    1.50       229.00            0    0    0  111.935204   \n",
       "1301    6    2.19       764.00            0    0    0  100.454670   \n",
       "1302    4    2.20       369.00            0    0    0  100.454670   \n",
       "\n",
       "      Company_Acer  Company_Apple  Company_Asus  Company_Chuwi  Company_Dell  \\\n",
       "0                0              1             0              0             0   \n",
       "1                0              1             0              0             0   \n",
       "2                0              0             0              0             0   \n",
       "3                0              1             0              0             0   \n",
       "4                0              1             0              0             0   \n",
       "...            ...            ...           ...            ...           ...   \n",
       "1298             0              0             0              0             0   \n",
       "1299             0              0             0              0             0   \n",
       "1300             0              0             0              0             0   \n",
       "1301             0              0             0              0             0   \n",
       "1302             0              0             1              0             0   \n",
       "\n",
       "      Company_Fujitsu  Company_Google  Company_HP  Company_Huawei  Company_LG  \\\n",
       "0                   0               0           0               0           0   \n",
       "1                   0               0           0               0           0   \n",
       "2                   0               0           1               0           0   \n",
       "3                   0               0           0               0           0   \n",
       "4                   0               0           0               0           0   \n",
       "...               ...             ...         ...             ...         ...   \n",
       "1298                0               0           0               0           0   \n",
       "1299                0               0           0               0           0   \n",
       "1300                0               0           0               0           0   \n",
       "1301                0               0           1               0           0   \n",
       "1302                0               0           0               0           0   \n",
       "\n",
       "      Company_Lenovo  Company_MSI  Company_Mediacom  Company_Microsoft  \\\n",
       "0                  0            0                 0                  0   \n",
       "1                  0            0                 0                  0   \n",
       "2                  0            0                 0                  0   \n",
       "3                  0            0                 0                  0   \n",
       "4                  0            0                 0                  0   \n",
       "...              ...          ...               ...                ...   \n",
       "1298               1            0                 0                  0   \n",
       "1299               1            0                 0                  0   \n",
       "1300               1            0                 0                  0   \n",
       "1301               0            0                 0                  0   \n",
       "1302               0            0                 0                  0   \n",
       "\n",
       "      Company_Razer  Company_Samsung  Company_Toshiba  Company_Vero  \\\n",
       "0                 0                0                0             0   \n",
       "1                 0                0                0             0   \n",
       "2                 0                0                0             0   \n",
       "3                 0                0                0             0   \n",
       "4                 0                0                0             0   \n",
       "...             ...              ...              ...           ...   \n",
       "1298              0                0                0             0   \n",
       "1299              0                0                0             0   \n",
       "1300              0                0                0             0   \n",
       "1301              0                0                0             0   \n",
       "1302              0                0                0             0   \n",
       "\n",
       "      Company_Xiaomi  TypeName_2 in 1 Convertible  TypeName_Gaming  \\\n",
       "0                  0                            0                0   \n",
       "1                  0                            0                0   \n",
       "2                  0                            0                0   \n",
       "3                  0                            0                0   \n",
       "4                  0                            0                0   \n",
       "...              ...                          ...              ...   \n",
       "1298               0                            1                0   \n",
       "1299               0                            1                0   \n",
       "1300               0                            0                0   \n",
       "1301               0                            0                0   \n",
       "1302               0                            0                0   \n",
       "\n",
       "      TypeName_Netbook  TypeName_Notebook  TypeName_Ultrabook  \\\n",
       "0                    0                  0                   1   \n",
       "1                    0                  0                   1   \n",
       "2                    0                  1                   0   \n",
       "3                    0                  0                   1   \n",
       "4                    0                  0                   1   \n",
       "...                ...                ...                 ...   \n",
       "1298                 0                  0                   0   \n",
       "1299                 0                  0                   0   \n",
       "1300                 0                  1                   0   \n",
       "1301                 0                  1                   0   \n",
       "1302                 0                  1                   0   \n",
       "\n",
       "      TypeName_Workstation  Cpu_Processor_AMD Processor  \\\n",
       "0                        0                            0   \n",
       "1                        0                            0   \n",
       "2                        0                            0   \n",
       "3                        0                            0   \n",
       "4                        0                            0   \n",
       "...                    ...                          ...   \n",
       "1298                     0                            0   \n",
       "1299                     0                            0   \n",
       "1300                     0                            0   \n",
       "1301                     0                            0   \n",
       "1302                     0                            0   \n",
       "\n",
       "      Cpu_Processor_Intel Core i3  Cpu_Processor_Intel Core i5  \\\n",
       "0                               0                            1   \n",
       "1                               0                            1   \n",
       "2                               0                            1   \n",
       "3                               0                            0   \n",
       "4                               0                            1   \n",
       "...                           ...                          ...   \n",
       "1298                            0                            0   \n",
       "1299                            0                            0   \n",
       "1300                            0                            0   \n",
       "1301                            0                            0   \n",
       "1302                            0                            0   \n",
       "\n",
       "      Cpu_Processor_Intel Core i7  Cpu_Processor_Other Intel Processor  \\\n",
       "0                               0                                    0   \n",
       "1                               0                                    0   \n",
       "2                               0                                    0   \n",
       "3                               1                                    0   \n",
       "4                               0                                    0   \n",
       "...                           ...                                  ...   \n",
       "1298                            1                                    0   \n",
       "1299                            1                                    0   \n",
       "1300                            0                                    1   \n",
       "1301                            1                                    0   \n",
       "1302                            0                                    1   \n",
       "\n",
       "      Gpu_brand_AMD  Gpu_brand_Intel  Gpu_brand_Nvidia  Op_sys_Mac  \\\n",
       "0                 0                1                 0           1   \n",
       "1                 0                1                 0           1   \n",
       "2                 0                1                 0           0   \n",
       "3                 1                0                 0           1   \n",
       "4                 0                1                 0           1   \n",
       "...             ...              ...               ...         ...   \n",
       "1298              0                1                 0           0   \n",
       "1299              0                1                 0           0   \n",
       "1300              0                1                 0           0   \n",
       "1301              1                0                 0           0   \n",
       "1302              0                1                 0           0   \n",
       "\n",
       "      Op_sys_Others/No OS/Linux  Op_sys_Windows  \n",
       "0                             0               0  \n",
       "1                             0               0  \n",
       "2                             1               0  \n",
       "3                             0               0  \n",
       "4                             0               0  \n",
       "...                         ...             ...  \n",
       "1298                          0               1  \n",
       "1299                          0               1  \n",
       "1300                          0               1  \n",
       "1301                          0               1  \n",
       "1302                          0               1  \n",
       "\n",
       "[1302 rows x 43 columns]"
      ]
     },
     "execution_count": 392,
     "metadata": {},
     "output_type": "execute_result"
    }
   ],
   "source": [
    "pd.get_dummies(data=data_modified,columns=obj_cols)"
   ]
  },
  {
   "cell_type": "code",
   "execution_count": 393,
   "id": "3a8c3bed",
   "metadata": {},
   "outputs": [
    {
     "data": {
      "text/plain": [
       "(1302, 43)"
      ]
     },
     "execution_count": 393,
     "metadata": {},
     "output_type": "execute_result"
    }
   ],
   "source": [
    "new_data = pd.get_dummies(data=data_modified,columns=obj_cols)\n",
    "new_data.shape"
   ]
  },
  {
   "cell_type": "code",
   "execution_count": 394,
   "id": "173eecb9",
   "metadata": {},
   "outputs": [
    {
     "name": "stdout",
     "output_type": "stream",
     "text": [
      "<class 'pandas.core.frame.DataFrame'>\n",
      "Int64Index: 1302 entries, 0 to 1302\n",
      "Data columns (total 43 columns):\n",
      " #   Column                               Non-Null Count  Dtype  \n",
      "---  ------                               --------------  -----  \n",
      " 0   Ram                                  1302 non-null   int32  \n",
      " 1   Weight                               1302 non-null   float32\n",
      " 2   Price_euros                          1302 non-null   float64\n",
      " 3   Touchscreen                          1302 non-null   int64  \n",
      " 4   IPS                                  1302 non-null   int64  \n",
      " 5   SSD                                  1302 non-null   int64  \n",
      " 6   PPI                                  1302 non-null   float64\n",
      " 7   Company_Acer                         1302 non-null   uint8  \n",
      " 8   Company_Apple                        1302 non-null   uint8  \n",
      " 9   Company_Asus                         1302 non-null   uint8  \n",
      " 10  Company_Chuwi                        1302 non-null   uint8  \n",
      " 11  Company_Dell                         1302 non-null   uint8  \n",
      " 12  Company_Fujitsu                      1302 non-null   uint8  \n",
      " 13  Company_Google                       1302 non-null   uint8  \n",
      " 14  Company_HP                           1302 non-null   uint8  \n",
      " 15  Company_Huawei                       1302 non-null   uint8  \n",
      " 16  Company_LG                           1302 non-null   uint8  \n",
      " 17  Company_Lenovo                       1302 non-null   uint8  \n",
      " 18  Company_MSI                          1302 non-null   uint8  \n",
      " 19  Company_Mediacom                     1302 non-null   uint8  \n",
      " 20  Company_Microsoft                    1302 non-null   uint8  \n",
      " 21  Company_Razer                        1302 non-null   uint8  \n",
      " 22  Company_Samsung                      1302 non-null   uint8  \n",
      " 23  Company_Toshiba                      1302 non-null   uint8  \n",
      " 24  Company_Vero                         1302 non-null   uint8  \n",
      " 25  Company_Xiaomi                       1302 non-null   uint8  \n",
      " 26  TypeName_2 in 1 Convertible          1302 non-null   uint8  \n",
      " 27  TypeName_Gaming                      1302 non-null   uint8  \n",
      " 28  TypeName_Netbook                     1302 non-null   uint8  \n",
      " 29  TypeName_Notebook                    1302 non-null   uint8  \n",
      " 30  TypeName_Ultrabook                   1302 non-null   uint8  \n",
      " 31  TypeName_Workstation                 1302 non-null   uint8  \n",
      " 32  Cpu_Processor_AMD Processor          1302 non-null   uint8  \n",
      " 33  Cpu_Processor_Intel Core i3          1302 non-null   uint8  \n",
      " 34  Cpu_Processor_Intel Core i5          1302 non-null   uint8  \n",
      " 35  Cpu_Processor_Intel Core i7          1302 non-null   uint8  \n",
      " 36  Cpu_Processor_Other Intel Processor  1302 non-null   uint8  \n",
      " 37  Gpu_brand_AMD                        1302 non-null   uint8  \n",
      " 38  Gpu_brand_Intel                      1302 non-null   uint8  \n",
      " 39  Gpu_brand_Nvidia                     1302 non-null   uint8  \n",
      " 40  Op_sys_Mac                           1302 non-null   uint8  \n",
      " 41  Op_sys_Others/No OS/Linux            1302 non-null   uint8  \n",
      " 42  Op_sys_Windows                       1302 non-null   uint8  \n",
      "dtypes: float32(1), float64(2), int32(1), int64(3), uint8(36)\n",
      "memory usage: 149.3 KB\n"
     ]
    }
   ],
   "source": [
    "new_data.info()"
   ]
  },
  {
   "cell_type": "code",
   "execution_count": 395,
   "id": "13ad05aa",
   "metadata": {},
   "outputs": [],
   "source": [
    "from sklearn.model_selection import train_test_split\n",
    "from sklearn.linear_model import LinearRegression\n",
    "from sklearn.metrics import r2_score,mean_absolute_error"
   ]
  },
  {
   "cell_type": "markdown",
   "id": "1ca0ae90",
   "metadata": {},
   "source": [
    "# Train_Test_Splitting"
   ]
  },
  {
   "cell_type": "code",
   "execution_count": 396,
   "id": "b6cf821d",
   "metadata": {},
   "outputs": [],
   "source": [
    "X = new_data.drop(columns=['Price_euros'],axis=1)\n",
    "y = np.log(new_data['Price_euros'])"
   ]
  },
  {
   "cell_type": "code",
   "execution_count": 397,
   "id": "65bfa312",
   "metadata": {},
   "outputs": [
    {
     "data": {
      "text/html": [
       "<div>\n",
       "<style scoped>\n",
       "    .dataframe tbody tr th:only-of-type {\n",
       "        vertical-align: middle;\n",
       "    }\n",
       "\n",
       "    .dataframe tbody tr th {\n",
       "        vertical-align: top;\n",
       "    }\n",
       "\n",
       "    .dataframe thead th {\n",
       "        text-align: right;\n",
       "    }\n",
       "</style>\n",
       "<table border=\"1\" class=\"dataframe\">\n",
       "  <thead>\n",
       "    <tr style=\"text-align: right;\">\n",
       "      <th></th>\n",
       "      <th>Ram</th>\n",
       "      <th>Weight</th>\n",
       "      <th>Touchscreen</th>\n",
       "      <th>IPS</th>\n",
       "      <th>SSD</th>\n",
       "      <th>PPI</th>\n",
       "      <th>Company_Acer</th>\n",
       "      <th>Company_Apple</th>\n",
       "      <th>Company_Asus</th>\n",
       "      <th>Company_Chuwi</th>\n",
       "      <th>Company_Dell</th>\n",
       "      <th>Company_Fujitsu</th>\n",
       "      <th>Company_Google</th>\n",
       "      <th>Company_HP</th>\n",
       "      <th>Company_Huawei</th>\n",
       "      <th>Company_LG</th>\n",
       "      <th>Company_Lenovo</th>\n",
       "      <th>Company_MSI</th>\n",
       "      <th>Company_Mediacom</th>\n",
       "      <th>Company_Microsoft</th>\n",
       "      <th>Company_Razer</th>\n",
       "      <th>Company_Samsung</th>\n",
       "      <th>Company_Toshiba</th>\n",
       "      <th>Company_Vero</th>\n",
       "      <th>Company_Xiaomi</th>\n",
       "      <th>TypeName_2 in 1 Convertible</th>\n",
       "      <th>TypeName_Gaming</th>\n",
       "      <th>TypeName_Netbook</th>\n",
       "      <th>TypeName_Notebook</th>\n",
       "      <th>TypeName_Ultrabook</th>\n",
       "      <th>TypeName_Workstation</th>\n",
       "      <th>Cpu_Processor_AMD Processor</th>\n",
       "      <th>Cpu_Processor_Intel Core i3</th>\n",
       "      <th>Cpu_Processor_Intel Core i5</th>\n",
       "      <th>Cpu_Processor_Intel Core i7</th>\n",
       "      <th>Cpu_Processor_Other Intel Processor</th>\n",
       "      <th>Gpu_brand_AMD</th>\n",
       "      <th>Gpu_brand_Intel</th>\n",
       "      <th>Gpu_brand_Nvidia</th>\n",
       "      <th>Op_sys_Mac</th>\n",
       "      <th>Op_sys_Others/No OS/Linux</th>\n",
       "      <th>Op_sys_Windows</th>\n",
       "    </tr>\n",
       "  </thead>\n",
       "  <tbody>\n",
       "    <tr>\n",
       "      <th>0</th>\n",
       "      <td>8</td>\n",
       "      <td>1.37</td>\n",
       "      <td>0</td>\n",
       "      <td>1</td>\n",
       "      <td>128</td>\n",
       "      <td>226.983005</td>\n",
       "      <td>0</td>\n",
       "      <td>1</td>\n",
       "      <td>0</td>\n",
       "      <td>0</td>\n",
       "      <td>0</td>\n",
       "      <td>0</td>\n",
       "      <td>0</td>\n",
       "      <td>0</td>\n",
       "      <td>0</td>\n",
       "      <td>0</td>\n",
       "      <td>0</td>\n",
       "      <td>0</td>\n",
       "      <td>0</td>\n",
       "      <td>0</td>\n",
       "      <td>0</td>\n",
       "      <td>0</td>\n",
       "      <td>0</td>\n",
       "      <td>0</td>\n",
       "      <td>0</td>\n",
       "      <td>0</td>\n",
       "      <td>0</td>\n",
       "      <td>0</td>\n",
       "      <td>0</td>\n",
       "      <td>1</td>\n",
       "      <td>0</td>\n",
       "      <td>0</td>\n",
       "      <td>0</td>\n",
       "      <td>1</td>\n",
       "      <td>0</td>\n",
       "      <td>0</td>\n",
       "      <td>0</td>\n",
       "      <td>1</td>\n",
       "      <td>0</td>\n",
       "      <td>1</td>\n",
       "      <td>0</td>\n",
       "      <td>0</td>\n",
       "    </tr>\n",
       "    <tr>\n",
       "      <th>1</th>\n",
       "      <td>8</td>\n",
       "      <td>1.34</td>\n",
       "      <td>0</td>\n",
       "      <td>0</td>\n",
       "      <td>0</td>\n",
       "      <td>127.677940</td>\n",
       "      <td>0</td>\n",
       "      <td>1</td>\n",
       "      <td>0</td>\n",
       "      <td>0</td>\n",
       "      <td>0</td>\n",
       "      <td>0</td>\n",
       "      <td>0</td>\n",
       "      <td>0</td>\n",
       "      <td>0</td>\n",
       "      <td>0</td>\n",
       "      <td>0</td>\n",
       "      <td>0</td>\n",
       "      <td>0</td>\n",
       "      <td>0</td>\n",
       "      <td>0</td>\n",
       "      <td>0</td>\n",
       "      <td>0</td>\n",
       "      <td>0</td>\n",
       "      <td>0</td>\n",
       "      <td>0</td>\n",
       "      <td>0</td>\n",
       "      <td>0</td>\n",
       "      <td>0</td>\n",
       "      <td>1</td>\n",
       "      <td>0</td>\n",
       "      <td>0</td>\n",
       "      <td>0</td>\n",
       "      <td>1</td>\n",
       "      <td>0</td>\n",
       "      <td>0</td>\n",
       "      <td>0</td>\n",
       "      <td>1</td>\n",
       "      <td>0</td>\n",
       "      <td>1</td>\n",
       "      <td>0</td>\n",
       "      <td>0</td>\n",
       "    </tr>\n",
       "    <tr>\n",
       "      <th>2</th>\n",
       "      <td>8</td>\n",
       "      <td>1.86</td>\n",
       "      <td>0</td>\n",
       "      <td>0</td>\n",
       "      <td>256</td>\n",
       "      <td>141.211998</td>\n",
       "      <td>0</td>\n",
       "      <td>0</td>\n",
       "      <td>0</td>\n",
       "      <td>0</td>\n",
       "      <td>0</td>\n",
       "      <td>0</td>\n",
       "      <td>0</td>\n",
       "      <td>1</td>\n",
       "      <td>0</td>\n",
       "      <td>0</td>\n",
       "      <td>0</td>\n",
       "      <td>0</td>\n",
       "      <td>0</td>\n",
       "      <td>0</td>\n",
       "      <td>0</td>\n",
       "      <td>0</td>\n",
       "      <td>0</td>\n",
       "      <td>0</td>\n",
       "      <td>0</td>\n",
       "      <td>0</td>\n",
       "      <td>0</td>\n",
       "      <td>0</td>\n",
       "      <td>1</td>\n",
       "      <td>0</td>\n",
       "      <td>0</td>\n",
       "      <td>0</td>\n",
       "      <td>0</td>\n",
       "      <td>1</td>\n",
       "      <td>0</td>\n",
       "      <td>0</td>\n",
       "      <td>0</td>\n",
       "      <td>1</td>\n",
       "      <td>0</td>\n",
       "      <td>0</td>\n",
       "      <td>1</td>\n",
       "      <td>0</td>\n",
       "    </tr>\n",
       "    <tr>\n",
       "      <th>3</th>\n",
       "      <td>16</td>\n",
       "      <td>1.83</td>\n",
       "      <td>0</td>\n",
       "      <td>1</td>\n",
       "      <td>512</td>\n",
       "      <td>220.534624</td>\n",
       "      <td>0</td>\n",
       "      <td>1</td>\n",
       "      <td>0</td>\n",
       "      <td>0</td>\n",
       "      <td>0</td>\n",
       "      <td>0</td>\n",
       "      <td>0</td>\n",
       "      <td>0</td>\n",
       "      <td>0</td>\n",
       "      <td>0</td>\n",
       "      <td>0</td>\n",
       "      <td>0</td>\n",
       "      <td>0</td>\n",
       "      <td>0</td>\n",
       "      <td>0</td>\n",
       "      <td>0</td>\n",
       "      <td>0</td>\n",
       "      <td>0</td>\n",
       "      <td>0</td>\n",
       "      <td>0</td>\n",
       "      <td>0</td>\n",
       "      <td>0</td>\n",
       "      <td>0</td>\n",
       "      <td>1</td>\n",
       "      <td>0</td>\n",
       "      <td>0</td>\n",
       "      <td>0</td>\n",
       "      <td>0</td>\n",
       "      <td>1</td>\n",
       "      <td>0</td>\n",
       "      <td>1</td>\n",
       "      <td>0</td>\n",
       "      <td>0</td>\n",
       "      <td>1</td>\n",
       "      <td>0</td>\n",
       "      <td>0</td>\n",
       "    </tr>\n",
       "    <tr>\n",
       "      <th>4</th>\n",
       "      <td>8</td>\n",
       "      <td>1.37</td>\n",
       "      <td>0</td>\n",
       "      <td>1</td>\n",
       "      <td>256</td>\n",
       "      <td>226.983005</td>\n",
       "      <td>0</td>\n",
       "      <td>1</td>\n",
       "      <td>0</td>\n",
       "      <td>0</td>\n",
       "      <td>0</td>\n",
       "      <td>0</td>\n",
       "      <td>0</td>\n",
       "      <td>0</td>\n",
       "      <td>0</td>\n",
       "      <td>0</td>\n",
       "      <td>0</td>\n",
       "      <td>0</td>\n",
       "      <td>0</td>\n",
       "      <td>0</td>\n",
       "      <td>0</td>\n",
       "      <td>0</td>\n",
       "      <td>0</td>\n",
       "      <td>0</td>\n",
       "      <td>0</td>\n",
       "      <td>0</td>\n",
       "      <td>0</td>\n",
       "      <td>0</td>\n",
       "      <td>0</td>\n",
       "      <td>1</td>\n",
       "      <td>0</td>\n",
       "      <td>0</td>\n",
       "      <td>0</td>\n",
       "      <td>1</td>\n",
       "      <td>0</td>\n",
       "      <td>0</td>\n",
       "      <td>0</td>\n",
       "      <td>1</td>\n",
       "      <td>0</td>\n",
       "      <td>1</td>\n",
       "      <td>0</td>\n",
       "      <td>0</td>\n",
       "    </tr>\n",
       "    <tr>\n",
       "      <th>...</th>\n",
       "      <td>...</td>\n",
       "      <td>...</td>\n",
       "      <td>...</td>\n",
       "      <td>...</td>\n",
       "      <td>...</td>\n",
       "      <td>...</td>\n",
       "      <td>...</td>\n",
       "      <td>...</td>\n",
       "      <td>...</td>\n",
       "      <td>...</td>\n",
       "      <td>...</td>\n",
       "      <td>...</td>\n",
       "      <td>...</td>\n",
       "      <td>...</td>\n",
       "      <td>...</td>\n",
       "      <td>...</td>\n",
       "      <td>...</td>\n",
       "      <td>...</td>\n",
       "      <td>...</td>\n",
       "      <td>...</td>\n",
       "      <td>...</td>\n",
       "      <td>...</td>\n",
       "      <td>...</td>\n",
       "      <td>...</td>\n",
       "      <td>...</td>\n",
       "      <td>...</td>\n",
       "      <td>...</td>\n",
       "      <td>...</td>\n",
       "      <td>...</td>\n",
       "      <td>...</td>\n",
       "      <td>...</td>\n",
       "      <td>...</td>\n",
       "      <td>...</td>\n",
       "      <td>...</td>\n",
       "      <td>...</td>\n",
       "      <td>...</td>\n",
       "      <td>...</td>\n",
       "      <td>...</td>\n",
       "      <td>...</td>\n",
       "      <td>...</td>\n",
       "      <td>...</td>\n",
       "      <td>...</td>\n",
       "    </tr>\n",
       "    <tr>\n",
       "      <th>1298</th>\n",
       "      <td>4</td>\n",
       "      <td>1.80</td>\n",
       "      <td>1</td>\n",
       "      <td>1</td>\n",
       "      <td>128</td>\n",
       "      <td>157.350512</td>\n",
       "      <td>0</td>\n",
       "      <td>0</td>\n",
       "      <td>0</td>\n",
       "      <td>0</td>\n",
       "      <td>0</td>\n",
       "      <td>0</td>\n",
       "      <td>0</td>\n",
       "      <td>0</td>\n",
       "      <td>0</td>\n",
       "      <td>0</td>\n",
       "      <td>1</td>\n",
       "      <td>0</td>\n",
       "      <td>0</td>\n",
       "      <td>0</td>\n",
       "      <td>0</td>\n",
       "      <td>0</td>\n",
       "      <td>0</td>\n",
       "      <td>0</td>\n",
       "      <td>0</td>\n",
       "      <td>1</td>\n",
       "      <td>0</td>\n",
       "      <td>0</td>\n",
       "      <td>0</td>\n",
       "      <td>0</td>\n",
       "      <td>0</td>\n",
       "      <td>0</td>\n",
       "      <td>0</td>\n",
       "      <td>0</td>\n",
       "      <td>1</td>\n",
       "      <td>0</td>\n",
       "      <td>0</td>\n",
       "      <td>1</td>\n",
       "      <td>0</td>\n",
       "      <td>0</td>\n",
       "      <td>0</td>\n",
       "      <td>1</td>\n",
       "    </tr>\n",
       "    <tr>\n",
       "      <th>1299</th>\n",
       "      <td>16</td>\n",
       "      <td>1.30</td>\n",
       "      <td>1</td>\n",
       "      <td>1</td>\n",
       "      <td>512</td>\n",
       "      <td>276.053530</td>\n",
       "      <td>0</td>\n",
       "      <td>0</td>\n",
       "      <td>0</td>\n",
       "      <td>0</td>\n",
       "      <td>0</td>\n",
       "      <td>0</td>\n",
       "      <td>0</td>\n",
       "      <td>0</td>\n",
       "      <td>0</td>\n",
       "      <td>0</td>\n",
       "      <td>1</td>\n",
       "      <td>0</td>\n",
       "      <td>0</td>\n",
       "      <td>0</td>\n",
       "      <td>0</td>\n",
       "      <td>0</td>\n",
       "      <td>0</td>\n",
       "      <td>0</td>\n",
       "      <td>0</td>\n",
       "      <td>1</td>\n",
       "      <td>0</td>\n",
       "      <td>0</td>\n",
       "      <td>0</td>\n",
       "      <td>0</td>\n",
       "      <td>0</td>\n",
       "      <td>0</td>\n",
       "      <td>0</td>\n",
       "      <td>0</td>\n",
       "      <td>1</td>\n",
       "      <td>0</td>\n",
       "      <td>0</td>\n",
       "      <td>1</td>\n",
       "      <td>0</td>\n",
       "      <td>0</td>\n",
       "      <td>0</td>\n",
       "      <td>1</td>\n",
       "    </tr>\n",
       "    <tr>\n",
       "      <th>1300</th>\n",
       "      <td>2</td>\n",
       "      <td>1.50</td>\n",
       "      <td>0</td>\n",
       "      <td>0</td>\n",
       "      <td>0</td>\n",
       "      <td>111.935204</td>\n",
       "      <td>0</td>\n",
       "      <td>0</td>\n",
       "      <td>0</td>\n",
       "      <td>0</td>\n",
       "      <td>0</td>\n",
       "      <td>0</td>\n",
       "      <td>0</td>\n",
       "      <td>0</td>\n",
       "      <td>0</td>\n",
       "      <td>0</td>\n",
       "      <td>1</td>\n",
       "      <td>0</td>\n",
       "      <td>0</td>\n",
       "      <td>0</td>\n",
       "      <td>0</td>\n",
       "      <td>0</td>\n",
       "      <td>0</td>\n",
       "      <td>0</td>\n",
       "      <td>0</td>\n",
       "      <td>0</td>\n",
       "      <td>0</td>\n",
       "      <td>0</td>\n",
       "      <td>1</td>\n",
       "      <td>0</td>\n",
       "      <td>0</td>\n",
       "      <td>0</td>\n",
       "      <td>0</td>\n",
       "      <td>0</td>\n",
       "      <td>0</td>\n",
       "      <td>1</td>\n",
       "      <td>0</td>\n",
       "      <td>1</td>\n",
       "      <td>0</td>\n",
       "      <td>0</td>\n",
       "      <td>0</td>\n",
       "      <td>1</td>\n",
       "    </tr>\n",
       "    <tr>\n",
       "      <th>1301</th>\n",
       "      <td>6</td>\n",
       "      <td>2.19</td>\n",
       "      <td>0</td>\n",
       "      <td>0</td>\n",
       "      <td>0</td>\n",
       "      <td>100.454670</td>\n",
       "      <td>0</td>\n",
       "      <td>0</td>\n",
       "      <td>0</td>\n",
       "      <td>0</td>\n",
       "      <td>0</td>\n",
       "      <td>0</td>\n",
       "      <td>0</td>\n",
       "      <td>1</td>\n",
       "      <td>0</td>\n",
       "      <td>0</td>\n",
       "      <td>0</td>\n",
       "      <td>0</td>\n",
       "      <td>0</td>\n",
       "      <td>0</td>\n",
       "      <td>0</td>\n",
       "      <td>0</td>\n",
       "      <td>0</td>\n",
       "      <td>0</td>\n",
       "      <td>0</td>\n",
       "      <td>0</td>\n",
       "      <td>0</td>\n",
       "      <td>0</td>\n",
       "      <td>1</td>\n",
       "      <td>0</td>\n",
       "      <td>0</td>\n",
       "      <td>0</td>\n",
       "      <td>0</td>\n",
       "      <td>0</td>\n",
       "      <td>1</td>\n",
       "      <td>0</td>\n",
       "      <td>1</td>\n",
       "      <td>0</td>\n",
       "      <td>0</td>\n",
       "      <td>0</td>\n",
       "      <td>0</td>\n",
       "      <td>1</td>\n",
       "    </tr>\n",
       "    <tr>\n",
       "      <th>1302</th>\n",
       "      <td>4</td>\n",
       "      <td>2.20</td>\n",
       "      <td>0</td>\n",
       "      <td>0</td>\n",
       "      <td>0</td>\n",
       "      <td>100.454670</td>\n",
       "      <td>0</td>\n",
       "      <td>0</td>\n",
       "      <td>1</td>\n",
       "      <td>0</td>\n",
       "      <td>0</td>\n",
       "      <td>0</td>\n",
       "      <td>0</td>\n",
       "      <td>0</td>\n",
       "      <td>0</td>\n",
       "      <td>0</td>\n",
       "      <td>0</td>\n",
       "      <td>0</td>\n",
       "      <td>0</td>\n",
       "      <td>0</td>\n",
       "      <td>0</td>\n",
       "      <td>0</td>\n",
       "      <td>0</td>\n",
       "      <td>0</td>\n",
       "      <td>0</td>\n",
       "      <td>0</td>\n",
       "      <td>0</td>\n",
       "      <td>0</td>\n",
       "      <td>1</td>\n",
       "      <td>0</td>\n",
       "      <td>0</td>\n",
       "      <td>0</td>\n",
       "      <td>0</td>\n",
       "      <td>0</td>\n",
       "      <td>0</td>\n",
       "      <td>1</td>\n",
       "      <td>0</td>\n",
       "      <td>1</td>\n",
       "      <td>0</td>\n",
       "      <td>0</td>\n",
       "      <td>0</td>\n",
       "      <td>1</td>\n",
       "    </tr>\n",
       "  </tbody>\n",
       "</table>\n",
       "<p>1302 rows × 42 columns</p>\n",
       "</div>"
      ],
      "text/plain": [
       "      Ram  Weight  Touchscreen  IPS  SSD         PPI  Company_Acer  \\\n",
       "0       8    1.37            0    1  128  226.983005             0   \n",
       "1       8    1.34            0    0    0  127.677940             0   \n",
       "2       8    1.86            0    0  256  141.211998             0   \n",
       "3      16    1.83            0    1  512  220.534624             0   \n",
       "4       8    1.37            0    1  256  226.983005             0   \n",
       "...   ...     ...          ...  ...  ...         ...           ...   \n",
       "1298    4    1.80            1    1  128  157.350512             0   \n",
       "1299   16    1.30            1    1  512  276.053530             0   \n",
       "1300    2    1.50            0    0    0  111.935204             0   \n",
       "1301    6    2.19            0    0    0  100.454670             0   \n",
       "1302    4    2.20            0    0    0  100.454670             0   \n",
       "\n",
       "      Company_Apple  Company_Asus  Company_Chuwi  Company_Dell  \\\n",
       "0                 1             0              0             0   \n",
       "1                 1             0              0             0   \n",
       "2                 0             0              0             0   \n",
       "3                 1             0              0             0   \n",
       "4                 1             0              0             0   \n",
       "...             ...           ...            ...           ...   \n",
       "1298              0             0              0             0   \n",
       "1299              0             0              0             0   \n",
       "1300              0             0              0             0   \n",
       "1301              0             0              0             0   \n",
       "1302              0             1              0             0   \n",
       "\n",
       "      Company_Fujitsu  Company_Google  Company_HP  Company_Huawei  Company_LG  \\\n",
       "0                   0               0           0               0           0   \n",
       "1                   0               0           0               0           0   \n",
       "2                   0               0           1               0           0   \n",
       "3                   0               0           0               0           0   \n",
       "4                   0               0           0               0           0   \n",
       "...               ...             ...         ...             ...         ...   \n",
       "1298                0               0           0               0           0   \n",
       "1299                0               0           0               0           0   \n",
       "1300                0               0           0               0           0   \n",
       "1301                0               0           1               0           0   \n",
       "1302                0               0           0               0           0   \n",
       "\n",
       "      Company_Lenovo  Company_MSI  Company_Mediacom  Company_Microsoft  \\\n",
       "0                  0            0                 0                  0   \n",
       "1                  0            0                 0                  0   \n",
       "2                  0            0                 0                  0   \n",
       "3                  0            0                 0                  0   \n",
       "4                  0            0                 0                  0   \n",
       "...              ...          ...               ...                ...   \n",
       "1298               1            0                 0                  0   \n",
       "1299               1            0                 0                  0   \n",
       "1300               1            0                 0                  0   \n",
       "1301               0            0                 0                  0   \n",
       "1302               0            0                 0                  0   \n",
       "\n",
       "      Company_Razer  Company_Samsung  Company_Toshiba  Company_Vero  \\\n",
       "0                 0                0                0             0   \n",
       "1                 0                0                0             0   \n",
       "2                 0                0                0             0   \n",
       "3                 0                0                0             0   \n",
       "4                 0                0                0             0   \n",
       "...             ...              ...              ...           ...   \n",
       "1298              0                0                0             0   \n",
       "1299              0                0                0             0   \n",
       "1300              0                0                0             0   \n",
       "1301              0                0                0             0   \n",
       "1302              0                0                0             0   \n",
       "\n",
       "      Company_Xiaomi  TypeName_2 in 1 Convertible  TypeName_Gaming  \\\n",
       "0                  0                            0                0   \n",
       "1                  0                            0                0   \n",
       "2                  0                            0                0   \n",
       "3                  0                            0                0   \n",
       "4                  0                            0                0   \n",
       "...              ...                          ...              ...   \n",
       "1298               0                            1                0   \n",
       "1299               0                            1                0   \n",
       "1300               0                            0                0   \n",
       "1301               0                            0                0   \n",
       "1302               0                            0                0   \n",
       "\n",
       "      TypeName_Netbook  TypeName_Notebook  TypeName_Ultrabook  \\\n",
       "0                    0                  0                   1   \n",
       "1                    0                  0                   1   \n",
       "2                    0                  1                   0   \n",
       "3                    0                  0                   1   \n",
       "4                    0                  0                   1   \n",
       "...                ...                ...                 ...   \n",
       "1298                 0                  0                   0   \n",
       "1299                 0                  0                   0   \n",
       "1300                 0                  1                   0   \n",
       "1301                 0                  1                   0   \n",
       "1302                 0                  1                   0   \n",
       "\n",
       "      TypeName_Workstation  Cpu_Processor_AMD Processor  \\\n",
       "0                        0                            0   \n",
       "1                        0                            0   \n",
       "2                        0                            0   \n",
       "3                        0                            0   \n",
       "4                        0                            0   \n",
       "...                    ...                          ...   \n",
       "1298                     0                            0   \n",
       "1299                     0                            0   \n",
       "1300                     0                            0   \n",
       "1301                     0                            0   \n",
       "1302                     0                            0   \n",
       "\n",
       "      Cpu_Processor_Intel Core i3  Cpu_Processor_Intel Core i5  \\\n",
       "0                               0                            1   \n",
       "1                               0                            1   \n",
       "2                               0                            1   \n",
       "3                               0                            0   \n",
       "4                               0                            1   \n",
       "...                           ...                          ...   \n",
       "1298                            0                            0   \n",
       "1299                            0                            0   \n",
       "1300                            0                            0   \n",
       "1301                            0                            0   \n",
       "1302                            0                            0   \n",
       "\n",
       "      Cpu_Processor_Intel Core i7  Cpu_Processor_Other Intel Processor  \\\n",
       "0                               0                                    0   \n",
       "1                               0                                    0   \n",
       "2                               0                                    0   \n",
       "3                               1                                    0   \n",
       "4                               0                                    0   \n",
       "...                           ...                                  ...   \n",
       "1298                            1                                    0   \n",
       "1299                            1                                    0   \n",
       "1300                            0                                    1   \n",
       "1301                            1                                    0   \n",
       "1302                            0                                    1   \n",
       "\n",
       "      Gpu_brand_AMD  Gpu_brand_Intel  Gpu_brand_Nvidia  Op_sys_Mac  \\\n",
       "0                 0                1                 0           1   \n",
       "1                 0                1                 0           1   \n",
       "2                 0                1                 0           0   \n",
       "3                 1                0                 0           1   \n",
       "4                 0                1                 0           1   \n",
       "...             ...              ...               ...         ...   \n",
       "1298              0                1                 0           0   \n",
       "1299              0                1                 0           0   \n",
       "1300              0                1                 0           0   \n",
       "1301              1                0                 0           0   \n",
       "1302              0                1                 0           0   \n",
       "\n",
       "      Op_sys_Others/No OS/Linux  Op_sys_Windows  \n",
       "0                             0               0  \n",
       "1                             0               0  \n",
       "2                             1               0  \n",
       "3                             0               0  \n",
       "4                             0               0  \n",
       "...                         ...             ...  \n",
       "1298                          0               1  \n",
       "1299                          0               1  \n",
       "1300                          0               1  \n",
       "1301                          0               1  \n",
       "1302                          0               1  \n",
       "\n",
       "[1302 rows x 42 columns]"
      ]
     },
     "execution_count": 397,
     "metadata": {},
     "output_type": "execute_result"
    }
   ],
   "source": [
    "X"
   ]
  },
  {
   "cell_type": "code",
   "execution_count": 398,
   "id": "35b1c9c6",
   "metadata": {},
   "outputs": [
    {
     "data": {
      "text/plain": [
       "0       7.200194\n",
       "1       6.801216\n",
       "2       6.354370\n",
       "3       7.838915\n",
       "4       7.497540\n",
       "          ...   \n",
       "1298    6.458338\n",
       "1299    7.312553\n",
       "1300    5.433722\n",
       "1301    6.638568\n",
       "1302    5.910797\n",
       "Name: Price_euros, Length: 1302, dtype: float64"
      ]
     },
     "execution_count": 398,
     "metadata": {},
     "output_type": "execute_result"
    }
   ],
   "source": [
    "y"
   ]
  },
  {
   "cell_type": "code",
   "execution_count": 399,
   "id": "e198cccb",
   "metadata": {},
   "outputs": [],
   "source": [
    "X_train,X_test,y_train,y_test = train_test_split(X,y,test_size=0.2,random_state=2)"
   ]
  },
  {
   "cell_type": "markdown",
   "id": "1077e64f",
   "metadata": {},
   "source": [
    "# Model Building"
   ]
  },
  {
   "cell_type": "code",
   "execution_count": 400,
   "id": "53a21b61",
   "metadata": {},
   "outputs": [],
   "source": [
    "from sklearn.preprocessing import StandardScaler\n",
    "sc=StandardScaler()\n",
    "X_train=sc.fit_transform(X_train)\n",
    "X_test=sc.transform(X_test)"
   ]
  },
  {
   "cell_type": "code",
   "execution_count": 401,
   "id": "72b68084",
   "metadata": {},
   "outputs": [
    {
     "data": {
      "text/plain": [
       "LinearRegression()"
      ]
     },
     "execution_count": 401,
     "metadata": {},
     "output_type": "execute_result"
    }
   ],
   "source": [
    "model=LinearRegression()\n",
    "model.fit(X_train,y_train)"
   ]
  },
  {
   "cell_type": "code",
   "execution_count": 402,
   "id": "3d47caa1",
   "metadata": {},
   "outputs": [
    {
     "data": {
      "text/plain": [
       "array([6.72650351, 5.71670802, 6.07145895, 6.38034328, 6.94311728,\n",
       "       7.44372763, 6.27896322, 6.42660727, 7.15658773, 5.60837062,\n",
       "       6.95685019, 7.06161703, 7.75140585, 6.91977133, 8.0294515 ,\n",
       "       6.88778957, 6.83224691, 5.62643703, 7.42819418, 7.52871908,\n",
       "       7.70358546, 7.10074057, 6.82153524, 7.30621542, 6.53219875,\n",
       "       7.81256308, 7.06842245, 6.14316066, 6.92105307, 6.65640463,\n",
       "       7.12625326, 6.05223288, 6.60586818, 7.09311117, 7.1257955 ,\n",
       "       6.80691732, 6.95181479, 6.9856893 , 7.24945272, 7.46997274,\n",
       "       7.70379843, 7.28857626, 5.78348048, 6.0093099 , 6.21170248,\n",
       "       6.03323634, 7.03015341, 7.95047201, 7.537264  , 6.8754598 ,\n",
       "       7.55713095, 7.52020468, 5.78024562, 5.5439175 , 6.74917807,\n",
       "       6.81340231, 6.08757223, 7.08322348, 6.23507895, 6.48727621,\n",
       "       7.02200522, 7.11773886, 5.90847982, 6.5124227 , 6.8210317 ,\n",
       "       6.56695761, 6.06790431, 7.44317831, 6.75631918, 5.94497885,\n",
       "       6.98724569, 6.76959433, 6.64578517, 6.4654714 , 6.65013327,\n",
       "       7.11378683, 7.35406698, 8.00882162, 7.27408041, 6.56442465,\n",
       "       6.62878622, 6.97320761, 7.12912257, 6.30429281, 6.89676107,\n",
       "       6.64731039, 7.16391195, 7.26999105, 6.1814443 , 6.91790976,\n",
       "       6.79852499, 6.40835775, 6.43863185, 7.75067343, 6.31706442,\n",
       "       5.63260158, 6.46464743, 6.21286215, 5.95633139, 7.64312948,\n",
       "       6.61267294, 7.18310751, 5.93173488, 7.72238363, 6.83123983,\n",
       "       7.16610922, 7.1443807 , 6.68771566, 7.11752589, 6.00271811,\n",
       "       6.78421225, 6.85020651, 6.82791342, 7.39135946, 6.32711996,\n",
       "       6.72650351, 5.64474691, 7.79467978, 6.59819235, 6.55166896,\n",
       "       6.43588527, 7.58154501, 6.9719869 , 6.45657553, 6.71119894,\n",
       "       7.24569906, 6.57168783, 5.99746908, 7.68734945, 7.35116781,\n",
       "       6.44351466, 7.26861776, 6.33133205, 7.32141317, 7.08749594,\n",
       "       6.5884725 , 6.98279013, 7.16610922, 7.4198934 , 7.39135946,\n",
       "       6.01272787, 5.93680014, 6.83920492, 6.46695216, 6.58148397,\n",
       "       7.41345419, 6.60055746, 5.94668783, 7.54440578, 6.43515219,\n",
       "       7.51251425, 7.22802939, 6.59973349, 7.2205831 , 6.90616049,\n",
       "       6.56857504, 7.15114035, 7.97503866, 7.31186117, 7.47809042,\n",
       "       5.86929525, 6.19676413, 6.75793661, 6.65744223, 6.87222494,\n",
       "       7.03195395, 7.44818319, 6.38681234, 7.52813925, 6.93405355,\n",
       "       6.48214926, 7.0872518 , 6.13974203, 6.91903891, 6.80586447,\n",
       "       7.39032187, 8.11953939, 7.52658285, 7.25342001, 6.32524313,\n",
       "       6.92877401, 7.37344564, 7.11461081, 6.73831381, 6.15446676,\n",
       "       6.71948446, 6.40890773, 7.40054525, 6.15353664, 6.04471095,\n",
       "       6.1814443 , 7.17227377, 5.79825099, 6.96402182, 7.15881552,\n",
       "       7.68347372, 6.89169516, 7.17273153, 5.75406154, 6.50735678,\n",
       "       6.71905722, 9.29101767, 6.75425924, 6.57470907, 6.88595785,\n",
       "       6.82583888, 6.5386373 , 6.02060141, 6.89206137, 6.64198507,\n",
       "       5.78024562, 7.19677939, 7.80380453, 6.930483  , 7.34008993,\n",
       "       7.06219687, 7.52816977, 6.96386923, 6.59359945, 6.92498983,\n",
       "       6.94015707, 6.82806601, 6.82193197, 7.3832723 , 7.09372152,\n",
       "       7.54440578, 6.97891439, 6.56686605, 6.55847372, 6.94967855,\n",
       "       6.35806545, 7.05319418, 6.92901815, 6.27298178, 6.48022665,\n",
       "       7.1962911 , 7.71353354, 7.22403158, 5.93107809, 7.73068507,\n",
       "       6.89196981, 6.78701986, 6.95855917, 7.09951986, 6.2326528 ,\n",
       "       6.67477687, 5.72806056, 7.71649374, 6.76968588, 6.18835653,\n",
       "       7.37936605, 7.16089071, 7.44516195, 6.97320761, 7.39306845,\n",
       "       6.51816   , 6.82020773, 6.97418417, 7.05697836, 6.93002523,\n",
       "       6.34398092])"
      ]
     },
     "execution_count": 402,
     "metadata": {},
     "output_type": "execute_result"
    }
   ],
   "source": [
    "y_pred=model.predict(X_test)\n",
    "y_pred"
   ]
  },
  {
   "cell_type": "code",
   "execution_count": 403,
   "id": "3c10bbcd",
   "metadata": {},
   "outputs": [],
   "source": [
    "# Since we have done log normalization of dependent variable the predicted values will also be in Log format\n",
    "# Inorder to change this we use np.exp()"
   ]
  },
  {
   "cell_type": "code",
   "execution_count": 404,
   "id": "c5fbd7a8",
   "metadata": {
    "scrolled": true
   },
   "outputs": [
    {
     "data": {
      "text/plain": [
       "array([  834.225297  ,   303.9028334 ,   433.31240198,   590.13025117,\n",
       "        1035.99466759,  1709.10928403,   533.23553078,   618.073428  ,\n",
       "        1282.52713495,   272.6995449 ,  1050.32002859,  1166.32963356,\n",
       "        2324.83849225,  1012.08853219,  3070.05729787,   980.23228227,\n",
       "         927.27197423,   277.67101878,  1682.76605536,  1860.7205466 ,\n",
       "        2216.28015749,  1212.86494939,   917.39235101,  1489.52926609,\n",
       "         686.90688605,  2471.4568572 ,  1174.2940664 ,   465.52260678,\n",
       "        1013.38659652,   777.74960602,  1244.20650711,   425.06108001,\n",
       "         739.42154131,  1203.64673359,  1243.63708491,   904.07952307,\n",
       "        1045.04453996,  1081.0513266 ,  1407.33443833,  1754.55886344,\n",
       "        2216.75219409,  1463.48559036,   324.88799244,   407.20221412,\n",
       "         498.54929979,   417.06260551,  1130.20397979,  2836.91369186,\n",
       "        1876.6883831 ,   968.22045585,  1914.34526995,  1844.94487511,\n",
       "         323.83872224,   255.6776563 ,   853.35707161,   909.96151724,\n",
       "         440.35104209,  1191.80408615,   510.34090603,   656.73212526,\n",
       "        1121.03227638,  1233.65780158,   368.14608316,   673.45602173,\n",
       "         916.93052351,   711.20279042,   431.77486752,  1708.17070007,\n",
       "         859.4728017 ,   381.8312847 ,  1082.73518112,   870.95849751,\n",
       "         769.53402688,   642.56719931,   772.88731897,  1228.79197469,\n",
       "        1562.53843971,  3007.3712022 ,  1442.42414391,   709.40362249,\n",
       "         756.56331245,  1067.64184027,  1247.78165053,   546.91468033,\n",
       "         989.06601093,   770.70863046,  1291.95512844,  1436.53760314,\n",
       "         483.69004664,  1010.20620884,   896.52393462,   606.89618951,\n",
       "         625.55036826,  2323.1363531 ,   553.94445459,   279.38802271,\n",
       "         642.03795833,   499.1277868 ,   386.19073789,  2086.2625337 ,\n",
       "         744.47028583,  1316.99447957,   376.80766272,  2258.33621505,\n",
       "         926.33860716,  1294.79701808,  1266.96645422,   802.48700712,\n",
       "        1233.39510572,   404.52684726,   883.78360893,   944.07584679,\n",
       "         923.26233889,  1621.90954118,   559.54276617,   834.225297  ,\n",
       "         282.80197405,  2427.65190685,   733.76759392,   700.41215934,\n",
       "         623.83460018,  1961.65740574,  1066.33936167,   636.87635251,\n",
       "         821.55504502,  1402.06168264,   714.57490851,   402.40903943,\n",
       "        2180.58714792,  1558.01493564,   628.61228271,  1434.56617293,\n",
       "         561.90457875,  1512.33965964,  1196.90691562,   726.67003346,\n",
       "        1077.92171394,  1294.79701808,  1668.85559615,  1621.90954118,\n",
       "         408.59639985,   378.72113285,   933.74643843,   643.5193934 ,\n",
       "         721.60938531,  1658.14401029,   735.50509056,   382.48438631,\n",
       "        1890.13923989,   623.37744609,  1830.8108742 ,  1377.50529518,\n",
       "         734.89930265,  1367.28608737,   998.4064806 ,   712.3540431 ,\n",
       "        1275.55970679,  2907.47027974,  1497.9625626 ,  1768.85976997,\n",
       "         353.99941274,   491.1571444 ,   860.86406503,   778.557016  ,\n",
       "         965.09345548,  1132.24078712,  1716.74132384,   593.960218  ,\n",
       "        1859.64195032,  1026.64712701,   653.37370703,  1196.61473768,\n",
       "         463.93387512,  1011.34752781,   903.12815803,  1620.22752442,\n",
       "        3359.47299804,  1856.74986133,  1412.92882529,   558.49358381,\n",
       "        1021.2411844 ,  1593.11364059,  1229.80488532,   844.13616025,\n",
       "         470.81571915,   828.39033567,   607.23005974,  1636.87670063,\n",
       "         470.37800462,   421.87579793,   483.69004664,  1302.80351292,\n",
       "         329.72236827,  1057.87961099,  1285.38751233,  2172.1521321 ,\n",
       "         984.06815371,  1303.40002556,   315.46935286,   670.05297582,\n",
       "         828.03648473, 10840.21020399,   857.70416455,   716.73707554,\n",
       "         978.43842007,   921.34898368,   691.34383829,   411.82619624,\n",
       "         984.42859622,   766.61527128,   323.83872224,  1335.12391275,\n",
       "        2449.90501047,  1022.98796181,  1540.85067913,  1167.00610722,\n",
       "        1859.69870295,  1057.71820369,   730.4052035 ,  1017.38392714,\n",
       "        1032.93244555,   923.40322829,   917.75637892,  1608.84579761,\n",
       "        1204.3816055 ,  1890.13923989,  1073.75206325,   711.13768084,\n",
       "         705.19454916,  1042.81446679,   577.12878848,  1156.54706856,\n",
       "        1021.4905413 ,   530.05553159,   652.11873269,  1334.47215591,\n",
       "        2238.4378999 ,  1372.00929402,   376.56026134,  2277.16169107,\n",
       "         984.33847322,   886.26842155,  1052.11654378,  1211.38530464,\n",
       "         509.10424451,   792.17067789,   307.37256002,  2245.07395233,\n",
       "         871.03823979,   487.04500596,  1602.57350226,  1288.0577121 ,\n",
       "        1711.56246311,  1067.64184027,  1624.68372909,   677.33094931,\n",
       "         916.17530722,  1068.68496851,  1160.93194183,  1022.51978225,\n",
       "         569.05718113])"
      ]
     },
     "execution_count": 404,
     "metadata": {},
     "output_type": "execute_result"
    }
   ],
   "source": [
    "np.exp(y_pred)"
   ]
  },
  {
   "cell_type": "code",
   "execution_count": 405,
   "id": "b75b143a",
   "metadata": {},
   "outputs": [
    {
     "data": {
      "text/plain": [
       "6.8429954950352325"
      ]
     },
     "execution_count": 405,
     "metadata": {},
     "output_type": "execute_result"
    }
   ],
   "source": [
    "model.intercept_"
   ]
  },
  {
   "cell_type": "code",
   "execution_count": 406,
   "id": "abce3869",
   "metadata": {},
   "outputs": [
    {
     "data": {
      "text/plain": [
       "array([ 1.40023114e-01,  5.48553214e-02, -3.59786205e-02,  1.99810627e-02,\n",
       "        1.15657783e-01,  9.57641775e-02, -3.17915760e+10, -8.06362625e+10,\n",
       "       -3.70761036e+10, -6.22347506e+09, -4.92507927e+10, -6.22347506e+09,\n",
       "       -5.08389323e+09, -4.68358730e+10, -5.08389323e+09, -5.08389323e+09,\n",
       "       -4.86102205e+10, -2.31032537e+10, -8.78859496e+09, -6.22347506e+09,\n",
       "       -9.48818052e+09, -8.78859496e+09, -2.25821651e+10, -7.18278758e+09,\n",
       "       -6.22347506e+09, -1.91141645e+10, -2.48392130e+10, -9.99727443e+09,\n",
       "       -3.37526853e+10, -2.43399547e+10, -9.78232842e+09,  1.07526555e+11,\n",
       "        1.58231799e+11,  2.33793186e+11,  2.47069658e+11,  1.61745265e+11,\n",
       "       -8.33189418e+10, -1.18995546e+11, -1.10397424e+11, -1.80239683e+09,\n",
       "       -1.71872461e+11, -1.81752039e+11])"
      ]
     },
     "execution_count": 406,
     "metadata": {},
     "output_type": "execute_result"
    }
   ],
   "source": [
    "model.coef_"
   ]
  },
  {
   "cell_type": "markdown",
   "id": "6f122530",
   "metadata": {},
   "source": [
    "# Beta and p values"
   ]
  },
  {
   "cell_type": "markdown",
   "id": "a0a09c14",
   "metadata": {},
   "source": [
    "\n",
    "                   Beta                                  P>|t|\n",
    "                   \n",
    "* Ram          -  1.40023114e-01                         0.000   \n",
    "* Weight       -  5.48553214e-02                         0.000 \n",
    "* Touchscreen  - -3.59786205e-02                         0.833    0.081\n",
    "* IPS          -  1.99810627e-02                         0.171    0.797\n",
    "* SSD          -  1.15657783e-01                         0.000 \n",
    "* PPI          -  9.57641775e-02                         0.000"
   ]
  },
  {
   "cell_type": "code",
   "execution_count": null,
   "id": "b035d246",
   "metadata": {},
   "outputs": [],
   "source": []
  },
  {
   "cell_type": "markdown",
   "id": "63de0474",
   "metadata": {},
   "source": [
    "# Evaluating the Model"
   ]
  },
  {
   "cell_type": "code",
   "execution_count": 407,
   "id": "cfdcf7f0",
   "metadata": {},
   "outputs": [],
   "source": [
    "# importing r2_score module"
   ]
  },
  {
   "cell_type": "code",
   "execution_count": 408,
   "id": "fb4e8184",
   "metadata": {},
   "outputs": [],
   "source": [
    "from sklearn.metrics import r2_score\n",
    "from sklearn.metrics import mean_squared_error\n",
    "import numpy as np"
   ]
  },
  {
   "cell_type": "code",
   "execution_count": 409,
   "id": "7411f968",
   "metadata": {},
   "outputs": [
    {
     "name": "stdout",
     "output_type": "stream",
     "text": [
      "R2 score 0.8008189296338997\n",
      "MAE 0.20400739661557676\n"
     ]
    }
   ],
   "source": [
    "print('R2 score',r2_score(y_test,y_pred))\n",
    "print('MAE',mean_absolute_error(y_test,y_pred))"
   ]
  },
  {
   "cell_type": "code",
   "execution_count": 410,
   "id": "73635ab2",
   "metadata": {},
   "outputs": [],
   "source": [
    "# The Mean squared error is the difference bewteen the actual y and predicted y whole square\n",
    "# We need to reduce this"
   ]
  },
  {
   "cell_type": "code",
   "execution_count": 411,
   "id": "65139f56",
   "metadata": {},
   "outputs": [
    {
     "name": "stdout",
     "output_type": "stream",
     "text": [
      "R2 score 0.8008189296338997\n",
      "mean_squared_error 0.07083615123107505\n",
      "sqrt(mean_squared_error 0.26615061756658587\n"
     ]
    }
   ],
   "source": [
    "score = r2_score(y_test,y_pred)\n",
    "print('R2 score',score)\n",
    "print('mean_squared_error',mean_squared_error(y_test,y_pred))\n",
    "print('sqrt(mean_squared_error',np.sqrt(mean_squared_error(y_test,y_pred)))"
   ]
  },
  {
   "cell_type": "code",
   "execution_count": 446,
   "id": "6ce3d20b",
   "metadata": {},
   "outputs": [
    {
     "data": {
      "text/html": [
       "<div>\n",
       "<style scoped>\n",
       "    .dataframe tbody tr th:only-of-type {\n",
       "        vertical-align: middle;\n",
       "    }\n",
       "\n",
       "    .dataframe tbody tr th {\n",
       "        vertical-align: top;\n",
       "    }\n",
       "\n",
       "    .dataframe thead th {\n",
       "        text-align: right;\n",
       "    }\n",
       "</style>\n",
       "<table border=\"1\" class=\"dataframe\">\n",
       "  <thead>\n",
       "    <tr style=\"text-align: right;\">\n",
       "      <th></th>\n",
       "      <th>Ram</th>\n",
       "      <th>Weight</th>\n",
       "      <th>Price_euros</th>\n",
       "      <th>Touchscreen</th>\n",
       "      <th>IPS</th>\n",
       "      <th>SSD</th>\n",
       "      <th>PPI</th>\n",
       "      <th>Company_Acer</th>\n",
       "      <th>Company_Apple</th>\n",
       "      <th>Company_Asus</th>\n",
       "      <th>Company_Chuwi</th>\n",
       "      <th>Company_Dell</th>\n",
       "      <th>Company_Fujitsu</th>\n",
       "      <th>Company_Google</th>\n",
       "      <th>Company_HP</th>\n",
       "      <th>Company_Huawei</th>\n",
       "      <th>Company_LG</th>\n",
       "      <th>Company_Lenovo</th>\n",
       "      <th>Company_MSI</th>\n",
       "      <th>Company_Mediacom</th>\n",
       "      <th>Company_Microsoft</th>\n",
       "      <th>Company_Razer</th>\n",
       "      <th>Company_Samsung</th>\n",
       "      <th>Company_Toshiba</th>\n",
       "      <th>Company_Vero</th>\n",
       "      <th>Company_Xiaomi</th>\n",
       "      <th>TypeName_2 in 1 Convertible</th>\n",
       "      <th>TypeName_Gaming</th>\n",
       "      <th>TypeName_Netbook</th>\n",
       "      <th>TypeName_Notebook</th>\n",
       "      <th>TypeName_Ultrabook</th>\n",
       "      <th>TypeName_Workstation</th>\n",
       "      <th>Cpu_Processor_AMD Processor</th>\n",
       "      <th>Cpu_Processor_Intel Core i3</th>\n",
       "      <th>Cpu_Processor_Intel Core i5</th>\n",
       "      <th>Cpu_Processor_Intel Core i7</th>\n",
       "      <th>Cpu_Processor_Other Intel Processor</th>\n",
       "      <th>Gpu_brand_AMD</th>\n",
       "      <th>Gpu_brand_Intel</th>\n",
       "      <th>Gpu_brand_Nvidia</th>\n",
       "      <th>Op_sys_Mac</th>\n",
       "      <th>Op_sys_Others/No OS/Linux</th>\n",
       "      <th>Op_sys_Windows</th>\n",
       "    </tr>\n",
       "  </thead>\n",
       "  <tbody>\n",
       "    <tr>\n",
       "      <th>0</th>\n",
       "      <td>8</td>\n",
       "      <td>1.37</td>\n",
       "      <td>1339.69</td>\n",
       "      <td>0</td>\n",
       "      <td>1</td>\n",
       "      <td>128</td>\n",
       "      <td>226.983005</td>\n",
       "      <td>0</td>\n",
       "      <td>1</td>\n",
       "      <td>0</td>\n",
       "      <td>0</td>\n",
       "      <td>0</td>\n",
       "      <td>0</td>\n",
       "      <td>0</td>\n",
       "      <td>0</td>\n",
       "      <td>0</td>\n",
       "      <td>0</td>\n",
       "      <td>0</td>\n",
       "      <td>0</td>\n",
       "      <td>0</td>\n",
       "      <td>0</td>\n",
       "      <td>0</td>\n",
       "      <td>0</td>\n",
       "      <td>0</td>\n",
       "      <td>0</td>\n",
       "      <td>0</td>\n",
       "      <td>0</td>\n",
       "      <td>0</td>\n",
       "      <td>0</td>\n",
       "      <td>0</td>\n",
       "      <td>1</td>\n",
       "      <td>0</td>\n",
       "      <td>0</td>\n",
       "      <td>0</td>\n",
       "      <td>1</td>\n",
       "      <td>0</td>\n",
       "      <td>0</td>\n",
       "      <td>0</td>\n",
       "      <td>1</td>\n",
       "      <td>0</td>\n",
       "      <td>1</td>\n",
       "      <td>0</td>\n",
       "      <td>0</td>\n",
       "    </tr>\n",
       "    <tr>\n",
       "      <th>1</th>\n",
       "      <td>8</td>\n",
       "      <td>1.34</td>\n",
       "      <td>898.94</td>\n",
       "      <td>0</td>\n",
       "      <td>0</td>\n",
       "      <td>0</td>\n",
       "      <td>127.677940</td>\n",
       "      <td>0</td>\n",
       "      <td>1</td>\n",
       "      <td>0</td>\n",
       "      <td>0</td>\n",
       "      <td>0</td>\n",
       "      <td>0</td>\n",
       "      <td>0</td>\n",
       "      <td>0</td>\n",
       "      <td>0</td>\n",
       "      <td>0</td>\n",
       "      <td>0</td>\n",
       "      <td>0</td>\n",
       "      <td>0</td>\n",
       "      <td>0</td>\n",
       "      <td>0</td>\n",
       "      <td>0</td>\n",
       "      <td>0</td>\n",
       "      <td>0</td>\n",
       "      <td>0</td>\n",
       "      <td>0</td>\n",
       "      <td>0</td>\n",
       "      <td>0</td>\n",
       "      <td>0</td>\n",
       "      <td>1</td>\n",
       "      <td>0</td>\n",
       "      <td>0</td>\n",
       "      <td>0</td>\n",
       "      <td>1</td>\n",
       "      <td>0</td>\n",
       "      <td>0</td>\n",
       "      <td>0</td>\n",
       "      <td>1</td>\n",
       "      <td>0</td>\n",
       "      <td>1</td>\n",
       "      <td>0</td>\n",
       "      <td>0</td>\n",
       "    </tr>\n",
       "    <tr>\n",
       "      <th>2</th>\n",
       "      <td>8</td>\n",
       "      <td>1.86</td>\n",
       "      <td>575.00</td>\n",
       "      <td>0</td>\n",
       "      <td>0</td>\n",
       "      <td>256</td>\n",
       "      <td>141.211998</td>\n",
       "      <td>0</td>\n",
       "      <td>0</td>\n",
       "      <td>0</td>\n",
       "      <td>0</td>\n",
       "      <td>0</td>\n",
       "      <td>0</td>\n",
       "      <td>0</td>\n",
       "      <td>1</td>\n",
       "      <td>0</td>\n",
       "      <td>0</td>\n",
       "      <td>0</td>\n",
       "      <td>0</td>\n",
       "      <td>0</td>\n",
       "      <td>0</td>\n",
       "      <td>0</td>\n",
       "      <td>0</td>\n",
       "      <td>0</td>\n",
       "      <td>0</td>\n",
       "      <td>0</td>\n",
       "      <td>0</td>\n",
       "      <td>0</td>\n",
       "      <td>0</td>\n",
       "      <td>1</td>\n",
       "      <td>0</td>\n",
       "      <td>0</td>\n",
       "      <td>0</td>\n",
       "      <td>0</td>\n",
       "      <td>1</td>\n",
       "      <td>0</td>\n",
       "      <td>0</td>\n",
       "      <td>0</td>\n",
       "      <td>1</td>\n",
       "      <td>0</td>\n",
       "      <td>0</td>\n",
       "      <td>1</td>\n",
       "      <td>0</td>\n",
       "    </tr>\n",
       "    <tr>\n",
       "      <th>3</th>\n",
       "      <td>16</td>\n",
       "      <td>1.83</td>\n",
       "      <td>2537.45</td>\n",
       "      <td>0</td>\n",
       "      <td>1</td>\n",
       "      <td>512</td>\n",
       "      <td>220.534624</td>\n",
       "      <td>0</td>\n",
       "      <td>1</td>\n",
       "      <td>0</td>\n",
       "      <td>0</td>\n",
       "      <td>0</td>\n",
       "      <td>0</td>\n",
       "      <td>0</td>\n",
       "      <td>0</td>\n",
       "      <td>0</td>\n",
       "      <td>0</td>\n",
       "      <td>0</td>\n",
       "      <td>0</td>\n",
       "      <td>0</td>\n",
       "      <td>0</td>\n",
       "      <td>0</td>\n",
       "      <td>0</td>\n",
       "      <td>0</td>\n",
       "      <td>0</td>\n",
       "      <td>0</td>\n",
       "      <td>0</td>\n",
       "      <td>0</td>\n",
       "      <td>0</td>\n",
       "      <td>0</td>\n",
       "      <td>1</td>\n",
       "      <td>0</td>\n",
       "      <td>0</td>\n",
       "      <td>0</td>\n",
       "      <td>0</td>\n",
       "      <td>1</td>\n",
       "      <td>0</td>\n",
       "      <td>1</td>\n",
       "      <td>0</td>\n",
       "      <td>0</td>\n",
       "      <td>1</td>\n",
       "      <td>0</td>\n",
       "      <td>0</td>\n",
       "    </tr>\n",
       "    <tr>\n",
       "      <th>4</th>\n",
       "      <td>8</td>\n",
       "      <td>1.37</td>\n",
       "      <td>1803.60</td>\n",
       "      <td>0</td>\n",
       "      <td>1</td>\n",
       "      <td>256</td>\n",
       "      <td>226.983005</td>\n",
       "      <td>0</td>\n",
       "      <td>1</td>\n",
       "      <td>0</td>\n",
       "      <td>0</td>\n",
       "      <td>0</td>\n",
       "      <td>0</td>\n",
       "      <td>0</td>\n",
       "      <td>0</td>\n",
       "      <td>0</td>\n",
       "      <td>0</td>\n",
       "      <td>0</td>\n",
       "      <td>0</td>\n",
       "      <td>0</td>\n",
       "      <td>0</td>\n",
       "      <td>0</td>\n",
       "      <td>0</td>\n",
       "      <td>0</td>\n",
       "      <td>0</td>\n",
       "      <td>0</td>\n",
       "      <td>0</td>\n",
       "      <td>0</td>\n",
       "      <td>0</td>\n",
       "      <td>0</td>\n",
       "      <td>1</td>\n",
       "      <td>0</td>\n",
       "      <td>0</td>\n",
       "      <td>0</td>\n",
       "      <td>1</td>\n",
       "      <td>0</td>\n",
       "      <td>0</td>\n",
       "      <td>0</td>\n",
       "      <td>1</td>\n",
       "      <td>0</td>\n",
       "      <td>1</td>\n",
       "      <td>0</td>\n",
       "      <td>0</td>\n",
       "    </tr>\n",
       "    <tr>\n",
       "      <th>...</th>\n",
       "      <td>...</td>\n",
       "      <td>...</td>\n",
       "      <td>...</td>\n",
       "      <td>...</td>\n",
       "      <td>...</td>\n",
       "      <td>...</td>\n",
       "      <td>...</td>\n",
       "      <td>...</td>\n",
       "      <td>...</td>\n",
       "      <td>...</td>\n",
       "      <td>...</td>\n",
       "      <td>...</td>\n",
       "      <td>...</td>\n",
       "      <td>...</td>\n",
       "      <td>...</td>\n",
       "      <td>...</td>\n",
       "      <td>...</td>\n",
       "      <td>...</td>\n",
       "      <td>...</td>\n",
       "      <td>...</td>\n",
       "      <td>...</td>\n",
       "      <td>...</td>\n",
       "      <td>...</td>\n",
       "      <td>...</td>\n",
       "      <td>...</td>\n",
       "      <td>...</td>\n",
       "      <td>...</td>\n",
       "      <td>...</td>\n",
       "      <td>...</td>\n",
       "      <td>...</td>\n",
       "      <td>...</td>\n",
       "      <td>...</td>\n",
       "      <td>...</td>\n",
       "      <td>...</td>\n",
       "      <td>...</td>\n",
       "      <td>...</td>\n",
       "      <td>...</td>\n",
       "      <td>...</td>\n",
       "      <td>...</td>\n",
       "      <td>...</td>\n",
       "      <td>...</td>\n",
       "      <td>...</td>\n",
       "      <td>...</td>\n",
       "    </tr>\n",
       "    <tr>\n",
       "      <th>1298</th>\n",
       "      <td>4</td>\n",
       "      <td>1.80</td>\n",
       "      <td>638.00</td>\n",
       "      <td>1</td>\n",
       "      <td>1</td>\n",
       "      <td>128</td>\n",
       "      <td>157.350512</td>\n",
       "      <td>0</td>\n",
       "      <td>0</td>\n",
       "      <td>0</td>\n",
       "      <td>0</td>\n",
       "      <td>0</td>\n",
       "      <td>0</td>\n",
       "      <td>0</td>\n",
       "      <td>0</td>\n",
       "      <td>0</td>\n",
       "      <td>0</td>\n",
       "      <td>1</td>\n",
       "      <td>0</td>\n",
       "      <td>0</td>\n",
       "      <td>0</td>\n",
       "      <td>0</td>\n",
       "      <td>0</td>\n",
       "      <td>0</td>\n",
       "      <td>0</td>\n",
       "      <td>0</td>\n",
       "      <td>1</td>\n",
       "      <td>0</td>\n",
       "      <td>0</td>\n",
       "      <td>0</td>\n",
       "      <td>0</td>\n",
       "      <td>0</td>\n",
       "      <td>0</td>\n",
       "      <td>0</td>\n",
       "      <td>0</td>\n",
       "      <td>1</td>\n",
       "      <td>0</td>\n",
       "      <td>0</td>\n",
       "      <td>1</td>\n",
       "      <td>0</td>\n",
       "      <td>0</td>\n",
       "      <td>0</td>\n",
       "      <td>1</td>\n",
       "    </tr>\n",
       "    <tr>\n",
       "      <th>1299</th>\n",
       "      <td>16</td>\n",
       "      <td>1.30</td>\n",
       "      <td>1499.00</td>\n",
       "      <td>1</td>\n",
       "      <td>1</td>\n",
       "      <td>512</td>\n",
       "      <td>276.053530</td>\n",
       "      <td>0</td>\n",
       "      <td>0</td>\n",
       "      <td>0</td>\n",
       "      <td>0</td>\n",
       "      <td>0</td>\n",
       "      <td>0</td>\n",
       "      <td>0</td>\n",
       "      <td>0</td>\n",
       "      <td>0</td>\n",
       "      <td>0</td>\n",
       "      <td>1</td>\n",
       "      <td>0</td>\n",
       "      <td>0</td>\n",
       "      <td>0</td>\n",
       "      <td>0</td>\n",
       "      <td>0</td>\n",
       "      <td>0</td>\n",
       "      <td>0</td>\n",
       "      <td>0</td>\n",
       "      <td>1</td>\n",
       "      <td>0</td>\n",
       "      <td>0</td>\n",
       "      <td>0</td>\n",
       "      <td>0</td>\n",
       "      <td>0</td>\n",
       "      <td>0</td>\n",
       "      <td>0</td>\n",
       "      <td>0</td>\n",
       "      <td>1</td>\n",
       "      <td>0</td>\n",
       "      <td>0</td>\n",
       "      <td>1</td>\n",
       "      <td>0</td>\n",
       "      <td>0</td>\n",
       "      <td>0</td>\n",
       "      <td>1</td>\n",
       "    </tr>\n",
       "    <tr>\n",
       "      <th>1300</th>\n",
       "      <td>2</td>\n",
       "      <td>1.50</td>\n",
       "      <td>229.00</td>\n",
       "      <td>0</td>\n",
       "      <td>0</td>\n",
       "      <td>0</td>\n",
       "      <td>111.935204</td>\n",
       "      <td>0</td>\n",
       "      <td>0</td>\n",
       "      <td>0</td>\n",
       "      <td>0</td>\n",
       "      <td>0</td>\n",
       "      <td>0</td>\n",
       "      <td>0</td>\n",
       "      <td>0</td>\n",
       "      <td>0</td>\n",
       "      <td>0</td>\n",
       "      <td>1</td>\n",
       "      <td>0</td>\n",
       "      <td>0</td>\n",
       "      <td>0</td>\n",
       "      <td>0</td>\n",
       "      <td>0</td>\n",
       "      <td>0</td>\n",
       "      <td>0</td>\n",
       "      <td>0</td>\n",
       "      <td>0</td>\n",
       "      <td>0</td>\n",
       "      <td>0</td>\n",
       "      <td>1</td>\n",
       "      <td>0</td>\n",
       "      <td>0</td>\n",
       "      <td>0</td>\n",
       "      <td>0</td>\n",
       "      <td>0</td>\n",
       "      <td>0</td>\n",
       "      <td>1</td>\n",
       "      <td>0</td>\n",
       "      <td>1</td>\n",
       "      <td>0</td>\n",
       "      <td>0</td>\n",
       "      <td>0</td>\n",
       "      <td>1</td>\n",
       "    </tr>\n",
       "    <tr>\n",
       "      <th>1301</th>\n",
       "      <td>6</td>\n",
       "      <td>2.19</td>\n",
       "      <td>764.00</td>\n",
       "      <td>0</td>\n",
       "      <td>0</td>\n",
       "      <td>0</td>\n",
       "      <td>100.454670</td>\n",
       "      <td>0</td>\n",
       "      <td>0</td>\n",
       "      <td>0</td>\n",
       "      <td>0</td>\n",
       "      <td>0</td>\n",
       "      <td>0</td>\n",
       "      <td>0</td>\n",
       "      <td>1</td>\n",
       "      <td>0</td>\n",
       "      <td>0</td>\n",
       "      <td>0</td>\n",
       "      <td>0</td>\n",
       "      <td>0</td>\n",
       "      <td>0</td>\n",
       "      <td>0</td>\n",
       "      <td>0</td>\n",
       "      <td>0</td>\n",
       "      <td>0</td>\n",
       "      <td>0</td>\n",
       "      <td>0</td>\n",
       "      <td>0</td>\n",
       "      <td>0</td>\n",
       "      <td>1</td>\n",
       "      <td>0</td>\n",
       "      <td>0</td>\n",
       "      <td>0</td>\n",
       "      <td>0</td>\n",
       "      <td>0</td>\n",
       "      <td>1</td>\n",
       "      <td>0</td>\n",
       "      <td>1</td>\n",
       "      <td>0</td>\n",
       "      <td>0</td>\n",
       "      <td>0</td>\n",
       "      <td>0</td>\n",
       "      <td>1</td>\n",
       "    </tr>\n",
       "    <tr>\n",
       "      <th>1302</th>\n",
       "      <td>4</td>\n",
       "      <td>2.20</td>\n",
       "      <td>369.00</td>\n",
       "      <td>0</td>\n",
       "      <td>0</td>\n",
       "      <td>0</td>\n",
       "      <td>100.454670</td>\n",
       "      <td>0</td>\n",
       "      <td>0</td>\n",
       "      <td>1</td>\n",
       "      <td>0</td>\n",
       "      <td>0</td>\n",
       "      <td>0</td>\n",
       "      <td>0</td>\n",
       "      <td>0</td>\n",
       "      <td>0</td>\n",
       "      <td>0</td>\n",
       "      <td>0</td>\n",
       "      <td>0</td>\n",
       "      <td>0</td>\n",
       "      <td>0</td>\n",
       "      <td>0</td>\n",
       "      <td>0</td>\n",
       "      <td>0</td>\n",
       "      <td>0</td>\n",
       "      <td>0</td>\n",
       "      <td>0</td>\n",
       "      <td>0</td>\n",
       "      <td>0</td>\n",
       "      <td>1</td>\n",
       "      <td>0</td>\n",
       "      <td>0</td>\n",
       "      <td>0</td>\n",
       "      <td>0</td>\n",
       "      <td>0</td>\n",
       "      <td>0</td>\n",
       "      <td>1</td>\n",
       "      <td>0</td>\n",
       "      <td>1</td>\n",
       "      <td>0</td>\n",
       "      <td>0</td>\n",
       "      <td>0</td>\n",
       "      <td>1</td>\n",
       "    </tr>\n",
       "  </tbody>\n",
       "</table>\n",
       "<p>1302 rows × 43 columns</p>\n",
       "</div>"
      ],
      "text/plain": [
       "      Ram  Weight  Price_euros  Touchscreen  IPS  SSD         PPI  \\\n",
       "0       8    1.37      1339.69            0    1  128  226.983005   \n",
       "1       8    1.34       898.94            0    0    0  127.677940   \n",
       "2       8    1.86       575.00            0    0  256  141.211998   \n",
       "3      16    1.83      2537.45            0    1  512  220.534624   \n",
       "4       8    1.37      1803.60            0    1  256  226.983005   \n",
       "...   ...     ...          ...          ...  ...  ...         ...   \n",
       "1298    4    1.80       638.00            1    1  128  157.350512   \n",
       "1299   16    1.30      1499.00            1    1  512  276.053530   \n",
       "1300    2    1.50       229.00            0    0    0  111.935204   \n",
       "1301    6    2.19       764.00            0    0    0  100.454670   \n",
       "1302    4    2.20       369.00            0    0    0  100.454670   \n",
       "\n",
       "      Company_Acer  Company_Apple  Company_Asus  Company_Chuwi  Company_Dell  \\\n",
       "0                0              1             0              0             0   \n",
       "1                0              1             0              0             0   \n",
       "2                0              0             0              0             0   \n",
       "3                0              1             0              0             0   \n",
       "4                0              1             0              0             0   \n",
       "...            ...            ...           ...            ...           ...   \n",
       "1298             0              0             0              0             0   \n",
       "1299             0              0             0              0             0   \n",
       "1300             0              0             0              0             0   \n",
       "1301             0              0             0              0             0   \n",
       "1302             0              0             1              0             0   \n",
       "\n",
       "      Company_Fujitsu  Company_Google  Company_HP  Company_Huawei  Company_LG  \\\n",
       "0                   0               0           0               0           0   \n",
       "1                   0               0           0               0           0   \n",
       "2                   0               0           1               0           0   \n",
       "3                   0               0           0               0           0   \n",
       "4                   0               0           0               0           0   \n",
       "...               ...             ...         ...             ...         ...   \n",
       "1298                0               0           0               0           0   \n",
       "1299                0               0           0               0           0   \n",
       "1300                0               0           0               0           0   \n",
       "1301                0               0           1               0           0   \n",
       "1302                0               0           0               0           0   \n",
       "\n",
       "      Company_Lenovo  Company_MSI  Company_Mediacom  Company_Microsoft  \\\n",
       "0                  0            0                 0                  0   \n",
       "1                  0            0                 0                  0   \n",
       "2                  0            0                 0                  0   \n",
       "3                  0            0                 0                  0   \n",
       "4                  0            0                 0                  0   \n",
       "...              ...          ...               ...                ...   \n",
       "1298               1            0                 0                  0   \n",
       "1299               1            0                 0                  0   \n",
       "1300               1            0                 0                  0   \n",
       "1301               0            0                 0                  0   \n",
       "1302               0            0                 0                  0   \n",
       "\n",
       "      Company_Razer  Company_Samsung  Company_Toshiba  Company_Vero  \\\n",
       "0                 0                0                0             0   \n",
       "1                 0                0                0             0   \n",
       "2                 0                0                0             0   \n",
       "3                 0                0                0             0   \n",
       "4                 0                0                0             0   \n",
       "...             ...              ...              ...           ...   \n",
       "1298              0                0                0             0   \n",
       "1299              0                0                0             0   \n",
       "1300              0                0                0             0   \n",
       "1301              0                0                0             0   \n",
       "1302              0                0                0             0   \n",
       "\n",
       "      Company_Xiaomi  TypeName_2 in 1 Convertible  TypeName_Gaming  \\\n",
       "0                  0                            0                0   \n",
       "1                  0                            0                0   \n",
       "2                  0                            0                0   \n",
       "3                  0                            0                0   \n",
       "4                  0                            0                0   \n",
       "...              ...                          ...              ...   \n",
       "1298               0                            1                0   \n",
       "1299               0                            1                0   \n",
       "1300               0                            0                0   \n",
       "1301               0                            0                0   \n",
       "1302               0                            0                0   \n",
       "\n",
       "      TypeName_Netbook  TypeName_Notebook  TypeName_Ultrabook  \\\n",
       "0                    0                  0                   1   \n",
       "1                    0                  0                   1   \n",
       "2                    0                  1                   0   \n",
       "3                    0                  0                   1   \n",
       "4                    0                  0                   1   \n",
       "...                ...                ...                 ...   \n",
       "1298                 0                  0                   0   \n",
       "1299                 0                  0                   0   \n",
       "1300                 0                  1                   0   \n",
       "1301                 0                  1                   0   \n",
       "1302                 0                  1                   0   \n",
       "\n",
       "      TypeName_Workstation  Cpu_Processor_AMD Processor  \\\n",
       "0                        0                            0   \n",
       "1                        0                            0   \n",
       "2                        0                            0   \n",
       "3                        0                            0   \n",
       "4                        0                            0   \n",
       "...                    ...                          ...   \n",
       "1298                     0                            0   \n",
       "1299                     0                            0   \n",
       "1300                     0                            0   \n",
       "1301                     0                            0   \n",
       "1302                     0                            0   \n",
       "\n",
       "      Cpu_Processor_Intel Core i3  Cpu_Processor_Intel Core i5  \\\n",
       "0                               0                            1   \n",
       "1                               0                            1   \n",
       "2                               0                            1   \n",
       "3                               0                            0   \n",
       "4                               0                            1   \n",
       "...                           ...                          ...   \n",
       "1298                            0                            0   \n",
       "1299                            0                            0   \n",
       "1300                            0                            0   \n",
       "1301                            0                            0   \n",
       "1302                            0                            0   \n",
       "\n",
       "      Cpu_Processor_Intel Core i7  Cpu_Processor_Other Intel Processor  \\\n",
       "0                               0                                    0   \n",
       "1                               0                                    0   \n",
       "2                               0                                    0   \n",
       "3                               1                                    0   \n",
       "4                               0                                    0   \n",
       "...                           ...                                  ...   \n",
       "1298                            1                                    0   \n",
       "1299                            1                                    0   \n",
       "1300                            0                                    1   \n",
       "1301                            1                                    0   \n",
       "1302                            0                                    1   \n",
       "\n",
       "      Gpu_brand_AMD  Gpu_brand_Intel  Gpu_brand_Nvidia  Op_sys_Mac  \\\n",
       "0                 0                1                 0           1   \n",
       "1                 0                1                 0           1   \n",
       "2                 0                1                 0           0   \n",
       "3                 1                0                 0           1   \n",
       "4                 0                1                 0           1   \n",
       "...             ...              ...               ...         ...   \n",
       "1298              0                1                 0           0   \n",
       "1299              0                1                 0           0   \n",
       "1300              0                1                 0           0   \n",
       "1301              1                0                 0           0   \n",
       "1302              0                1                 0           0   \n",
       "\n",
       "      Op_sys_Others/No OS/Linux  Op_sys_Windows  \n",
       "0                             0               0  \n",
       "1                             0               0  \n",
       "2                             1               0  \n",
       "3                             0               0  \n",
       "4                             0               0  \n",
       "...                         ...             ...  \n",
       "1298                          0               1  \n",
       "1299                          0               1  \n",
       "1300                          0               1  \n",
       "1301                          0               1  \n",
       "1302                          0               1  \n",
       "\n",
       "[1302 rows x 43 columns]"
      ]
     },
     "execution_count": 446,
     "metadata": {},
     "output_type": "execute_result"
    }
   ],
   "source": [
    "new_data"
   ]
  },
  {
   "cell_type": "code",
   "execution_count": 412,
   "id": "b970704a",
   "metadata": {},
   "outputs": [
    {
     "data": {
      "text/plain": [
       "array([ 1.40023114e-01,  5.48553214e-02, -3.59786205e-02,  1.99810627e-02,\n",
       "        1.15657783e-01,  9.57641775e-02, -3.17915760e+10, -8.06362625e+10,\n",
       "       -3.70761036e+10, -6.22347506e+09, -4.92507927e+10, -6.22347506e+09,\n",
       "       -5.08389323e+09, -4.68358730e+10, -5.08389323e+09, -5.08389323e+09,\n",
       "       -4.86102205e+10, -2.31032537e+10, -8.78859496e+09, -6.22347506e+09,\n",
       "       -9.48818052e+09, -8.78859496e+09, -2.25821651e+10, -7.18278758e+09,\n",
       "       -6.22347506e+09, -1.91141645e+10, -2.48392130e+10, -9.99727443e+09,\n",
       "       -3.37526853e+10, -2.43399547e+10, -9.78232842e+09,  1.07526555e+11,\n",
       "        1.58231799e+11,  2.33793186e+11,  2.47069658e+11,  1.61745265e+11,\n",
       "       -8.33189418e+10, -1.18995546e+11, -1.10397424e+11, -1.80239683e+09,\n",
       "       -1.71872461e+11, -1.81752039e+11])"
      ]
     },
     "execution_count": 412,
     "metadata": {},
     "output_type": "execute_result"
    }
   ],
   "source": [
    "model.coef_"
   ]
  },
  {
   "cell_type": "code",
   "execution_count": 413,
   "id": "2dbd128e",
   "metadata": {},
   "outputs": [
    {
     "data": {
      "text/plain": [
       "83.7"
      ]
     },
     "execution_count": 413,
     "metadata": {},
     "output_type": "execute_result"
    }
   ],
   "source": [
    "round(model.score(X_train,y_train)*100,2)"
   ]
  },
  {
   "cell_type": "code",
   "execution_count": 414,
   "id": "cb72176e",
   "metadata": {},
   "outputs": [
    {
     "data": {
      "text/plain": [
       "80.08"
      ]
     },
     "execution_count": 414,
     "metadata": {},
     "output_type": "execute_result"
    }
   ],
   "source": [
    "round(model.score(X_test,y_test)*100,2)"
   ]
  },
  {
   "cell_type": "code",
   "execution_count": 415,
   "id": "cf44e464",
   "metadata": {},
   "outputs": [
    {
     "data": {
      "text/plain": [
       "0.20400739661557676"
      ]
     },
     "execution_count": 415,
     "metadata": {},
     "output_type": "execute_result"
    }
   ],
   "source": [
    "mean_absolute_error(y_test,y_pred)"
   ]
  },
  {
   "cell_type": "code",
   "execution_count": 416,
   "id": "5d5d808b",
   "metadata": {},
   "outputs": [
    {
     "data": {
      "text/plain": [
       "0.8008189296338997"
      ]
     },
     "execution_count": 416,
     "metadata": {},
     "output_type": "execute_result"
    }
   ],
   "source": [
    "r2_score(y_test,y_pred)"
   ]
  },
  {
   "cell_type": "code",
   "execution_count": 417,
   "id": "a74320ef",
   "metadata": {},
   "outputs": [
    {
     "name": "stdout",
     "output_type": "stream",
     "text": [
      "Training-model Accuracy: 83.7\n",
      "Testing-model Accuracy: 80.08\n",
      "Mean Absolute error of testing data: 0.20400739661557676\n",
      "R2 score 0.8008189296338997\n"
     ]
    }
   ],
   "source": [
    " def compare_train_test(modell):\n",
    "    y_train_pred = model.predict(X_train)\n",
    "    y_test_pred= model.predict(X_test)\n",
    "    print(\"Training-model Accuracy:\",round(model.score(X_train,y_train)*100,2))\n",
    "    print(\"Testing-model Accuracy:\",round(model.score(X_test,y_test)*100,2))\n",
    "    print('Mean Absolute error of testing data:',mean_absolute_error(y_test,y_pred))\n",
    "    print(\"R2 score\",r2_score(y_test,y_pred))\n",
    "    \n",
    "compare_train_test(model)    \n",
    "    "
   ]
  },
  {
   "cell_type": "code",
   "execution_count": 418,
   "id": "18d24012",
   "metadata": {},
   "outputs": [
    {
     "name": "stdout",
     "output_type": "stream",
     "text": [
      "Training-model Accuracy: 83.7\n",
      "Testing-model Accuracy: 80.08\n",
      "Mean Absolute error of testing data: 0.20400739661557676\n",
      "R2 score 0.8008189296338997\n",
      "1\n",
      "Training-model Accuracy: 83.7\n",
      "Testing-model Accuracy: 80.08\n",
      "Mean Absolute error of testing data: 0.20400739661557676\n",
      "R2 score 0.8008189296338997\n",
      "2\n",
      "Training-model Accuracy: 83.7\n",
      "Testing-model Accuracy: 80.08\n",
      "Mean Absolute error of testing data: 0.20400739661557676\n",
      "R2 score 0.8008189296338997\n",
      "3\n",
      "Training-model Accuracy: 83.7\n",
      "Testing-model Accuracy: 80.08\n",
      "Mean Absolute error of testing data: 0.20400739661557676\n",
      "R2 score 0.8008189296338997\n",
      "4\n",
      "Training-model Accuracy: 83.7\n",
      "Testing-model Accuracy: 80.08\n",
      "Mean Absolute error of testing data: 0.20400739661557676\n",
      "R2 score 0.8008189296338997\n",
      "5\n",
      "Training-model Accuracy: 83.7\n",
      "Testing-model Accuracy: 80.08\n",
      "Mean Absolute error of testing data: 0.20400739661557676\n",
      "R2 score 0.8008189296338997\n",
      "6\n",
      "Training-model Accuracy: 83.7\n",
      "Testing-model Accuracy: 80.08\n",
      "Mean Absolute error of testing data: 0.20400739661557676\n",
      "R2 score 0.8008189296338997\n",
      "7\n",
      "Training-model Accuracy: 83.7\n",
      "Testing-model Accuracy: 80.08\n",
      "Mean Absolute error of testing data: 0.20400739661557676\n",
      "R2 score 0.8008189296338997\n",
      "8\n",
      "Training-model Accuracy: 83.7\n",
      "Testing-model Accuracy: 80.08\n",
      "Mean Absolute error of testing data: 0.20400739661557676\n",
      "R2 score 0.8008189296338997\n",
      "9\n",
      "Training-model Accuracy: 83.7\n",
      "Testing-model Accuracy: 80.08\n",
      "Mean Absolute error of testing data: 0.20400739661557676\n",
      "R2 score 0.8008189296338997\n",
      "10\n",
      "Training-model Accuracy: 83.7\n",
      "Testing-model Accuracy: 80.08\n",
      "Mean Absolute error of testing data: 0.20400739661557676\n",
      "R2 score 0.8008189296338997\n",
      "11\n",
      "Training-model Accuracy: 83.7\n",
      "Testing-model Accuracy: 80.08\n",
      "Mean Absolute error of testing data: 0.20400739661557676\n",
      "R2 score 0.8008189296338997\n",
      "12\n",
      "Training-model Accuracy: 83.7\n",
      "Testing-model Accuracy: 80.08\n",
      "Mean Absolute error of testing data: 0.20400739661557676\n",
      "R2 score 0.8008189296338997\n",
      "13\n",
      "Training-model Accuracy: 83.7\n",
      "Testing-model Accuracy: 80.08\n",
      "Mean Absolute error of testing data: 0.20400739661557676\n",
      "R2 score 0.8008189296338997\n",
      "14\n",
      "Training-model Accuracy: 83.7\n",
      "Testing-model Accuracy: 80.08\n",
      "Mean Absolute error of testing data: 0.20400739661557676\n",
      "R2 score 0.8008189296338997\n",
      "15\n",
      "Training-model Accuracy: 83.7\n",
      "Testing-model Accuracy: 80.08\n",
      "Mean Absolute error of testing data: 0.20400739661557676\n",
      "R2 score 0.8008189296338997\n",
      "16\n",
      "Training-model Accuracy: 83.7\n",
      "Testing-model Accuracy: 80.08\n",
      "Mean Absolute error of testing data: 0.20400739661557676\n",
      "R2 score 0.8008189296338997\n",
      "17\n",
      "Training-model Accuracy: 83.7\n",
      "Testing-model Accuracy: 80.08\n",
      "Mean Absolute error of testing data: 0.20400739661557676\n",
      "R2 score 0.8008189296338997\n",
      "18\n",
      "Training-model Accuracy: 83.7\n",
      "Testing-model Accuracy: 80.08\n",
      "Mean Absolute error of testing data: 0.20400739661557676\n",
      "R2 score 0.8008189296338997\n",
      "19\n",
      "Training-model Accuracy: 83.7\n",
      "Testing-model Accuracy: 80.08\n",
      "Mean Absolute error of testing data: 0.20400739661557676\n",
      "R2 score 0.8008189296338997\n",
      "20\n",
      "Training-model Accuracy: 83.7\n",
      "Testing-model Accuracy: 80.08\n",
      "Mean Absolute error of testing data: 0.20400739661557676\n",
      "R2 score 0.8008189296338997\n",
      "21\n",
      "Training-model Accuracy: 83.7\n",
      "Testing-model Accuracy: 80.08\n",
      "Mean Absolute error of testing data: 0.20400739661557676\n",
      "R2 score 0.8008189296338997\n",
      "22\n",
      "Training-model Accuracy: 83.7\n",
      "Testing-model Accuracy: 80.08\n",
      "Mean Absolute error of testing data: 0.20400739661557676\n",
      "R2 score 0.8008189296338997\n",
      "23\n",
      "Training-model Accuracy: 83.7\n",
      "Testing-model Accuracy: 80.08\n",
      "Mean Absolute error of testing data: 0.20400739661557676\n",
      "R2 score 0.8008189296338997\n",
      "24\n",
      "Training-model Accuracy: 83.7\n",
      "Testing-model Accuracy: 80.08\n",
      "Mean Absolute error of testing data: 0.20400739661557676\n",
      "R2 score 0.8008189296338997\n",
      "25\n",
      "Training-model Accuracy: 83.7\n",
      "Testing-model Accuracy: 80.08\n",
      "Mean Absolute error of testing data: 0.20400739661557676\n",
      "R2 score 0.8008189296338997\n",
      "26\n",
      "Training-model Accuracy: 83.7\n",
      "Testing-model Accuracy: 80.08\n",
      "Mean Absolute error of testing data: 0.20400739661557676\n",
      "R2 score 0.8008189296338997\n",
      "27\n",
      "Training-model Accuracy: 83.7\n",
      "Testing-model Accuracy: 80.08\n",
      "Mean Absolute error of testing data: 0.20400739661557676\n",
      "R2 score 0.8008189296338997\n",
      "28\n",
      "Training-model Accuracy: 83.7\n",
      "Testing-model Accuracy: 80.08\n",
      "Mean Absolute error of testing data: 0.20400739661557676\n",
      "R2 score 0.8008189296338997\n",
      "29\n",
      "Training-model Accuracy: 83.7\n",
      "Testing-model Accuracy: 80.08\n",
      "Mean Absolute error of testing data: 0.20400739661557676\n",
      "R2 score 0.8008189296338997\n",
      "30\n",
      "Training-model Accuracy: 83.7\n",
      "Testing-model Accuracy: 80.08\n",
      "Mean Absolute error of testing data: 0.20400739661557676\n",
      "R2 score 0.8008189296338997\n",
      "31\n",
      "Training-model Accuracy: 83.7\n",
      "Testing-model Accuracy: 80.08\n",
      "Mean Absolute error of testing data: 0.20400739661557676\n",
      "R2 score 0.8008189296338997\n",
      "32\n",
      "Training-model Accuracy: 83.7\n",
      "Testing-model Accuracy: 80.08\n",
      "Mean Absolute error of testing data: 0.20400739661557676\n",
      "R2 score 0.8008189296338997\n",
      "33\n",
      "Training-model Accuracy: 83.7\n",
      "Testing-model Accuracy: 80.08\n",
      "Mean Absolute error of testing data: 0.20400739661557676\n",
      "R2 score 0.8008189296338997\n",
      "34\n",
      "Training-model Accuracy: 83.7\n",
      "Testing-model Accuracy: 80.08\n",
      "Mean Absolute error of testing data: 0.20400739661557676\n",
      "R2 score 0.8008189296338997\n",
      "35\n",
      "Training-model Accuracy: 83.7\n",
      "Testing-model Accuracy: 80.08\n",
      "Mean Absolute error of testing data: 0.20400739661557676\n",
      "R2 score 0.8008189296338997\n",
      "36\n",
      "Training-model Accuracy: 83.7\n",
      "Testing-model Accuracy: 80.08\n",
      "Mean Absolute error of testing data: 0.20400739661557676\n",
      "R2 score 0.8008189296338997\n",
      "37\n",
      "Training-model Accuracy: 83.7\n",
      "Testing-model Accuracy: 80.08\n",
      "Mean Absolute error of testing data: 0.20400739661557676\n",
      "R2 score 0.8008189296338997\n",
      "38\n",
      "Training-model Accuracy: 83.7\n",
      "Testing-model Accuracy: 80.08\n",
      "Mean Absolute error of testing data: 0.20400739661557676\n",
      "R2 score 0.8008189296338997\n",
      "39\n",
      "Training-model Accuracy: 83.7\n",
      "Testing-model Accuracy: 80.08\n",
      "Mean Absolute error of testing data: 0.20400739661557676\n",
      "R2 score 0.8008189296338997\n",
      "40\n",
      "Training-model Accuracy: 83.7\n",
      "Testing-model Accuracy: 80.08\n",
      "Mean Absolute error of testing data: 0.20400739661557676\n",
      "R2 score 0.8008189296338997\n",
      "41\n",
      "Training-model Accuracy: 83.7\n",
      "Testing-model Accuracy: 80.08\n",
      "Mean Absolute error of testing data: 0.20400739661557676\n",
      "R2 score 0.8008189296338997\n",
      "42\n",
      "Training-model Accuracy: 83.7\n",
      "Testing-model Accuracy: 80.08\n",
      "Mean Absolute error of testing data: 0.20400739661557676\n",
      "R2 score 0.8008189296338997\n",
      "43\n",
      "Training-model Accuracy: 83.7\n",
      "Testing-model Accuracy: 80.08\n",
      "Mean Absolute error of testing data: 0.20400739661557676\n",
      "R2 score 0.8008189296338997\n",
      "44\n",
      "Training-model Accuracy: 83.7\n",
      "Testing-model Accuracy: 80.08\n",
      "Mean Absolute error of testing data: 0.20400739661557676\n",
      "R2 score 0.8008189296338997\n",
      "45\n",
      "Training-model Accuracy: 83.7\n",
      "Testing-model Accuracy: 80.08\n",
      "Mean Absolute error of testing data: 0.20400739661557676\n",
      "R2 score 0.8008189296338997\n",
      "46\n",
      "Training-model Accuracy: 83.7\n",
      "Testing-model Accuracy: 80.08\n",
      "Mean Absolute error of testing data: 0.20400739661557676\n",
      "R2 score 0.8008189296338997\n",
      "47\n",
      "Training-model Accuracy: 83.7\n",
      "Testing-model Accuracy: 80.08\n",
      "Mean Absolute error of testing data: 0.20400739661557676\n",
      "R2 score 0.8008189296338997\n",
      "48\n",
      "Training-model Accuracy: 83.7\n",
      "Testing-model Accuracy: 80.08\n",
      "Mean Absolute error of testing data: 0.20400739661557676\n",
      "R2 score 0.8008189296338997\n",
      "49\n",
      "Training-model Accuracy: 83.7\n",
      "Testing-model Accuracy: 80.08\n",
      "Mean Absolute error of testing data: 0.20400739661557676\n",
      "R2 score 0.8008189296338997\n",
      "50\n",
      "Training-model Accuracy: 83.7\n",
      "Testing-model Accuracy: 80.08\n",
      "Mean Absolute error of testing data: 0.20400739661557676\n",
      "R2 score 0.8008189296338997\n",
      "51\n",
      "Training-model Accuracy: 83.7\n",
      "Testing-model Accuracy: 80.08\n",
      "Mean Absolute error of testing data: 0.20400739661557676\n",
      "R2 score 0.8008189296338997\n",
      "52\n",
      "Training-model Accuracy: 83.7\n",
      "Testing-model Accuracy: 80.08\n",
      "Mean Absolute error of testing data: 0.20400739661557676\n",
      "R2 score 0.8008189296338997\n",
      "53\n",
      "Training-model Accuracy: 83.7\n",
      "Testing-model Accuracy: 80.08\n",
      "Mean Absolute error of testing data: 0.20400739661557676\n",
      "R2 score 0.8008189296338997\n",
      "54\n",
      "Training-model Accuracy: 83.7\n",
      "Testing-model Accuracy: 80.08\n",
      "Mean Absolute error of testing data: 0.20400739661557676\n",
      "R2 score 0.8008189296338997\n",
      "55\n",
      "Training-model Accuracy: 83.7\n",
      "Testing-model Accuracy: 80.08\n",
      "Mean Absolute error of testing data: 0.20400739661557676\n",
      "R2 score 0.8008189296338997\n",
      "56\n",
      "Training-model Accuracy: 83.7\n",
      "Testing-model Accuracy: 80.08\n",
      "Mean Absolute error of testing data: 0.20400739661557676\n",
      "R2 score 0.8008189296338997\n",
      "57\n",
      "Training-model Accuracy: 83.7\n",
      "Testing-model Accuracy: 80.08\n",
      "Mean Absolute error of testing data: 0.20400739661557676\n",
      "R2 score 0.8008189296338997\n",
      "58\n",
      "Training-model Accuracy: 83.7\n",
      "Testing-model Accuracy: 80.08\n",
      "Mean Absolute error of testing data: 0.20400739661557676\n",
      "R2 score 0.8008189296338997\n",
      "59\n",
      "Training-model Accuracy: 83.7\n",
      "Testing-model Accuracy: 80.08\n",
      "Mean Absolute error of testing data: 0.20400739661557676\n",
      "R2 score 0.8008189296338997\n",
      "60\n",
      "Training-model Accuracy: 83.7\n",
      "Testing-model Accuracy: 80.08\n",
      "Mean Absolute error of testing data: 0.20400739661557676\n",
      "R2 score 0.8008189296338997\n",
      "61\n",
      "Training-model Accuracy: 83.7\n",
      "Testing-model Accuracy: 80.08\n",
      "Mean Absolute error of testing data: 0.20400739661557676\n",
      "R2 score 0.8008189296338997\n",
      "62\n",
      "Training-model Accuracy: 83.7\n",
      "Testing-model Accuracy: 80.08\n",
      "Mean Absolute error of testing data: 0.20400739661557676\n",
      "R2 score 0.8008189296338997\n",
      "63\n",
      "Training-model Accuracy: 83.7\n",
      "Testing-model Accuracy: 80.08\n",
      "Mean Absolute error of testing data: 0.20400739661557676\n",
      "R2 score 0.8008189296338997\n",
      "64\n",
      "Training-model Accuracy: 83.7\n",
      "Testing-model Accuracy: 80.08\n",
      "Mean Absolute error of testing data: 0.20400739661557676\n",
      "R2 score 0.8008189296338997\n",
      "65\n",
      "Training-model Accuracy: 83.7\n",
      "Testing-model Accuracy: 80.08\n",
      "Mean Absolute error of testing data: 0.20400739661557676\n",
      "R2 score 0.8008189296338997\n",
      "66\n",
      "Training-model Accuracy: 83.7\n",
      "Testing-model Accuracy: 80.08\n",
      "Mean Absolute error of testing data: 0.20400739661557676\n",
      "R2 score 0.8008189296338997\n",
      "67\n",
      "Training-model Accuracy: 83.7\n",
      "Testing-model Accuracy: 80.08\n",
      "Mean Absolute error of testing data: 0.20400739661557676\n",
      "R2 score 0.8008189296338997\n",
      "68\n",
      "Training-model Accuracy: 83.7\n",
      "Testing-model Accuracy: 80.08\n",
      "Mean Absolute error of testing data: 0.20400739661557676\n",
      "R2 score 0.8008189296338997\n",
      "69\n",
      "Training-model Accuracy: 83.7\n",
      "Testing-model Accuracy: 80.08\n",
      "Mean Absolute error of testing data: 0.20400739661557676\n",
      "R2 score 0.8008189296338997\n",
      "70\n",
      "Training-model Accuracy: 83.7\n",
      "Testing-model Accuracy: 80.08\n",
      "Mean Absolute error of testing data: 0.20400739661557676\n",
      "R2 score 0.8008189296338997\n",
      "71\n",
      "Training-model Accuracy: 83.7\n",
      "Testing-model Accuracy: 80.08\n",
      "Mean Absolute error of testing data: 0.20400739661557676\n",
      "R2 score 0.8008189296338997\n",
      "72\n",
      "Training-model Accuracy: 83.7\n",
      "Testing-model Accuracy: 80.08\n",
      "Mean Absolute error of testing data: 0.20400739661557676\n",
      "R2 score 0.8008189296338997\n",
      "73\n",
      "Training-model Accuracy: 83.7\n",
      "Testing-model Accuracy: 80.08\n",
      "Mean Absolute error of testing data: 0.20400739661557676\n",
      "R2 score 0.8008189296338997\n",
      "74\n",
      "Training-model Accuracy: 83.7\n",
      "Testing-model Accuracy: 80.08\n",
      "Mean Absolute error of testing data: 0.20400739661557676\n",
      "R2 score 0.8008189296338997\n",
      "75\n",
      "Training-model Accuracy: 83.7\n",
      "Testing-model Accuracy: 80.08\n",
      "Mean Absolute error of testing data: 0.20400739661557676\n",
      "R2 score 0.8008189296338997\n",
      "76\n",
      "Training-model Accuracy: 83.7\n",
      "Testing-model Accuracy: 80.08\n",
      "Mean Absolute error of testing data: 0.20400739661557676\n",
      "R2 score 0.8008189296338997\n",
      "77\n",
      "Training-model Accuracy: 83.7\n",
      "Testing-model Accuracy: 80.08\n",
      "Mean Absolute error of testing data: 0.20400739661557676\n",
      "R2 score 0.8008189296338997\n",
      "78\n",
      "Training-model Accuracy: 83.7\n",
      "Testing-model Accuracy: 80.08\n",
      "Mean Absolute error of testing data: 0.20400739661557676\n",
      "R2 score 0.8008189296338997\n",
      "79\n",
      "Training-model Accuracy: 83.7\n",
      "Testing-model Accuracy: 80.08\n",
      "Mean Absolute error of testing data: 0.20400739661557676\n",
      "R2 score 0.8008189296338997\n",
      "80\n",
      "Training-model Accuracy: 83.7\n",
      "Testing-model Accuracy: 80.08\n",
      "Mean Absolute error of testing data: 0.20400739661557676\n",
      "R2 score 0.8008189296338997\n",
      "81\n",
      "Training-model Accuracy: 83.7\n",
      "Testing-model Accuracy: 80.08\n",
      "Mean Absolute error of testing data: 0.20400739661557676\n",
      "R2 score 0.8008189296338997\n",
      "82\n",
      "Training-model Accuracy: 83.7\n",
      "Testing-model Accuracy: 80.08\n",
      "Mean Absolute error of testing data: 0.20400739661557676\n",
      "R2 score 0.8008189296338997\n",
      "83\n",
      "Training-model Accuracy: 83.7\n",
      "Testing-model Accuracy: 80.08\n",
      "Mean Absolute error of testing data: 0.20400739661557676\n",
      "R2 score 0.8008189296338997\n",
      "84\n",
      "Training-model Accuracy: 83.7\n",
      "Testing-model Accuracy: 80.08\n",
      "Mean Absolute error of testing data: 0.20400739661557676\n",
      "R2 score 0.8008189296338997\n",
      "85\n",
      "Training-model Accuracy: 83.7\n",
      "Testing-model Accuracy: 80.08\n",
      "Mean Absolute error of testing data: 0.20400739661557676\n",
      "R2 score 0.8008189296338997\n",
      "86\n",
      "Training-model Accuracy: 83.7\n",
      "Testing-model Accuracy: 80.08\n",
      "Mean Absolute error of testing data: 0.20400739661557676\n",
      "R2 score 0.8008189296338997\n",
      "87\n",
      "Training-model Accuracy: 83.7\n",
      "Testing-model Accuracy: 80.08\n",
      "Mean Absolute error of testing data: 0.20400739661557676\n",
      "R2 score 0.8008189296338997\n",
      "88\n",
      "Training-model Accuracy: 83.7\n",
      "Testing-model Accuracy: 80.08\n",
      "Mean Absolute error of testing data: 0.20400739661557676\n",
      "R2 score 0.8008189296338997\n",
      "89\n",
      "Training-model Accuracy: 83.7\n",
      "Testing-model Accuracy: 80.08\n",
      "Mean Absolute error of testing data: 0.20400739661557676\n",
      "R2 score 0.8008189296338997\n",
      "90\n",
      "Training-model Accuracy: 83.7\n",
      "Testing-model Accuracy: 80.08\n",
      "Mean Absolute error of testing data: 0.20400739661557676\n",
      "R2 score 0.8008189296338997\n",
      "91\n",
      "Training-model Accuracy: 83.7\n",
      "Testing-model Accuracy: 80.08\n",
      "Mean Absolute error of testing data: 0.20400739661557676\n",
      "R2 score 0.8008189296338997\n",
      "92\n",
      "Training-model Accuracy: 83.7\n",
      "Testing-model Accuracy: 80.08\n",
      "Mean Absolute error of testing data: 0.20400739661557676\n",
      "R2 score 0.8008189296338997\n",
      "93\n",
      "Training-model Accuracy: 83.7\n",
      "Testing-model Accuracy: 80.08\n",
      "Mean Absolute error of testing data: 0.20400739661557676\n",
      "R2 score 0.8008189296338997\n",
      "94\n",
      "Training-model Accuracy: 83.7\n",
      "Testing-model Accuracy: 80.08\n",
      "Mean Absolute error of testing data: 0.20400739661557676\n",
      "R2 score 0.8008189296338997\n",
      "95\n",
      "Training-model Accuracy: 83.7\n",
      "Testing-model Accuracy: 80.08\n",
      "Mean Absolute error of testing data: 0.20400739661557676\n",
      "R2 score 0.8008189296338997\n",
      "96\n",
      "Training-model Accuracy: 83.7\n",
      "Testing-model Accuracy: 80.08\n",
      "Mean Absolute error of testing data: 0.20400739661557676\n",
      "R2 score 0.8008189296338997\n",
      "97\n",
      "Training-model Accuracy: 83.7\n",
      "Testing-model Accuracy: 80.08\n",
      "Mean Absolute error of testing data: 0.20400739661557676\n",
      "R2 score 0.8008189296338997\n",
      "98\n",
      "Training-model Accuracy: 83.7\n",
      "Testing-model Accuracy: 80.08\n",
      "Mean Absolute error of testing data: 0.20400739661557676\n",
      "R2 score 0.8008189296338997\n",
      "99\n",
      "Training-model Accuracy: 83.7\n",
      "Testing-model Accuracy: 80.08\n",
      "Mean Absolute error of testing data: 0.20400739661557676\n",
      "R2 score 0.8008189296338997\n",
      "100\n"
     ]
    }
   ],
   "source": [
    "def random_state_comp(l,u):\n",
    "    for i in range(l,u+1):\n",
    "        X_train,X_test,y_train,y_test = train_test_split(X,y,test_size=0.15,random_state=i)\n",
    "        model=LinearRegression()\n",
    "        model.fit(X_train,y_train)\n",
    "        y_pred = model.predict(X_test)\n",
    "        compare_train_test(model)\n",
    "        print(i)\n",
    "random_state_comp(1,100)"
   ]
  },
  {
   "cell_type": "markdown",
   "id": "6701ae50",
   "metadata": {},
   "source": [
    "# Here the Training Accuracy is found out to be 83.47\n",
    "# Here the Testing Accuracy is found out to be 80.79\n",
    "# Mean Absolute error of testing data: 0.20\n",
    "# R2 score 0.8079125245308013"
   ]
  },
  {
   "cell_type": "markdown",
   "id": "adf25f12",
   "metadata": {},
   "source": [
    "# KEY TERMS FOR SIMPLE LINEAR REGRESSION"
   ]
  },
  {
   "cell_type": "markdown",
   "id": "5bfd34be",
   "metadata": {},
   "source": [
    "# Adjusted r2 value 0.79"
   ]
  },
  {
   "cell_type": "code",
   "execution_count": 419,
   "id": "07f5bdd8",
   "metadata": {},
   "outputs": [],
   "source": [
    "import sklearn"
   ]
  },
  {
   "cell_type": "code",
   "execution_count": 420,
   "id": "8e5bc5bd",
   "metadata": {},
   "outputs": [],
   "source": [
    "r2=0.80"
   ]
  },
  {
   "cell_type": "code",
   "execution_count": 421,
   "id": "c9846327",
   "metadata": {},
   "outputs": [],
   "source": [
    "adj_r2 = (1 - (1 - r2) * ((X.shape[0] - 1) / \n",
    "          (X.shape[0] - X.shape[1] - 1)))"
   ]
  },
  {
   "cell_type": "code",
   "execution_count": 422,
   "id": "49af3c2a",
   "metadata": {},
   "outputs": [
    {
     "data": {
      "text/plain": [
       "0.7933280381254965"
      ]
     },
     "execution_count": 422,
     "metadata": {},
     "output_type": "execute_result"
    }
   ],
   "source": [
    "adj_r2"
   ]
  },
  {
   "cell_type": "code",
   "execution_count": 423,
   "id": "08ea313c",
   "metadata": {},
   "outputs": [],
   "source": [
    "import statsmodels.api as sm\n",
    "from statsmodels.formula.api import ols"
   ]
  },
  {
   "cell_type": "code",
   "execution_count": 424,
   "id": "812e0432",
   "metadata": {},
   "outputs": [
    {
     "data": {
      "text/plain": [
       "Index(['Company', 'TypeName', 'Ram', 'Weight', 'Price_euros', 'Touchscreen',\n",
       "       'IPS', 'Cpu_Processor', 'Gpu_brand', 'Op_sys', 'SSD', 'PPI'],\n",
       "      dtype='object')"
      ]
     },
     "execution_count": 424,
     "metadata": {},
     "output_type": "execute_result"
    }
   ],
   "source": [
    "data_modified.columns"
   ]
  },
  {
   "cell_type": "markdown",
   "id": "c37e8054",
   "metadata": {},
   "source": [
    "# ANOVA (Analysis of variance )"
   ]
  },
  {
   "cell_type": "markdown",
   "id": "0fed7c3f",
   "metadata": {},
   "source": [
    "What is p- Value?\n",
    "The p-value is a probability that measures the evidence against the null hypothesis. Lower probabilities provide stronger evidence against the null hypothesis.\n",
    "A sufficiently large F-value indicates that the term or model is significant."
   ]
  },
  {
   "cell_type": "code",
   "execution_count": 425,
   "id": "0c260d22",
   "metadata": {},
   "outputs": [
    {
     "name": "stdout",
     "output_type": "stream",
     "text": [
      "                sum_sq      df           F        PR(>F)\n",
      "Ram       5.315478e+07     1.0  325.975005  3.565254e-65\n",
      "Weight    6.649859e+06     1.0   40.780674  2.367907e-10\n",
      "SSD       2.769140e+07     1.0  169.819242  1.442160e-36\n",
      "PPI       1.843215e+07     1.0  113.036310  2.270472e-25\n",
      "IPS       3.451892e+05     1.0    2.116894  1.459238e-01\n",
      "Residual  2.113309e+08  1296.0         NaN           NaN\n"
     ]
    }
   ],
   "source": [
    "mod = ols(\"Price_euros~Ram+Weight+SSD+PPI+IPS\", data=data_modified).fit()\n",
    "aov_table=sm.stats.anova_lm(mod,typ=2)\n",
    "print(aov_table)"
   ]
  },
  {
   "cell_type": "code",
   "execution_count": 426,
   "id": "b79aeed6",
   "metadata": {},
   "outputs": [],
   "source": [
    "import statsmodels.api as sm\n",
    "from statsmodels.formula.api import ols"
   ]
  },
  {
   "cell_type": "code",
   "execution_count": 427,
   "id": "b5b73fb6",
   "metadata": {},
   "outputs": [
    {
     "name": "stdout",
     "output_type": "stream",
     "text": [
      "                     sum_sq      df          F        PR(>F)\n",
      "Company        3.333407e+07    18.0   8.757812  9.173182e-23\n",
      "TypeName       5.392264e+07     5.0  51.001266  2.859875e-48\n",
      "Cpu_Processor  4.977355e+07     4.0  58.846192  1.280950e-45\n",
      "Gpu_brand      2.945477e+06     2.0   6.964747  9.810776e-04\n",
      "Op_sys         9.404402e+06     2.0  22.237245  3.218198e-10\n",
      "Residual       2.687607e+08  1271.0        NaN           NaN\n"
     ]
    }
   ],
   "source": [
    "mod = ols(\"Price_euros~Company+TypeName+Cpu_Processor+Gpu_brand+Op_sys\", data=data_modified).fit()\n",
    "aov_table=sm.stats.anova_lm(mod,typ=2)\n",
    "print(aov_table)"
   ]
  },
  {
   "cell_type": "markdown",
   "id": "2eb66826",
   "metadata": {},
   "source": [
    "# Variance Inflation Factor"
   ]
  },
  {
   "cell_type": "code",
   "execution_count": 428,
   "id": "0ec02004",
   "metadata": {},
   "outputs": [
    {
     "data": {
      "text/html": [
       "<div>\n",
       "<style scoped>\n",
       "    .dataframe tbody tr th:only-of-type {\n",
       "        vertical-align: middle;\n",
       "    }\n",
       "\n",
       "    .dataframe tbody tr th {\n",
       "        vertical-align: top;\n",
       "    }\n",
       "\n",
       "    .dataframe thead th {\n",
       "        text-align: right;\n",
       "    }\n",
       "</style>\n",
       "<table border=\"1\" class=\"dataframe\">\n",
       "  <thead>\n",
       "    <tr style=\"text-align: right;\">\n",
       "      <th></th>\n",
       "      <th>VIF</th>\n",
       "      <th>variable</th>\n",
       "    </tr>\n",
       "  </thead>\n",
       "  <tbody>\n",
       "    <tr>\n",
       "      <th>0</th>\n",
       "      <td>36.946534</td>\n",
       "      <td>Intercept</td>\n",
       "    </tr>\n",
       "    <tr>\n",
       "      <th>1</th>\n",
       "      <td>2.308024</td>\n",
       "      <td>Ram</td>\n",
       "    </tr>\n",
       "    <tr>\n",
       "      <th>2</th>\n",
       "      <td>1.721655</td>\n",
       "      <td>Weight</td>\n",
       "    </tr>\n",
       "    <tr>\n",
       "      <th>3</th>\n",
       "      <td>2.060975</td>\n",
       "      <td>SSD</td>\n",
       "    </tr>\n",
       "    <tr>\n",
       "      <th>4</th>\n",
       "      <td>1.867823</td>\n",
       "      <td>PPI</td>\n",
       "    </tr>\n",
       "    <tr>\n",
       "      <th>5</th>\n",
       "      <td>1.125258</td>\n",
       "      <td>IPS</td>\n",
       "    </tr>\n",
       "    <tr>\n",
       "      <th>6</th>\n",
       "      <td>1.315014</td>\n",
       "      <td>Touchscreen</td>\n",
       "    </tr>\n",
       "  </tbody>\n",
       "</table>\n",
       "</div>"
      ],
      "text/plain": [
       "         VIF     variable\n",
       "0  36.946534    Intercept\n",
       "1   2.308024          Ram\n",
       "2   1.721655       Weight\n",
       "3   2.060975          SSD\n",
       "4   1.867823          PPI\n",
       "5   1.125258          IPS\n",
       "6   1.315014  Touchscreen"
      ]
     },
     "execution_count": 428,
     "metadata": {},
     "output_type": "execute_result"
    }
   ],
   "source": [
    "from patsy import dmatrices\n",
    "from statsmodels.stats.outliers_influence import variance_inflation_factor\n",
    "\n",
    "y, X = dmatrices('Price_euros ~ Ram + Weight + SSD + PPI + IPS + Touchscreen', data=data_modified, return_type='dataframe')\n",
    "\n",
    "\n",
    "vif = pd.DataFrame()\n",
    "vif['VIF'] = [variance_inflation_factor(X.values, i) for i in range(X.shape[1])]\n",
    "vif['variable'] = X.columns\n",
    "\n",
    "#view VIF for each explanatory variable \n",
    "vif"
   ]
  },
  {
   "cell_type": "code",
   "execution_count": 429,
   "id": "4bbf7e26",
   "metadata": {},
   "outputs": [
    {
     "data": {
      "text/html": [
       "<div>\n",
       "<style scoped>\n",
       "    .dataframe tbody tr th:only-of-type {\n",
       "        vertical-align: middle;\n",
       "    }\n",
       "\n",
       "    .dataframe tbody tr th {\n",
       "        vertical-align: top;\n",
       "    }\n",
       "\n",
       "    .dataframe thead th {\n",
       "        text-align: right;\n",
       "    }\n",
       "</style>\n",
       "<table border=\"1\" class=\"dataframe\">\n",
       "  <thead>\n",
       "    <tr style=\"text-align: right;\">\n",
       "      <th></th>\n",
       "      <th>Actual</th>\n",
       "      <th>Predicted</th>\n",
       "    </tr>\n",
       "  </thead>\n",
       "  <tbody>\n",
       "    <tr>\n",
       "      <th>248</th>\n",
       "      <td>6.514713</td>\n",
       "      <td>6.726504</td>\n",
       "    </tr>\n",
       "    <tr>\n",
       "      <th>555</th>\n",
       "      <td>5.411646</td>\n",
       "      <td>5.716708</td>\n",
       "    </tr>\n",
       "    <tr>\n",
       "      <th>1251</th>\n",
       "      <td>5.988961</td>\n",
       "      <td>6.071459</td>\n",
       "    </tr>\n",
       "    <tr>\n",
       "      <th>547</th>\n",
       "      <td>6.136322</td>\n",
       "      <td>6.380343</td>\n",
       "    </tr>\n",
       "    <tr>\n",
       "      <th>885</th>\n",
       "      <td>7.494986</td>\n",
       "      <td>6.943117</td>\n",
       "    </tr>\n",
       "    <tr>\n",
       "      <th>...</th>\n",
       "      <td>...</td>\n",
       "      <td>...</td>\n",
       "    </tr>\n",
       "    <tr>\n",
       "      <th>861</th>\n",
       "      <td>7.207119</td>\n",
       "      <td>6.820208</td>\n",
       "    </tr>\n",
       "    <tr>\n",
       "      <th>1204</th>\n",
       "      <td>7.063904</td>\n",
       "      <td>6.974184</td>\n",
       "    </tr>\n",
       "    <tr>\n",
       "      <th>790</th>\n",
       "      <td>7.199678</td>\n",
       "      <td>7.056978</td>\n",
       "    </tr>\n",
       "    <tr>\n",
       "      <th>1046</th>\n",
       "      <td>7.292337</td>\n",
       "      <td>6.930025</td>\n",
       "    </tr>\n",
       "    <tr>\n",
       "      <th>991</th>\n",
       "      <td>6.212606</td>\n",
       "      <td>6.343981</td>\n",
       "    </tr>\n",
       "  </tbody>\n",
       "</table>\n",
       "<p>261 rows × 2 columns</p>\n",
       "</div>"
      ],
      "text/plain": [
       "        Actual  Predicted\n",
       "248   6.514713   6.726504\n",
       "555   5.411646   5.716708\n",
       "1251  5.988961   6.071459\n",
       "547   6.136322   6.380343\n",
       "885   7.494986   6.943117\n",
       "...        ...        ...\n",
       "861   7.207119   6.820208\n",
       "1204  7.063904   6.974184\n",
       "790   7.199678   7.056978\n",
       "1046  7.292337   6.930025\n",
       "991   6.212606   6.343981\n",
       "\n",
       "[261 rows x 2 columns]"
      ]
     },
     "execution_count": 429,
     "metadata": {},
     "output_type": "execute_result"
    }
   ],
   "source": [
    "y_actual=y\n",
    "df_temp=pd.DataFrame({'Actual':y_test,'Predicted':y_pred})\n",
    "df_temp"
   ]
  },
  {
   "cell_type": "markdown",
   "id": "99eb9779",
   "metadata": {},
   "source": [
    "# Response\n",
    "The variable we are trying to predict.\n",
    "\n",
    "Synonyms\n",
    "dependent variable, Y-variable, target, outcome\n",
    "\n",
    "The dependent variable is Price_euros"
   ]
  },
  {
   "cell_type": "markdown",
   "id": "58b3adc7",
   "metadata": {},
   "source": [
    "# Independent variable\n",
    "The variable used to predict the response.\n",
    "\n",
    "Synonyms\n",
    "X-variable, feature, attribute\n",
    "\n",
    "The independent variables are ['IPS', 'Cpu_Processor', 'Gpu_brand', 'Op_sys', 'SSD', 'PPI''Company', 'TypeName', 'Ram', 'Weight','Touchscreen']"
   ]
  },
  {
   "cell_type": "markdown",
   "id": "21fb9567",
   "metadata": {},
   "source": [
    "# Intercept\n",
    "The intercept of the regression line—that is, the predicted value when X = 0 .\n",
    "\n",
    "Synonyms\n",
    "b 0 , β 0"
   ]
  },
  {
   "cell_type": "code",
   "execution_count": 431,
   "id": "25bcd401",
   "metadata": {},
   "outputs": [],
   "source": [
    "# The below is the Regression line for intercept = 0"
   ]
  },
  {
   "cell_type": "code",
   "execution_count": 432,
   "id": "b3ab8c20",
   "metadata": {},
   "outputs": [],
   "source": [
    "import statsmodels.api as sm"
   ]
  },
  {
   "cell_type": "code",
   "execution_count": 433,
   "id": "b44d2d01",
   "metadata": {},
   "outputs": [],
   "source": [
    "X=sm.add_constant(X)\n",
    "mo=sm.OLS(y,X).fit()"
   ]
  },
  {
   "cell_type": "code",
   "execution_count": 434,
   "id": "641bb82f",
   "metadata": {},
   "outputs": [
    {
     "data": {
      "text/html": [
       "<table class=\"simpletable\">\n",
       "<caption>OLS Regression Results</caption>\n",
       "<tr>\n",
       "  <th>Dep. Variable:</th>       <td>Price_euros</td>   <th>  R-squared:         </th> <td>   0.668</td> \n",
       "</tr>\n",
       "<tr>\n",
       "  <th>Model:</th>                   <td>OLS</td>       <th>  Adj. R-squared:    </th> <td>   0.666</td> \n",
       "</tr>\n",
       "<tr>\n",
       "  <th>Method:</th>             <td>Least Squares</td>  <th>  F-statistic:       </th> <td>   433.7</td> \n",
       "</tr>\n",
       "<tr>\n",
       "  <th>Date:</th>             <td>Mon, 09 May 2022</td> <th>  Prob (F-statistic):</th> <td>1.43e-305</td>\n",
       "</tr>\n",
       "<tr>\n",
       "  <th>Time:</th>                 <td>11:47:43</td>     <th>  Log-Likelihood:    </th> <td> -9657.7</td> \n",
       "</tr>\n",
       "<tr>\n",
       "  <th>No. Observations:</th>      <td>  1302</td>      <th>  AIC:               </th> <td>1.933e+04</td>\n",
       "</tr>\n",
       "<tr>\n",
       "  <th>Df Residuals:</th>          <td>  1295</td>      <th>  BIC:               </th> <td>1.937e+04</td>\n",
       "</tr>\n",
       "<tr>\n",
       "  <th>Df Model:</th>              <td>     6</td>      <th>                     </th>     <td> </td>    \n",
       "</tr>\n",
       "<tr>\n",
       "  <th>Covariance Type:</th>      <td>nonrobust</td>    <th>                     </th>     <td> </td>    \n",
       "</tr>\n",
       "</table>\n",
       "<table class=\"simpletable\">\n",
       "<tr>\n",
       "       <td></td>          <th>coef</th>     <th>std err</th>      <th>t</th>      <th>P>|t|</th>  <th>[0.025</th>    <th>0.975]</th>  \n",
       "</tr>\n",
       "<tr>\n",
       "  <th>Intercept</th>   <td> -411.3025</td> <td>   68.049</td> <td>   -6.044</td> <td> 0.000</td> <td> -544.800</td> <td> -277.805</td>\n",
       "</tr>\n",
       "<tr>\n",
       "  <th>Ram</th>         <td>   60.3136</td> <td>    3.346</td> <td>   18.026</td> <td> 0.000</td> <td>   53.750</td> <td>   66.878</td>\n",
       "</tr>\n",
       "<tr>\n",
       "  <th>Weight</th>      <td>  137.7260</td> <td>   22.089</td> <td>    6.235</td> <td> 0.000</td> <td>   94.392</td> <td>  181.060</td>\n",
       "</tr>\n",
       "<tr>\n",
       "  <th>SSD</th>         <td>    1.1333</td> <td>    0.087</td> <td>   13.027</td> <td> 0.000</td> <td>    0.963</td> <td>    1.304</td>\n",
       "</tr>\n",
       "<tr>\n",
       "  <th>PPI</th>         <td>    3.6281</td> <td>    0.355</td> <td>   10.209</td> <td> 0.000</td> <td>    2.931</td> <td>    4.325</td>\n",
       "</tr>\n",
       "<tr>\n",
       "  <th>IPS</th>         <td>   38.6374</td> <td>   26.462</td> <td>    1.460</td> <td> 0.144</td> <td>  -13.275</td> <td>   90.550</td>\n",
       "</tr>\n",
       "<tr>\n",
       "  <th>Touchscreen</th> <td>   -7.7321</td> <td>   36.286</td> <td>   -0.213</td> <td> 0.831</td> <td>  -78.917</td> <td>   63.453</td>\n",
       "</tr>\n",
       "</table>\n",
       "<table class=\"simpletable\">\n",
       "<tr>\n",
       "  <th>Omnibus:</th>       <td>334.814</td> <th>  Durbin-Watson:     </th> <td>   2.017</td>\n",
       "</tr>\n",
       "<tr>\n",
       "  <th>Prob(Omnibus):</th> <td> 0.000</td>  <th>  Jarque-Bera (JB):  </th> <td>1474.752</td>\n",
       "</tr>\n",
       "<tr>\n",
       "  <th>Skew:</th>          <td> 1.149</td>  <th>  Prob(JB):          </th> <td>    0.00</td>\n",
       "</tr>\n",
       "<tr>\n",
       "  <th>Kurtosis:</th>      <td> 7.680</td>  <th>  Cond. No.          </th> <td>1.81e+03</td>\n",
       "</tr>\n",
       "</table><br/><br/>Notes:<br/>[1] Standard Errors assume that the covariance matrix of the errors is correctly specified.<br/>[2] The condition number is large, 1.81e+03. This might indicate that there are<br/>strong multicollinearity or other numerical problems."
      ],
      "text/plain": [
       "<class 'statsmodels.iolib.summary.Summary'>\n",
       "\"\"\"\n",
       "                            OLS Regression Results                            \n",
       "==============================================================================\n",
       "Dep. Variable:            Price_euros   R-squared:                       0.668\n",
       "Model:                            OLS   Adj. R-squared:                  0.666\n",
       "Method:                 Least Squares   F-statistic:                     433.7\n",
       "Date:                Mon, 09 May 2022   Prob (F-statistic):          1.43e-305\n",
       "Time:                        11:47:43   Log-Likelihood:                -9657.7\n",
       "No. Observations:                1302   AIC:                         1.933e+04\n",
       "Df Residuals:                    1295   BIC:                         1.937e+04\n",
       "Df Model:                           6                                         \n",
       "Covariance Type:            nonrobust                                         \n",
       "===============================================================================\n",
       "                  coef    std err          t      P>|t|      [0.025      0.975]\n",
       "-------------------------------------------------------------------------------\n",
       "Intercept    -411.3025     68.049     -6.044      0.000    -544.800    -277.805\n",
       "Ram            60.3136      3.346     18.026      0.000      53.750      66.878\n",
       "Weight        137.7260     22.089      6.235      0.000      94.392     181.060\n",
       "SSD             1.1333      0.087     13.027      0.000       0.963       1.304\n",
       "PPI             3.6281      0.355     10.209      0.000       2.931       4.325\n",
       "IPS            38.6374     26.462      1.460      0.144     -13.275      90.550\n",
       "Touchscreen    -7.7321     36.286     -0.213      0.831     -78.917      63.453\n",
       "==============================================================================\n",
       "Omnibus:                      334.814   Durbin-Watson:                   2.017\n",
       "Prob(Omnibus):                  0.000   Jarque-Bera (JB):             1474.752\n",
       "Skew:                           1.149   Prob(JB):                         0.00\n",
       "Kurtosis:                       7.680   Cond. No.                     1.81e+03\n",
       "==============================================================================\n",
       "\n",
       "Notes:\n",
       "[1] Standard Errors assume that the covariance matrix of the errors is correctly specified.\n",
       "[2] The condition number is large, 1.81e+03. This might indicate that there are\n",
       "strong multicollinearity or other numerical problems.\n",
       "\"\"\""
      ]
     },
     "execution_count": 434,
     "metadata": {},
     "output_type": "execute_result"
    }
   ],
   "source": [
    "mo.summary()"
   ]
  },
  {
   "cell_type": "markdown",
   "id": "307305a4",
   "metadata": {},
   "source": [
    "# Regression coefficient\n",
    "The slope of the regression line.\n",
    "\n",
    "Synonyms\n",
    "slope, b 1 , β 1 , parameter estimates, weights"
   ]
  },
  {
   "cell_type": "code",
   "execution_count": 435,
   "id": "241f72b4",
   "metadata": {},
   "outputs": [],
   "source": [
    "import statsmodels.formula.api as sm"
   ]
  },
  {
   "cell_type": "code",
   "execution_count": 436,
   "id": "59a671df",
   "metadata": {},
   "outputs": [
    {
     "data": {
      "text/html": [
       "<table class=\"simpletable\">\n",
       "<caption>OLS Regression Results</caption>\n",
       "<tr>\n",
       "  <th>Dep. Variable:</th>       <td>Price_euros</td>   <th>  R-squared:         </th> <td>   0.779</td> \n",
       "</tr>\n",
       "<tr>\n",
       "  <th>Model:</th>                   <td>OLS</td>       <th>  Adj. R-squared:    </th> <td>   0.773</td> \n",
       "</tr>\n",
       "<tr>\n",
       "  <th>Method:</th>             <td>Least Squares</td>  <th>  F-statistic:       </th> <td>   123.8</td> \n",
       "</tr>\n",
       "<tr>\n",
       "  <th>Date:</th>             <td>Mon, 09 May 2022</td> <th>  Prob (F-statistic):</th>  <td>  0.00</td>  \n",
       "</tr>\n",
       "<tr>\n",
       "  <th>Time:</th>                 <td>11:47:44</td>     <th>  Log-Likelihood:    </th> <td> -9392.2</td> \n",
       "</tr>\n",
       "<tr>\n",
       "  <th>No. Observations:</th>      <td>  1302</td>      <th>  AIC:               </th> <td>1.886e+04</td>\n",
       "</tr>\n",
       "<tr>\n",
       "  <th>Df Residuals:</th>          <td>  1265</td>      <th>  BIC:               </th> <td>1.905e+04</td>\n",
       "</tr>\n",
       "<tr>\n",
       "  <th>Df Model:</th>              <td>    36</td>      <th>                     </th>     <td> </td>    \n",
       "</tr>\n",
       "<tr>\n",
       "  <th>Covariance Type:</th>      <td>nonrobust</td>    <th>                     </th>     <td> </td>    \n",
       "</tr>\n",
       "</table>\n",
       "<table class=\"simpletable\">\n",
       "<tr>\n",
       "                     <td></td>                       <th>coef</th>     <th>std err</th>      <th>t</th>      <th>P>|t|</th>  <th>[0.025</th>    <th>0.975]</th>  \n",
       "</tr>\n",
       "<tr>\n",
       "  <th>Intercept</th>                              <td> -326.1967</td> <td>   74.129</td> <td>   -4.400</td> <td> 0.000</td> <td> -471.626</td> <td> -180.768</td>\n",
       "</tr>\n",
       "<tr>\n",
       "  <th>Company[T.Apple]</th>                       <td>  142.8236</td> <td>   67.737</td> <td>    2.109</td> <td> 0.035</td> <td>    9.935</td> <td>  275.712</td>\n",
       "</tr>\n",
       "<tr>\n",
       "  <th>Company[T.Asus]</th>                        <td>   57.8577</td> <td>   44.596</td> <td>    1.297</td> <td> 0.195</td> <td>  -29.632</td> <td>  145.348</td>\n",
       "</tr>\n",
       "<tr>\n",
       "  <th>Company[T.Chuwi]</th>                       <td> -216.3708</td> <td>  198.563</td> <td>   -1.090</td> <td> 0.276</td> <td> -605.921</td> <td>  173.179</td>\n",
       "</tr>\n",
       "<tr>\n",
       "  <th>Company[T.Dell]</th>                        <td>  111.0631</td> <td>   41.996</td> <td>    2.645</td> <td> 0.008</td> <td>   28.674</td> <td>  193.452</td>\n",
       "</tr>\n",
       "<tr>\n",
       "  <th>Company[T.Fujitsu]</th>                     <td>  -61.9702</td> <td>  196.883</td> <td>   -0.315</td> <td> 0.753</td> <td> -448.224</td> <td>  324.283</td>\n",
       "</tr>\n",
       "<tr>\n",
       "  <th>Company[T.Google]</th>                      <td>  390.0400</td> <td>  204.066</td> <td>    1.911</td> <td> 0.056</td> <td>  -10.304</td> <td>  790.384</td>\n",
       "</tr>\n",
       "<tr>\n",
       "  <th>Company[T.HP]</th>                          <td>  187.5598</td> <td>   40.584</td> <td>    4.621</td> <td> 0.000</td> <td>  107.940</td> <td>  267.180</td>\n",
       "</tr>\n",
       "<tr>\n",
       "  <th>Company[T.Huawei]</th>                      <td>   39.3043</td> <td>  240.621</td> <td>    0.163</td> <td> 0.870</td> <td> -432.757</td> <td>  511.365</td>\n",
       "</tr>\n",
       "<tr>\n",
       "  <th>Company[T.LG]</th>                          <td>  662.1206</td> <td>  201.300</td> <td>    3.289</td> <td> 0.001</td> <td>  267.201</td> <td> 1057.040</td>\n",
       "</tr>\n",
       "<tr>\n",
       "  <th>Company[T.Lenovo]</th>                      <td>  118.2512</td> <td>   39.343</td> <td>    3.006</td> <td> 0.003</td> <td>   41.067</td> <td>  195.435</td>\n",
       "</tr>\n",
       "<tr>\n",
       "  <th>Company[T.MSI]</th>                         <td>  247.9729</td> <td>   66.629</td> <td>    3.722</td> <td> 0.000</td> <td>  117.258</td> <td>  378.688</td>\n",
       "</tr>\n",
       "<tr>\n",
       "  <th>Company[T.Mediacom]</th>                    <td>  -97.0039</td> <td>  134.712</td> <td>   -0.720</td> <td> 0.472</td> <td> -361.288</td> <td>  167.280</td>\n",
       "</tr>\n",
       "<tr>\n",
       "  <th>Company[T.Microsoft]</th>                   <td>  395.9124</td> <td>  148.683</td> <td>    2.663</td> <td> 0.008</td> <td>  104.220</td> <td>  687.605</td>\n",
       "</tr>\n",
       "<tr>\n",
       "  <th>Company[T.Razer]</th>                       <td> 1087.0399</td> <td>  138.018</td> <td>    7.876</td> <td> 0.000</td> <td>  816.271</td> <td> 1357.808</td>\n",
       "</tr>\n",
       "<tr>\n",
       "  <th>Company[T.Samsung]</th>                     <td>  330.0975</td> <td>  126.010</td> <td>    2.620</td> <td> 0.009</td> <td>   82.886</td> <td>  577.309</td>\n",
       "</tr>\n",
       "<tr>\n",
       "  <th>Company[T.Toshiba]</th>                     <td>  288.9640</td> <td>   61.318</td> <td>    4.713</td> <td> 0.000</td> <td>  168.668</td> <td>  409.260</td>\n",
       "</tr>\n",
       "<tr>\n",
       "  <th>Company[T.Vero]</th>                        <td>  -83.9794</td> <td>  173.269</td> <td>   -0.485</td> <td> 0.628</td> <td> -423.906</td> <td>  255.947</td>\n",
       "</tr>\n",
       "<tr>\n",
       "  <th>Company[T.Xiaomi]</th>                      <td>  135.6437</td> <td>  174.364</td> <td>    0.778</td> <td> 0.437</td> <td> -206.430</td> <td>  477.717</td>\n",
       "</tr>\n",
       "<tr>\n",
       "  <th>TypeName[T.Gaming]</th>                     <td>  -51.6351</td> <td>   72.077</td> <td>   -0.716</td> <td> 0.474</td> <td> -193.039</td> <td>   89.769</td>\n",
       "</tr>\n",
       "<tr>\n",
       "  <th>TypeName[T.Netbook]</th>                    <td> -105.6382</td> <td>   87.843</td> <td>   -1.203</td> <td> 0.229</td> <td> -277.971</td> <td>   66.695</td>\n",
       "</tr>\n",
       "<tr>\n",
       "  <th>TypeName[T.Notebook]</th>                   <td> -228.0968</td> <td>   57.675</td> <td>   -3.955</td> <td> 0.000</td> <td> -341.246</td> <td> -114.948</td>\n",
       "</tr>\n",
       "<tr>\n",
       "  <th>TypeName[T.Ultrabook]</th>                  <td>   65.9258</td> <td>   56.605</td> <td>    1.165</td> <td> 0.244</td> <td>  -45.125</td> <td>  176.976</td>\n",
       "</tr>\n",
       "<tr>\n",
       "  <th>TypeName[T.Workstation]</th>                <td>  711.4042</td> <td>   87.031</td> <td>    8.174</td> <td> 0.000</td> <td>  540.663</td> <td>  882.146</td>\n",
       "</tr>\n",
       "<tr>\n",
       "  <th>Cpu_Processor[T.Intel Core i3]</th>         <td>   20.2371</td> <td>   62.247</td> <td>    0.325</td> <td> 0.745</td> <td> -101.882</td> <td>  142.356</td>\n",
       "</tr>\n",
       "<tr>\n",
       "  <th>Cpu_Processor[T.Intel Core i5]</th>         <td>  172.9933</td> <td>   57.539</td> <td>    3.007</td> <td> 0.003</td> <td>   60.111</td> <td>  285.875</td>\n",
       "</tr>\n",
       "<tr>\n",
       "  <th>Cpu_Processor[T.Intel Core i7]</th>         <td>  231.3045</td> <td>   57.882</td> <td>    3.996</td> <td> 0.000</td> <td>  117.749</td> <td>  344.860</td>\n",
       "</tr>\n",
       "<tr>\n",
       "  <th>Cpu_Processor[T.Other Intel Processor]</th> <td>   19.1310</td> <td>   65.579</td> <td>    0.292</td> <td> 0.771</td> <td> -109.525</td> <td>  147.787</td>\n",
       "</tr>\n",
       "<tr>\n",
       "  <th>Gpu_brand[T.Intel]</th>                     <td>  155.1753</td> <td>   37.921</td> <td>    4.092</td> <td> 0.000</td> <td>   80.781</td> <td>  229.570</td>\n",
       "</tr>\n",
       "<tr>\n",
       "  <th>Gpu_brand[T.Nvidia]</th>                    <td>   83.2899</td> <td>   41.697</td> <td>    1.998</td> <td> 0.046</td> <td>    1.488</td> <td>  165.092</td>\n",
       "</tr>\n",
       "<tr>\n",
       "  <th>Op_sys[T.Others/No OS/Linux]</th>           <td> -316.8189</td> <td>   40.494</td> <td>   -7.824</td> <td> 0.000</td> <td> -396.261</td> <td> -237.377</td>\n",
       "</tr>\n",
       "<tr>\n",
       "  <th>Op_sys[T.Windows]</th>                      <td> -152.2014</td> <td>   36.293</td> <td>   -4.194</td> <td> 0.000</td> <td> -223.403</td> <td>  -81.000</td>\n",
       "</tr>\n",
       "<tr>\n",
       "  <th>Ram</th>                                    <td>   45.4934</td> <td>    3.063</td> <td>   14.853</td> <td> 0.000</td> <td>   39.484</td> <td>   51.502</td>\n",
       "</tr>\n",
       "<tr>\n",
       "  <th>Weight</th>                                 <td>  199.5396</td> <td>   25.125</td> <td>    7.942</td> <td> 0.000</td> <td>  150.249</td> <td>  248.830</td>\n",
       "</tr>\n",
       "<tr>\n",
       "  <th>Touchscreen</th>                            <td>  -86.0974</td> <td>   49.346</td> <td>   -1.745</td> <td> 0.081</td> <td> -182.906</td> <td>   10.711</td>\n",
       "</tr>\n",
       "<tr>\n",
       "  <th>SSD</th>                                    <td>    0.8309</td> <td>    0.077</td> <td>   10.857</td> <td> 0.000</td> <td>    0.681</td> <td>    0.981</td>\n",
       "</tr>\n",
       "<tr>\n",
       "  <th>IPS</th>                                    <td>   -6.4347</td> <td>   25.014</td> <td>   -0.257</td> <td> 0.797</td> <td>  -55.509</td> <td>   42.640</td>\n",
       "</tr>\n",
       "<tr>\n",
       "  <th>PPI</th>                                    <td>    2.7730</td> <td>    0.317</td> <td>    8.745</td> <td> 0.000</td> <td>    2.151</td> <td>    3.395</td>\n",
       "</tr>\n",
       "</table>\n",
       "<table class=\"simpletable\">\n",
       "<tr>\n",
       "  <th>Omnibus:</th>       <td>282.010</td> <th>  Durbin-Watson:     </th> <td>   2.019</td>\n",
       "</tr>\n",
       "<tr>\n",
       "  <th>Prob(Omnibus):</th> <td> 0.000</td>  <th>  Jarque-Bera (JB):  </th> <td>1561.177</td>\n",
       "</tr>\n",
       "<tr>\n",
       "  <th>Skew:</th>          <td> 0.887</td>  <th>  Prob(JB):          </th> <td>    0.00</td>\n",
       "</tr>\n",
       "<tr>\n",
       "  <th>Kurtosis:</th>      <td> 8.063</td>  <th>  Cond. No.          </th> <td>3.99e+16</td>\n",
       "</tr>\n",
       "</table><br/><br/>Notes:<br/>[1] Standard Errors assume that the covariance matrix of the errors is correctly specified.<br/>[2] The smallest eigenvalue is 6.83e-26. This might indicate that there are<br/>strong multicollinearity problems or that the design matrix is singular."
      ],
      "text/plain": [
       "<class 'statsmodels.iolib.summary.Summary'>\n",
       "\"\"\"\n",
       "                            OLS Regression Results                            \n",
       "==============================================================================\n",
       "Dep. Variable:            Price_euros   R-squared:                       0.779\n",
       "Model:                            OLS   Adj. R-squared:                  0.773\n",
       "Method:                 Least Squares   F-statistic:                     123.8\n",
       "Date:                Mon, 09 May 2022   Prob (F-statistic):               0.00\n",
       "Time:                        11:47:44   Log-Likelihood:                -9392.2\n",
       "No. Observations:                1302   AIC:                         1.886e+04\n",
       "Df Residuals:                    1265   BIC:                         1.905e+04\n",
       "Df Model:                          36                                         \n",
       "Covariance Type:            nonrobust                                         \n",
       "==========================================================================================================\n",
       "                                             coef    std err          t      P>|t|      [0.025      0.975]\n",
       "----------------------------------------------------------------------------------------------------------\n",
       "Intercept                               -326.1967     74.129     -4.400      0.000    -471.626    -180.768\n",
       "Company[T.Apple]                         142.8236     67.737      2.109      0.035       9.935     275.712\n",
       "Company[T.Asus]                           57.8577     44.596      1.297      0.195     -29.632     145.348\n",
       "Company[T.Chuwi]                        -216.3708    198.563     -1.090      0.276    -605.921     173.179\n",
       "Company[T.Dell]                          111.0631     41.996      2.645      0.008      28.674     193.452\n",
       "Company[T.Fujitsu]                       -61.9702    196.883     -0.315      0.753    -448.224     324.283\n",
       "Company[T.Google]                        390.0400    204.066      1.911      0.056     -10.304     790.384\n",
       "Company[T.HP]                            187.5598     40.584      4.621      0.000     107.940     267.180\n",
       "Company[T.Huawei]                         39.3043    240.621      0.163      0.870    -432.757     511.365\n",
       "Company[T.LG]                            662.1206    201.300      3.289      0.001     267.201    1057.040\n",
       "Company[T.Lenovo]                        118.2512     39.343      3.006      0.003      41.067     195.435\n",
       "Company[T.MSI]                           247.9729     66.629      3.722      0.000     117.258     378.688\n",
       "Company[T.Mediacom]                      -97.0039    134.712     -0.720      0.472    -361.288     167.280\n",
       "Company[T.Microsoft]                     395.9124    148.683      2.663      0.008     104.220     687.605\n",
       "Company[T.Razer]                        1087.0399    138.018      7.876      0.000     816.271    1357.808\n",
       "Company[T.Samsung]                       330.0975    126.010      2.620      0.009      82.886     577.309\n",
       "Company[T.Toshiba]                       288.9640     61.318      4.713      0.000     168.668     409.260\n",
       "Company[T.Vero]                          -83.9794    173.269     -0.485      0.628    -423.906     255.947\n",
       "Company[T.Xiaomi]                        135.6437    174.364      0.778      0.437    -206.430     477.717\n",
       "TypeName[T.Gaming]                       -51.6351     72.077     -0.716      0.474    -193.039      89.769\n",
       "TypeName[T.Netbook]                     -105.6382     87.843     -1.203      0.229    -277.971      66.695\n",
       "TypeName[T.Notebook]                    -228.0968     57.675     -3.955      0.000    -341.246    -114.948\n",
       "TypeName[T.Ultrabook]                     65.9258     56.605      1.165      0.244     -45.125     176.976\n",
       "TypeName[T.Workstation]                  711.4042     87.031      8.174      0.000     540.663     882.146\n",
       "Cpu_Processor[T.Intel Core i3]            20.2371     62.247      0.325      0.745    -101.882     142.356\n",
       "Cpu_Processor[T.Intel Core i5]           172.9933     57.539      3.007      0.003      60.111     285.875\n",
       "Cpu_Processor[T.Intel Core i7]           231.3045     57.882      3.996      0.000     117.749     344.860\n",
       "Cpu_Processor[T.Other Intel Processor]    19.1310     65.579      0.292      0.771    -109.525     147.787\n",
       "Gpu_brand[T.Intel]                       155.1753     37.921      4.092      0.000      80.781     229.570\n",
       "Gpu_brand[T.Nvidia]                       83.2899     41.697      1.998      0.046       1.488     165.092\n",
       "Op_sys[T.Others/No OS/Linux]            -316.8189     40.494     -7.824      0.000    -396.261    -237.377\n",
       "Op_sys[T.Windows]                       -152.2014     36.293     -4.194      0.000    -223.403     -81.000\n",
       "Ram                                       45.4934      3.063     14.853      0.000      39.484      51.502\n",
       "Weight                                   199.5396     25.125      7.942      0.000     150.249     248.830\n",
       "Touchscreen                              -86.0974     49.346     -1.745      0.081    -182.906      10.711\n",
       "SSD                                        0.8309      0.077     10.857      0.000       0.681       0.981\n",
       "IPS                                       -6.4347     25.014     -0.257      0.797     -55.509      42.640\n",
       "PPI                                        2.7730      0.317      8.745      0.000       2.151       3.395\n",
       "==============================================================================\n",
       "Omnibus:                      282.010   Durbin-Watson:                   2.019\n",
       "Prob(Omnibus):                  0.000   Jarque-Bera (JB):             1561.177\n",
       "Skew:                           0.887   Prob(JB):                         0.00\n",
       "Kurtosis:                       8.063   Cond. No.                     3.99e+16\n",
       "==============================================================================\n",
       "\n",
       "Notes:\n",
       "[1] Standard Errors assume that the covariance matrix of the errors is correctly specified.\n",
       "[2] The smallest eigenvalue is 6.83e-26. This might indicate that there are\n",
       "strong multicollinearity problems or that the design matrix is singular.\n",
       "\"\"\""
      ]
     },
     "execution_count": 436,
     "metadata": {},
     "output_type": "execute_result"
    }
   ],
   "source": [
    "mod= sm.ols(formula=\"Price_euros~Company+TypeName+Ram+Weight+Touchscreen+SSD+IPS+PPI+Cpu_Processor+Gpu_brand+Op_sys\", data=data_modified).fit()\n",
    "mod.summary()"
   ]
  },
  {
   "cell_type": "markdown",
   "id": "46fa64d9",
   "metadata": {},
   "source": [
    "\n",
    "Ram             0.000      \n",
    "SSD             0.000       \n",
    "IPS             0.171     \n",
    "Weight          0.000     \n",
    "PPI             0.000       \n",
    "Touchscreen     0.833     \n",
    "HDD             0.116"
   ]
  },
  {
   "cell_type": "markdown",
   "id": "56afefae",
   "metadata": {},
   "source": [
    "# Fitted values\n",
    "The estimates Y ^ i obtained from the regression line.\n",
    "\n",
    "Synonyms\n",
    "predicted values"
   ]
  },
  {
   "cell_type": "code",
   "execution_count": 437,
   "id": "4241a5c7",
   "metadata": {},
   "outputs": [
    {
     "data": {
      "text/plain": [
       "array([  834.225297  ,   303.9028334 ,   433.31240198,   590.13025117,\n",
       "        1035.99466759,  1709.10928403,   533.23553078,   618.073428  ,\n",
       "        1282.52713495,   272.6995449 ,  1050.32002859,  1166.32963356,\n",
       "        2324.83849225,  1012.08853219,  3070.05729787,   980.23228227,\n",
       "         927.27197423,   277.67101878,  1682.76605536,  1860.7205466 ,\n",
       "        2216.28015749,  1212.86494939,   917.39235101,  1489.52926609,\n",
       "         686.90688605,  2471.4568572 ,  1174.2940664 ,   465.52260678,\n",
       "        1013.38659652,   777.74960602,  1244.20650711,   425.06108001,\n",
       "         739.42154131,  1203.64673359,  1243.63708491,   904.07952307,\n",
       "        1045.04453996,  1081.0513266 ,  1407.33443833,  1754.55886344,\n",
       "        2216.75219409,  1463.48559036,   324.88799244,   407.20221412,\n",
       "         498.54929979,   417.06260551,  1130.20397979,  2836.91369186,\n",
       "        1876.6883831 ,   968.22045585,  1914.34526995,  1844.94487511,\n",
       "         323.83872224,   255.6776563 ,   853.35707161,   909.96151724,\n",
       "         440.35104209,  1191.80408615,   510.34090603,   656.73212526,\n",
       "        1121.03227638,  1233.65780158,   368.14608316,   673.45602173,\n",
       "         916.93052351,   711.20279042,   431.77486752,  1708.17070007,\n",
       "         859.4728017 ,   381.8312847 ,  1082.73518112,   870.95849751,\n",
       "         769.53402688,   642.56719931,   772.88731897,  1228.79197469,\n",
       "        1562.53843971,  3007.3712022 ,  1442.42414391,   709.40362249,\n",
       "         756.56331245,  1067.64184027,  1247.78165053,   546.91468033,\n",
       "         989.06601093,   770.70863046,  1291.95512844,  1436.53760314,\n",
       "         483.69004664,  1010.20620884,   896.52393462,   606.89618951,\n",
       "         625.55036826,  2323.1363531 ,   553.94445459,   279.38802271,\n",
       "         642.03795833,   499.1277868 ,   386.19073789,  2086.2625337 ,\n",
       "         744.47028583,  1316.99447957,   376.80766272,  2258.33621505,\n",
       "         926.33860716,  1294.79701808,  1266.96645422,   802.48700712,\n",
       "        1233.39510572,   404.52684726,   883.78360893,   944.07584679,\n",
       "         923.26233889,  1621.90954118,   559.54276617,   834.225297  ,\n",
       "         282.80197405,  2427.65190685,   733.76759392,   700.41215934,\n",
       "         623.83460018,  1961.65740574,  1066.33936167,   636.87635251,\n",
       "         821.55504502,  1402.06168264,   714.57490851,   402.40903943,\n",
       "        2180.58714792,  1558.01493564,   628.61228271,  1434.56617293,\n",
       "         561.90457875,  1512.33965964,  1196.90691562,   726.67003346,\n",
       "        1077.92171394,  1294.79701808,  1668.85559615,  1621.90954118,\n",
       "         408.59639985,   378.72113285,   933.74643843,   643.5193934 ,\n",
       "         721.60938531,  1658.14401029,   735.50509056,   382.48438631,\n",
       "        1890.13923989,   623.37744609,  1830.8108742 ,  1377.50529518,\n",
       "         734.89930265,  1367.28608737,   998.4064806 ,   712.3540431 ,\n",
       "        1275.55970679,  2907.47027974,  1497.9625626 ,  1768.85976997,\n",
       "         353.99941274,   491.1571444 ,   860.86406503,   778.557016  ,\n",
       "         965.09345548,  1132.24078712,  1716.74132384,   593.960218  ,\n",
       "        1859.64195032,  1026.64712701,   653.37370703,  1196.61473768,\n",
       "         463.93387512,  1011.34752781,   903.12815803,  1620.22752442,\n",
       "        3359.47299804,  1856.74986133,  1412.92882529,   558.49358381,\n",
       "        1021.2411844 ,  1593.11364059,  1229.80488532,   844.13616025,\n",
       "         470.81571915,   828.39033567,   607.23005974,  1636.87670063,\n",
       "         470.37800462,   421.87579793,   483.69004664,  1302.80351292,\n",
       "         329.72236827,  1057.87961099,  1285.38751233,  2172.1521321 ,\n",
       "         984.06815371,  1303.40002556,   315.46935286,   670.05297582,\n",
       "         828.03648473, 10840.21020399,   857.70416455,   716.73707554,\n",
       "         978.43842007,   921.34898368,   691.34383829,   411.82619624,\n",
       "         984.42859622,   766.61527128,   323.83872224,  1335.12391275,\n",
       "        2449.90501047,  1022.98796181,  1540.85067913,  1167.00610722,\n",
       "        1859.69870295,  1057.71820369,   730.4052035 ,  1017.38392714,\n",
       "        1032.93244555,   923.40322829,   917.75637892,  1608.84579761,\n",
       "        1204.3816055 ,  1890.13923989,  1073.75206325,   711.13768084,\n",
       "         705.19454916,  1042.81446679,   577.12878848,  1156.54706856,\n",
       "        1021.4905413 ,   530.05553159,   652.11873269,  1334.47215591,\n",
       "        2238.4378999 ,  1372.00929402,   376.56026134,  2277.16169107,\n",
       "         984.33847322,   886.26842155,  1052.11654378,  1211.38530464,\n",
       "         509.10424451,   792.17067789,   307.37256002,  2245.07395233,\n",
       "         871.03823979,   487.04500596,  1602.57350226,  1288.0577121 ,\n",
       "        1711.56246311,  1067.64184027,  1624.68372909,   677.33094931,\n",
       "         916.17530722,  1068.68496851,  1160.93194183,  1022.51978225,\n",
       "         569.05718113])"
      ]
     },
     "execution_count": 437,
     "metadata": {},
     "output_type": "execute_result"
    }
   ],
   "source": [
    "price_predicted=np.exp(y_pred)\n",
    "price_predicted"
   ]
  },
  {
   "cell_type": "markdown",
   "id": "c2c640e4",
   "metadata": {},
   "source": [
    "# Residuals\n",
    "The difference between the observed values and the fitted values.\n",
    "\n",
    "Synonyms\n",
    "errors"
   ]
  },
  {
   "cell_type": "code",
   "execution_count": 438,
   "id": "2d4a5e90",
   "metadata": {},
   "outputs": [
    {
     "name": "stdout",
     "output_type": "stream",
     "text": [
      "R2 score 0.8008189296338997\n",
      "mean_squared_error 0.07083615123107505\n",
      "sqrt(mean_squared_error 0.26615061756658587\n"
     ]
    }
   ],
   "source": [
    "score = r2_score(y_test,y_pred)\n",
    "print('R2 score',score)\n",
    "print('mean_squared_error',mean_squared_error(y_test,y_pred))\n",
    "print('sqrt(mean_squared_error',np.sqrt(mean_squared_error(y_test,y_pred)))\n"
   ]
  },
  {
   "cell_type": "markdown",
   "id": "743d17a3",
   "metadata": {},
   "source": [
    "# Least squares\n",
    "The method of fitting a regression by minimizing the sum of squared residuals.\n",
    "\n",
    "Synonyms\n",
    "ordinary least squares"
   ]
  },
  {
   "cell_type": "markdown",
   "id": "942532a1",
   "metadata": {},
   "source": [
    "Generally we want the p value to be less than 1% or 5%\n",
    "If the value is close to zero\n",
    "\n",
    "This probability value (p-value) represents the likelihood that there are no good predictors of the target variable —\n",
    "there are no good predictors if the p-value is close to zero,\n",
    "\n",
    "If you look at the column, P>|t|, you can see the p-values for each predictor.\n",
    "The p-values for TV and radio are less than 0.000, but the p-value for newspapers is 0.86, which\n",
    "indicates that newspaper spend has no significant impact on sales. Generally, you want the pvalue to be less than 1% or 5%, which are the two standards in practice.\n"
   ]
  },
  {
   "cell_type": "code",
   "execution_count": 439,
   "id": "d946146b",
   "metadata": {},
   "outputs": [
    {
     "data": {
      "text/html": [
       "<table class=\"simpletable\">\n",
       "<caption>OLS Regression Results</caption>\n",
       "<tr>\n",
       "  <th>Dep. Variable:</th>       <td>Price_euros</td>   <th>  R-squared:         </th> <td>   0.779</td> \n",
       "</tr>\n",
       "<tr>\n",
       "  <th>Model:</th>                   <td>OLS</td>       <th>  Adj. R-squared:    </th> <td>   0.773</td> \n",
       "</tr>\n",
       "<tr>\n",
       "  <th>Method:</th>             <td>Least Squares</td>  <th>  F-statistic:       </th> <td>   123.8</td> \n",
       "</tr>\n",
       "<tr>\n",
       "  <th>Date:</th>             <td>Mon, 09 May 2022</td> <th>  Prob (F-statistic):</th>  <td>  0.00</td>  \n",
       "</tr>\n",
       "<tr>\n",
       "  <th>Time:</th>                 <td>11:47:44</td>     <th>  Log-Likelihood:    </th> <td> -9392.2</td> \n",
       "</tr>\n",
       "<tr>\n",
       "  <th>No. Observations:</th>      <td>  1302</td>      <th>  AIC:               </th> <td>1.886e+04</td>\n",
       "</tr>\n",
       "<tr>\n",
       "  <th>Df Residuals:</th>          <td>  1265</td>      <th>  BIC:               </th> <td>1.905e+04</td>\n",
       "</tr>\n",
       "<tr>\n",
       "  <th>Df Model:</th>              <td>    36</td>      <th>                     </th>     <td> </td>    \n",
       "</tr>\n",
       "<tr>\n",
       "  <th>Covariance Type:</th>      <td>nonrobust</td>    <th>                     </th>     <td> </td>    \n",
       "</tr>\n",
       "</table>\n",
       "<table class=\"simpletable\">\n",
       "<tr>\n",
       "                     <td></td>                       <th>coef</th>     <th>std err</th>      <th>t</th>      <th>P>|t|</th>  <th>[0.025</th>    <th>0.975]</th>  \n",
       "</tr>\n",
       "<tr>\n",
       "  <th>Intercept</th>                              <td> -326.1967</td> <td>   74.129</td> <td>   -4.400</td> <td> 0.000</td> <td> -471.626</td> <td> -180.768</td>\n",
       "</tr>\n",
       "<tr>\n",
       "  <th>Company[T.Apple]</th>                       <td>  142.8236</td> <td>   67.737</td> <td>    2.109</td> <td> 0.035</td> <td>    9.935</td> <td>  275.712</td>\n",
       "</tr>\n",
       "<tr>\n",
       "  <th>Company[T.Asus]</th>                        <td>   57.8577</td> <td>   44.596</td> <td>    1.297</td> <td> 0.195</td> <td>  -29.632</td> <td>  145.348</td>\n",
       "</tr>\n",
       "<tr>\n",
       "  <th>Company[T.Chuwi]</th>                       <td> -216.3708</td> <td>  198.563</td> <td>   -1.090</td> <td> 0.276</td> <td> -605.921</td> <td>  173.179</td>\n",
       "</tr>\n",
       "<tr>\n",
       "  <th>Company[T.Dell]</th>                        <td>  111.0631</td> <td>   41.996</td> <td>    2.645</td> <td> 0.008</td> <td>   28.674</td> <td>  193.452</td>\n",
       "</tr>\n",
       "<tr>\n",
       "  <th>Company[T.Fujitsu]</th>                     <td>  -61.9702</td> <td>  196.883</td> <td>   -0.315</td> <td> 0.753</td> <td> -448.224</td> <td>  324.283</td>\n",
       "</tr>\n",
       "<tr>\n",
       "  <th>Company[T.Google]</th>                      <td>  390.0400</td> <td>  204.066</td> <td>    1.911</td> <td> 0.056</td> <td>  -10.304</td> <td>  790.384</td>\n",
       "</tr>\n",
       "<tr>\n",
       "  <th>Company[T.HP]</th>                          <td>  187.5598</td> <td>   40.584</td> <td>    4.621</td> <td> 0.000</td> <td>  107.940</td> <td>  267.180</td>\n",
       "</tr>\n",
       "<tr>\n",
       "  <th>Company[T.Huawei]</th>                      <td>   39.3043</td> <td>  240.621</td> <td>    0.163</td> <td> 0.870</td> <td> -432.757</td> <td>  511.365</td>\n",
       "</tr>\n",
       "<tr>\n",
       "  <th>Company[T.LG]</th>                          <td>  662.1206</td> <td>  201.300</td> <td>    3.289</td> <td> 0.001</td> <td>  267.201</td> <td> 1057.040</td>\n",
       "</tr>\n",
       "<tr>\n",
       "  <th>Company[T.Lenovo]</th>                      <td>  118.2512</td> <td>   39.343</td> <td>    3.006</td> <td> 0.003</td> <td>   41.067</td> <td>  195.435</td>\n",
       "</tr>\n",
       "<tr>\n",
       "  <th>Company[T.MSI]</th>                         <td>  247.9729</td> <td>   66.629</td> <td>    3.722</td> <td> 0.000</td> <td>  117.258</td> <td>  378.688</td>\n",
       "</tr>\n",
       "<tr>\n",
       "  <th>Company[T.Mediacom]</th>                    <td>  -97.0039</td> <td>  134.712</td> <td>   -0.720</td> <td> 0.472</td> <td> -361.288</td> <td>  167.280</td>\n",
       "</tr>\n",
       "<tr>\n",
       "  <th>Company[T.Microsoft]</th>                   <td>  395.9124</td> <td>  148.683</td> <td>    2.663</td> <td> 0.008</td> <td>  104.220</td> <td>  687.605</td>\n",
       "</tr>\n",
       "<tr>\n",
       "  <th>Company[T.Razer]</th>                       <td> 1087.0399</td> <td>  138.018</td> <td>    7.876</td> <td> 0.000</td> <td>  816.271</td> <td> 1357.808</td>\n",
       "</tr>\n",
       "<tr>\n",
       "  <th>Company[T.Samsung]</th>                     <td>  330.0975</td> <td>  126.010</td> <td>    2.620</td> <td> 0.009</td> <td>   82.886</td> <td>  577.309</td>\n",
       "</tr>\n",
       "<tr>\n",
       "  <th>Company[T.Toshiba]</th>                     <td>  288.9640</td> <td>   61.318</td> <td>    4.713</td> <td> 0.000</td> <td>  168.668</td> <td>  409.260</td>\n",
       "</tr>\n",
       "<tr>\n",
       "  <th>Company[T.Vero]</th>                        <td>  -83.9794</td> <td>  173.269</td> <td>   -0.485</td> <td> 0.628</td> <td> -423.906</td> <td>  255.947</td>\n",
       "</tr>\n",
       "<tr>\n",
       "  <th>Company[T.Xiaomi]</th>                      <td>  135.6437</td> <td>  174.364</td> <td>    0.778</td> <td> 0.437</td> <td> -206.430</td> <td>  477.717</td>\n",
       "</tr>\n",
       "<tr>\n",
       "  <th>TypeName[T.Gaming]</th>                     <td>  -51.6351</td> <td>   72.077</td> <td>   -0.716</td> <td> 0.474</td> <td> -193.039</td> <td>   89.769</td>\n",
       "</tr>\n",
       "<tr>\n",
       "  <th>TypeName[T.Netbook]</th>                    <td> -105.6382</td> <td>   87.843</td> <td>   -1.203</td> <td> 0.229</td> <td> -277.971</td> <td>   66.695</td>\n",
       "</tr>\n",
       "<tr>\n",
       "  <th>TypeName[T.Notebook]</th>                   <td> -228.0968</td> <td>   57.675</td> <td>   -3.955</td> <td> 0.000</td> <td> -341.246</td> <td> -114.948</td>\n",
       "</tr>\n",
       "<tr>\n",
       "  <th>TypeName[T.Ultrabook]</th>                  <td>   65.9258</td> <td>   56.605</td> <td>    1.165</td> <td> 0.244</td> <td>  -45.125</td> <td>  176.976</td>\n",
       "</tr>\n",
       "<tr>\n",
       "  <th>TypeName[T.Workstation]</th>                <td>  711.4042</td> <td>   87.031</td> <td>    8.174</td> <td> 0.000</td> <td>  540.663</td> <td>  882.146</td>\n",
       "</tr>\n",
       "<tr>\n",
       "  <th>Cpu_Processor[T.Intel Core i3]</th>         <td>   20.2371</td> <td>   62.247</td> <td>    0.325</td> <td> 0.745</td> <td> -101.882</td> <td>  142.356</td>\n",
       "</tr>\n",
       "<tr>\n",
       "  <th>Cpu_Processor[T.Intel Core i5]</th>         <td>  172.9933</td> <td>   57.539</td> <td>    3.007</td> <td> 0.003</td> <td>   60.111</td> <td>  285.875</td>\n",
       "</tr>\n",
       "<tr>\n",
       "  <th>Cpu_Processor[T.Intel Core i7]</th>         <td>  231.3045</td> <td>   57.882</td> <td>    3.996</td> <td> 0.000</td> <td>  117.749</td> <td>  344.860</td>\n",
       "</tr>\n",
       "<tr>\n",
       "  <th>Cpu_Processor[T.Other Intel Processor]</th> <td>   19.1310</td> <td>   65.579</td> <td>    0.292</td> <td> 0.771</td> <td> -109.525</td> <td>  147.787</td>\n",
       "</tr>\n",
       "<tr>\n",
       "  <th>Gpu_brand[T.Intel]</th>                     <td>  155.1753</td> <td>   37.921</td> <td>    4.092</td> <td> 0.000</td> <td>   80.781</td> <td>  229.570</td>\n",
       "</tr>\n",
       "<tr>\n",
       "  <th>Gpu_brand[T.Nvidia]</th>                    <td>   83.2899</td> <td>   41.697</td> <td>    1.998</td> <td> 0.046</td> <td>    1.488</td> <td>  165.092</td>\n",
       "</tr>\n",
       "<tr>\n",
       "  <th>Op_sys[T.Others/No OS/Linux]</th>           <td> -316.8189</td> <td>   40.494</td> <td>   -7.824</td> <td> 0.000</td> <td> -396.261</td> <td> -237.377</td>\n",
       "</tr>\n",
       "<tr>\n",
       "  <th>Op_sys[T.Windows]</th>                      <td> -152.2014</td> <td>   36.293</td> <td>   -4.194</td> <td> 0.000</td> <td> -223.403</td> <td>  -81.000</td>\n",
       "</tr>\n",
       "<tr>\n",
       "  <th>Ram</th>                                    <td>   45.4934</td> <td>    3.063</td> <td>   14.853</td> <td> 0.000</td> <td>   39.484</td> <td>   51.502</td>\n",
       "</tr>\n",
       "<tr>\n",
       "  <th>Weight</th>                                 <td>  199.5396</td> <td>   25.125</td> <td>    7.942</td> <td> 0.000</td> <td>  150.249</td> <td>  248.830</td>\n",
       "</tr>\n",
       "<tr>\n",
       "  <th>Touchscreen</th>                            <td>  -86.0974</td> <td>   49.346</td> <td>   -1.745</td> <td> 0.081</td> <td> -182.906</td> <td>   10.711</td>\n",
       "</tr>\n",
       "<tr>\n",
       "  <th>SSD</th>                                    <td>    0.8309</td> <td>    0.077</td> <td>   10.857</td> <td> 0.000</td> <td>    0.681</td> <td>    0.981</td>\n",
       "</tr>\n",
       "<tr>\n",
       "  <th>IPS</th>                                    <td>   -6.4347</td> <td>   25.014</td> <td>   -0.257</td> <td> 0.797</td> <td>  -55.509</td> <td>   42.640</td>\n",
       "</tr>\n",
       "<tr>\n",
       "  <th>PPI</th>                                    <td>    2.7730</td> <td>    0.317</td> <td>    8.745</td> <td> 0.000</td> <td>    2.151</td> <td>    3.395</td>\n",
       "</tr>\n",
       "</table>\n",
       "<table class=\"simpletable\">\n",
       "<tr>\n",
       "  <th>Omnibus:</th>       <td>282.010</td> <th>  Durbin-Watson:     </th> <td>   2.019</td>\n",
       "</tr>\n",
       "<tr>\n",
       "  <th>Prob(Omnibus):</th> <td> 0.000</td>  <th>  Jarque-Bera (JB):  </th> <td>1561.177</td>\n",
       "</tr>\n",
       "<tr>\n",
       "  <th>Skew:</th>          <td> 0.887</td>  <th>  Prob(JB):          </th> <td>    0.00</td>\n",
       "</tr>\n",
       "<tr>\n",
       "  <th>Kurtosis:</th>      <td> 8.063</td>  <th>  Cond. No.          </th> <td>3.99e+16</td>\n",
       "</tr>\n",
       "</table><br/><br/>Notes:<br/>[1] Standard Errors assume that the covariance matrix of the errors is correctly specified.<br/>[2] The smallest eigenvalue is 6.83e-26. This might indicate that there are<br/>strong multicollinearity problems or that the design matrix is singular."
      ],
      "text/plain": [
       "<class 'statsmodels.iolib.summary.Summary'>\n",
       "\"\"\"\n",
       "                            OLS Regression Results                            \n",
       "==============================================================================\n",
       "Dep. Variable:            Price_euros   R-squared:                       0.779\n",
       "Model:                            OLS   Adj. R-squared:                  0.773\n",
       "Method:                 Least Squares   F-statistic:                     123.8\n",
       "Date:                Mon, 09 May 2022   Prob (F-statistic):               0.00\n",
       "Time:                        11:47:44   Log-Likelihood:                -9392.2\n",
       "No. Observations:                1302   AIC:                         1.886e+04\n",
       "Df Residuals:                    1265   BIC:                         1.905e+04\n",
       "Df Model:                          36                                         \n",
       "Covariance Type:            nonrobust                                         \n",
       "==========================================================================================================\n",
       "                                             coef    std err          t      P>|t|      [0.025      0.975]\n",
       "----------------------------------------------------------------------------------------------------------\n",
       "Intercept                               -326.1967     74.129     -4.400      0.000    -471.626    -180.768\n",
       "Company[T.Apple]                         142.8236     67.737      2.109      0.035       9.935     275.712\n",
       "Company[T.Asus]                           57.8577     44.596      1.297      0.195     -29.632     145.348\n",
       "Company[T.Chuwi]                        -216.3708    198.563     -1.090      0.276    -605.921     173.179\n",
       "Company[T.Dell]                          111.0631     41.996      2.645      0.008      28.674     193.452\n",
       "Company[T.Fujitsu]                       -61.9702    196.883     -0.315      0.753    -448.224     324.283\n",
       "Company[T.Google]                        390.0400    204.066      1.911      0.056     -10.304     790.384\n",
       "Company[T.HP]                            187.5598     40.584      4.621      0.000     107.940     267.180\n",
       "Company[T.Huawei]                         39.3043    240.621      0.163      0.870    -432.757     511.365\n",
       "Company[T.LG]                            662.1206    201.300      3.289      0.001     267.201    1057.040\n",
       "Company[T.Lenovo]                        118.2512     39.343      3.006      0.003      41.067     195.435\n",
       "Company[T.MSI]                           247.9729     66.629      3.722      0.000     117.258     378.688\n",
       "Company[T.Mediacom]                      -97.0039    134.712     -0.720      0.472    -361.288     167.280\n",
       "Company[T.Microsoft]                     395.9124    148.683      2.663      0.008     104.220     687.605\n",
       "Company[T.Razer]                        1087.0399    138.018      7.876      0.000     816.271    1357.808\n",
       "Company[T.Samsung]                       330.0975    126.010      2.620      0.009      82.886     577.309\n",
       "Company[T.Toshiba]                       288.9640     61.318      4.713      0.000     168.668     409.260\n",
       "Company[T.Vero]                          -83.9794    173.269     -0.485      0.628    -423.906     255.947\n",
       "Company[T.Xiaomi]                        135.6437    174.364      0.778      0.437    -206.430     477.717\n",
       "TypeName[T.Gaming]                       -51.6351     72.077     -0.716      0.474    -193.039      89.769\n",
       "TypeName[T.Netbook]                     -105.6382     87.843     -1.203      0.229    -277.971      66.695\n",
       "TypeName[T.Notebook]                    -228.0968     57.675     -3.955      0.000    -341.246    -114.948\n",
       "TypeName[T.Ultrabook]                     65.9258     56.605      1.165      0.244     -45.125     176.976\n",
       "TypeName[T.Workstation]                  711.4042     87.031      8.174      0.000     540.663     882.146\n",
       "Cpu_Processor[T.Intel Core i3]            20.2371     62.247      0.325      0.745    -101.882     142.356\n",
       "Cpu_Processor[T.Intel Core i5]           172.9933     57.539      3.007      0.003      60.111     285.875\n",
       "Cpu_Processor[T.Intel Core i7]           231.3045     57.882      3.996      0.000     117.749     344.860\n",
       "Cpu_Processor[T.Other Intel Processor]    19.1310     65.579      0.292      0.771    -109.525     147.787\n",
       "Gpu_brand[T.Intel]                       155.1753     37.921      4.092      0.000      80.781     229.570\n",
       "Gpu_brand[T.Nvidia]                       83.2899     41.697      1.998      0.046       1.488     165.092\n",
       "Op_sys[T.Others/No OS/Linux]            -316.8189     40.494     -7.824      0.000    -396.261    -237.377\n",
       "Op_sys[T.Windows]                       -152.2014     36.293     -4.194      0.000    -223.403     -81.000\n",
       "Ram                                       45.4934      3.063     14.853      0.000      39.484      51.502\n",
       "Weight                                   199.5396     25.125      7.942      0.000     150.249     248.830\n",
       "Touchscreen                              -86.0974     49.346     -1.745      0.081    -182.906      10.711\n",
       "SSD                                        0.8309      0.077     10.857      0.000       0.681       0.981\n",
       "IPS                                       -6.4347     25.014     -0.257      0.797     -55.509      42.640\n",
       "PPI                                        2.7730      0.317      8.745      0.000       2.151       3.395\n",
       "==============================================================================\n",
       "Omnibus:                      282.010   Durbin-Watson:                   2.019\n",
       "Prob(Omnibus):                  0.000   Jarque-Bera (JB):             1561.177\n",
       "Skew:                           0.887   Prob(JB):                         0.00\n",
       "Kurtosis:                       8.063   Cond. No.                     3.99e+16\n",
       "==============================================================================\n",
       "\n",
       "Notes:\n",
       "[1] Standard Errors assume that the covariance matrix of the errors is correctly specified.\n",
       "[2] The smallest eigenvalue is 6.83e-26. This might indicate that there are\n",
       "strong multicollinearity problems or that the design matrix is singular.\n",
       "\"\"\""
      ]
     },
     "execution_count": 439,
     "metadata": {},
     "output_type": "execute_result"
    }
   ],
   "source": [
    "mode = sm.ols(formula=\"Price_euros~Company+TypeName+Ram+Weight+Touchscreen+SSD+IPS+PPI+Cpu_Processor+Gpu_brand+Op_sys\", data=data).fit()\n",
    "mode.summary()"
   ]
  },
  {
   "cell_type": "code",
   "execution_count": 440,
   "id": "a2741bcb",
   "metadata": {},
   "outputs": [
    {
     "name": "stdout",
     "output_type": "stream",
     "text": [
      "                            OLS Regression Results                            \n",
      "==============================================================================\n",
      "Dep. Variable:            Price_euros   R-squared:                       0.668\n",
      "Model:                            OLS   Adj. R-squared:                  0.666\n",
      "Method:                 Least Squares   F-statistic:                     433.7\n",
      "Date:                Mon, 09 May 2022   Prob (F-statistic):          1.43e-305\n",
      "Time:                        11:47:44   Log-Likelihood:                -9657.7\n",
      "No. Observations:                1302   AIC:                         1.933e+04\n",
      "Df Residuals:                    1295   BIC:                         1.937e+04\n",
      "Df Model:                           6                                         \n",
      "Covariance Type:            nonrobust                                         \n",
      "===============================================================================\n",
      "                  coef    std err          t      P>|t|      [0.025      0.975]\n",
      "-------------------------------------------------------------------------------\n",
      "Intercept    -411.3025     68.049     -6.044      0.000    -544.800    -277.805\n",
      "Ram            60.3136      3.346     18.026      0.000      53.750      66.878\n",
      "SSD             1.1333      0.087     13.027      0.000       0.963       1.304\n",
      "IPS            38.6374     26.462      1.460      0.144     -13.275      90.550\n",
      "Weight        137.7260     22.089      6.235      0.000      94.392     181.060\n",
      "PPI             3.6281      0.355     10.209      0.000       2.931       4.325\n",
      "Touchscreen    -7.7321     36.286     -0.213      0.831     -78.917      63.453\n",
      "==============================================================================\n",
      "Omnibus:                      334.814   Durbin-Watson:                   2.017\n",
      "Prob(Omnibus):                  0.000   Jarque-Bera (JB):             1474.752\n",
      "Skew:                           1.149   Prob(JB):                         0.00\n",
      "Kurtosis:                       7.680   Cond. No.                     1.81e+03\n",
      "==============================================================================\n",
      "\n",
      "Notes:\n",
      "[1] Standard Errors assume that the covariance matrix of the errors is correctly specified.\n",
      "[2] The condition number is large, 1.81e+03. This might indicate that there are\n",
      "strong multicollinearity or other numerical problems.\n"
     ]
    }
   ],
   "source": [
    "modell= sm.ols(formula=\"Price_euros~Ram+SSD+IPS+Weight+PPI+Touchscreen\", data=data_modified).fit()\n",
    "print(modell.summary())"
   ]
  },
  {
   "cell_type": "code",
   "execution_count": 441,
   "id": "4e1b14c1",
   "metadata": {},
   "outputs": [],
   "source": [
    "# Touchscreen 0.833 This has no significant effect on dependent variable"
   ]
  },
  {
   "cell_type": "code",
   "execution_count": 442,
   "id": "3ce346bf",
   "metadata": {},
   "outputs": [],
   "source": [
    "import statsmodels.formula.api as sm"
   ]
  },
  {
   "cell_type": "code",
   "execution_count": 443,
   "id": "21b1ad65",
   "metadata": {},
   "outputs": [
    {
     "name": "stdout",
     "output_type": "stream",
     "text": [
      "                            OLS Regression Results                            \n",
      "==============================================================================\n",
      "Dep. Variable:            Price_euros   R-squared:                       0.673\n",
      "Model:                            OLS   Adj. R-squared:                  0.671\n",
      "Method:                 Least Squares   F-statistic:                     296.0\n",
      "Date:                Mon, 09 May 2022   Prob (F-statistic):          1.65e-306\n",
      "Time:                        11:47:44   Log-Likelihood:                -9646.4\n",
      "No. Observations:                1302   AIC:                         1.931e+04\n",
      "Df Residuals:                    1292   BIC:                         1.936e+04\n",
      "Df Model:                           9                                         \n",
      "Covariance Type:            nonrobust                                         \n",
      "===============================================================================\n",
      "                  coef    std err          t      P>|t|      [0.025      0.975]\n",
      "-------------------------------------------------------------------------------\n",
      "Intercept    -462.6879     99.545     -4.648      0.000    -657.976    -267.400\n",
      "Ram            55.5803     10.067      5.521      0.000      35.831      75.330\n",
      "SSD             1.9457      0.254      7.663      0.000       1.448       2.444\n",
      "IPS            26.2640     26.665      0.985      0.325     -26.048      78.576\n",
      "Weight        137.0633     22.248      6.161      0.000      93.417     180.710\n",
      "PPI             3.4829      0.638      5.460      0.000       2.231       4.734\n",
      "Touchscreen     1.4107     36.184      0.039      0.969     -69.575      72.397\n",
      "Ram:SSD        -0.0264      0.008     -3.440      0.001      -0.041      -0.011\n",
      "Ram:PPI         0.0985      0.064      1.544      0.123      -0.027       0.224\n",
      "SSD:PPI        -0.0034      0.001     -2.287      0.022      -0.006      -0.000\n",
      "==============================================================================\n",
      "Omnibus:                      349.627   Durbin-Watson:                   2.015\n",
      "Prob(Omnibus):                  0.000   Jarque-Bera (JB):             1618.813\n",
      "Skew:                           1.187   Prob(JB):                         0.00\n",
      "Kurtosis:                       7.919   Cond. No.                     4.56e+05\n",
      "==============================================================================\n",
      "\n",
      "Notes:\n",
      "[1] Standard Errors assume that the covariance matrix of the errors is correctly specified.\n",
      "[2] The condition number is large, 4.56e+05. This might indicate that there are\n",
      "strong multicollinearity or other numerical problems.\n"
     ]
    }
   ],
   "source": [
    "modelll= sm.ols(formula=\"Price_euros~Ram+SSD+IPS+Weight+PPI+Touchscreen+Ram*SSD+Ram*PPI+SSD*PPI\", data=data_modified).fit()\n",
    "print(modelll.summary())"
   ]
  },
  {
   "cell_type": "code",
   "execution_count": null,
   "id": "4d177d7a",
   "metadata": {},
   "outputs": [],
   "source": []
  }
 ],
 "metadata": {
  "kernelspec": {
   "display_name": "Python 3",
   "language": "python",
   "name": "python3"
  },
  "language_info": {
   "codemirror_mode": {
    "name": "ipython",
    "version": 3
   },
   "file_extension": ".py",
   "mimetype": "text/x-python",
   "name": "python",
   "nbconvert_exporter": "python",
   "pygments_lexer": "ipython3",
   "version": "3.8.8"
  }
 },
 "nbformat": 4,
 "nbformat_minor": 5
}
